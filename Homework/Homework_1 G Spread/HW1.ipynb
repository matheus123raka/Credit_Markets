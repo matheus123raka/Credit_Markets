{
 "cells": [
  {
   "attachments": {},
   "cell_type": "markdown",
   "id": "3e013a68",
   "metadata": {},
   "source": [
    "# Homework 1\n",
    "\n",
    "## FINM 35700 - Spring 2025\n",
    "\n",
    "### UChicago Financial Mathematics\n",
    "\n",
    "* Alex Popovici\n",
    "* alex.popovici@uchicago.edu"
   ]
  },
  {
   "attachments": {},
   "cell_type": "markdown",
   "id": "97d4c3b4",
   "metadata": {},
   "source": [
    "This homework relies on:\n",
    "\n",
    "- the government and corporate bonds symbology file `bond_symbology`, \n",
    "- the \"on-the-run\" treasuries data file `govt_on_the_run` and\n",
    "- the market data file `market_prices_eod`.\n",
    "\n",
    "\n",
    "You can find more details on US treasury instruments in the FINM 37400 Fixed Income course.\n",
    "\n"
   ]
  },
  {
   "attachments": {},
   "cell_type": "markdown",
   "id": "27e68a4e",
   "metadata": {},
   "source": [
    "------------------------------------------------------------------------------------------\n",
    "# Problem 1: Explore symbology for US treasury bonds"
   ]
  },
  {
   "attachments": {},
   "cell_type": "markdown",
   "id": "e07bfd7c",
   "metadata": {},
   "source": [
    "## a. Load and explore US government bond symbology\n",
    "\n",
    "Load the `bond_symbology` Excel file into a dataframe. It contains symbology for both government and corporate bonds as of 2024-12-13.\n",
    "\n",
    "Select US Treasury bonds only (class = 'Govt', ticker = 'T'). For each government bond issue, calculate its initial `term` in years (based on issue date and maturity date), as well as the current `TTM` (time-to-maturity) and extend the dataframe. Assume a year has 365.25 days.\n",
    "\n"
   ]
  },
  {
   "attachments": {},
   "cell_type": "markdown",
   "id": "55572cf7",
   "metadata": {},
   "source": [
    "## b. Historical time series of US treasury coupons \n",
    "\n",
    "Plot the time series of coupons for for US treasury notes/bonds issued since 2015 (indexed by issue date). \n",
    "What can you say about the overall level of issued coupons since 2020?\n"
   ]
  },
  {
   "attachments": {},
   "cell_type": "markdown",
   "id": "7834d854",
   "metadata": {},
   "source": [
    "## c. Load the on-the-run US treasuries\n",
    "\n",
    "Load the `govt_on_the_run` Excel file into a dataframe. Select the current on-the-run 2Y, 3Y, 5Y, 7Y, 10Y, 20Y and 30Y issues (off-the-run issues have the B & C suffix). Create a separate symbology dataframe for on-the-run treasuries only, to be used later on for the on-the-run government yield curve bootstrapping."
   ]
  },
  {
   "cell_type": "markdown",
   "id": "d24a0174",
   "metadata": {},
   "source": [
    "## d. Compute the total amount of US Treasuries issued / matured every year since 2015\n",
    "\n",
    "Column `amt_out` contains the issue amount outstanding, expressed in $MM.\n",
    "\n",
    "Compute the total amount of US Treasuries issued every year since 2015.\n",
    "Compute the total amount of US Treasuries matured every year since 2015.\n",
    "\n",
    "Plot the results."
   ]
  },
  {
   "cell_type": "markdown",
   "id": "a45f10f0",
   "metadata": {},
   "source": [
    "------------------------------------------------------------------------------------------\n",
    "# Problem 2: Explore symbology for corporate bonds"
   ]
  },
  {
   "cell_type": "markdown",
   "id": "3e5fc502",
   "metadata": {},
   "source": [
    "## a. Load and explore US corporate bonds symbology data\n",
    "\n",
    "Starting from the `bond_symbology` dataframe, create a corporate bond dataframe containing\n",
    "* corporate bond only  (class = \"Corp\"),\n",
    "* senior unsecured (rank = \"Sr Unsecured\"),\n",
    "* fixed coupon (cpn_type=\"FIXED\")\n",
    "* maturity date <= 2055-12-31\n",
    "\n",
    "bonds only, with following columns:\n",
    "\n",
    "\n",
    "\n",
    "| ticker | isin | figi | security | name | coupon | start_date | maturity | amt_out | term | TTM |\n",
    "|----------|-------|-------|-------------|-----|----------|---------|---------|---------|---------|---------|\n",
    "\n",
    "where \n",
    "* `term` refers to the initial term/time-to-maturity in years\n",
    "* `TTM` refers to the current time-to-maturity in years\n",
    "\n",
    "Display the dataframe."
   ]
  },
  {
   "cell_type": "markdown",
   "id": "679a98df",
   "metadata": {},
   "source": [
    "## b. Explore aggregated issue amount outstanding by issuer\n",
    "\n",
    "Compute the total issue (face) amount outstanding for each issuer and display the results."
   ]
  },
  {
   "cell_type": "markdown",
   "id": "d9022e82",
   "metadata": {},
   "source": [
    "## c. Display the bond details for Disney\n",
    "\n",
    "Create a separate dataframe for Disney issuer only (ticker = 'DIS') and display it.\n",
    "\n",
    "Compute following aggregated metrics for DIS:\n",
    "* average coupon\n",
    "* average term and\n",
    "* average TTM."
   ]
  },
  {
   "cell_type": "markdown",
   "id": "ef437fc0",
   "metadata": {},
   "source": [
    "## d. Explore term structure of issue amounts outstanding for Disney.\n",
    "\n",
    "Plot the issue amount outstanding by TTM for Disney."
   ]
  },
  {
   "attachments": {},
   "cell_type": "markdown",
   "id": "88994748",
   "metadata": {},
   "source": [
    "------------------------------------------------------------------------------------------\n",
    "# Problem 3: Explore EOD market prices and yields"
   ]
  },
  {
   "attachments": {},
   "cell_type": "markdown",
   "id": "6a31f7a6",
   "metadata": {},
   "source": [
    "## a. Load and explore treasury market prices and yields\n",
    "\n",
    "Load the `bond_market_prices_eod` Excel file into a dataframe. It provides market data for US treasuries and corporate bonds as of 2024-12-13.\n",
    "\n",
    "Merge the treasuries symbology dataframe with the market data and add the following columns:\n",
    "\n",
    "\n",
    "| date | bidPrice | askPrice | midPrice | bidYield | askYield | midYield | term | TTM |\n",
    "|----------|-------|-------------|-----|----------|---------|---------|---------|---------|\n",
    "\n",
    "Plot a graph/scatter plot of treasury mid yields by TTM.\n"
   ]
  },
  {
   "attachments": {},
   "cell_type": "markdown",
   "id": "feef5b5b",
   "metadata": {},
   "source": [
    "## b. Explore on-the-run treasuries only\n",
    "Create a separate joint dataframe for on-the-run treasuries only.\n",
    "\n",
    "Plot a graph/scatter plot of on-the-run treasury mid yields by TTM."
   ]
  },
  {
   "attachments": {},
   "cell_type": "markdown",
   "id": "c012c6d0",
   "metadata": {},
   "source": [
    "## c. Load and explore corporate bond market prices and yields\n",
    "\n",
    "Merge the filtered corporate bonds symbology dataframe with the market data and add the following columns:\n",
    "\n",
    "| date | bidPrice | askPrice | midPrice | bidYield | askYield | midYield | term | TTM |\n",
    "|----------|-------|-------------|-----|----------|---------|---------|---------|---------|\n",
    "\n",
    "List the unique tickers/issuers available in the dataframe.\n"
   ]
  },
  {
   "attachments": {},
   "cell_type": "markdown",
   "id": "3928bcf3",
   "metadata": {},
   "source": [
    "## d. Yield curve plots\n",
    "\n",
    "Plot a graph/scatter plot of mid yield curves by TTM (one line per ticker/issuer).\n",
    "\n",
    "Add a separate line for on-the-run US treasury yield curve (risk free curve).\n",
    "\n",
    "What can you say about the credit issuer yields, compared to US treasury yields?"
   ]
  },
  {
   "attachments": {},
   "cell_type": "markdown",
   "id": "2faf5756",
   "metadata": {},
   "source": [
    "------------------------------------------------------------------------------------------\n",
    "# Problem 4: Underying treasury benchmarks and credit spreads"
   ]
  },
  {
   "attachments": {},
   "cell_type": "markdown",
   "id": "7abd24b6",
   "metadata": {},
   "source": [
    "## a. Add underlying benchmark bond mid yields\n",
    "\n",
    "Start with the corporate bond symbology dataframe. Use the column 'und_bench_yield' to identify the underlying benchmark bond for each bond issue.\n",
    "\n",
    "Add two new columns to the joint corporate bond dataframe:\n",
    "\n",
    "| und_bench_yield | credit_spread |\n",
    "|----------|-------|\n",
    "\n",
    "where \n",
    "\n",
    "*  `und_bench_yield` = underlying benchmark bond mid yield and\n",
    "*  `credit_spread` = (issue yield - underlying benchmark bond mid yield) * 100."
   ]
  },
  {
   "attachments": {},
   "cell_type": "markdown",
   "id": "de37fc66",
   "metadata": {},
   "source": [
    "## b. Credit spread curve plots\n",
    "\n",
    "Plot a graph/scatter plot of credit spread curves by TTM (one line per issuer).\n"
   ]
  },
  {
   "attachments": {},
   "cell_type": "markdown",
   "id": "72a89906",
   "metadata": {},
   "source": [
    "## c. Add g-spreads\n",
    "\n",
    "Add two new columns to the joint corporate bond dataframe:\n",
    "\n",
    "| interp_tsy_yield | g_spread |\n",
    "|----------|-------|\n",
    "\n",
    "where \n",
    "\n",
    "*  `interp_tsy_yield` = interpolated treasury yield (using on-the-run treasuries only), matching the issue maturity\n",
    "*  `credit_spread` = (issue yield - underlying benchmark bond mid yield) * 100."
   ]
  },
  {
   "attachments": {},
   "cell_type": "markdown",
   "id": "a86e5379",
   "metadata": {},
   "source": [
    "## d. G-spread curve plots\n",
    "\n",
    "Plot a graph/scatter plot of g-spread curves by TTM (one line per issuer).\n"
   ]
  }
 ],
 "metadata": {
  "hide_input": false,
  "kernelspec": {
   "display_name": "Python 3 (ipykernel)",
   "language": "python",
   "name": "python3"
  },
  "language_info": {
   "codemirror_mode": {
    "name": "ipython",
    "version": 3
   },
   "file_extension": ".py",
   "mimetype": "text/x-python",
   "name": "python",
   "nbconvert_exporter": "python",
   "pygments_lexer": "ipython3",
   "version": "3.9.7"
  }
 },
 "nbformat": 4,
 "nbformat_minor": 5
}
