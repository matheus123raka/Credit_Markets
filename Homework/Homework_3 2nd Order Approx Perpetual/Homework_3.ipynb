{
 "cells": [
  {
   "attachments": {},
   "cell_type": "markdown",
   "id": "3e013a68",
   "metadata": {},
   "source": [
    "# Homework 3\n",
    "\n",
    "## FINM 35700 - Spring 2025\n",
    "\n",
    "### UChicago Financial Mathematics\n",
    "\n",
    "### Due Date: 2025-04-14\n",
    "\n",
    "* Alex Popovici\n",
    "* alex.popovici@uchicago.edu"
   ]
  },
  {
   "attachments": {},
   "cell_type": "markdown",
   "id": "97d4c3b4",
   "metadata": {},
   "source": [
    "This homework relies on:\n",
    "\n",
    "- the corporate and government bonds symbology file `bond_symbology`, \n",
    "- the \"on-the-run\" treasuries data file `govt_on_the_run`,\n",
    "- the bond market data file `bond_market_prices_eod`, containing EOD price data as of 2024-12-13.\n",
    "- the corporate bonds call schedule file `call_schedules`.\n"
   ]
  },
  {
   "cell_type": "markdown",
   "id": "b60f1a01",
   "metadata": {},
   "source": [
    "-----------------------------------------------------------\n",
    "# Problem 1: Different types of bond yields and durations (fixed income recap)\n",
    "\n",
    "### A. Continuously compounded (exponential) yields\n",
    "In Lecture 1 we introduced the continuously compounded (exponential) yield $y$, used to discount bonds with arbitrary/generic cashflows \n",
    "\n",
    "\\begin{align}\n",
    "\\{c_i ,T_i\\}_{i=1..n}\n",
    "\\end{align} \n",
    "\n",
    "via the valuation formula\n",
    "\n",
    "\\begin{align}\n",
    "B(y)=\\sum_{i=1}^{n}c_{i}\\cdot e^{-T_{i}\\cdot y}\n",
    "\\end{align}\n",
    "\n",
    "We then defined the bond duration $D$ (also called Macaulay duration) as the log-sensitivity of the bond price with respect to the exponential yield $y$:\n",
    "\n",
    "\\begin{align}\n",
    "\\frac{\\partial B}{\\partial y} = -B \\cdot D\n",
    "\\end{align}\n",
    "\n",
    "and showed that $D$ can be expressed as a weighted sum of time to maturities $T_i$\n",
    "\n",
    "\\begin{align}\n",
    "D=\\frac{\\sum_{i=1}^{n}T_i \\cdot c_{i}\\cdot e^{-T_{i}\\cdot y}}{\\sum_{i=1}^{n}c_{i}\\cdot e^{-T_{i}\\cdot y}} = \\sum_{i=1}^{n}T_i \\cdot w_i\n",
    "\\end{align}\n",
    "\n",
    "### B. Discretely compounded yields\n",
    "For bonds with n regular coupon payment (coupon frequency = n), it is natural to define the discretely compounded yields $y_n$ (corresponding to the coupon frequency n):\n",
    "\n",
    "\n",
    "\\begin{align}\n",
    "\\left(1+\\frac{y_{n}}{n}\\right)^n=e^y\n",
    "\\end{align}\n",
    "\n",
    "The most common cases in US fixed income markets are:\n",
    "\n",
    "1. Semi-annual coupon frequency (e.g fixed rate USD bonds): the semi-annual yield $y_{sa} = y_2$ satisfies the formula\n",
    "\n",
    "\\begin{align}\n",
    "\\left(1+\\frac{y_{sa}}{2}\\right)^2=e^y\n",
    "\\end{align}\n",
    "\n",
    "2. Quarterly coupon frequency (e.g floating rate USD bonds): the quarterly yield $y_{qt} = y_4$ satisfies the formula\n",
    "\n",
    "\\begin{align}\n",
    "\\left(1+\\frac{y_{qt}}{2}\\right)^4=e^y\n",
    "\\end{align}\n",
    "\n",
    "\n",
    "3. Monthly coupon frequency (e.g USD loans): the monthly yield $y_{mo} = y_{12}$ satisfies the formula\n",
    "\n",
    "\\begin{align}\n",
    "\\left(1+\\frac{y_{mo}}{12}\\right)^{12}=e^y\n",
    "\\end{align}\n",
    "\n",
    "As a general rule, discretely compunded yields are descreasing in the coupon frequency n:\n",
    "\n",
    "\\begin{align}\n",
    "y_{sa} \\geq y_{qt} \\geq y_{mo} \\geq y_{\\infty} = y\n",
    "\\end{align}\n",
    "\n",
    "### C. Modified duration\n",
    "For a bond with n regular coupon payments, the modified duration $D_{mod}$ is defined as the log-sensitivity of the bond price with respect to the discretely compounded yield $y_n$:\n",
    "\n",
    "\\begin{align}\n",
    "\\frac{\\partial B}{\\partial y_{n}} = -B \\cdot D_{mod}\n",
    "\\end{align}\n",
    "\n",
    "\n",
    "In practice, when fixed income market participants talk about yields, DV01s and durations, they imply the type based on the cashflow frequency of the underlying instrument.\n",
    "\n",
    "## To do:"
   ]
  },
  {
   "cell_type": "markdown",
   "id": "40a8bf99",
   "metadata": {},
   "source": [
    "### a. For fixed rate semi-annual USD bonds (frequency = 2), show that\n",
    "\n",
    "\\begin{align}\n",
    "D_{mod} = D \\cdot \\left(1+\\frac{y_{sa}}{2} \\right)^{-1}\n",
    "\\end{align}\n"
   ]
  },
  {
   "cell_type": "markdown",
   "id": "b34a76ad",
   "metadata": {},
   "source": [
    "### b. In general, for bonds with n regular coupon payments (frequency = n), show that\n",
    "\n",
    "\\begin{align}\n",
    "D_{mod} = D \\cdot \\left(1+\\frac{y_{n}}{n} \\right)^{-1}\n",
    "\\end{align}\n"
   ]
  },
  {
   "cell_type": "markdown",
   "id": "5e81f494",
   "metadata": {},
   "source": [
    "-----------------------------------------------------------\n",
    "# Problem 2: Callable bonds: \"workout-date\" and \"yield-to-worst\" calculations"
   ]
  },
  {
   "cell_type": "code",
   "execution_count": null,
   "id": "c0ce619c",
   "metadata": {},
   "outputs": [],
   "source": [
    "import QuantLib as ql\n",
    "import pandas as pd\n",
    "\n",
    "# import tools from previous homeworks\n",
    "from credit_market_tools import *\n",
    "\n",
    "# Use static calculation/valuation date of 2024-12-13, matching data available in the market prices EOD file\n",
    "calc_date = ql.Date(13, 12, 2024)\n",
    "ql.Settings.instance().evaluationDate = calc_date"
   ]
  },
  {
   "cell_type": "markdown",
   "id": "07ac1d14",
   "metadata": {},
   "source": [
    "## a. Load and explore the call schedules dataframe\n",
    "\n",
    "Load the `call_schedules` Excel file into a dataframe. It contains call schedules for fixed-rate, callable corporate bonds.\n",
    "\n",
    "For each bond in the dataframe, compute `num_call_dates`, the total number of outstanding calls."
   ]
  },
  {
   "cell_type": "markdown",
   "id": "b4dfe585",
   "metadata": {},
   "source": [
    "## b. Load the bond symbology dataframe and extend it with the fixed-rate callable corporate bond details from 1a.\n",
    "\n",
    "Load the `bond_symbology` Excel file into a dataframe and keep only the fixed-rate callable bonds from 1a.\n",
    "\n",
    "Extend the dataframe with the column computed in 1a:\n",
    "\n",
    "| num_call_dates |\n",
    "|----------|"
   ]
  },
  {
   "cell_type": "markdown",
   "id": "4602ec8e",
   "metadata": {},
   "source": [
    "## c. Add a function to compute \"yield-to-maturity\",  \"yield-to-worst\" and \"workout date\" for a fixed-rate callable bond\n",
    "\n",
    "Quick recap: given the current market price, the issuer is expected to call a callable bond on the call date corresponding to lowes \"yield to call date\".\n",
    "\n",
    "This corresponds to the best possible scenario from the point of view of the issuer exercising the call option (and the worst possible scenario from the point of view of the bond investor).\n",
    "\n",
    "The lowest possible yield on a call date is called the \"yield-to-worst\" and the corresponding call date (on which the issuer is expected to call the bond) is called the \"workout date\". \n",
    "\n",
    "Keep in mind that the \"workout date\" could be the bond maturity date, in which case \"yield-to-worst\" = \"yield-to-maturity\".\n",
    "\n",
    "To do: for a callable fixed-rate bond with known symbology (reference data) and call schedules dataframes, create a function that takes the clean market price as an input and returns the \"yield-to-maturity, \"yield-to-worst and \"workout date\".\n",
    "\n",
    "1. Compute the yield to maturrity first.\n",
    "2. For each  call date, create the corresponding \"call scenario\" bond object (using the call date as maturity).\n",
    "3. Compute the corresponding \"call scenario yield\" (using the bond clean market price as input).\n",
    "4. Identify \"workout date\" and \"yield-to-worst\".\n"
   ]
  },
  {
   "cell_type": "code",
   "execution_count": null,
   "id": "1d7b4174",
   "metadata": {},
   "outputs": [],
   "source": [
    "def calc_yield_to_worst(\n",
    "            details: dict,\n",
    "            pc_schedule: pd.DataFrame,\n",
    "            bond_clean_price: float,\n",
    "            calc_date: ql.Date):\n",
    "    '''Computes yield-to-worst and workout date for fixed rate callable bonds.\n",
    "    '''    \n",
    "    \n",
    "    # iterate over the call schdeule entries and compute the scenario yields\n",
    "    # Identify the smalles yield as \"yield-to-worst\"\n",
    "    \n",
    "    # update code!!!\n",
    "    workout_date = ql.Date()    # compute workout date !!!\n",
    "    yield_to_worst = 0.05       # compute yield to worst !!!    \n",
    "    \n",
    "    return workout_date, yield_to_worst"
   ]
  },
  {
   "cell_type": "markdown",
   "id": "8d8e7b8f",
   "metadata": {},
   "source": [
    "## d. Compute \"workout dates\" and \"yields-to-worst\" for all Oracle fixed-rate callable bonds\n",
    "\n",
    "Load the `bond_market_prices_eod` Excel file into a dataframe, which contains marktet quotes as of 2024-12-13.\n",
    "\n",
    "For each Oracle fixed-rate callable bond in the symbology dataframe (ticker = 'ORCL'):\n",
    "- 1. Compute the yield to maturity (using clean market prices)\n",
    "\n",
    "- 2. Use the function from 1c to compute \"workout date\" and \"yield-to-worst\".\n",
    "\n",
    "Extend the symbology dataframe with the following columns:\n",
    "\n",
    "\n",
    "| clean_price |  yield_to_maturity | yield_to_worst | workout_date |\n",
    "|----------|-------------|-------|-------------|\n",
    "\n",
    "Which ORCL callable bonds are expected to be called early, i.e. have workout_date < maturity? There should be 3 of them!\n"
   ]
  },
  {
   "cell_type": "markdown",
   "id": "bd469cb9",
   "metadata": {},
   "source": [
    "-----------------------------------------------------------\n",
    "# Problem 3: Risk & Scenario analysis for a fixed rate corporate bond (yield model)\n",
    "## Use the QuantLib Basic notebook (or previous homeworks) as templates."
   ]
  },
  {
   "cell_type": "markdown",
   "id": "ef6ad1d6",
   "metadata": {},
   "source": [
    "## a. Create generic fixed-rate corporate bond\n",
    "Fix the calculation date as of December 13 2024 and use a coupon of 5% and a maturity of 10 years (December 13 2034).\n",
    "\n",
    "Display the fixed rate bond cashflows."
   ]
  },
  {
   "cell_type": "code",
   "execution_count": null,
   "id": "9087ebf8",
   "metadata": {},
   "outputs": [],
   "source": [
    "# import tools from previous homeworks\n",
    "from credit_market_tools import *\n",
    "\n",
    "# Use static calculation/valuation date of 2024-12-13, matching data available in the market prices EOD file\n",
    "calc_date = ql.Date(13, 12, 2024)\n",
    "ql.Settings.instance().evaluationDate = calc_date"
   ]
  },
  {
   "cell_type": "code",
   "execution_count": 2,
   "id": "ba9bdf35",
   "metadata": {},
   "outputs": [],
   "source": [
    "# Use the bond_details template below to quickly define the bond specs\n",
    "test_bond_details = {'class': 'Corp',\n",
    "                'start_date': 'YYYY-MM-DD', \n",
    "                'acc_first': 'YYYY-MM-DD', \n",
    "                'maturity': 'YYYY-MM-DD', \n",
    "                'coupon': 5,\n",
    "                'dcc' : '30/360',\n",
    "                'days_settle' : 1}\n",
    "\n",
    "# Use create_bond_from_symbology() to create the bond from the bond details dictionary"
   ]
  },
  {
   "cell_type": "markdown",
   "id": "6ba0aa21",
   "metadata": {},
   "source": [
    "## b. Compute the bond price, DV01, duration and convexity (analytic method).\n",
    "\n",
    "Assume that the market yield of the bond is 6%. Compute the bond price, DV01, duration and convexity, using the analytic method."
   ]
  },
  {
   "cell_type": "markdown",
   "id": "58192c0b",
   "metadata": {},
   "source": [
    "## c. Scenario bond prices: \"re-pricing\" vs \"second-order approximations\"\n",
    "\n",
    "Compute the scenario bond prices on the following scenario yield grid: [from 1% to 11% in steps of 0.5%]\n",
    "\n",
    "Compute the second-order scenario price approximations using duration and convexity sensitivities (formula 13 from Lecture 1).\n",
    "\n",
    "\\begin{align}\n",
    "\\Delta B(y) = B\\left(y+\\Delta y\\right)-B\\left(y\\right)\\approx B\\cdot\\left[- D\\cdot\\Delta y+\\frac{1}{2}\\cdot\\Gamma\\cdot\\left(\\Delta y\\right)^{2}\\right]\n",
    "\\end{align}\n",
    "\n",
    "Plot the scenario prices (Y-axis) vs yieds (X-axis), for both the \"re-pricing\" and \"second-order approximations\" method."
   ]
  },
  {
   "cell_type": "markdown",
   "id": "7e040383",
   "metadata": {},
   "source": [
    "## d. Extreme event scenarios\n",
    "\n",
    "Compute and show the scenario bond price for a bond yield of 15% (extreme event scenario).\n",
    "\n",
    "Compute and show the second-order scenario price approximation in the extreme event scenario.\n",
    "\n",
    "Compute and show the analytic DV01, duration and convexity in the extreme event scenario.\n",
    "\n",
    "How accurate is the second-order approximation (Taylor expansion using duration and convexity) in the extreme event case, and why?"
   ]
  },
  {
   "attachments": {},
   "cell_type": "markdown",
   "id": "d3f2d550",
   "metadata": {},
   "source": [
    "-----------------------------------------------------------\n",
    "# Problem 4: Perpetual bonds\n",
    "## a. Price a fixed rate perpetual bond\n",
    "We are interested in a fixed rate perpetual bond (infinite maturity) on a face notional of $100 and semi-annual coupon c.\n",
    "\n",
    "Assuming that the bond has a known continuously componded yield of y, what is the price of the perpetual bond (assume T+0 settlement and zero accrued)?\n",
    "\n",
    "Use the definition of the semi-annual yield: $y_{sa} = 2 \\cdot \\left(e^{\\frac{y}{2}}-1 \\right)$.\n",
    "\n",
    "You can use following sympy code (implementing Formula 5 from Session 1) as a starting point."
   ]
  },
  {
   "cell_type": "code",
   "execution_count": 2,
   "id": "14da9a5e",
   "metadata": {},
   "outputs": [
    {
     "name": "stdout",
     "output_type": "stream",
     "text": [
      "Analytic formula for bond_pv: (1 - exp(-T*y))*(c/(2*(exp(y/2) - 1)) - 1) + 1\n"
     ]
    },
    {
     "data": {
      "text/latex": [
       "$\\displaystyle \\left(1 - e^{- T y}\\right) \\left(\\frac{c}{2 \\left(e^{\\frac{y}{2}} - 1\\right)} - 1\\right) + 1$"
      ],
      "text/plain": [
       "(1 - exp(-T*y))*(c/(2*(exp(y/2) - 1)) - 1) + 1"
      ]
     },
     "metadata": {},
     "output_type": "display_data"
    }
   ],
   "source": [
    "# import libraries\n",
    "import sympy as sp\n",
    "\n",
    "# define fixed rate bond specs as symbolic variables\n",
    "T = sp.symbols('T')\n",
    "c = sp.symbols('c')\n",
    "y = sp.symbols('y')\n",
    "\n",
    "# define symbolic equation for generic fixed rate bond pv\n",
    "bond_pv_eq =  1 + (c/2  / (sp.exp(y/2) - 1) - 1 )* (1 - sp.exp(-T*y))\n",
    "print('Analytic formula for bond_pv:', bond_pv_eq)\n",
    "display(bond_pv_eq)"
   ]
  },
  {
   "attachments": {},
   "cell_type": "markdown",
   "id": "ea06ec4c",
   "metadata": {},
   "source": [
    "## b. Perpetual bonds priced \"at par\"\n",
    "For which yield y does the bond trade \"at par\", i.e. fair value price = $100?"
   ]
  },
  {
   "attachments": {},
   "cell_type": "markdown",
   "id": "6bdbf185",
   "metadata": {},
   "source": [
    "## c. Duration and DV01 for a fixed rate perpetual bond\n",
    "\n",
    "Compute Duration and DV01 of the perpetual bond.\n",
    "\n",
    "Use the simpy.diff() function to compute function derivatives."
   ]
  },
  {
   "attachments": {},
   "cell_type": "markdown",
   "id": "808bf8d9",
   "metadata": {},
   "source": [
    "## d. Convexity of a fixed rate perpetual bond\n",
    "Compute the convexity of the perpetual bond."
   ]
  }
 ],
 "metadata": {
  "hide_input": false,
  "kernelspec": {
   "display_name": "Python 3",
   "language": "python",
   "name": "python3"
  },
  "language_info": {
   "codemirror_mode": {
    "name": "ipython",
    "version": 3
   },
   "file_extension": ".py",
   "mimetype": "text/x-python",
   "name": "python",
   "nbconvert_exporter": "python",
   "pygments_lexer": "ipython3",
   "version": "3.12.9"
  }
 },
 "nbformat": 4,
 "nbformat_minor": 5
}
