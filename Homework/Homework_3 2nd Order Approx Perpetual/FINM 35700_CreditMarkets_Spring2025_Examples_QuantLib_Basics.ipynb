{
 "cells": [
  {
   "attachments": {},
   "cell_type": "markdown",
   "metadata": {},
   "source": [
    "# Credit Markets\n",
    "## FINM 35700 - Spring 2025\n",
    "\n",
    "### UChicago Financial Mathematics\n",
    "\n",
    "* Alex Popovici\n",
    "* alex.popovici@uchicago.edu"
   ]
  },
  {
   "attachments": {},
   "cell_type": "markdown",
   "metadata": {},
   "source": [
    "# Basic Usage of QuantLib analytics library\n",
    "## More details at: https://quantlib-python-docs.readthedocs.io/en/latest/"
   ]
  },
  {
   "cell_type": "markdown",
   "metadata": {},
   "source": [
    "- 1\\. Objects and Handles\n",
    "  - a. Define a quote object and inspect the value\n",
    "  - b. Define quoteHandle as a handle/smart pointer to the quote object    \n",
    "  - c. Calendars and day-count conventions\n",
    "- 2\\. Cashflow Schedules\n",
    "  - a. Construct semi-annual cashflow schedule object, for fixed-rate bonds\n",
    "  - b. Inspect the semi-annual cashflow schedule\n",
    "  - c. Construct quarterly cashflow schedule object, for floating-rate bonds\n",
    "  - d. Inspect the quarterly cashflow schedule\n",
    "- 3\\. Discount Curve / Yield Curve Term Structure\n",
    "  - a. Constructing a Flat Yield Curve\n",
    "  - b. Inspect the discount curve\n",
    "- 4\\. Fixed and Floating Rate Bonds\n",
    "  - a. Constructing a fixed rate bond object\n",
    "  - b. Investigate the fixed-rate bond cash-flows\n",
    "  - c. Constructing a floating rate bond object: linked to SOFR index\n",
    "- 5\\. Bond Present Value Calculation (no credit risk)\n",
    "  - a. Direct function call using risk-free bond pricing engine\n",
    "  - b. Manual Calculation to validate PV (for fixed and floating-rate bonds)\n",
    "  - c. Bond Clean vs Dirty Prices (adjusted to settle date)\n",
    "- 6\\. Market Data Scenarios\n",
    "  - a. Apply +/-1bp parallel shift scenarios in interest rates curve and compute scenario prices\n",
    "  - b. Compute scenario DV01, duration and convexity\n",
    "  - c. Yield to Price conversions\n",
    "  - d. Price to Yield conversions\n",
    "- 7\\. Analytical Duration, Convexity and Z-Spread (flat yield model)\n",
    "  - a. Compute bond duration, convexity and Z-Spread   \n",
    "  - b. Validate Z-Spread\n",
    "- 8\\. Treasury Yield Curve Calibration (via Bootstrapping)\n",
    "  - a. Calibrate treasury flat yield curve (simple case of one calibration instrument)\n",
    "  - b. Display the calibrated Treasury discount curve dataframe\n",
    "  - c. Plot the calibrated Treasury Zero Rates and Discount Factors curves\n",
    "  - d. Reprice the bond on the yield curve to validate the calibration"
   ]
  },
  {
   "cell_type": "code",
   "execution_count": 118,
   "metadata": {
    "ExecuteTime": {
     "end_time": "2020-09-08T22:40:10.673242Z",
     "start_time": "2020-09-08T22:40:10.280272Z"
    },
    "execution": {
     "iopub.execute_input": "2023-12-04T18:56:06.054848Z",
     "iopub.status.busy": "2023-12-04T18:56:06.054717Z",
     "iopub.status.idle": "2023-12-04T18:56:06.591143Z",
     "shell.execute_reply": "2023-12-04T18:56:06.590700Z",
     "shell.execute_reply.started": "2023-12-04T18:56:06.054831Z"
    }
   },
   "outputs": [],
   "source": [
    "import QuantLib as ql\n",
    "import numpy as np\n",
    "import pandas as pd"
   ]
  },
  {
   "attachments": {},
   "cell_type": "markdown",
   "metadata": {},
   "source": [
    "------------------------------------------------------------------------------------------\n",
    "# 1. Objects and Handles\n",
    "## a. Define a quote object and inspect the value."
   ]
  },
  {
   "cell_type": "code",
   "execution_count": 119,
   "metadata": {
    "ExecuteTime": {
     "end_time": "2020-09-08T22:40:10.691095Z",
     "start_time": "2020-09-08T22:40:10.681145Z"
    },
    "execution": {
     "iopub.execute_input": "2023-12-04T18:56:06.592755Z",
     "iopub.status.busy": "2023-12-04T18:56:06.592128Z",
     "iopub.status.idle": "2023-12-04T18:56:06.595368Z",
     "shell.execute_reply": "2023-12-04T18:56:06.595004Z",
     "shell.execute_reply.started": "2023-12-04T18:56:06.592738Z"
    }
   },
   "outputs": [
    {
     "name": "stdout",
     "output_type": "stream",
     "text": [
      "0.01\n",
      "0.02\n"
     ]
    }
   ],
   "source": [
    "quote = ql.SimpleQuote(.01)\n",
    "print(quote.value())\n",
    "\n",
    "quote.setValue(.02)\n",
    "print(quote.value())"
   ]
  },
  {
   "attachments": {},
   "cell_type": "markdown",
   "metadata": {},
   "source": [
    "## b. Define quoteHandle as a handle/smart pointer to the quote object"
   ]
  },
  {
   "cell_type": "code",
   "execution_count": 120,
   "metadata": {
    "ExecuteTime": {
     "end_time": "2020-09-08T22:40:10.706852Z",
     "start_time": "2020-09-08T22:40:10.701861Z"
    },
    "execution": {
     "iopub.execute_input": "2023-12-04T18:56:06.596210Z",
     "iopub.status.busy": "2023-12-04T18:56:06.595823Z",
     "iopub.status.idle": "2023-12-04T18:56:06.671000Z",
     "shell.execute_reply": "2023-12-04T18:56:06.670614Z",
     "shell.execute_reply.started": "2023-12-04T18:56:06.596196Z"
    }
   },
   "outputs": [
    {
     "data": {
      "text/plain": [
       "0.02"
      ]
     },
     "execution_count": 120,
     "metadata": {},
     "output_type": "execute_result"
    }
   ],
   "source": [
    "quoteHandle = ql.QuoteHandle(quote)\n",
    "quoteHandle.value()"
   ]
  },
  {
   "cell_type": "markdown",
   "metadata": {},
   "source": [
    "### When the quote object is changed, the quoteHandle changes value as well"
   ]
  },
  {
   "cell_type": "code",
   "execution_count": 121,
   "metadata": {
    "execution": {
     "iopub.execute_input": "2023-12-04T18:56:06.671908Z",
     "iopub.status.busy": "2023-12-04T18:56:06.671486Z",
     "iopub.status.idle": "2023-12-04T18:56:06.754797Z",
     "shell.execute_reply": "2023-12-04T18:56:06.754298Z",
     "shell.execute_reply.started": "2023-12-04T18:56:06.671894Z"
    }
   },
   "outputs": [
    {
     "data": {
      "text/plain": [
       "0.03"
      ]
     },
     "execution_count": 121,
     "metadata": {},
     "output_type": "execute_result"
    }
   ],
   "source": [
    "quote.setValue(.03)\n",
    "quoteHandle.value()"
   ]
  },
  {
   "attachments": {},
   "cell_type": "markdown",
   "metadata": {},
   "source": [
    "## c. Calendars and day-count conventions"
   ]
  },
  {
   "cell_type": "code",
   "execution_count": 122,
   "metadata": {
    "execution": {
     "iopub.execute_input": "2023-12-04T18:56:06.755827Z",
     "iopub.status.busy": "2023-12-04T18:56:06.755676Z",
     "iopub.status.idle": "2023-12-04T18:56:06.845843Z",
     "shell.execute_reply": "2023-12-04T18:56:06.845397Z",
     "shell.execute_reply.started": "2023-12-04T18:56:06.755813Z"
    }
   },
   "outputs": [
    {
     "name": "stdout",
     "output_type": "stream",
     "text": [
      "todays_date = March 29th, 2025\n",
      "test_date = June 27th, 2025\n",
      "holiday_list = [Date(18,4,2025), Date(26,5,2025), Date(19,6,2025)]\n",
      "day_count = Actual/360 day counter\n",
      "Year Fraction  from March 29th, 2025 to June 27th, 2025 ] = 0.25\n"
     ]
    }
   ],
   "source": [
    "# dates\n",
    "todays_date = ql.Date.todaysDate()\n",
    "test_date = todays_date + 90\n",
    "print('todays_date =', todays_date)\n",
    "print('test_date =', test_date)\n",
    "\n",
    "\n",
    "# calendars\n",
    "calendar = ql.UnitedStates(ql.UnitedStates.GovernmentBond)\n",
    "holiday_list = list(calendar.holidayList(todays_date, test_date))\n",
    "print('holiday_list =', holiday_list)\n",
    "\n",
    "\n",
    "# day count conventions\n",
    "day_count = ql.Actual360()\n",
    "print('day_count =', day_count)\n",
    "\n",
    "# year fractions\n",
    "test_year_fraction = day_count.yearFraction(todays_date, test_date)\n",
    "print('Year Fraction  from', todays_date, 'to', test_date,'] =', test_year_fraction)"
   ]
  },
  {
   "attachments": {},
   "cell_type": "markdown",
   "metadata": {},
   "source": [
    "------------------------------------------------------------------------------------------\n",
    "# 2. Cashflow Schedules\n",
    "## a. Construct semi-annual cashflow schedule object, for fixed-rate bonds"
   ]
  },
  {
   "cell_type": "code",
   "execution_count": 123,
   "metadata": {
    "execution": {
     "iopub.execute_input": "2023-12-04T18:56:06.846614Z",
     "iopub.status.busy": "2023-12-04T18:56:06.846469Z",
     "iopub.status.idle": "2023-12-04T18:56:06.933069Z",
     "shell.execute_reply": "2023-12-04T18:56:06.932576Z",
     "shell.execute_reply.started": "2023-12-04T18:56:06.846601Z"
    }
   },
   "outputs": [],
   "source": [
    "issue_date = ql.Date(1, 4, 2025)        # 2025-04-01\n",
    "maturity_date = ql.Date(1, 4, 2029)     # 2028-04-01\n",
    "coupon_freq = ql.Semiannual\n",
    "coupon_term = ql.Period(coupon_freq)\n",
    "calendar = ql.UnitedStates(ql.UnitedStates.GovernmentBond)\n",
    "business_day_conv = ql.Unadjusted\n",
    "date_generation = ql.DateGeneration.Backward\n",
    "month_end = True\n",
    "\n",
    "# fixed_rate_schedule\n",
    "fixed_rate_schedule = ql.Schedule(issue_date,\n",
    "                       maturity_date,\n",
    "                       coupon_term,\n",
    "                       calendar,\n",
    "                       business_day_conv,\n",
    "                       business_day_conv,\n",
    "                       date_generation,\n",
    "                       month_end)"
   ]
  },
  {
   "attachments": {},
   "cell_type": "markdown",
   "metadata": {},
   "source": [
    "## b. Inspect the semi-annual cashflow schedule\n",
    "- Use list() to get a list of all the dates in Schedule, and len() to get number of dates\n",
    "- Use []] for random access\n",
    "- Use startDate(), endDate()"
   ]
  },
  {
   "cell_type": "code",
   "execution_count": 124,
   "metadata": {
    "ExecuteTime": {
     "end_time": "2020-09-08T22:40:10.746174Z",
     "start_time": "2020-09-08T22:40:10.736892Z"
    },
    "execution": {
     "iopub.execute_input": "2023-12-04T18:56:06.934953Z",
     "iopub.status.busy": "2023-12-04T18:56:06.934482Z",
     "iopub.status.idle": "2023-12-04T18:56:07.023598Z",
     "shell.execute_reply": "2023-12-04T18:56:07.023167Z",
     "shell.execute_reply.started": "2023-12-04T18:56:06.934937Z"
    },
    "tags": []
   },
   "outputs": [
    {
     "name": "stdout",
     "output_type": "stream",
     "text": [
      "All dates:  [Date(1,4,2025), Date(1,10,2025), Date(1,4,2026), Date(1,10,2026), Date(1,4,2027), Date(1,10,2027), Date(1,4,2028), Date(1,10,2028), Date(1,4,2029)]\n",
      "Length:  9\n",
      "The 3rd coupon date:  April 1st, 2026\n",
      "Start Date:  April 1st, 2025\n",
      "End Date:  April 1st, 2029\n"
     ]
    }
   ],
   "source": [
    "print(\"All dates: \", list(fixed_rate_schedule))\n",
    "print(\"Length: \", len(fixed_rate_schedule))\n",
    "print(\"The 3rd coupon date: \", fixed_rate_schedule[2])  # random access\n",
    "print(\"Start Date: \", fixed_rate_schedule.startDate())\n",
    "print(\"End Date: \", fixed_rate_schedule.endDate())"
   ]
  },
  {
   "cell_type": "markdown",
   "metadata": {},
   "source": [
    "## c. Construct quarterly cashflow schedule object, for floating-rate bonds"
   ]
  },
  {
   "cell_type": "code",
   "execution_count": 125,
   "metadata": {
    "execution": {
     "iopub.execute_input": "2023-12-04T18:56:07.024542Z",
     "iopub.status.busy": "2023-12-04T18:56:07.024176Z",
     "iopub.status.idle": "2023-12-04T18:56:07.115521Z",
     "shell.execute_reply": "2023-12-04T18:56:07.115033Z",
     "shell.execute_reply.started": "2023-12-04T18:56:07.024527Z"
    }
   },
   "outputs": [],
   "source": [
    "# floating_rate_bond_schedule\n",
    "floating_rate_schedule = ql.Schedule(\n",
    "    issue_date,\n",
    "    maturity_date,\n",
    "    ql.Period(ql.Quarterly),\n",
    "    calendar,\n",
    "    business_day_conv,\n",
    "    business_day_conv,\n",
    "    date_generation,\n",
    "    month_end,\n",
    ")"
   ]
  },
  {
   "cell_type": "markdown",
   "metadata": {},
   "source": [
    "## d. Inspect the quarterly cashflow schedule"
   ]
  },
  {
   "cell_type": "code",
   "execution_count": 126,
   "metadata": {
    "execution": {
     "iopub.execute_input": "2023-12-04T18:56:07.116645Z",
     "iopub.status.busy": "2023-12-04T18:56:07.116279Z",
     "iopub.status.idle": "2023-12-04T18:56:07.195782Z",
     "shell.execute_reply": "2023-12-04T18:56:07.195271Z",
     "shell.execute_reply.started": "2023-12-04T18:56:07.116624Z"
    }
   },
   "outputs": [
    {
     "name": "stdout",
     "output_type": "stream",
     "text": [
      "All dates:  [Date(1,4,2025), Date(1,7,2025), Date(1,10,2025), Date(1,1,2026), Date(1,4,2026), Date(1,7,2026), Date(1,10,2026), Date(1,1,2027), Date(1,4,2027), Date(1,7,2027), Date(1,10,2027), Date(1,1,2028), Date(1,4,2028), Date(1,7,2028), Date(1,10,2028), Date(1,1,2029), Date(1,4,2029)]\n",
      "Length:  17\n",
      "The 3rd coupon date:  October 1st, 2025\n",
      "Start Date:  April 1st, 2025\n",
      "End Date:  April 1st, 2029\n"
     ]
    }
   ],
   "source": [
    "print(\"All dates: \", list(floating_rate_schedule))\n",
    "print(\"Length: \", len(floating_rate_schedule))\n",
    "print(\"The 3rd coupon date: \", floating_rate_schedule[2])  # random access\n",
    "print(\"Start Date: \", fixed_rate_schedule.startDate())\n",
    "print(\"End Date: \", fixed_rate_schedule.endDate())"
   ]
  },
  {
   "attachments": {},
   "cell_type": "markdown",
   "metadata": {},
   "source": [
    "------------------------------------------------------------------------------------------\n",
    "# 3. Discount Curve / Yield Curve Term Structure\n",
    "## a. Constructing a Flat Yield Curve"
   ]
  },
  {
   "cell_type": "code",
   "execution_count": 127,
   "metadata": {
    "ExecuteTime": {
     "end_time": "2020-09-08T22:40:10.752550Z",
     "start_time": "2020-09-08T22:40:10.748534Z"
    },
    "execution": {
     "iopub.execute_input": "2023-12-04T18:56:07.196739Z",
     "iopub.status.busy": "2023-12-04T18:56:07.196414Z",
     "iopub.status.idle": "2023-12-04T18:56:07.286702Z",
     "shell.execute_reply": "2023-12-04T18:56:07.286174Z",
     "shell.execute_reply.started": "2023-12-04T18:56:07.196723Z"
    }
   },
   "outputs": [],
   "source": [
    "# Set the static valuation/calculation date: 2025-04-01\n",
    "calc_date = ql.Date(1, 4, 2025)\n",
    "ql.Settings.instance().evaluationDate = calc_date\n",
    "\n",
    "# using 5% flat interest rate for testing\n",
    "flat_rate = ql.SimpleQuote(0.05)\n",
    "rate_handle = ql.QuoteHandle(flat_rate)\n",
    "day_count = ql.Actual360()\n",
    "calendar = ql.UnitedStates(ql.UnitedStates.GovernmentBond)\n",
    "continuous_comp = ql.Continuous # continously compounded rate of 5%\n",
    "\n",
    "# Create flat yield curve with continously compounded rate of 5%\n",
    "flat_yield_curve = ql.FlatForward(calc_date, rate_handle, day_count, continuous_comp)\n",
    "\n",
    "# Add handle for yield curve\n",
    "flat_yield_curve_handle = ql.YieldTermStructureHandle(flat_yield_curve)"
   ]
  },
  {
   "attachments": {},
   "cell_type": "markdown",
   "metadata": {},
   "source": [
    "## b. Inspect the discount curve"
   ]
  },
  {
   "cell_type": "code",
   "execution_count": 128,
   "metadata": {
    "ExecuteTime": {
     "end_time": "2020-09-08T22:40:10.770911Z",
     "start_time": "2020-09-08T22:40:10.754832Z"
    },
    "execution": {
     "iopub.execute_input": "2023-12-04T18:56:07.287472Z",
     "iopub.status.busy": "2023-12-04T18:56:07.287331Z",
     "iopub.status.idle": "2023-12-04T18:56:07.369623Z",
     "shell.execute_reply": "2023-12-04T18:56:07.369061Z",
     "shell.execute_reply.started": "2023-12-04T18:56:07.287459Z"
    },
    "tags": []
   },
   "outputs": [
    {
     "name": "stdout",
     "output_type": "stream",
     "text": [
      "Reference Date = April 1st, 2025\n",
      "Test Date = September 1st, 2025\n",
      "Year Fraction between Reference Date and Test Date :  0.425\n",
      "Discount Factor for Test Date September 1st, 2025 :  0.97897419042636\n",
      "custom DF calculation for Test Date September 1st, 2025 :  0.97897419042636\n",
      "Difference in Discount Factor: 0.0\n"
     ]
    }
   ],
   "source": [
    "ref_date = flat_yield_curve.referenceDate()\n",
    "test_date = ql.Date(1, 9, 2025)\n",
    "\n",
    "# calc year fraction between ref_date and test_date\n",
    "yearFrac = flat_yield_curve.dayCounter().yearFraction(ref_date, test_date)\n",
    "\n",
    "print(\"Reference Date =\", ref_date)\n",
    "print(\"Test Date =\", test_date)\n",
    "print(\"Year Fraction between Reference Date and Test Date : \", yearFrac)\n",
    "print(\"Discount Factor for Test Date\", test_date, \": \", flat_yield_curve.discount(test_date))\n",
    "print(\"custom DF calculation for Test Date\", test_date, \": \", np.exp(-flat_rate.value() * yearFrac))\n",
    "print(\"Difference in Discount Factor:\", flat_yield_curve.discount(test_date) - np.exp(-flat_rate.value() * yearFrac))\n",
    "\n"
   ]
  },
  {
   "attachments": {},
   "cell_type": "markdown",
   "metadata": {},
   "source": [
    "------------------------------------------------------------------------------------------\n",
    "# 4. Fixed and Floating Rate Bonds\n",
    "## a. Constructing a fixed rate bond object"
   ]
  },
  {
   "cell_type": "code",
   "execution_count": 129,
   "metadata": {
    "ExecuteTime": {
     "end_time": "2020-09-08T22:40:10.778286Z",
     "start_time": "2020-09-08T22:40:10.773359Z"
    },
    "execution": {
     "iopub.execute_input": "2023-12-04T18:56:07.370526Z",
     "iopub.status.busy": "2023-12-04T18:56:07.370350Z",
     "iopub.status.idle": "2023-12-04T18:56:07.455500Z",
     "shell.execute_reply": "2023-12-04T18:56:07.454922Z",
     "shell.execute_reply.started": "2023-12-04T18:56:07.370511Z"
    }
   },
   "outputs": [],
   "source": [
    "# day_count: ACT/ACT for Govt bonds\n",
    "day_count_govt = ql.ActualActual(ql.ActualActual.ISMA)\n",
    "\n",
    "# day_count: 30/360 for fixed-rate Corp bonds\n",
    "day_count_corp_fixed = ql.Thirty360(ql.Thirty360.USA)\n",
    "\n",
    "# day_count: ACT/360 for floating-rate bonds\n",
    "day_count_floater = ql.Actual360()\n",
    "\n",
    "\n",
    "# settlement_days: 1 for Govt and Corp bonds\n",
    "settlement_days = 1\n",
    "\n",
    "# Govt Bonds specs\n",
    "day_count = day_count_govt\n",
    "\n",
    "# coupon = 5%\n",
    "coupon_rate = 5 * 1e-2\n",
    "coupons = [coupon_rate]\n",
    "\n",
    "# business days convention\n",
    "business_days_conv = ql.Unadjusted\n",
    "\n",
    "# face_value\n",
    "face_value = 100\n",
    "\n",
    "\n",
    "# Construct the fixed_rate_bond\n",
    "face_value = 100\n",
    "fixed_rate_bond = ql.FixedRateBond(\n",
    "    settlement_days,\n",
    "    face_value,\n",
    "    fixed_rate_schedule,\n",
    "    coupons,\n",
    "    day_count,\n",
    "    business_days_conv)"
   ]
  },
  {
   "attachments": {},
   "cell_type": "markdown",
   "metadata": {},
   "source": [
    "## b. Investigate the fixed-rate bond cash-flows"
   ]
  },
  {
   "cell_type": "code",
   "execution_count": 130,
   "metadata": {
    "ExecuteTime": {
     "end_time": "2020-09-08T22:40:10.792630Z",
     "start_time": "2020-09-08T22:40:10.780398Z"
    },
    "execution": {
     "iopub.execute_input": "2023-12-04T18:56:07.456761Z",
     "iopub.status.busy": "2023-12-04T18:56:07.456254Z",
     "iopub.status.idle": "2023-12-04T18:56:07.551014Z",
     "shell.execute_reply": "2023-12-04T18:56:07.550444Z",
     "shell.execute_reply.started": "2023-12-04T18:56:07.456744Z"
    },
    "tags": []
   },
   "outputs": [
    {
     "name": "stdout",
     "output_type": "stream",
     "text": [
      "        CashFlowDate  CashFlowAmount\n",
      "0  October 1st, 2025             2.5\n",
      "1    April 1st, 2026             2.5\n",
      "2  October 1st, 2026             2.5\n",
      "3    April 1st, 2027             2.5\n",
      "4  October 1st, 2027             2.5\n",
      "5    April 1st, 2028             2.5\n",
      "6  October 1st, 2028             2.5\n",
      "7    April 1st, 2029             2.5\n",
      "8    April 1st, 2029           100.0\n"
     ]
    },
    {
     "data": {
      "text/plain": [
       "<Axes: xlabel='CashFlowDate'>"
      ]
     },
     "execution_count": 130,
     "metadata": {},
     "output_type": "execute_result"
    },
    {
     "data": {
      "image/png": "[encoded data removed]",
      "text/plain": [
       "<Figure size 640x480 with 1 Axes>"
      ]
     },
     "metadata": {},
     "output_type": "display_data"
    }
   ],
   "source": [
    "# extract cashflow dates and amounts from fixed rate bond\n",
    "x = [(cf.date(), cf.amount()) for cf in fixed_rate_bond.cashflows()]\n",
    "cf_date_fixed, cf_amount = zip(*x)\n",
    "\n",
    "# create and display cashflows dataframe\n",
    "cf_frame_fixed = pd.DataFrame(data={'CashFlowDate': cf_date_fixed, 'CashFlowAmount': cf_amount})\n",
    "print(cf_frame_fixed)\n",
    "\n",
    "# plot cashflows\n",
    "cf_frame_fixed.plot.bar(x='CashFlowDate', y='CashFlowAmount')"
   ]
  },
  {
   "cell_type": "markdown",
   "metadata": {
    "execution": {
     "iopub.execute_input": "2023-12-01T19:56:38.712019Z",
     "iopub.status.busy": "2023-12-01T19:56:38.711548Z",
     "iopub.status.idle": "2023-12-01T19:56:38.714850Z",
     "shell.execute_reply": "2023-12-01T19:56:38.714309Z",
     "shell.execute_reply.started": "2023-12-01T19:56:38.711999Z"
    }
   },
   "source": [
    "## c. Constructing a floating rate bond object: linked to SOFR index"
   ]
  },
  {
   "cell_type": "code",
   "execution_count": 131,
   "metadata": {
    "execution": {
     "iopub.execute_input": "2023-12-04T18:56:07.551853Z",
     "iopub.status.busy": "2023-12-04T18:56:07.551694Z",
     "iopub.status.idle": "2023-12-04T18:56:07.653033Z",
     "shell.execute_reply": "2023-12-04T18:56:07.652479Z",
     "shell.execute_reply.started": "2023-12-04T18:56:07.551839Z"
    }
   },
   "outputs": [],
   "source": [
    "# sofr_term_structure_handle: using 5% flat interest rate for testing\n",
    "soft_rate = 5 * 1e-2\n",
    "rate_handle = ql.QuoteHandle(ql.SimpleQuote(soft_rate))\n",
    "sofr_term_structure = ql.FlatForward(calc_date, rate_handle, day_count_floater, ql.Continuous)\n",
    "sofr_term_structure_handle = ql.YieldTermStructureHandle(sofr_term_structure)\n",
    "\n",
    "# Set SOFR index history\n",
    "im = ql.IndexManager.instance()\n",
    "sofr_index = ql.Sofr(sofr_term_structure_handle)\n",
    "\n",
    "# Set SOFR fixings\n",
    "im.clearHistory(sofr_index.name())\n",
    "sofr_index.addFixing(ql.Date(28, ql.March, 2025), soft_rate)\n",
    "sofr_index.addFixing(ql.Date(31, ql.March, 2025), soft_rate)\n",
    "\n",
    "# Set floating rate spread: 25bps\n",
    "floating_rate_spread = 25 * 1e-6\n",
    "spreads=[floating_rate_spread]\n",
    "\n",
    "# floating_rate_bond\n",
    "floating_rate_bond = ql.FloatingRateBond(settlement_days,\n",
    "                                face_value,\n",
    "                                floating_rate_schedule,\n",
    "                                sofr_index,\n",
    "                                day_count_floater,\n",
    "                                business_days_conv,\n",
    "                                spreads=spreads, # 25 bps floating rate\n",
    "                                issueDate=issue_date)\n"
   ]
  },
  {
   "cell_type": "code",
   "execution_count": 132,
   "metadata": {
    "execution": {
     "iopub.execute_input": "2023-12-04T18:56:07.654020Z",
     "iopub.status.busy": "2023-12-04T18:56:07.653691Z",
     "iopub.status.idle": "2023-12-04T18:56:07.754981Z",
     "shell.execute_reply": "2023-12-04T18:56:07.754446Z",
     "shell.execute_reply.started": "2023-12-04T18:56:07.654003Z"
    }
   },
   "outputs": [
    {
     "name": "stdout",
     "output_type": "stream",
     "text": [
      "         CashFlowDate  CashFlowAmount\n",
      "0      July 1st, 2025        1.272542\n",
      "1   October 1st, 2025        1.286615\n",
      "2   January 1st, 2026        1.286705\n",
      "3     April 1st, 2026        1.258558\n",
      "4      July 1st, 2026        1.272542\n",
      "5   October 1st, 2026        1.286615\n",
      "6   January 1st, 2027        1.286884\n",
      "7     April 1st, 2027        1.258558\n",
      "8      July 1st, 2027        1.272542\n",
      "9   October 1st, 2027        1.286615\n",
      "10  January 1st, 2028        1.286794\n",
      "11    April 1st, 2028        1.272807\n",
      "12     July 1st, 2028        1.272807\n",
      "13  October 1st, 2028        1.286794\n",
      "14  January 1st, 2029        1.286884\n",
      "15    April 1st, 2029        1.258820\n",
      "16    April 1st, 2029      100.000000\n"
     ]
    },
    {
     "data": {
      "text/plain": [
       "<Axes: xlabel='CashFlowDate'>"
      ]
     },
     "execution_count": 132,
     "metadata": {},
     "output_type": "execute_result"
    },
    {
     "data": {
      "image/png": "[encoded data removed]",
      "text/plain": [
       "<Figure size 640x480 with 1 Axes>"
      ]
     },
     "metadata": {},
     "output_type": "display_data"
    }
   ],
   "source": [
    "# extract cashflow dates and amounts from floating rate bond\n",
    "x = [(cf.date(), cf.amount()) for cf in floating_rate_bond.cashflows()]\n",
    "cf_date_float, cf_amount = zip(*x)\n",
    "\n",
    "# create and display cashflows dataframe\n",
    "cf_frame_float = pd.DataFrame(data={'CashFlowDate': cf_date_float, 'CashFlowAmount': cf_amount})\n",
    "print(cf_frame_float)\n",
    "\n",
    "# plot cashflows\n",
    "cf_frame_float.plot.bar(x='CashFlowDate', y='CashFlowAmount')"
   ]
  },
  {
   "attachments": {},
   "cell_type": "markdown",
   "metadata": {},
   "source": [
    "------------------------------------------------------------------------------------------\n",
    "# 5. Bond Present Value Calculation (no credit risk)\n",
    "## a. Direct function call using risk-free bond pricing engine"
   ]
  },
  {
   "cell_type": "code",
   "execution_count": 133,
   "metadata": {
    "ExecuteTime": {
     "end_time": "2020-09-08T22:40:10.802696Z",
     "start_time": "2020-09-08T22:40:10.795608Z"
    },
    "execution": {
     "iopub.execute_input": "2023-12-04T18:56:07.755865Z",
     "iopub.status.busy": "2023-12-04T18:56:07.755719Z",
     "iopub.status.idle": "2023-12-04T18:56:07.845819Z",
     "shell.execute_reply": "2023-12-04T18:56:07.845291Z",
     "shell.execute_reply.started": "2023-12-04T18:56:07.755851Z"
    }
   },
   "outputs": [
    {
     "name": "stdout",
     "output_type": "stream",
     "text": [
      "fixed_rate_bond_pv = 99.50727882766412\n",
      "floating_rate_bond_pv = 100.01088539188409\n"
     ]
    }
   ],
   "source": [
    "# Create risk-free discounting engine\n",
    "bond_engine = ql.DiscountingBondEngine(flat_yield_curve_handle)\n",
    "\n",
    "# fixed_rate_bond PV\n",
    "fixed_rate_bond.setPricingEngine(bond_engine)\n",
    "fixed_rate_bond_pv = fixed_rate_bond.NPV()\n",
    "print('fixed_rate_bond_pv =', fixed_rate_bond_pv)\n",
    "\n",
    "# floating_rate_bond PV\n",
    "floating_rate_bond.setPricingEngine(bond_engine)\n",
    "floating_rate_bond_pv = floating_rate_bond.NPV()\n",
    "print('floating_rate_bond_pv =', floating_rate_bond_pv)"
   ]
  },
  {
   "attachments": {},
   "cell_type": "markdown",
   "metadata": {},
   "source": [
    "## b. Manual Calculation to validate PV (for fixed and floating-rate bonds)"
   ]
  },
  {
   "cell_type": "code",
   "execution_count": 134,
   "metadata": {
    "ExecuteTime": {
     "end_time": "2020-09-08T22:40:10.829120Z",
     "start_time": "2020-09-08T22:40:10.804649Z"
    },
    "execution": {
     "iopub.execute_input": "2023-12-04T18:56:07.847023Z",
     "iopub.status.busy": "2023-12-04T18:56:07.846561Z",
     "iopub.status.idle": "2023-12-04T18:56:07.950016Z",
     "shell.execute_reply": "2023-12-04T18:56:07.949554Z",
     "shell.execute_reply.started": "2023-12-04T18:56:07.847007Z"
    },
    "tags": []
   },
   "outputs": [
    {
     "data": {
      "text/html": [
       "<div>\n",
       "<style scoped>\n",
       "    .dataframe tbody tr th:only-of-type {\n",
       "        vertical-align: middle;\n",
       "    }\n",
       "\n",
       "    .dataframe tbody tr th {\n",
       "        vertical-align: top;\n",
       "    }\n",
       "\n",
       "    .dataframe thead th {\n",
       "        text-align: right;\n",
       "    }\n",
       "</style>\n",
       "<table border=\"1\" class=\"dataframe\">\n",
       "  <thead>\n",
       "    <tr style=\"text-align: right;\">\n",
       "      <th></th>\n",
       "      <th>CashFlowDate</th>\n",
       "      <th>CashFlowAmount</th>\n",
       "      <th>YearFrac</th>\n",
       "      <th>DiscountFactor</th>\n",
       "      <th>NPV</th>\n",
       "    </tr>\n",
       "  </thead>\n",
       "  <tbody>\n",
       "    <tr>\n",
       "      <th>0</th>\n",
       "      <td>October 1st, 2025</td>\n",
       "      <td>2.5</td>\n",
       "      <td>0.508333</td>\n",
       "      <td>0.974904</td>\n",
       "      <td>2.437259</td>\n",
       "    </tr>\n",
       "    <tr>\n",
       "      <th>1</th>\n",
       "      <td>April 1st, 2026</td>\n",
       "      <td>2.5</td>\n",
       "      <td>1.013889</td>\n",
       "      <td>0.950569</td>\n",
       "      <td>2.376423</td>\n",
       "    </tr>\n",
       "    <tr>\n",
       "      <th>2</th>\n",
       "      <td>October 1st, 2026</td>\n",
       "      <td>2.5</td>\n",
       "      <td>1.522222</td>\n",
       "      <td>0.926713</td>\n",
       "      <td>2.316783</td>\n",
       "    </tr>\n",
       "    <tr>\n",
       "      <th>3</th>\n",
       "      <td>April 1st, 2027</td>\n",
       "      <td>2.5</td>\n",
       "      <td>2.027778</td>\n",
       "      <td>0.903582</td>\n",
       "      <td>2.258954</td>\n",
       "    </tr>\n",
       "    <tr>\n",
       "      <th>4</th>\n",
       "      <td>October 1st, 2027</td>\n",
       "      <td>2.5</td>\n",
       "      <td>2.536111</td>\n",
       "      <td>0.880905</td>\n",
       "      <td>2.202262</td>\n",
       "    </tr>\n",
       "    <tr>\n",
       "      <th>5</th>\n",
       "      <td>April 1st, 2028</td>\n",
       "      <td>2.5</td>\n",
       "      <td>3.044444</td>\n",
       "      <td>0.858797</td>\n",
       "      <td>2.146994</td>\n",
       "    </tr>\n",
       "    <tr>\n",
       "      <th>6</th>\n",
       "      <td>October 1st, 2028</td>\n",
       "      <td>2.5</td>\n",
       "      <td>3.552778</td>\n",
       "      <td>0.837245</td>\n",
       "      <td>2.093112</td>\n",
       "    </tr>\n",
       "    <tr>\n",
       "      <th>7</th>\n",
       "      <td>April 1st, 2029</td>\n",
       "      <td>2.5</td>\n",
       "      <td>4.058333</td>\n",
       "      <td>0.816346</td>\n",
       "      <td>2.040866</td>\n",
       "    </tr>\n",
       "    <tr>\n",
       "      <th>8</th>\n",
       "      <td>April 1st, 2029</td>\n",
       "      <td>100.0</td>\n",
       "      <td>4.058333</td>\n",
       "      <td>0.816346</td>\n",
       "      <td>81.634627</td>\n",
       "    </tr>\n",
       "  </tbody>\n",
       "</table>\n",
       "</div>"
      ],
      "text/plain": [
       "        CashFlowDate  CashFlowAmount  YearFrac  DiscountFactor        NPV\n",
       "0  October 1st, 2025             2.5  0.508333        0.974904   2.437259\n",
       "1    April 1st, 2026             2.5  1.013889        0.950569   2.376423\n",
       "2  October 1st, 2026             2.5  1.522222        0.926713   2.316783\n",
       "3    April 1st, 2027             2.5  2.027778        0.903582   2.258954\n",
       "4  October 1st, 2027             2.5  2.536111        0.880905   2.202262\n",
       "5    April 1st, 2028             2.5  3.044444        0.858797   2.146994\n",
       "6  October 1st, 2028             2.5  3.552778        0.837245   2.093112\n",
       "7    April 1st, 2029             2.5  4.058333        0.816346   2.040866\n",
       "8    April 1st, 2029           100.0  4.058333        0.816346  81.634627"
      ]
     },
     "metadata": {},
     "output_type": "display_data"
    }
   ],
   "source": [
    "# Validate fixed-rate bond PV\n",
    "used_cf_frame = cf_frame_fixed\n",
    "used_bond_pv = fixed_rate_bond_pv\n",
    "\n",
    "# Validate floating-rate bond PV\n",
    "# used_cf_frame = cf_frame_float\n",
    "# used_bond_pv = floating_rate_bond_pv\n",
    "\n",
    "ref_date = flat_yield_curve.referenceDate()\n",
    "\n",
    "# Calc year fraction to cashflow date\n",
    "used_cf_frame['YearFrac'] = [flat_yield_curve.dayCounter().yearFraction(ref_date, cf_date) for cf_date in used_cf_frame['CashFlowDate']]\n",
    "\n",
    "# Calc risk-free discount factor cashflow date\n",
    "used_cf_frame['DiscountFactor'] = [flat_yield_curve.discount(cf_date) for cf_date in used_cf_frame['CashFlowDate']]\n",
    "\n",
    "# Calc NPV for each cashflow\n",
    "used_cf_frame['NPV'] = used_cf_frame['CashFlowAmount'] * used_cf_frame['DiscountFactor']\n",
    "\n",
    "display(used_cf_frame)"
   ]
  },
  {
   "cell_type": "code",
   "execution_count": 135,
   "metadata": {
    "ExecuteTime": {
     "end_time": "2020-09-08T22:40:10.836542Z",
     "start_time": "2020-09-08T22:40:10.831179Z"
    },
    "execution": {
     "iopub.execute_input": "2023-12-04T18:56:07.951142Z",
     "iopub.status.busy": "2023-12-04T18:56:07.950691Z",
     "iopub.status.idle": "2023-12-04T18:56:08.047649Z",
     "shell.execute_reply": "2023-12-04T18:56:08.047102Z",
     "shell.execute_reply.started": "2023-12-04T18:56:07.951127Z"
    },
    "tags": []
   },
   "outputs": [
    {
     "name": "stdout",
     "output_type": "stream",
     "text": [
      "NPV engine =  99.50727882766412\n",
      "NPV manual =  99.50727882766412\n",
      "NPV diff =  0.0\n"
     ]
    }
   ],
   "source": [
    "# Manual computation of NPV\n",
    "pv_manual = used_cf_frame['NPV'].sum()\n",
    "print('NPV engine = ', used_bond_pv)\n",
    "print('NPV manual = ', pv_manual)\n",
    "print('NPV diff = ', pv_manual - used_bond_pv)"
   ]
  },
  {
   "attachments": {},
   "cell_type": "markdown",
   "metadata": {},
   "source": [
    "## c. Bond Clean vs Dirty Prices (adjusted to settle date)"
   ]
  },
  {
   "cell_type": "code",
   "execution_count": 136,
   "metadata": {
    "execution": {
     "iopub.execute_input": "2023-12-04T18:56:08.048513Z",
     "iopub.status.busy": "2023-12-04T18:56:08.048330Z",
     "iopub.status.idle": "2023-12-04T18:56:08.141915Z",
     "shell.execute_reply": "2023-12-04T18:56:08.141424Z",
     "shell.execute_reply.started": "2023-12-04T18:56:08.048482Z"
    }
   },
   "outputs": [
    {
     "name": "stdout",
     "output_type": "stream",
     "text": [
      "Bond Notional =  100.0\n",
      "Settle Date =  April 2nd, 2025\n",
      "Discount Factor to Settle Date =  0.9999\n",
      "Bond NPV (Calc Date) =  99.5073\n",
      "Bond NPV Adjusted to Settle Date =  99.5211\n",
      "Bond Dirty Price (= adjusted NPV) =  99.5211\n",
      "Bond Clean Price =  99.5074\n",
      "Bond Accrued =  0.0137\n"
     ]
    }
   ],
   "source": [
    "# The bond price is computed by adjusting the NPV to the trade settle date\n",
    "print('Bond Notional = ', fixed_rate_bond.notional())\n",
    "print('Settle Date = ', fixed_rate_bond.settlementDate())\n",
    "print('Discount Factor to Settle Date = ', round(flat_yield_curve_handle.discount(fixed_rate_bond.settlementDate()), 4))\n",
    "print('Bond NPV (Calc Date) = ', round(fixed_rate_bond.NPV(), 4))\n",
    "print('Bond NPV Adjusted to Settle Date = ', round(fixed_rate_bond.NPV() / flat_yield_curve_handle.discount(fixed_rate_bond.settlementDate()), 4))\n",
    "print('Bond Dirty Price (= adjusted NPV) = ', round(fixed_rate_bond.dirtyPrice(), 4))\n",
    "print('Bond Clean Price = ', round(fixed_rate_bond.cleanPrice(), 4))\n",
    "print('Bond Accrued = ', round(fixed_rate_bond.accruedAmount(), 4))\n"
   ]
  },
  {
   "attachments": {},
   "cell_type": "markdown",
   "metadata": {},
   "source": [
    "------------------------------------------------------------------------------------------\n",
    "# 6. Market Data Scenarios\n",
    "## a. Apply +/-1bp parallel shift scenarios in interest rates curve and compute scenario prices"
   ]
  },
  {
   "cell_type": "code",
   "execution_count": null,
   "metadata": {
    "ExecuteTime": {
     "end_time": "2020-09-08T22:40:10.940966Z",
     "start_time": "2020-09-08T22:39:56.714Z"
    },
    "execution": {
     "iopub.execute_input": "2023-12-04T18:56:08.143017Z",
     "iopub.status.busy": "2023-12-04T18:56:08.142527Z",
     "iopub.status.idle": "2023-12-04T18:56:08.234516Z",
     "shell.execute_reply": "2023-12-04T18:56:08.234046Z",
     "shell.execute_reply.started": "2023-12-04T18:56:08.143001Z"
    },
    "tags": []
   },
   "outputs": [
    {
     "name": "stdout",
     "output_type": "stream",
     "text": [
      "Price (base case):  99.5074\n",
      "Price in +1bps scenario:  99.4704\n",
      "Price diff in +1bps scenario:  -0.03706\n",
      "Price for -1bps scenario: 99.5445\n",
      "Price diff in -1bps scenario:  0.037074\n"
     ]
    }
   ],
   "source": [
    "# Start with base case: interest_rate_bump = 0\n",
    "interest_rate_bump = ql.SimpleQuote(0.0)\n",
    "flat_yield_curve_bumped = ql.ZeroSpreadedTermStructure(flat_yield_curve_handle, ql.QuoteHandle(interest_rate_bump))\n",
    "\n",
    "# Create risk-free discounting engine for base + parallel shift scenarios\n",
    "bond_engine_scen = ql.DiscountingBondEngine(ql.YieldTermStructureHandle(flat_yield_curve_bumped))\n",
    "fixed_rate_bond.setPricingEngine(bond_engine_scen)\n",
    "\n",
    "price_base = fixed_rate_bond.cleanPrice()\n",
    "\n",
    "# Original price (zero interest rate bump)\n",
    "print(\"Price (base case): \", round(price_base, 4))\n",
    "\n",
    "# Bump interest rate by +1bps (parallel shift)\n",
    "interest_rate_bump.setValue(0.0001)\n",
    "price_up_1bp = fixed_rate_bond.cleanPrice()\n",
    "print(\"Price in +1bps scenario: \", round(price_up_1bp, 4))\n",
    "print(\"Price diff in +1bps scenario: \", round(price_up_1bp - price_base, 6))\n",
    "\n",
    "# Bump interest rate by -1bps (parallel shift)\n",
    "interest_rate_bump.setValue(-0.0001)\n",
    "price_down_1bp = fixed_rate_bond.cleanPrice()\n",
    "print(\"Price for -1bps scenario:\", round(price_down_1bp, 4))\n",
    "print(\"Price diff in -1bps scenario: \", round(price_down_1bp - price_base, 6))\n",
    "\n",
    " # Reset interest rate bump\n",
    "interest_rate_bump.setValue(0)\n",
    "\n"
   ]
  },
  {
   "attachments": {},
   "cell_type": "markdown",
   "metadata": {},
   "source": [
    " ## b. Compute scenario DV01, duration and convexity"
   ]
  },
  {
   "cell_type": "code",
   "execution_count": 153,
   "metadata": {
    "execution": {
     "iopub.execute_input": "2023-12-04T18:56:08.235262Z",
     "iopub.status.busy": "2023-12-04T18:56:08.235113Z",
     "iopub.status.idle": "2023-12-04T18:56:08.321968Z",
     "shell.execute_reply": "2023-12-04T18:56:08.321520Z",
     "shell.execute_reply.started": "2023-12-04T18:56:08.235249Z"
    }
   },
   "outputs": [
    {
     "name": "stdout",
     "output_type": "stream",
     "text": [
      "DV01:  3.7074\n",
      "Duration:  3.7252\n",
      "Convexity:  14.615\n"
     ]
    }
   ],
   "source": [
    "# Compute dirty price in base senario\n",
    "dirty_price_base = fixed_rate_bond.dirtyPrice()\n",
    "\n",
    "# Compute scenario delta/gamma sensitivities\n",
    "dv01 = round((price_down_1bp - price_base) * 1e4 / 100, 4)\n",
    "duration = round(dv01 / dirty_price_base * 100, 4)\n",
    "gamma_1bp = (price_down_1bp - 2*price_base + price_up_1bp) * 1e8 / 100\n",
    "convexity = round(gamma_1bp / dirty_price_base * 100, 4)\n",
    "\n",
    "print(\"DV01: \", dv01)\n",
    "print(\"Duration: \", duration)\n",
    "print(\"Convexity: \", convexity)\n"
   ]
  },
  {
   "attachments": {},
   "cell_type": "markdown",
   "metadata": {},
   "source": [
    "## c. Yield to Price conversions\n"
   ]
  },
  {
   "cell_type": "code",
   "execution_count": 191,
   "metadata": {
    "execution": {
     "iopub.execute_input": "2023-12-04T18:56:08.324457Z",
     "iopub.status.busy": "2023-12-04T18:56:08.323967Z",
     "iopub.status.idle": "2023-12-04T18:56:08.406572Z",
     "shell.execute_reply": "2023-12-04T18:56:08.406103Z",
     "shell.execute_reply.started": "2023-12-04T18:56:08.324440Z"
    }
   },
   "outputs": [
    {
     "name": "stdout",
     "output_type": "stream",
     "text": [
      "Bond PV for 4.0 pct yield: 103.2879\n",
      "Bond PV for 5.0 pct yield: 99.5074\n",
      "Bond PV for 6.0 pct yield: 95.8725\n"
     ]
    }
   ],
   "source": [
    "# Change interest rate yield to 4% and recompute bond PV\n",
    "flat_rate.setValue(0.04)\n",
    "print('Bond PV for', flat_rate.value()*100, 'pct yield:', round(fixed_rate_bond.cleanPrice(), 4))\n",
    "\n",
    "# Use original interest rate yield of 5%\n",
    "flat_rate.setValue(0.05)\n",
    "print('Bond PV for', flat_rate.value()*100, 'pct yield:', round(fixed_rate_bond.cleanPrice(), 4))\n",
    "\n",
    "\n",
    "# Change interest rate yield to 6% and recompute bond PV\n",
    "flat_rate.setValue(0.06)\n",
    "print('Bond PV for', flat_rate.value()*100, 'pct yield:', round(fixed_rate_bond.cleanPrice(), 4))\n",
    "\n",
    "# Set interest rate yield back to 5%\n",
    "flat_rate.setValue(0.05)"
   ]
  },
  {
   "attachments": {},
   "cell_type": "markdown",
   "metadata": {},
   "source": [
    "## d. Price to Yield conversions\n"
   ]
  },
  {
   "cell_type": "code",
   "execution_count": 177,
   "metadata": {
    "execution": {
     "iopub.execute_input": "2023-12-04T18:56:08.407567Z",
     "iopub.status.busy": "2023-12-04T18:56:08.407168Z",
     "iopub.status.idle": "2023-12-04T18:56:08.485633Z",
     "shell.execute_reply": "2023-12-04T18:56:08.485193Z",
     "shell.execute_reply.started": "2023-12-04T18:56:08.407552Z"
    }
   },
   "outputs": [
    {
     "name": "stdout",
     "output_type": "stream",
     "text": [
      "implied_yield (for 95.0 bond_market_price) = 6.4386\n",
      "implied_yield2 (for 95.0 bond_market_price) = 6.4386\n"
     ]
    }
   ],
   "source": [
    "# convert bond clean price to yield\n",
    "bond_market_price = 95.00   # Clean market price\n",
    "\n",
    "# Use compounded flat yield\n",
    "compounding = ql.Compounded\n",
    "\n",
    "# Compute implied bond yield directly from bond_market_price\n",
    "implied_yield = fixed_rate_bond.bondYield(bond_market_price, fixed_rate_bond.dayCounter(), compounding, coupon_freq) * 100\n",
    "\n",
    "# Compute implied bond yield using static BondFunctions class\n",
    "implied_yield2 = ql.BondFunctions.bondYield(fixed_rate_bond, bond_market_price, fixed_rate_bond.dayCounter(), compounding, coupon_freq) * 100\n",
    "\n",
    "print('implied_yield (for', bond_market_price, 'bond_market_price) =', round(implied_yield, 4))\n",
    "print('implied_yield2 (for', bond_market_price, 'bond_market_price) =', round(implied_yield2, 4))\n"
   ]
  },
  {
   "attachments": {},
   "cell_type": "markdown",
   "metadata": {},
   "source": [
    "------------------------------------------------------------------------------------------\n",
    "# 7. Analytical Duration, Convexity and Z-Spread (flat yield model)\n",
    "## a. Compute bond duration, convexity and Z-Spread"
   ]
  },
  {
   "cell_type": "code",
   "execution_count": 196,
   "metadata": {
    "execution": {
     "iopub.execute_input": "2023-12-04T18:56:08.486727Z",
     "iopub.status.busy": "2023-12-04T18:56:08.486279Z",
     "iopub.status.idle": "2023-12-04T18:56:08.570671Z",
     "shell.execute_reply": "2023-12-04T18:56:08.570170Z",
     "shell.execute_reply.started": "2023-12-04T18:56:08.486711Z"
    }
   },
   "outputs": [
    {
     "name": "stdout",
     "output_type": "stream",
     "text": [
      "Bond Duration = 3.5703\n",
      "Bond Convexity = 15.1728\n",
      "Bond Z-Spread bps (for market price) = 0.0\n",
      "Bond Z-Spread bps (for test price) = 14.0789\n"
     ]
    }
   ],
   "source": [
    "# flat_bond_yield (used as an input to compute duration and convexity)\n",
    "flat_bond_yield = 5.5 * 1e-2 # in pct\n",
    "flat_bond_yield_rate = ql.InterestRate(flat_bond_yield, day_count, compounding, coupon_freq)\n",
    "\n",
    "# Calc Duration and Convexity\n",
    "bond_duration = ql.BondFunctions.duration(fixed_rate_bond, flat_bond_yield_rate)\n",
    "bond_convexity = ql.BondFunctions.convexity(fixed_rate_bond, flat_bond_yield_rate)\n",
    "\n",
    "# Calc z-spread for a given market and test prices\n",
    "bond_market_price = 99.507439       # Clean market price, implies zero Z-Spread!\n",
    "bond_test_price = 99                # Test market price, implies Z-Spread > 0\n",
    "\n",
    "bond_zspread_market_price = ql.BondFunctions.zSpread(fixed_rate_bond, bond_market_price, flat_yield_curve, day_count, compounding, coupon_freq)\n",
    "bond_zspread_test_price = ql.BondFunctions.zSpread(fixed_rate_bond, bond_test_price, flat_yield_curve, day_count, compounding, coupon_freq)\n",
    "\n",
    "# Print results\n",
    "print('Bond Duration =', round(bond_duration, 4))\n",
    "print('Bond Convexity =', round(bond_convexity, 4))\n",
    "print('Bond Z-Spread bps (for market price) =', round(bond_zspread_market_price * 10000, 4))\n",
    "print('Bond Z-Spread bps (for test price) =', round(bond_zspread_test_price * 10000, 4))\n"
   ]
  },
  {
   "attachments": {},
   "cell_type": "markdown",
   "metadata": {},
   "source": [
    "## b. Validate Z-Spread"
   ]
  },
  {
   "cell_type": "code",
   "execution_count": 197,
   "metadata": {
    "execution": {
     "iopub.execute_input": "2023-12-04T18:56:08.571652Z",
     "iopub.status.busy": "2023-12-04T18:56:08.571265Z",
     "iopub.status.idle": "2023-12-04T18:56:08.647449Z",
     "shell.execute_reply": "2023-12-04T18:56:08.646935Z",
     "shell.execute_reply.started": "2023-12-04T18:56:08.571636Z"
    }
   },
   "outputs": [],
   "source": [
    "def calc_clean_price_with_zspread(fixed_rate_bond, yield_curve_handle, zspread):\n",
    "    zspread_quote = ql.SimpleQuote(zspread)\n",
    "    zspread_quote_handle = ql.QuoteHandle(zspread_quote)\n",
    "    yield_curve_bumped = ql.ZeroSpreadedTermStructure(yield_curve_handle, zspread_quote_handle, ql.Compounded, ql.Semiannual)\n",
    "    yield_curve_bumped_handle = ql.YieldTermStructureHandle(yield_curve_bumped)\n",
    "    \n",
    "    # Set Valuation engine\n",
    "    bond_engine = ql.DiscountingBondEngine(yield_curve_bumped_handle)\n",
    "    fixed_rate_bond.setPricingEngine(bond_engine)\n",
    "    bond_clean_price = fixed_rate_bond.cleanPrice()\n",
    "    return bond_clean_price\n"
   ]
  },
  {
   "cell_type": "code",
   "execution_count": 206,
   "metadata": {
    "execution": {
     "iopub.execute_input": "2023-12-04T18:56:08.648310Z",
     "iopub.status.busy": "2023-12-04T18:56:08.648120Z",
     "iopub.status.idle": "2023-12-04T18:56:08.723620Z",
     "shell.execute_reply": "2023-12-04T18:56:08.723137Z",
     "shell.execute_reply.started": "2023-12-04T18:56:08.648296Z"
    }
   },
   "outputs": [
    {
     "name": "stdout",
     "output_type": "stream",
     "text": [
      "Bond Z-Spread bps = 14.08\n",
      "bond_market_price = 99\n",
      "bond_zspread_price = 99.00000000000108\n",
      "bond price diff = 1.0800249583553523e-12\n"
     ]
    }
   ],
   "source": [
    "# Compare the original and the z-spread computed prices\n",
    "bond_zspread_price = calc_clean_price_with_zspread(fixed_rate_bond, flat_yield_curve_handle, bond_zspread_test_price)\n",
    "\n",
    "print('Bond Z-Spread bps =', round(bond_zspread_test_price * 10000, 2))\n",
    "print('bond_market_price =', bond_test_price)\n",
    "print('bond_zspread_price =', bond_zspread_price)\n",
    "print('bond price diff =', bond_zspread_price - bond_test_price)"
   ]
  },
  {
   "attachments": {},
   "cell_type": "markdown",
   "metadata": {},
   "source": [
    "------------------------------------------------------------------------------------------\n",
    "# 8. Treasury Yield Curve Calibration (via Bootstrapping)\n",
    "## a. Calibrate treasury flat yield curve (simple case of one calibration instrument)"
   ]
  },
  {
   "cell_type": "code",
   "execution_count": 209,
   "metadata": {
    "execution": {
     "iopub.execute_input": "2023-12-04T18:56:08.724480Z",
     "iopub.status.busy": "2023-12-04T18:56:08.724215Z",
     "iopub.status.idle": "2023-12-04T18:56:08.805095Z",
     "shell.execute_reply": "2023-12-04T18:56:08.804705Z",
     "shell.execute_reply.started": "2023-12-04T18:56:08.724465Z"
    }
   },
   "outputs": [],
   "source": [
    "# fixed_rate_bond: 5% coupon and 2029-04-01 maturity\n",
    "\n",
    "# clean price quote\n",
    "tsy_clean_price_quote = 96.0\n",
    "tsy_clean_price_handle = ql.QuoteHandle(ql.SimpleQuote(tsy_clean_price_quote))\n",
    "\n",
    "\n",
    "# Create BondHelper object\n",
    "bond_helper = ql.BondHelper(\n",
    "    tsy_clean_price_handle,\n",
    "    fixed_rate_bond)\n",
    "\n",
    "bond_helper_list = [bond_helper]\n",
    "        \n",
    "tsy_flat_yield_curve = ql.PiecewiseLogCubicDiscount(calc_date, bond_helper_list, day_count)\n",
    "tsy_flat_yield_curve.enableExtrapolation()\n",
    "\n",
    "tsy_yield_curve_handle = ql.YieldTermStructureHandle(tsy_flat_yield_curve)\n"
   ]
  },
  {
   "attachments": {},
   "cell_type": "markdown",
   "metadata": {},
   "source": [
    "## b. Display the calibrated Treasury discount curve dataframe"
   ]
  },
  {
   "cell_type": "code",
   "execution_count": 210,
   "metadata": {
    "execution": {
     "iopub.execute_input": "2023-12-04T18:56:08.805881Z",
     "iopub.status.busy": "2023-12-04T18:56:08.805653Z",
     "iopub.status.idle": "2023-12-04T18:56:08.885309Z",
     "shell.execute_reply": "2023-12-04T18:56:08.884851Z",
     "shell.execute_reply.started": "2023-12-04T18:56:08.805868Z"
    }
   },
   "outputs": [],
   "source": [
    "def get_yield_curve_details_df(yield_curve, curve_dates=None):\n",
    "    \n",
    "    if(curve_dates == None):\n",
    "        curve_dates = yield_curve.dates()\n",
    "\n",
    "    dates = [d.to_date() for d in curve_dates]\n",
    "    discounts = [round(yield_curve.discount(d), 3) for d in curve_dates]\n",
    "    yearfracs = [round(yield_curve.timeFromReference(d), 3) for d in curve_dates]\n",
    "    zeroRates = [round(yield_curve.zeroRate(d, yield_curve.dayCounter(), ql.Compounded).rate() * 100, 3) for d in curve_dates]\n",
    "\n",
    "    yield_curve_details_df = pd.DataFrame(data={'Date': dates,\n",
    "                             'YearFrac': yearfracs,\n",
    "                             'DiscountFactor': discounts,\n",
    "                             'ZeroRate': zeroRates})                             \n",
    "    return yield_curve_details_df"
   ]
  },
  {
   "cell_type": "code",
   "execution_count": 212,
   "metadata": {
    "execution": {
     "iopub.execute_input": "2023-12-04T18:56:08.886119Z",
     "iopub.status.busy": "2023-12-04T18:56:08.885880Z",
     "iopub.status.idle": "2023-12-04T18:56:08.968778Z",
     "shell.execute_reply": "2023-12-04T18:56:08.968359Z",
     "shell.execute_reply.started": "2023-12-04T18:56:08.886105Z"
    }
   },
   "outputs": [
    {
     "name": "stdout",
     "output_type": "stream",
     "text": [
      "         Date  YearFrac  DiscountFactor  ZeroRate\n",
      "0  2025-04-01       0.0           1.000     6.238\n",
      "1  2029-04-01       4.0           0.785     6.238\n",
      "          Date  YearFrac  DiscountFactor  ZeroRate\n",
      "0   2025-04-01       0.0           1.000     6.238\n",
      "1   2027-04-01       2.0           0.886     6.238\n",
      "2   2029-04-01       4.0           0.785     6.238\n",
      "3   2031-04-01       6.0           0.696     6.238\n",
      "4   2033-04-01       8.0           0.616     6.238\n",
      "5   2035-04-01      10.0           0.546     6.238\n",
      "6   2037-04-01      12.0           0.484     6.238\n",
      "7   2039-04-01      14.0           0.429     6.238\n",
      "8   2041-04-01      16.0           0.380     6.238\n",
      "9   2043-04-01      18.0           0.336     6.238\n",
      "10  2045-04-01      20.0           0.298     6.238\n",
      "11  2047-04-01      22.0           0.264     6.238\n",
      "12  2049-04-01      24.0           0.234     6.238\n",
      "13  2051-04-01      26.0           0.207     6.238\n",
      "14  2053-04-01      28.0           0.184     6.238\n"
     ]
    }
   ],
   "source": [
    "# Display Treasury yield curve details\n",
    "tsy_flat_yield_curve_simple_df = get_yield_curve_details_df(tsy_flat_yield_curve)                   # using calibration grid\n",
    "print(tsy_flat_yield_curve_simple_df)\n",
    "\n",
    "grid_dates = [tsy_flat_yield_curve.referenceDate() + ql.Period(y, ql.Years) for y in list(range(0,30,2))]\n",
    "tsy_flat_yield_curve_details_df = get_yield_curve_details_df(tsy_flat_yield_curve, grid_dates)      # using external/custom grid\n",
    "print(tsy_flat_yield_curve_details_df)\n"
   ]
  },
  {
   "attachments": {},
   "cell_type": "markdown",
   "metadata": {},
   "source": [
    "## c. Plot the calibrated Treasury Zero Rates and Discount Factors curves"
   ]
  },
  {
   "cell_type": "code",
   "execution_count": 147,
   "metadata": {
    "execution": {
     "iopub.execute_input": "2023-12-04T18:56:08.969561Z",
     "iopub.status.busy": "2023-12-04T18:56:08.969324Z",
     "iopub.status.idle": "2023-12-04T18:56:09.415331Z",
     "shell.execute_reply": "2023-12-04T18:56:09.414847Z",
     "shell.execute_reply.started": "2023-12-04T18:56:08.969547Z"
    }
   },
   "outputs": [
    {
     "data": {
      "text/plain": [
       "Text(0.5, 0, 'Date')"
      ]
     },
     "execution_count": 147,
     "metadata": {},
     "output_type": "execute_result"
    },
    {
     "data": {
      "image/png": "[encoded data removed]",
      "text/plain": [
       "<Figure size 1200x400 with 1 Axes>"
      ]
     },
     "metadata": {},
     "output_type": "display_data"
    },
    {
     "data": {
      "image/png": "[encoded data removed]",
      "text/plain": [
       "<Figure size 1200x400 with 1 Axes>"
      ]
     },
     "metadata": {},
     "output_type": "display_data"
    }
   ],
   "source": [
    "plt = tsy_flat_yield_curve_details_df.plot(x='Date', y='ZeroRate', grid=True, style='*-', title='Treasury Flat Curve: Zero Rates', figsize=(12,4))\n",
    "plt.set_ylabel('Zero Rate (%)')\n",
    "plt.set_xlabel('Date')\n",
    "\n",
    "plt = tsy_flat_yield_curve_details_df.plot(x='Date', y='DiscountFactor', grid=True, style='*-', title='Treasury Flat Curve: Discount Factors', figsize=(12,4))\n",
    "plt.set_ylabel('Discount Factors')\n",
    "plt.set_xlabel('Date')"
   ]
  },
  {
   "cell_type": "markdown",
   "metadata": {},
   "source": [
    "## d. Reprice the bond on the yield curve to validate the calibration \n",
    "\n"
   ]
  },
  {
   "cell_type": "code",
   "execution_count": 213,
   "metadata": {
    "execution": {
     "iopub.execute_input": "2023-12-04T18:56:09.416413Z",
     "iopub.status.busy": "2023-12-04T18:56:09.415990Z",
     "iopub.status.idle": "2023-12-04T18:56:09.419735Z",
     "shell.execute_reply": "2023-12-04T18:56:09.419279Z",
     "shell.execute_reply.started": "2023-12-04T18:56:09.416396Z"
    }
   },
   "outputs": [
    {
     "name": "stdout",
     "output_type": "stream",
     "text": [
      "tsy_clean_price_quote: 96.0\n",
      "risk_free_bond_price: 96.00000000000001\n",
      "price_calibration_error: 1.4210854715202004e-14\n",
      "risk_free_bond_yield: 6.143740415573119\n"
     ]
    }
   ],
   "source": [
    "# 1. Price risk-free bond\n",
    "risk_free_bond_engine = ql.DiscountingBondEngine(tsy_yield_curve_handle)\n",
    "\n",
    "fixed_rate_bond.setPricingEngine(risk_free_bond_engine)\n",
    "risk_free_bond_price = fixed_rate_bond.cleanPrice()\n",
    "risk_free_bond_yield = fixed_rate_bond.bondYield(risk_free_bond_price, fixed_rate_bond.dayCounter(), compounding, coupon_freq) * 100\n",
    "\n",
    "print('tsy_clean_price_quote:', tsy_clean_price_quote)\n",
    "print('risk_free_bond_price:', risk_free_bond_price)\n",
    "print('price_calibration_error:', risk_free_bond_price-tsy_clean_price_quote)\n",
    "print('risk_free_bond_yield:', risk_free_bond_yield)\n"
   ]
  }
 ],
 "metadata": {
  "jupytext": {
   "formats": "ipynb,py:light"
  },
  "kernelspec": {
   "display_name": "Python 3",
   "language": "python",
   "name": "python3"
  },
  "language_info": {
   "codemirror_mode": {
    "name": "ipython",
    "version": 3
   },
   "file_extension": ".py",
   "mimetype": "text/x-python",
   "name": "python",
   "nbconvert_exporter": "python",
   "pygments_lexer": "ipython3",
   "version": "3.13.2"
  },
  "toc": {
   "base_numbering": 1,
   "nav_menu": {},
   "number_sections": true,
   "sideBar": true,
   "skip_h1_title": false,
   "title_cell": "Table of Contents",
   "title_sidebar": "Contents",
   "toc_cell": false,
   "toc_position": {},
   "toc_section_display": true,
   "toc_window_display": true
  }
 },
 "nbformat": 4,
 "nbformat_minor": 4
}
