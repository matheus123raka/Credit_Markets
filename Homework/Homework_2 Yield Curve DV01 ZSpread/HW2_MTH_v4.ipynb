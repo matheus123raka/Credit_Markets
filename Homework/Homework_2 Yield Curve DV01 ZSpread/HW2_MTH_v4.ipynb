{
 "cells": [
  {
   "attachments": {},
   "cell_type": "markdown",
   "id": "3e013a68",
   "metadata": {},
   "source": [
    "# Homework 2\n",
    "\n",
    "## FINM 35700 - Spring 2025\n",
    "\n",
    "### UChicago Financial Mathematics\n",
    "\n",
    "### Due Date: 2025-04-08\n",
    "\n",
    "* Matheus Raka Pradnyatama\n",
    "* matheusraka@uchicago.edu"
   ]
  },
  {
   "attachments": {},
   "cell_type": "markdown",
   "id": "97d4c3b4",
   "metadata": {},
   "source": [
    "This homework relies on:\n",
    "\n",
    "- the corporate and government bonds symbology file `bond_symbology`, \n",
    "- the \"on-the-run\" treasuries data file `govt_on_the_run`,\n",
    "- the bond market data file `bond_market_prices_eod`, containing EOD price data as of 2024-12-13."
   ]
  },
  {
   "attachments": {},
   "cell_type": "markdown",
   "id": "27e68a4e",
   "metadata": {},
   "source": [
    "------------------------------------------------------------------------------------------\n",
    "# Problem 1: Constructing fixed rate bonds"
   ]
  },
  {
   "cell_type": "code",
   "execution_count": 1,
   "id": "5079f70e",
   "metadata": {},
   "outputs": [],
   "source": [
    "import pandas as pd\n",
    "import numpy as np\n",
    "import datetime\n",
    "import holidays\n",
    "import seaborn as sns\n",
    "import matplotlib.pyplot as plt\n",
    "import matplotlib.dates as mdates\n",
    "import plotly.express as px\n",
    "import QuantLib as ql\n",
    "import datetime as dt\n",
    "# The code is made with the help of OpenAI's ChatGPT.\n",
    "\n",
    "# Use static calculation/valuation date of 2024-12-13, matching data available in the market prices EOD file\n",
    "calc_date = ql.Date(13, 12, 2024)\n",
    "ql.Settings.instance().evaluationDate = calc_date"
   ]
  },
  {
   "attachments": {},
   "cell_type": "markdown",
   "id": "e07bfd7c",
   "metadata": {},
   "source": [
    "## a. Prepare the symbology and market data files for fixed rate government and corporate bonds\n",
    "\n",
    "Load the `bond_symbology`, `bond_market_prices_eod` and `govt_on_the_run` Excel files into dataframes. Filter the symbology frame for fixed rate bonds only (cpn_type=\"FIXED\").\n"
   ]
  },
  {
   "cell_type": "code",
   "execution_count": 2,
   "id": "f4e7d893",
   "metadata": {},
   "outputs": [
    {
     "data": {
      "text/html": [
       "<div>\n",
       "<style scoped>\n",
       "    .dataframe tbody tr th:only-of-type {\n",
       "        vertical-align: middle;\n",
       "    }\n",
       "\n",
       "    .dataframe tbody tr th {\n",
       "        vertical-align: top;\n",
       "    }\n",
       "\n",
       "    .dataframe thead th {\n",
       "        text-align: right;\n",
       "    }\n",
       "</style>\n",
       "<table border=\"1\" class=\"dataframe\">\n",
       "  <thead>\n",
       "    <tr style=\"text-align: right;\">\n",
       "      <th></th>\n",
       "      <th>ticker</th>\n",
       "      <th>class</th>\n",
       "      <th>figi</th>\n",
       "      <th>isin</th>\n",
       "      <th>und_bench_isin</th>\n",
       "      <th>security</th>\n",
       "      <th>name</th>\n",
       "      <th>type</th>\n",
       "      <th>coupon</th>\n",
       "      <th>cpn_type</th>\n",
       "      <th>...</th>\n",
       "      <th>start_date</th>\n",
       "      <th>cpn_first</th>\n",
       "      <th>acc_first</th>\n",
       "      <th>maturity</th>\n",
       "      <th>mty_typ</th>\n",
       "      <th>rank</th>\n",
       "      <th>amt_out</th>\n",
       "      <th>country</th>\n",
       "      <th>currency</th>\n",
       "      <th>status</th>\n",
       "    </tr>\n",
       "  </thead>\n",
       "  <tbody>\n",
       "    <tr>\n",
       "      <th>0</th>\n",
       "      <td>AAPL</td>\n",
       "      <td>Corp</td>\n",
       "      <td>BBG004HST0K7</td>\n",
       "      <td>US037833AL42</td>\n",
       "      <td>US912810UF39</td>\n",
       "      <td>AAPL 3.85 05/04/43</td>\n",
       "      <td>APPLE INC</td>\n",
       "      <td>GLOBAL</td>\n",
       "      <td>3.85</td>\n",
       "      <td>FIXED</td>\n",
       "      <td>...</td>\n",
       "      <td>2013-05-03</td>\n",
       "      <td>2013-11-04</td>\n",
       "      <td>2013-05-03</td>\n",
       "      <td>2043-05-04</td>\n",
       "      <td>AT MATURITY</td>\n",
       "      <td>Sr Unsecured</td>\n",
       "      <td>3000.0</td>\n",
       "      <td>US</td>\n",
       "      <td>USD</td>\n",
       "      <td>ACTV</td>\n",
       "    </tr>\n",
       "    <tr>\n",
       "      <th>1</th>\n",
       "      <td>AAPL</td>\n",
       "      <td>Corp</td>\n",
       "      <td>BBG006F8VWJ7</td>\n",
       "      <td>US037833AT77</td>\n",
       "      <td>US912810UF39</td>\n",
       "      <td>AAPL 4.45 05/06/44</td>\n",
       "      <td>APPLE INC</td>\n",
       "      <td>GLOBAL</td>\n",
       "      <td>4.45</td>\n",
       "      <td>FIXED</td>\n",
       "      <td>...</td>\n",
       "      <td>2014-05-06</td>\n",
       "      <td>2014-11-06</td>\n",
       "      <td>2014-05-06</td>\n",
       "      <td>2044-05-06</td>\n",
       "      <td>AT MATURITY</td>\n",
       "      <td>Sr Unsecured</td>\n",
       "      <td>1000.0</td>\n",
       "      <td>US</td>\n",
       "      <td>USD</td>\n",
       "      <td>ACTV</td>\n",
       "    </tr>\n",
       "    <tr>\n",
       "      <th>2</th>\n",
       "      <td>AAPL</td>\n",
       "      <td>Corp</td>\n",
       "      <td>BBG0081TNL50</td>\n",
       "      <td>US037833BA77</td>\n",
       "      <td>US912810UF39</td>\n",
       "      <td>AAPL 3.45 02/09/45</td>\n",
       "      <td>APPLE INC</td>\n",
       "      <td>GLOBAL</td>\n",
       "      <td>3.45</td>\n",
       "      <td>FIXED</td>\n",
       "      <td>...</td>\n",
       "      <td>2015-02-09</td>\n",
       "      <td>2015-08-09</td>\n",
       "      <td>2015-02-09</td>\n",
       "      <td>2045-02-09</td>\n",
       "      <td>AT MATURITY</td>\n",
       "      <td>Sr Unsecured</td>\n",
       "      <td>2000.0</td>\n",
       "      <td>US</td>\n",
       "      <td>USD</td>\n",
       "      <td>ACTV</td>\n",
       "    </tr>\n",
       "  </tbody>\n",
       "</table>\n",
       "<p>3 rows × 23 columns</p>\n",
       "</div>"
      ],
      "text/plain": [
       "  ticker class          figi          isin und_bench_isin            security  \\\n",
       "0   AAPL  Corp  BBG004HST0K7  US037833AL42   US912810UF39  AAPL 3.85 05/04/43   \n",
       "1   AAPL  Corp  BBG006F8VWJ7  US037833AT77   US912810UF39  AAPL 4.45 05/06/44   \n",
       "2   AAPL  Corp  BBG0081TNL50  US037833BA77   US912810UF39  AAPL 3.45 02/09/45   \n",
       "\n",
       "        name    type  coupon cpn_type  ... start_date  cpn_first  acc_first  \\\n",
       "0  APPLE INC  GLOBAL    3.85    FIXED  ... 2013-05-03 2013-11-04 2013-05-03   \n",
       "1  APPLE INC  GLOBAL    4.45    FIXED  ... 2014-05-06 2014-11-06 2014-05-06   \n",
       "2  APPLE INC  GLOBAL    3.45    FIXED  ... 2015-02-09 2015-08-09 2015-02-09   \n",
       "\n",
       "    maturity      mty_typ          rank amt_out country currency  status  \n",
       "0 2043-05-04  AT MATURITY  Sr Unsecured  3000.0      US      USD    ACTV  \n",
       "1 2044-05-06  AT MATURITY  Sr Unsecured  1000.0      US      USD    ACTV  \n",
       "2 2045-02-09  AT MATURITY  Sr Unsecured  2000.0      US      USD    ACTV  \n",
       "\n",
       "[3 rows x 23 columns]"
      ]
     },
     "metadata": {},
     "output_type": "display_data"
    },
    {
     "data": {
      "text/html": [
       "<div>\n",
       "<style scoped>\n",
       "    .dataframe tbody tr th:only-of-type {\n",
       "        vertical-align: middle;\n",
       "    }\n",
       "\n",
       "    .dataframe tbody tr th {\n",
       "        vertical-align: top;\n",
       "    }\n",
       "\n",
       "    .dataframe thead th {\n",
       "        text-align: right;\n",
       "    }\n",
       "</style>\n",
       "<table border=\"1\" class=\"dataframe\">\n",
       "  <thead>\n",
       "    <tr style=\"text-align: right;\">\n",
       "      <th></th>\n",
       "      <th>ticker</th>\n",
       "      <th>date</th>\n",
       "      <th>figi</th>\n",
       "      <th>isin</th>\n",
       "    </tr>\n",
       "  </thead>\n",
       "  <tbody>\n",
       "    <tr>\n",
       "      <th>0</th>\n",
       "      <td>GT10 Govt</td>\n",
       "      <td>2024-12-13</td>\n",
       "      <td>BBG01QKHSMP5</td>\n",
       "      <td>US91282CLW90</td>\n",
       "    </tr>\n",
       "    <tr>\n",
       "      <th>3</th>\n",
       "      <td>GT2 Govt</td>\n",
       "      <td>2024-12-13</td>\n",
       "      <td>BBG01QZFYJV6</td>\n",
       "      <td>US91282CLY56</td>\n",
       "    </tr>\n",
       "    <tr>\n",
       "      <th>4</th>\n",
       "      <td>GT20 Govt</td>\n",
       "      <td>2024-12-13</td>\n",
       "      <td>BBG01QVTC1Y0</td>\n",
       "      <td>US912810UF39</td>\n",
       "    </tr>\n",
       "  </tbody>\n",
       "</table>\n",
       "</div>"
      ],
      "text/plain": [
       "      ticker       date          figi          isin\n",
       "0  GT10 Govt 2024-12-13  BBG01QKHSMP5  US91282CLW90\n",
       "3   GT2 Govt 2024-12-13  BBG01QZFYJV6  US91282CLY56\n",
       "4  GT20 Govt 2024-12-13  BBG01QVTC1Y0  US912810UF39"
      ]
     },
     "metadata": {},
     "output_type": "display_data"
    },
    {
     "data": {
      "text/html": [
       "<div>\n",
       "<style scoped>\n",
       "    .dataframe tbody tr th:only-of-type {\n",
       "        vertical-align: middle;\n",
       "    }\n",
       "\n",
       "    .dataframe tbody tr th {\n",
       "        vertical-align: top;\n",
       "    }\n",
       "\n",
       "    .dataframe thead th {\n",
       "        text-align: right;\n",
       "    }\n",
       "</style>\n",
       "<table border=\"1\" class=\"dataframe\">\n",
       "  <thead>\n",
       "    <tr style=\"text-align: right;\">\n",
       "      <th></th>\n",
       "      <th>date</th>\n",
       "      <th>class</th>\n",
       "      <th>ticker</th>\n",
       "      <th>isin</th>\n",
       "      <th>figi</th>\n",
       "      <th>bidPrice</th>\n",
       "      <th>askPrice</th>\n",
       "      <th>accrued</th>\n",
       "      <th>bidYield</th>\n",
       "      <th>askYield</th>\n",
       "    </tr>\n",
       "  </thead>\n",
       "  <tbody>\n",
       "    <tr>\n",
       "      <th>0</th>\n",
       "      <td>2024-12-13</td>\n",
       "      <td>Corp</td>\n",
       "      <td>AAPL</td>\n",
       "      <td>US037833BX70</td>\n",
       "      <td>BBG00C7QBG91</td>\n",
       "      <td>93.228</td>\n",
       "      <td>93.809</td>\n",
       "      <td>1.4595</td>\n",
       "      <td>5.180</td>\n",
       "      <td>5.132</td>\n",
       "    </tr>\n",
       "    <tr>\n",
       "      <th>1</th>\n",
       "      <td>2024-12-13</td>\n",
       "      <td>Corp</td>\n",
       "      <td>AAPL</td>\n",
       "      <td>US037833EK23</td>\n",
       "      <td>BBG011ZS1X57</td>\n",
       "      <td>63.723</td>\n",
       "      <td>64.232</td>\n",
       "      <td>0.9835</td>\n",
       "      <td>5.242</td>\n",
       "      <td>5.194</td>\n",
       "    </tr>\n",
       "    <tr>\n",
       "      <th>2</th>\n",
       "      <td>2024-12-13</td>\n",
       "      <td>Corp</td>\n",
       "      <td>AAPL</td>\n",
       "      <td>US037833DW79</td>\n",
       "      <td>BBG00TN2PN26</td>\n",
       "      <td>63.716</td>\n",
       "      <td>64.215</td>\n",
       "      <td>0.2585</td>\n",
       "      <td>5.253</td>\n",
       "      <td>5.205</td>\n",
       "    </tr>\n",
       "  </tbody>\n",
       "</table>\n",
       "</div>"
      ],
      "text/plain": [
       "        date class ticker          isin          figi  bidPrice  askPrice  \\\n",
       "0 2024-12-13  Corp   AAPL  US037833BX70  BBG00C7QBG91    93.228    93.809   \n",
       "1 2024-12-13  Corp   AAPL  US037833EK23  BBG011ZS1X57    63.723    64.232   \n",
       "2 2024-12-13  Corp   AAPL  US037833DW79  BBG00TN2PN26    63.716    64.215   \n",
       "\n",
       "   accrued  bidYield  askYield  \n",
       "0   1.4595     5.180     5.132  \n",
       "1   0.9835     5.242     5.194  \n",
       "2   0.2585     5.253     5.205  "
      ]
     },
     "metadata": {},
     "output_type": "display_data"
    }
   ],
   "source": [
    "# Bond Symbology Dataframe = Containing both corporate and US Government Bonds\n",
    "\n",
    "filepath_rawdata = f'./data/bond_symbology.xlsx'\n",
    "symbology = pd.read_excel(filepath_rawdata)\n",
    " \n",
    "symbology_fixed = symbology[(symbology['cpn_type'] == 'FIXED')]\n",
    "display(symbology_fixed.head(3))\n",
    "\n",
    "filepath_rawdata = f'./data/govt_on_the_run.xlsx'\n",
    "df_govt = pd.read_excel(filepath_rawdata)\n",
    "# r'[BC] Govt$' matches string that ends with B Govt or C Govt\n",
    "# ~ negates the filter, showing rows that DO NOT match the filter (those that don't have BC)\n",
    "df_ontherun = df_govt[~df_govt['ticker'].str.contains(r'[BC] Govt$', regex=True)]\n",
    "display(df_ontherun.head(3))\n",
    "\n",
    "# Dataframe of market prices\n",
    "filepath_rawdata = f'./data/bond_market_prices_eod.xlsx'\n",
    "df_market = pd.read_excel(filepath_rawdata)\n",
    "display(df_market.head(3))"
   ]
  },
  {
   "attachments": {},
   "cell_type": "markdown",
   "id": "55572cf7",
   "metadata": {},
   "source": [
    "## b. Add a function to construct generic fixed rate cashflow schedules from symbology data\n",
    "\n",
    "Use one row of the symbology dataframe as input  to the function. Use the helper function to convert a date string to a QuantLib date object."
   ]
  },
  {
   "cell_type": "code",
   "execution_count": 3,
   "id": "96bded3d",
   "metadata": {},
   "outputs": [],
   "source": [
    "def get_ql_date(date) -> ql.Date:\n",
    "    \"\"\"\n",
    "    convert dt.date to ql.Date\n",
    "    \"\"\"\n",
    "    if isinstance(date, dt.date):\n",
    "        return ql.Date(date.day, date.month, date.year)\n",
    "    elif isinstance(date, str):\n",
    "        date = dt.datetime.strptime(date, \"%Y-%m-%d\").date()\n",
    "        return ql.Date(date.day, date.month, date.year)\n",
    "    else:\n",
    "        raise ValueError(f\"to_qldate, {type(date)}, {date}\")"
   ]
  },
  {
   "cell_type": "markdown",
   "id": "5585dcb0",
   "metadata": {},
   "source": [
    "### Example Usage"
   ]
  },
  {
   "cell_type": "code",
   "execution_count": 4,
   "id": "3ca81471",
   "metadata": {},
   "outputs": [
    {
     "name": "stdout",
     "output_type": "stream",
     "text": [
      "April 5th, 2025\n",
      "June 10th, 2026\n"
     ]
    }
   ],
   "source": [
    "example_date_1 = get_ql_date(\"2025-04-05\")  # ql.Date(5, 4, 2025)\n",
    "print(example_date_1)\n",
    "\n",
    "example_date_2 = get_ql_date(dt.date(2026, 6, 10))  # ql.Date(10, 6, 2026)\n",
    "print(example_date_2)"
   ]
  },
  {
   "cell_type": "code",
   "execution_count": 5,
   "id": "bf99732d",
   "metadata": {},
   "outputs": [],
   "source": [
    "def create_schedule_from_symbology(details: dict):\n",
    "    '''Create a QuantLib cashflow schedule from symbology details dictionary (usually one row of the symbology dataframe)\n",
    "    '''\n",
    "    # Create maturity from details['maturity']\n",
    "    # maturity = ql.Date()    # use date helper function and update code !!!\n",
    "    maturity = get_ql_date(details['maturity'])\n",
    "    \n",
    "    # Create acc_first from details['acc_first']\n",
    "    #acc_first = ql.Date()   # use date helper function and update code !!!\n",
    "    acc_first = get_ql_date(details['acc_first'])\n",
    "    \n",
    "    # Create calendar for Corp and Govt asset classes\n",
    "    calendar = ql.UnitedStates(ql.UnitedStates.GovernmentBond)\n",
    "    \n",
    "    # define period from details['cpn_freq'] ... can be hard-coded to 2 = semi-annual frequency\n",
    "    # period = ql.Period(2) \n",
    "    freq_map = {\n",
    "    1: ql.Annual,\n",
    "    2: ql.Semiannual,\n",
    "    4: ql.Quarterly,\n",
    "    12: ql.Monthly\n",
    "    }\n",
    "    period = ql.Period(freq_map[details['cpn_freq']])\n",
    "\n",
    "    # business_day_convention\n",
    "    business_day_convention = ql.Unadjusted\n",
    "    \n",
    "    # termination_date_convention\n",
    "    termination_date_convention = ql.Unadjusted\n",
    "    \n",
    "    # date_generation\n",
    "    date_generation=ql.DateGeneration.Backward\n",
    "    \n",
    "    # Create schedule using ql.MakeSchedule interface (with keyword arguments)\n",
    "    schedule = ql.MakeSchedule(effectiveDate=acc_first,  # this may not be the same as the bond's start date\n",
    "                            terminationDate=maturity,\n",
    "                            tenor=period,\n",
    "                            calendar=calendar,\n",
    "                            convention=business_day_convention,\n",
    "                            terminalDateConvention=termination_date_convention,\n",
    "                            rule=date_generation,\n",
    "                            endOfMonth=True,\n",
    "                            firstDate=ql.Date(),\n",
    "                            nextToLastDate=ql.Date())\n",
    "    return schedule"
   ]
  },
  {
   "cell_type": "code",
   "execution_count": 6,
   "id": "f0c09658",
   "metadata": {},
   "outputs": [
    {
     "name": "stdout",
     "output_type": "stream",
     "text": [
      "<QuantLib.QuantLib.Schedule; proxy of <Swig Object of type 'Schedule *' at 0x13e014300> >\n",
      "May 3rd, 2013\n",
      "May 4th, 2013\n",
      "November 4th, 2013\n",
      "May 4th, 2014\n",
      "November 4th, 2014\n",
      "May 4th, 2015\n",
      "November 4th, 2015\n",
      "May 4th, 2016\n",
      "November 4th, 2016\n",
      "May 4th, 2017\n",
      "November 4th, 2017\n",
      "May 4th, 2018\n",
      "November 4th, 2018\n",
      "May 4th, 2019\n",
      "November 4th, 2019\n",
      "May 4th, 2020\n",
      "November 4th, 2020\n",
      "May 4th, 2021\n",
      "November 4th, 2021\n",
      "May 4th, 2022\n",
      "November 4th, 2022\n",
      "May 4th, 2023\n",
      "November 4th, 2023\n",
      "May 4th, 2024\n",
      "November 4th, 2024\n",
      "May 4th, 2025\n",
      "November 4th, 2025\n",
      "May 4th, 2026\n",
      "November 4th, 2026\n",
      "May 4th, 2027\n",
      "November 4th, 2027\n",
      "May 4th, 2028\n",
      "November 4th, 2028\n",
      "May 4th, 2029\n",
      "November 4th, 2029\n",
      "May 4th, 2030\n",
      "November 4th, 2030\n",
      "May 4th, 2031\n",
      "November 4th, 2031\n",
      "May 4th, 2032\n",
      "November 4th, 2032\n",
      "May 4th, 2033\n",
      "November 4th, 2033\n",
      "May 4th, 2034\n",
      "November 4th, 2034\n",
      "May 4th, 2035\n",
      "November 4th, 2035\n",
      "May 4th, 2036\n",
      "November 4th, 2036\n",
      "May 4th, 2037\n",
      "November 4th, 2037\n",
      "May 4th, 2038\n",
      "November 4th, 2038\n",
      "May 4th, 2039\n",
      "November 4th, 2039\n",
      "May 4th, 2040\n",
      "November 4th, 2040\n",
      "May 4th, 2041\n",
      "November 4th, 2041\n",
      "May 4th, 2042\n",
      "November 4th, 2042\n",
      "May 4th, 2043\n"
     ]
    }
   ],
   "source": [
    "# One row from the Symbology Dataframe\n",
    "first_row = symbology_fixed.iloc[0]\n",
    "\n",
    "# QuantLib Schedule object\n",
    "schedule_symbology = create_schedule_from_symbology(first_row)\n",
    "print(schedule_symbology)\n",
    "\n",
    "# Printing the dates in the schedule\n",
    "for d in schedule_symbology:\n",
    "    print(d)"
   ]
  },
  {
   "attachments": {},
   "cell_type": "markdown",
   "id": "7834d854",
   "metadata": {},
   "source": [
    "## c. Add a function to construct generic fixed rate bond objects from symbology data\n",
    "\n",
    "Implement the  create_schedule_from_symbology() function below. \n",
    "\n",
    "Identify and display the `AAPL 2.2 09/11/29` bond details in the symbology dataframe. Use create_schedule_from_symbology() to generate and display the cashflow schedule for `AAPL 2.2 09/11/29`.\n"
   ]
  },
  {
   "cell_type": "code",
   "execution_count": 7,
   "id": "c820515d",
   "metadata": {},
   "outputs": [],
   "source": [
    "def create_bond_from_symbology(details: dict):\n",
    "    '''Create a US fixed rate bond object from symbology details dictionary (usually one row of the symbology dataframe)\n",
    "    '''\n",
    "    \n",
    "     # Create day_count from details['dcc']\n",
    "     # For US Treasuries use ql.ActualActual(ql.ActualActual.ISMA)\n",
    "     # For US Corporate bonds use ql.Thirty360(ql.Thirty360.USA)\n",
    "    # day_count = ql.Thirty360(ql.Thirty360.USA)   # update code depending on dcc !!!\n",
    "    if details['dcc'] == 'ACT/ACT':\n",
    "        day_count = ql.ActualActual(ql.ActualActual.ISMA)\n",
    "    elif details['dcc'] == '30/360':\n",
    "        day_count = ql.Thirty360(ql.Thirty360.USA)\n",
    "    elif details['dcc'] == '30/360 NON-EOM':\n",
    "        day_count = ql.Thirty360(ql.Thirty360.USA)\n",
    "    elif details['dcc'] == \"ACT/360\":\n",
    "        day_count = ql.Actual360()\n",
    "    else:\n",
    "        raise ValueError(f\"Unsupported day count convention: {details['dcc']}\")\n",
    "    \n",
    "    # Create day_count from details['start_date']    \n",
    "    issue_date = get_ql_date(details['start_date'])\n",
    "    \n",
    "    # Create days_settle from details['days_settle']\n",
    "    days_settle = int(details['days_settle'])\n",
    "    \n",
    "    # Create coupon from details['coupon']\n",
    "    coupon = float(details['coupon']) / 100\n",
    "    \n",
    "    # Create cashflow schedule\n",
    "    schedule = create_schedule_from_symbology(details)\n",
    "    \n",
    "    face_value = 100\n",
    "    redemption = 100\n",
    "    \n",
    "    payment_convention = ql.Unadjusted\n",
    "        \n",
    "    # Create fixed rate bond object\n",
    "    fixed_rate_bond = ql.FixedRateBond(\n",
    "        days_settle,\n",
    "        face_value,\n",
    "        schedule,\n",
    "        [coupon],\n",
    "        day_count,\n",
    "        payment_convention,\n",
    "        redemption,\n",
    "        issue_date)        \n",
    "\n",
    "    return fixed_rate_bond\n"
   ]
  },
  {
   "cell_type": "code",
   "execution_count": 8,
   "id": "3b889119",
   "metadata": {},
   "outputs": [
    {
     "data": {
      "text/html": [
       "<div>\n",
       "<style scoped>\n",
       "    .dataframe tbody tr th:only-of-type {\n",
       "        vertical-align: middle;\n",
       "    }\n",
       "\n",
       "    .dataframe tbody tr th {\n",
       "        vertical-align: top;\n",
       "    }\n",
       "\n",
       "    .dataframe thead th {\n",
       "        text-align: right;\n",
       "    }\n",
       "</style>\n",
       "<table border=\"1\" class=\"dataframe\">\n",
       "  <thead>\n",
       "    <tr style=\"text-align: right;\">\n",
       "      <th></th>\n",
       "      <th>ticker</th>\n",
       "      <th>class</th>\n",
       "      <th>figi</th>\n",
       "      <th>isin</th>\n",
       "      <th>und_bench_isin</th>\n",
       "      <th>security</th>\n",
       "      <th>name</th>\n",
       "      <th>type</th>\n",
       "      <th>coupon</th>\n",
       "      <th>cpn_type</th>\n",
       "      <th>...</th>\n",
       "      <th>start_date</th>\n",
       "      <th>cpn_first</th>\n",
       "      <th>acc_first</th>\n",
       "      <th>maturity</th>\n",
       "      <th>mty_typ</th>\n",
       "      <th>rank</th>\n",
       "      <th>amt_out</th>\n",
       "      <th>country</th>\n",
       "      <th>currency</th>\n",
       "      <th>status</th>\n",
       "    </tr>\n",
       "  </thead>\n",
       "  <tbody>\n",
       "    <tr>\n",
       "      <th>18</th>\n",
       "      <td>AAPL</td>\n",
       "      <td>Corp</td>\n",
       "      <td>BBG00Q5L6G53</td>\n",
       "      <td>US037833DP29</td>\n",
       "      <td>US91282CMA61</td>\n",
       "      <td>AAPL 2.2 09/11/29</td>\n",
       "      <td>APPLE INC</td>\n",
       "      <td>GLOBAL</td>\n",
       "      <td>2.2</td>\n",
       "      <td>FIXED</td>\n",
       "      <td>...</td>\n",
       "      <td>2019-09-11</td>\n",
       "      <td>2020-03-11</td>\n",
       "      <td>2019-09-11</td>\n",
       "      <td>2029-09-11</td>\n",
       "      <td>CALLABLE</td>\n",
       "      <td>Sr Unsecured</td>\n",
       "      <td>1750.0</td>\n",
       "      <td>US</td>\n",
       "      <td>USD</td>\n",
       "      <td>ACTV</td>\n",
       "    </tr>\n",
       "  </tbody>\n",
       "</table>\n",
       "<p>1 rows × 23 columns</p>\n",
       "</div>"
      ],
      "text/plain": [
       "   ticker class          figi          isin und_bench_isin           security  \\\n",
       "18   AAPL  Corp  BBG00Q5L6G53  US037833DP29   US91282CMA61  AAPL 2.2 09/11/29   \n",
       "\n",
       "         name    type  coupon cpn_type  ... start_date  cpn_first  acc_first  \\\n",
       "18  APPLE INC  GLOBAL     2.2    FIXED  ... 2019-09-11 2020-03-11 2019-09-11   \n",
       "\n",
       "     maturity   mty_typ          rank amt_out country currency  status  \n",
       "18 2029-09-11  CALLABLE  Sr Unsecured  1750.0      US      USD    ACTV  \n",
       "\n",
       "[1 rows x 23 columns]"
      ]
     },
     "execution_count": 8,
     "metadata": {},
     "output_type": "execute_result"
    }
   ],
   "source": [
    "df_apple = symbology[(symbology['security'] == 'AAPL 2.2 09/11/29')]\n",
    "df_apple"
   ]
  },
  {
   "cell_type": "code",
   "execution_count": 9,
   "id": "3ecda2c9",
   "metadata": {},
   "outputs": [
    {
     "name": "stdout",
     "output_type": "stream",
     "text": [
      "<QuantLib.QuantLib.Schedule; proxy of <Swig Object of type 'Schedule *' at 0x13e120510> >\n",
      "Cash flow schedule: for AAPL 2.2 09/11/29\n",
      "September 11th, 2019\n",
      "March 11th, 2020\n",
      "September 11th, 2020\n",
      "March 11th, 2021\n",
      "September 11th, 2021\n",
      "March 11th, 2022\n",
      "September 11th, 2022\n",
      "March 11th, 2023\n",
      "September 11th, 2023\n",
      "March 11th, 2024\n",
      "September 11th, 2024\n",
      "March 11th, 2025\n",
      "September 11th, 2025\n",
      "March 11th, 2026\n",
      "September 11th, 2026\n",
      "March 11th, 2027\n",
      "September 11th, 2027\n",
      "March 11th, 2028\n",
      "September 11th, 2028\n",
      "March 11th, 2029\n",
      "September 11th, 2029\n"
     ]
    }
   ],
   "source": [
    "row_apple = symbology[(symbology['security'] == 'AAPL 2.2 09/11/29')].iloc[0] # This is a row\n",
    "\n",
    "# QuantLib Schedule object\n",
    "schedule_apple = create_schedule_from_symbology(row_apple)\n",
    "print(schedule_apple)\n",
    "\n",
    "name_apple = row_apple['security']\n",
    "\n",
    "# Printing the cash flow dates in the schedule\n",
    "print(f\"Cash flow schedule: for {name_apple}\")\n",
    "for d in schedule_apple:\n",
    "    print(d)"
   ]
  },
  {
   "attachments": {},
   "cell_type": "markdown",
   "id": "d24a0174",
   "metadata": {},
   "source": [
    "## d. Add function that returns a dataframe with (future) cash flows details for a bond object\n",
    "\n",
    "Use the \"Investigate Bond Cashflows\" section in the Quantlib introductory notebook as a template.\n",
    "\n",
    "The results dataframe should contain following columns:\n",
    "\n",
    "\n",
    "| CashFlowDate | CashFlowAmount | CashFlowYearFrac |\n",
    "|----------|-------|-------------|\n",
    "\n",
    "Create the bond objects and display the future cashflows for following securities:\n",
    "\n",
    "* the `T 5 3/8 02/15/31` government bond and \n",
    "* the `AAPL 2.2 09/11/29` corporate bond."
   ]
  },
  {
   "cell_type": "code",
   "execution_count": 10,
   "id": "d9436b98",
   "metadata": {},
   "outputs": [
    {
     "name": "stdout",
     "output_type": "stream",
     "text": [
      "Today's date: December 13th, 2024\n",
      "Security: AAPL 2.2 09/11/29\n"
     ]
    },
    {
     "data": {
      "text/html": [
       "<div>\n",
       "<style scoped>\n",
       "    .dataframe tbody tr th:only-of-type {\n",
       "        vertical-align: middle;\n",
       "    }\n",
       "\n",
       "    .dataframe tbody tr th {\n",
       "        vertical-align: top;\n",
       "    }\n",
       "\n",
       "    .dataframe thead th {\n",
       "        text-align: right;\n",
       "    }\n",
       "</style>\n",
       "<table border=\"1\" class=\"dataframe\">\n",
       "  <thead>\n",
       "    <tr style=\"text-align: right;\">\n",
       "      <th></th>\n",
       "      <th>CashFlowDate</th>\n",
       "      <th>CashFlowAmount</th>\n",
       "      <th>CashFlowYearFraction</th>\n",
       "    </tr>\n",
       "  </thead>\n",
       "  <tbody>\n",
       "    <tr>\n",
       "      <th>0</th>\n",
       "      <td>March 11th, 2025</td>\n",
       "      <td>1.1</td>\n",
       "      <td>0.244444</td>\n",
       "    </tr>\n",
       "    <tr>\n",
       "      <th>1</th>\n",
       "      <td>September 11th, 2025</td>\n",
       "      <td>1.1</td>\n",
       "      <td>0.744444</td>\n",
       "    </tr>\n",
       "    <tr>\n",
       "      <th>2</th>\n",
       "      <td>March 11th, 2026</td>\n",
       "      <td>1.1</td>\n",
       "      <td>1.244444</td>\n",
       "    </tr>\n",
       "    <tr>\n",
       "      <th>3</th>\n",
       "      <td>September 11th, 2026</td>\n",
       "      <td>1.1</td>\n",
       "      <td>1.744444</td>\n",
       "    </tr>\n",
       "    <tr>\n",
       "      <th>4</th>\n",
       "      <td>March 11th, 2027</td>\n",
       "      <td>1.1</td>\n",
       "      <td>2.244444</td>\n",
       "    </tr>\n",
       "    <tr>\n",
       "      <th>5</th>\n",
       "      <td>September 11th, 2027</td>\n",
       "      <td>1.1</td>\n",
       "      <td>2.744444</td>\n",
       "    </tr>\n",
       "    <tr>\n",
       "      <th>6</th>\n",
       "      <td>March 11th, 2028</td>\n",
       "      <td>1.1</td>\n",
       "      <td>3.244444</td>\n",
       "    </tr>\n",
       "    <tr>\n",
       "      <th>7</th>\n",
       "      <td>September 11th, 2028</td>\n",
       "      <td>1.1</td>\n",
       "      <td>3.744444</td>\n",
       "    </tr>\n",
       "    <tr>\n",
       "      <th>8</th>\n",
       "      <td>March 11th, 2029</td>\n",
       "      <td>1.1</td>\n",
       "      <td>4.244444</td>\n",
       "    </tr>\n",
       "    <tr>\n",
       "      <th>9</th>\n",
       "      <td>September 11th, 2029</td>\n",
       "      <td>1.1</td>\n",
       "      <td>4.744444</td>\n",
       "    </tr>\n",
       "    <tr>\n",
       "      <th>10</th>\n",
       "      <td>September 11th, 2029</td>\n",
       "      <td>100.0</td>\n",
       "      <td>4.744444</td>\n",
       "    </tr>\n",
       "  </tbody>\n",
       "</table>\n",
       "</div>"
      ],
      "text/plain": [
       "            CashFlowDate  CashFlowAmount  CashFlowYearFraction\n",
       "0       March 11th, 2025             1.1              0.244444\n",
       "1   September 11th, 2025             1.1              0.744444\n",
       "2       March 11th, 2026             1.1              1.244444\n",
       "3   September 11th, 2026             1.1              1.744444\n",
       "4       March 11th, 2027             1.1              2.244444\n",
       "5   September 11th, 2027             1.1              2.744444\n",
       "6       March 11th, 2028             1.1              3.244444\n",
       "7   September 11th, 2028             1.1              3.744444\n",
       "8       March 11th, 2029             1.1              4.244444\n",
       "9   September 11th, 2029             1.1              4.744444\n",
       "10  September 11th, 2029           100.0              4.744444"
      ]
     },
     "metadata": {},
     "output_type": "display_data"
    }
   ],
   "source": [
    "def get_bond_cashflows(bond: ql.FixedRateBond, calc_date=ql.Date) -> pd.DataFrame:\n",
    "    '''Returns all future cashflows as of calc_date, i.e. with payment dates > calc_date.\n",
    "    takes the bond (in dictionary version) and date\n",
    "    '''\n",
    "    \n",
    "    # all cash flows: \n",
    "    # x = [(cf.date(), cf.amount()) for cf in bond.cashflows()]\n",
    "\n",
    "    # Future cash flows\n",
    "    x = [(cf.date(), cf.amount()) for cf in bond.cashflows() if cf.date() > calc_date]\n",
    "    cf_date_fixed, cf_amount = zip(*x)\n",
    "     \n",
    "    # create and display cashflows dataframe\n",
    "    cashflows_df = pd.DataFrame(data={'CashFlowDate': cf_date_fixed, 'CashFlowAmount': cf_amount})\n",
    "    \n",
    "    # Adding column for year fraction\n",
    "    cashflows_df[\"CashFlowYearFraction\"] = cashflows_df.apply(lambda x: bond.dayCounter().yearFraction(calc_date, x[\"CashFlowDate\"]), axis=1) \n",
    "    \n",
    "    return cashflows_df\n",
    "\n",
    "# Row from Symbology Dataframe\n",
    "row_apple = symbology[(symbology['security'] == 'AAPL 2.2 09/11/29')].iloc[0]\n",
    "\n",
    "# Today's Date\n",
    "print(f\"Today's date: {calc_date}\")\n",
    "\n",
    "# Security Name\n",
    "name_apple = row_apple['security']\n",
    "print(f\"Security: {name_apple}\")\n",
    "\n",
    "# Cash Flow\n",
    "bond_apple = create_bond_from_symbology(row_apple)\n",
    "df_cashflow_apple = get_bond_cashflows(bond_apple, calc_date)\n",
    "display(df_cashflow_apple)"
   ]
  },
  {
   "cell_type": "code",
   "execution_count": 11,
   "id": "fbd839fa",
   "metadata": {},
   "outputs": [
    {
     "name": "stdout",
     "output_type": "stream",
     "text": [
      "<QuantLib.QuantLib.FixedRateBond; proxy of <Swig Object of type 'ext::shared_ptr< FixedRateBond > *' at 0x13e014570> >\n",
      "Today's date: December 13th, 2024\n",
      "Security: T 5 3/8 02/15/31\n"
     ]
    },
    {
     "data": {
      "text/html": [
       "<div>\n",
       "<style scoped>\n",
       "    .dataframe tbody tr th:only-of-type {\n",
       "        vertical-align: middle;\n",
       "    }\n",
       "\n",
       "    .dataframe tbody tr th {\n",
       "        vertical-align: top;\n",
       "    }\n",
       "\n",
       "    .dataframe thead th {\n",
       "        text-align: right;\n",
       "    }\n",
       "</style>\n",
       "<table border=\"1\" class=\"dataframe\">\n",
       "  <thead>\n",
       "    <tr style=\"text-align: right;\">\n",
       "      <th></th>\n",
       "      <th>CashFlowDate</th>\n",
       "      <th>CashFlowAmount</th>\n",
       "      <th>CashFlowYearFraction</th>\n",
       "    </tr>\n",
       "  </thead>\n",
       "  <tbody>\n",
       "    <tr>\n",
       "      <th>0</th>\n",
       "      <td>February 15th, 2025</td>\n",
       "      <td>2.6875</td>\n",
       "      <td>0.166667</td>\n",
       "    </tr>\n",
       "    <tr>\n",
       "      <th>1</th>\n",
       "      <td>August 15th, 2025</td>\n",
       "      <td>2.6875</td>\n",
       "      <td>0.666667</td>\n",
       "    </tr>\n",
       "    <tr>\n",
       "      <th>2</th>\n",
       "      <td>February 15th, 2026</td>\n",
       "      <td>2.6875</td>\n",
       "      <td>1.166667</td>\n",
       "    </tr>\n",
       "    <tr>\n",
       "      <th>3</th>\n",
       "      <td>August 15th, 2026</td>\n",
       "      <td>2.6875</td>\n",
       "      <td>1.666667</td>\n",
       "    </tr>\n",
       "    <tr>\n",
       "      <th>4</th>\n",
       "      <td>February 15th, 2027</td>\n",
       "      <td>2.6875</td>\n",
       "      <td>2.166667</td>\n",
       "    </tr>\n",
       "    <tr>\n",
       "      <th>5</th>\n",
       "      <td>August 15th, 2027</td>\n",
       "      <td>2.6875</td>\n",
       "      <td>2.666667</td>\n",
       "    </tr>\n",
       "    <tr>\n",
       "      <th>6</th>\n",
       "      <td>February 15th, 2028</td>\n",
       "      <td>2.6875</td>\n",
       "      <td>3.166667</td>\n",
       "    </tr>\n",
       "    <tr>\n",
       "      <th>7</th>\n",
       "      <td>August 15th, 2028</td>\n",
       "      <td>2.6875</td>\n",
       "      <td>3.666667</td>\n",
       "    </tr>\n",
       "    <tr>\n",
       "      <th>8</th>\n",
       "      <td>February 15th, 2029</td>\n",
       "      <td>2.6875</td>\n",
       "      <td>4.166667</td>\n",
       "    </tr>\n",
       "    <tr>\n",
       "      <th>9</th>\n",
       "      <td>August 15th, 2029</td>\n",
       "      <td>2.6875</td>\n",
       "      <td>4.666667</td>\n",
       "    </tr>\n",
       "    <tr>\n",
       "      <th>10</th>\n",
       "      <td>February 15th, 2030</td>\n",
       "      <td>2.6875</td>\n",
       "      <td>5.166667</td>\n",
       "    </tr>\n",
       "    <tr>\n",
       "      <th>11</th>\n",
       "      <td>August 15th, 2030</td>\n",
       "      <td>2.6875</td>\n",
       "      <td>5.666667</td>\n",
       "    </tr>\n",
       "    <tr>\n",
       "      <th>12</th>\n",
       "      <td>February 15th, 2031</td>\n",
       "      <td>2.6875</td>\n",
       "      <td>6.166667</td>\n",
       "    </tr>\n",
       "    <tr>\n",
       "      <th>13</th>\n",
       "      <td>February 15th, 2031</td>\n",
       "      <td>100.0000</td>\n",
       "      <td>6.166667</td>\n",
       "    </tr>\n",
       "  </tbody>\n",
       "</table>\n",
       "</div>"
      ],
      "text/plain": [
       "           CashFlowDate  CashFlowAmount  CashFlowYearFraction\n",
       "0   February 15th, 2025          2.6875              0.166667\n",
       "1     August 15th, 2025          2.6875              0.666667\n",
       "2   February 15th, 2026          2.6875              1.166667\n",
       "3     August 15th, 2026          2.6875              1.666667\n",
       "4   February 15th, 2027          2.6875              2.166667\n",
       "5     August 15th, 2027          2.6875              2.666667\n",
       "6   February 15th, 2028          2.6875              3.166667\n",
       "7     August 15th, 2028          2.6875              3.666667\n",
       "8   February 15th, 2029          2.6875              4.166667\n",
       "9     August 15th, 2029          2.6875              4.666667\n",
       "10  February 15th, 2030          2.6875              5.166667\n",
       "11    August 15th, 2030          2.6875              5.666667\n",
       "12  February 15th, 2031          2.6875              6.166667\n",
       "13  February 15th, 2031        100.0000              6.166667"
      ]
     },
     "metadata": {},
     "output_type": "display_data"
    }
   ],
   "source": [
    "# T 5 3/8 02/15/31\n",
    "\n",
    "# Row from Symbology Dataframe\n",
    "row_treasury = symbology[(symbology['security'] == 'T 5 3/8 02/15/31')].iloc[0]\n",
    "# print(row_treasury)\n",
    "\n",
    "# Bond\n",
    "bond_treasury = create_bond_from_symbology(row_treasury)\n",
    "print(bond_treasury)\n",
    "\n",
    "# Today's Date\n",
    "print(f\"Today's date: {calc_date}\")\n",
    "\n",
    "# Security Name\n",
    "name_treasury = row_treasury['security']\n",
    "print(f\"Security: {name_treasury}\")\n",
    "\n",
    "# Cash Flow\n",
    "df_cashflow_treasury = get_bond_cashflows(bond_treasury, calc_date)\n",
    "display(df_cashflow_treasury)"
   ]
  },
  {
   "attachments": {},
   "cell_type": "markdown",
   "id": "88994748",
   "metadata": {},
   "source": [
    "------------------------------------------------------------------------------------------\n",
    "# Problem 2: US Treasury yield curve calibration (On-The-Runs)"
   ]
  },
  {
   "attachments": {},
   "cell_type": "markdown",
   "id": "6a31f7a6",
   "metadata": {},
   "source": [
    "## a. Create the on-the-run US treasury bond objects\n",
    "\n",
    "Restrict the symbology + market data dataframe to \"on-the-run\"/OTR US treasury notes/bonds only and create the treasury bond objects.\n",
    "\n",
    "Extend the treasuries symbology dataframe with the following market data columns (code from Homework 1):\n",
    "\n",
    "\n",
    "| date | bidPrice | askPrice | midPrice | bidYield | askYield | midYield | term | TTM |\n",
    "|----------|-------|-------------|-----|----------|---------|---------|---------|---------|\n",
    "\n",
    "Plot a graph/scatter plot of on-the-run treasury mid yields by TTM."
   ]
  },
  {
   "cell_type": "code",
   "execution_count": 12,
   "id": "e2eaed3f",
   "metadata": {},
   "outputs": [
    {
     "data": {
      "text/html": [
       "<div>\n",
       "<style scoped>\n",
       "    .dataframe tbody tr th:only-of-type {\n",
       "        vertical-align: middle;\n",
       "    }\n",
       "\n",
       "    .dataframe tbody tr th {\n",
       "        vertical-align: top;\n",
       "    }\n",
       "\n",
       "    .dataframe thead th {\n",
       "        text-align: right;\n",
       "    }\n",
       "</style>\n",
       "<table border=\"1\" class=\"dataframe\">\n",
       "  <thead>\n",
       "    <tr style=\"text-align: right;\">\n",
       "      <th></th>\n",
       "      <th>ticker</th>\n",
       "      <th>class</th>\n",
       "      <th>figi</th>\n",
       "      <th>isin</th>\n",
       "      <th>und_bench_isin</th>\n",
       "      <th>security</th>\n",
       "      <th>name</th>\n",
       "      <th>type</th>\n",
       "      <th>coupon</th>\n",
       "      <th>cpn_type</th>\n",
       "      <th>...</th>\n",
       "      <th>acc_first</th>\n",
       "      <th>maturity</th>\n",
       "      <th>mty_typ</th>\n",
       "      <th>rank</th>\n",
       "      <th>amt_out</th>\n",
       "      <th>country</th>\n",
       "      <th>currency</th>\n",
       "      <th>status</th>\n",
       "      <th>term</th>\n",
       "      <th>TTM</th>\n",
       "    </tr>\n",
       "  </thead>\n",
       "  <tbody>\n",
       "    <tr>\n",
       "      <th>0</th>\n",
       "      <td>AAPL</td>\n",
       "      <td>Corp</td>\n",
       "      <td>BBG004HST0K7</td>\n",
       "      <td>US037833AL42</td>\n",
       "      <td>US912810UF39</td>\n",
       "      <td>AAPL 3.85 05/04/43</td>\n",
       "      <td>APPLE INC</td>\n",
       "      <td>GLOBAL</td>\n",
       "      <td>3.85</td>\n",
       "      <td>FIXED</td>\n",
       "      <td>...</td>\n",
       "      <td>2013-05-03</td>\n",
       "      <td>2043-05-04</td>\n",
       "      <td>AT MATURITY</td>\n",
       "      <td>Sr Unsecured</td>\n",
       "      <td>3000.0</td>\n",
       "      <td>US</td>\n",
       "      <td>USD</td>\n",
       "      <td>ACTV</td>\n",
       "      <td>30.001369</td>\n",
       "      <td>18.387406</td>\n",
       "    </tr>\n",
       "    <tr>\n",
       "      <th>1</th>\n",
       "      <td>AAPL</td>\n",
       "      <td>Corp</td>\n",
       "      <td>BBG006F8VWJ7</td>\n",
       "      <td>US037833AT77</td>\n",
       "      <td>US912810UF39</td>\n",
       "      <td>AAPL 4.45 05/06/44</td>\n",
       "      <td>APPLE INC</td>\n",
       "      <td>GLOBAL</td>\n",
       "      <td>4.45</td>\n",
       "      <td>FIXED</td>\n",
       "      <td>...</td>\n",
       "      <td>2014-05-06</td>\n",
       "      <td>2044-05-06</td>\n",
       "      <td>AT MATURITY</td>\n",
       "      <td>Sr Unsecured</td>\n",
       "      <td>1000.0</td>\n",
       "      <td>US</td>\n",
       "      <td>USD</td>\n",
       "      <td>ACTV</td>\n",
       "      <td>30.001369</td>\n",
       "      <td>19.394935</td>\n",
       "    </tr>\n",
       "    <tr>\n",
       "      <th>2</th>\n",
       "      <td>AAPL</td>\n",
       "      <td>Corp</td>\n",
       "      <td>BBG0081TNL50</td>\n",
       "      <td>US037833BA77</td>\n",
       "      <td>US912810UF39</td>\n",
       "      <td>AAPL 3.45 02/09/45</td>\n",
       "      <td>APPLE INC</td>\n",
       "      <td>GLOBAL</td>\n",
       "      <td>3.45</td>\n",
       "      <td>FIXED</td>\n",
       "      <td>...</td>\n",
       "      <td>2015-02-09</td>\n",
       "      <td>2045-02-09</td>\n",
       "      <td>AT MATURITY</td>\n",
       "      <td>Sr Unsecured</td>\n",
       "      <td>2000.0</td>\n",
       "      <td>US</td>\n",
       "      <td>USD</td>\n",
       "      <td>ACTV</td>\n",
       "      <td>30.001369</td>\n",
       "      <td>20.158795</td>\n",
       "    </tr>\n",
       "  </tbody>\n",
       "</table>\n",
       "<p>3 rows × 25 columns</p>\n",
       "</div>"
      ],
      "text/plain": [
       "  ticker class          figi          isin und_bench_isin            security  \\\n",
       "0   AAPL  Corp  BBG004HST0K7  US037833AL42   US912810UF39  AAPL 3.85 05/04/43   \n",
       "1   AAPL  Corp  BBG006F8VWJ7  US037833AT77   US912810UF39  AAPL 4.45 05/06/44   \n",
       "2   AAPL  Corp  BBG0081TNL50  US037833BA77   US912810UF39  AAPL 3.45 02/09/45   \n",
       "\n",
       "        name    type  coupon cpn_type  ...  acc_first   maturity      mty_typ  \\\n",
       "0  APPLE INC  GLOBAL    3.85    FIXED  ... 2013-05-03 2043-05-04  AT MATURITY   \n",
       "1  APPLE INC  GLOBAL    4.45    FIXED  ... 2014-05-06 2044-05-06  AT MATURITY   \n",
       "2  APPLE INC  GLOBAL    3.45    FIXED  ... 2015-02-09 2045-02-09  AT MATURITY   \n",
       "\n",
       "           rank amt_out country currency status       term        TTM  \n",
       "0  Sr Unsecured  3000.0      US      USD   ACTV  30.001369  18.387406  \n",
       "1  Sr Unsecured  1000.0      US      USD   ACTV  30.001369  19.394935  \n",
       "2  Sr Unsecured  2000.0      US      USD   ACTV  30.001369  20.158795  \n",
       "\n",
       "[3 rows x 25 columns]"
      ]
     },
     "metadata": {},
     "output_type": "display_data"
    },
    {
     "data": {
      "text/html": [
       "<div>\n",
       "<style scoped>\n",
       "    .dataframe tbody tr th:only-of-type {\n",
       "        vertical-align: middle;\n",
       "    }\n",
       "\n",
       "    .dataframe tbody tr th {\n",
       "        vertical-align: top;\n",
       "    }\n",
       "\n",
       "    .dataframe thead th {\n",
       "        text-align: right;\n",
       "    }\n",
       "</style>\n",
       "<table border=\"1\" class=\"dataframe\">\n",
       "  <thead>\n",
       "    <tr style=\"text-align: right;\">\n",
       "      <th></th>\n",
       "      <th>date</th>\n",
       "      <th>class</th>\n",
       "      <th>ticker</th>\n",
       "      <th>isin</th>\n",
       "      <th>figi</th>\n",
       "      <th>bidPrice</th>\n",
       "      <th>askPrice</th>\n",
       "      <th>accrued</th>\n",
       "      <th>bidYield</th>\n",
       "      <th>askYield</th>\n",
       "      <th>midPrice</th>\n",
       "      <th>midYield</th>\n",
       "    </tr>\n",
       "  </thead>\n",
       "  <tbody>\n",
       "    <tr>\n",
       "      <th>0</th>\n",
       "      <td>2024-12-13</td>\n",
       "      <td>Corp</td>\n",
       "      <td>AAPL</td>\n",
       "      <td>US037833BX70</td>\n",
       "      <td>BBG00C7QBG91</td>\n",
       "      <td>93.228</td>\n",
       "      <td>93.809</td>\n",
       "      <td>1.4595</td>\n",
       "      <td>5.180</td>\n",
       "      <td>5.132</td>\n",
       "      <td>93.5185</td>\n",
       "      <td>5.156</td>\n",
       "    </tr>\n",
       "    <tr>\n",
       "      <th>1</th>\n",
       "      <td>2024-12-13</td>\n",
       "      <td>Corp</td>\n",
       "      <td>AAPL</td>\n",
       "      <td>US037833EK23</td>\n",
       "      <td>BBG011ZS1X57</td>\n",
       "      <td>63.723</td>\n",
       "      <td>64.232</td>\n",
       "      <td>0.9835</td>\n",
       "      <td>5.242</td>\n",
       "      <td>5.194</td>\n",
       "      <td>63.9775</td>\n",
       "      <td>5.218</td>\n",
       "    </tr>\n",
       "    <tr>\n",
       "      <th>2</th>\n",
       "      <td>2024-12-13</td>\n",
       "      <td>Corp</td>\n",
       "      <td>AAPL</td>\n",
       "      <td>US037833DW79</td>\n",
       "      <td>BBG00TN2PN26</td>\n",
       "      <td>63.716</td>\n",
       "      <td>64.215</td>\n",
       "      <td>0.2585</td>\n",
       "      <td>5.253</td>\n",
       "      <td>5.205</td>\n",
       "      <td>63.9655</td>\n",
       "      <td>5.229</td>\n",
       "    </tr>\n",
       "  </tbody>\n",
       "</table>\n",
       "</div>"
      ],
      "text/plain": [
       "        date class ticker          isin          figi  bidPrice  askPrice  \\\n",
       "0 2024-12-13  Corp   AAPL  US037833BX70  BBG00C7QBG91    93.228    93.809   \n",
       "1 2024-12-13  Corp   AAPL  US037833EK23  BBG011ZS1X57    63.723    64.232   \n",
       "2 2024-12-13  Corp   AAPL  US037833DW79  BBG00TN2PN26    63.716    64.215   \n",
       "\n",
       "   accrued  bidYield  askYield  midPrice  midYield  \n",
       "0   1.4595     5.180     5.132   93.5185     5.156  \n",
       "1   0.9835     5.242     5.194   63.9775     5.218  \n",
       "2   0.2585     5.253     5.205   63.9655     5.229  "
      ]
     },
     "metadata": {},
     "output_type": "display_data"
    }
   ],
   "source": [
    "# Bond Symbology Dataframe = Containing both corporate and US Government Bonds\n",
    "filepath_rawdata = f'./data/bond_symbology.xlsx'\n",
    "bond_symbology = pd.read_excel(filepath_rawdata)\n",
    "days_in_year = 365.25\n",
    "date_today = pd.to_datetime('2024-12-13')\n",
    "bond_symbology['term'] = ((bond_symbology['maturity']) - bond_symbology['start_date']).dt.days /days_in_year\n",
    "bond_symbology['TTM'] = ((bond_symbology['maturity'] - date_today)).dt.days /days_in_year\n",
    "# If TTM is less than or equal to 0, then it's 0\n",
    "bond_symbology.loc[bond_symbology['TTM'] <= 0, 'TTM'] = 0\n",
    "display(bond_symbology.head(3))\n",
    "\n",
    "# Dataframe of market prices\n",
    "filepath_rawdata = f'./data/bond_market_prices_eod.xlsx'\n",
    "data_market = pd.read_excel(filepath_rawdata)\n",
    "data_market['midPrice'] = (data_market['bidPrice'] + data_market['askPrice'])/2\n",
    "data_market['midYield'] = (data_market['bidYield'] + data_market['askYield'])/2\n",
    "display(data_market.head(3))"
   ]
  },
  {
   "cell_type": "code",
   "execution_count": 13,
   "id": "ec181279",
   "metadata": {},
   "outputs": [
    {
     "data": {
      "text/plain": [
       "0     US91282CLW90\n",
       "3     US91282CLY56\n",
       "4     US912810UF39\n",
       "9     US91282CMB45\n",
       "10    US912810UE63\n",
       "15    US91282CMA61\n",
       "18    US91282CLZ22\n",
       "Name: isin, dtype: object"
      ]
     },
     "execution_count": 13,
     "metadata": {},
     "output_type": "execute_result"
    }
   ],
   "source": [
    "# ISIN for On-the-Run Treasuries\n",
    "df_ontherun['isin']"
   ]
  },
  {
   "cell_type": "code",
   "execution_count": 14,
   "id": "7834ff82",
   "metadata": {},
   "outputs": [
    {
     "data": {
      "text/html": [
       "<div>\n",
       "<style scoped>\n",
       "    .dataframe tbody tr th:only-of-type {\n",
       "        vertical-align: middle;\n",
       "    }\n",
       "\n",
       "    .dataframe tbody tr th {\n",
       "        vertical-align: top;\n",
       "    }\n",
       "\n",
       "    .dataframe thead th {\n",
       "        text-align: right;\n",
       "    }\n",
       "</style>\n",
       "<table border=\"1\" class=\"dataframe\">\n",
       "  <thead>\n",
       "    <tr style=\"text-align: right;\">\n",
       "      <th></th>\n",
       "      <th>date</th>\n",
       "      <th>bidPrice</th>\n",
       "      <th>askPrice</th>\n",
       "      <th>midPrice</th>\n",
       "      <th>bidYield</th>\n",
       "      <th>askYield</th>\n",
       "      <th>midYield</th>\n",
       "      <th>term</th>\n",
       "      <th>TTM</th>\n",
       "    </tr>\n",
       "  </thead>\n",
       "  <tbody>\n",
       "    <tr>\n",
       "      <th>0</th>\n",
       "      <td>2024-12-13</td>\n",
       "      <td>99.3750</td>\n",
       "      <td>99.3828</td>\n",
       "      <td>99.37890</td>\n",
       "      <td>4.224</td>\n",
       "      <td>4.221</td>\n",
       "      <td>4.2225</td>\n",
       "      <td>2.995209</td>\n",
       "      <td>3.003422</td>\n",
       "    </tr>\n",
       "    <tr>\n",
       "      <th>1</th>\n",
       "      <td>2024-12-13</td>\n",
       "      <td>100.0000</td>\n",
       "      <td>100.0078</td>\n",
       "      <td>100.00390</td>\n",
       "      <td>4.249</td>\n",
       "      <td>4.245</td>\n",
       "      <td>4.2470</td>\n",
       "      <td>1.993155</td>\n",
       "      <td>1.963039</td>\n",
       "    </tr>\n",
       "    <tr>\n",
       "      <th>2</th>\n",
       "      <td>2024-12-13</td>\n",
       "      <td>99.4375</td>\n",
       "      <td>99.4453</td>\n",
       "      <td>99.44140</td>\n",
       "      <td>4.252</td>\n",
       "      <td>4.250</td>\n",
       "      <td>4.2510</td>\n",
       "      <td>4.993840</td>\n",
       "      <td>4.963723</td>\n",
       "    </tr>\n",
       "    <tr>\n",
       "      <th>3</th>\n",
       "      <td>2024-12-13</td>\n",
       "      <td>98.7969</td>\n",
       "      <td>98.8125</td>\n",
       "      <td>98.80470</td>\n",
       "      <td>4.327</td>\n",
       "      <td>4.324</td>\n",
       "      <td>4.3255</td>\n",
       "      <td>6.992471</td>\n",
       "      <td>6.962355</td>\n",
       "    </tr>\n",
       "    <tr>\n",
       "      <th>4</th>\n",
       "      <td>2024-12-13</td>\n",
       "      <td>98.8125</td>\n",
       "      <td>98.8281</td>\n",
       "      <td>98.82030</td>\n",
       "      <td>4.399</td>\n",
       "      <td>4.397</td>\n",
       "      <td>4.3980</td>\n",
       "      <td>9.998631</td>\n",
       "      <td>9.921971</td>\n",
       "    </tr>\n",
       "    <tr>\n",
       "      <th>5</th>\n",
       "      <td>2024-12-13</td>\n",
       "      <td>98.3281</td>\n",
       "      <td>98.3594</td>\n",
       "      <td>98.34375</td>\n",
       "      <td>4.603</td>\n",
       "      <td>4.601</td>\n",
       "      <td>4.6020</td>\n",
       "      <td>29.998631</td>\n",
       "      <td>29.921971</td>\n",
       "    </tr>\n",
       "    <tr>\n",
       "      <th>6</th>\n",
       "      <td>2024-12-13</td>\n",
       "      <td>99.2500</td>\n",
       "      <td>99.2813</td>\n",
       "      <td>99.26565</td>\n",
       "      <td>4.683</td>\n",
       "      <td>4.681</td>\n",
       "      <td>4.6820</td>\n",
       "      <td>19.953457</td>\n",
       "      <td>19.923340</td>\n",
       "    </tr>\n",
       "  </tbody>\n",
       "</table>\n",
       "</div>"
      ],
      "text/plain": [
       "        date  bidPrice  askPrice   midPrice  bidYield  askYield  midYield  \\\n",
       "0 2024-12-13   99.3750   99.3828   99.37890     4.224     4.221    4.2225   \n",
       "1 2024-12-13  100.0000  100.0078  100.00390     4.249     4.245    4.2470   \n",
       "2 2024-12-13   99.4375   99.4453   99.44140     4.252     4.250    4.2510   \n",
       "3 2024-12-13   98.7969   98.8125   98.80470     4.327     4.324    4.3255   \n",
       "4 2024-12-13   98.8125   98.8281   98.82030     4.399     4.397    4.3980   \n",
       "5 2024-12-13   98.3281   98.3594   98.34375     4.603     4.601    4.6020   \n",
       "6 2024-12-13   99.2500   99.2813   99.26565     4.683     4.681    4.6820   \n",
       "\n",
       "        term        TTM  \n",
       "0   2.995209   3.003422  \n",
       "1   1.993155   1.963039  \n",
       "2   4.993840   4.963723  \n",
       "3   6.992471   6.962355  \n",
       "4   9.998631   9.921971  \n",
       "5  29.998631  29.921971  \n",
       "6  19.953457  19.923340  "
      ]
     },
     "execution_count": 14,
     "metadata": {},
     "output_type": "execute_result"
    }
   ],
   "source": [
    "# Symbology + Market\n",
    "df_merged_symbo_market = pd.merge(data_market, bond_symbology, on=['isin', 'class', 'figi', 'ticker'], how='inner')\n",
    "\n",
    "# Symbology + Market + On the Run\n",
    "df_otr_treasuries_all = pd.merge(df_merged_symbo_market, df_ontherun['isin'], on=['isin'], how='inner')\n",
    "\n",
    "# Relevant columns\n",
    "df_otr_treasuries_filtered = df_otr_treasuries_all[['date', 'bidPrice', 'askPrice', 'midPrice', 'bidYield', 'askYield', 'midYield', 'term', 'TTM']]\n",
    "df_otr_treasuries_filtered"
   ]
  },
  {
   "cell_type": "code",
   "execution_count": 15,
   "id": "76aa8d99",
   "metadata": {},
   "outputs": [
    {
     "data": {
      "image/png": "[encoded data removed]",
      "text/plain": [
       "<Figure size 1500x500 with 1 Axes>"
      ]
     },
     "metadata": {},
     "output_type": "display_data"
    }
   ],
   "source": [
    "# Input for Scatter Plot\n",
    "x_values = df_otr_treasuries_all[['TTM']].values\n",
    "y_values = df_otr_treasuries_all[['midYield']].values\n",
    "\n",
    "plt.figure(figsize=(15, 5))\n",
    "plt.scatter(x_values, y_values, label='Treasury Yields')\n",
    "\n",
    "# Labels and title\n",
    "plt.xlabel(\"Time-to-Maturity\")\n",
    "plt.ylabel(\"Yield (%)\")\n",
    "plt.title(\"Mid-Yields of On-the-Run UST (%)\")\n",
    "plt.legend()\n",
    "plt.grid(True)"
   ]
  },
  {
   "attachments": {},
   "cell_type": "markdown",
   "id": "530ec7ca",
   "metadata": {},
   "source": [
    "## b. Calibrate the on-the-run treasury yield curve (bootstrapping)\n",
    "The function below shows how to calibrate a smooth yield/discount factor curve from the on-the-run treasury dataframe. \n",
    "\n",
    "Calibrate the bid, ask and mid discount factor curves as of 2024-12-13.\n",
    "\n",
    "Display the calibration results for the mid curve, using get_yield_curve_details_df()."
   ]
  },
  {
   "cell_type": "code",
   "execution_count": 16,
   "id": "09888454",
   "metadata": {},
   "outputs": [],
   "source": [
    "def calibrate_yield_curve_from_frame(\n",
    "        calc_date: ql.Date,\n",
    "        treasury_details: pd.DataFrame,\n",
    "        price_quote_column: str):\n",
    "    '''Create a calibrated yield curve from a details dataframe which includes bid/ask/mid price quotes.\n",
    "    '''\n",
    "    ql.Settings.instance().evaluationDate = calc_date\n",
    "\n",
    "    # Sort dataframe by maturity\n",
    "    sorted_details_frame = treasury_details.sort_values(by='maturity')    \n",
    "    \n",
    "    # For US Treasuries use ql.ActualActual(ql.ActualActual.ISMA)\n",
    "    day_count = ql.ActualActual(ql.ActualActual.ISMA)\n",
    "\n",
    "    bond_helpers = []\n",
    "    \n",
    "    for index, row in sorted_details_frame.iterrows():\n",
    "        bond_object = create_bond_from_symbology(row)\n",
    "        \n",
    "        tsy_clean_price_quote = row[price_quote_column]\n",
    "        tsy_clean_price_handle = ql.QuoteHandle(ql.SimpleQuote(tsy_clean_price_quote))\n",
    "        \n",
    "        bond_helper = ql.BondHelper(tsy_clean_price_handle, bond_object)\n",
    "        bond_helpers.append(bond_helper)\n",
    "        \n",
    "    yield_curve = ql.PiecewiseLogCubicDiscount(calc_date, bond_helpers, day_count)\n",
    "    # yield_curve = ql.PiecewiseFlatForward(calc_date, bond_helpers, day_count)\n",
    "    \n",
    "    yield_curve.enableExtrapolation()\n",
    "    return yield_curve\n",
    "\n",
    "\n",
    "def get_yield_curve_details_df(yield_curve, curve_dates=None):\n",
    "    \n",
    "    if(curve_dates == None):\n",
    "        curve_dates = yield_curve.dates()\n",
    "\n",
    "    dates = [d.to_date() for d in curve_dates]\n",
    "    discounts = [round(yield_curve.discount(d), 3) for d in curve_dates]\n",
    "    yearfracs = [round(yield_curve.timeFromReference(d), 3) for d in curve_dates]\n",
    "    zeroRates = [round(yield_curve.zeroRate(d, yield_curve.dayCounter(), ql.Compounded).rate() * 100, 3) for d in curve_dates]\n",
    "\n",
    "    yield_curve_details_df = pd.DataFrame(data={'Date': dates,\n",
    "                             'YearFrac': yearfracs,\n",
    "                             'DiscountFactor': discounts,\n",
    "                             'ZeroRate': zeroRates})                             \n",
    "    return yield_curve_details_df"
   ]
  },
  {
   "cell_type": "code",
   "execution_count": 17,
   "id": "153e8920",
   "metadata": {},
   "outputs": [
    {
     "name": "stdout",
     "output_type": "stream",
     "text": [
      "Today's date: December 13th, 2024\n",
      "Price Used: bidPrice\n"
     ]
    },
    {
     "data": {
      "text/html": [
       "<div>\n",
       "<style scoped>\n",
       "    .dataframe tbody tr th:only-of-type {\n",
       "        vertical-align: middle;\n",
       "    }\n",
       "\n",
       "    .dataframe tbody tr th {\n",
       "        vertical-align: top;\n",
       "    }\n",
       "\n",
       "    .dataframe thead th {\n",
       "        text-align: right;\n",
       "    }\n",
       "</style>\n",
       "<table border=\"1\" class=\"dataframe\">\n",
       "  <thead>\n",
       "    <tr style=\"text-align: right;\">\n",
       "      <th></th>\n",
       "      <th>Date</th>\n",
       "      <th>YearFrac</th>\n",
       "      <th>DiscountFactor</th>\n",
       "      <th>ZeroRate</th>\n",
       "    </tr>\n",
       "  </thead>\n",
       "  <tbody>\n",
       "    <tr>\n",
       "      <th>0</th>\n",
       "      <td>2024-12-13</td>\n",
       "      <td>0.000</td>\n",
       "      <td>1.000</td>\n",
       "      <td>4.130</td>\n",
       "    </tr>\n",
       "    <tr>\n",
       "      <th>1</th>\n",
       "      <td>2026-11-30</td>\n",
       "      <td>2.000</td>\n",
       "      <td>0.921</td>\n",
       "      <td>4.214</td>\n",
       "    </tr>\n",
       "    <tr>\n",
       "      <th>2</th>\n",
       "      <td>2027-12-15</td>\n",
       "      <td>3.000</td>\n",
       "      <td>0.882</td>\n",
       "      <td>4.280</td>\n",
       "    </tr>\n",
       "    <tr>\n",
       "      <th>3</th>\n",
       "      <td>2029-11-30</td>\n",
       "      <td>5.000</td>\n",
       "      <td>0.812</td>\n",
       "      <td>4.264</td>\n",
       "    </tr>\n",
       "    <tr>\n",
       "      <th>4</th>\n",
       "      <td>2031-11-30</td>\n",
       "      <td>7.000</td>\n",
       "      <td>0.742</td>\n",
       "      <td>4.358</td>\n",
       "    </tr>\n",
       "    <tr>\n",
       "      <th>5</th>\n",
       "      <td>2034-11-15</td>\n",
       "      <td>9.917</td>\n",
       "      <td>0.648</td>\n",
       "      <td>4.476</td>\n",
       "    </tr>\n",
       "    <tr>\n",
       "      <th>6</th>\n",
       "      <td>2044-11-15</td>\n",
       "      <td>19.917</td>\n",
       "      <td>0.390</td>\n",
       "      <td>4.840</td>\n",
       "    </tr>\n",
       "    <tr>\n",
       "      <th>7</th>\n",
       "      <td>2054-11-15</td>\n",
       "      <td>29.917</td>\n",
       "      <td>0.256</td>\n",
       "      <td>4.655</td>\n",
       "    </tr>\n",
       "  </tbody>\n",
       "</table>\n",
       "</div>"
      ],
      "text/plain": [
       "         Date  YearFrac  DiscountFactor  ZeroRate\n",
       "0  2024-12-13     0.000           1.000     4.130\n",
       "1  2026-11-30     2.000           0.921     4.214\n",
       "2  2027-12-15     3.000           0.882     4.280\n",
       "3  2029-11-30     5.000           0.812     4.264\n",
       "4  2031-11-30     7.000           0.742     4.358\n",
       "5  2034-11-15     9.917           0.648     4.476\n",
       "6  2044-11-15    19.917           0.390     4.840\n",
       "7  2054-11-15    29.917           0.256     4.655"
      ]
     },
     "metadata": {},
     "output_type": "display_data"
    }
   ],
   "source": [
    "# Using bid price\n",
    "\n",
    "calc_date = calc_date\n",
    "print(f\"Today's date: {calc_date}\")\n",
    "\n",
    "# Dataframe that must contain: maturity, start_date, coupon, days_settle, dcc, \n",
    "# Must also contain a column for price (can be determined later)\n",
    "treasury_details = df_otr_treasuries_all\n",
    "price_quote_column = 'bidPrice'\n",
    "print(f\"Price Used: {price_quote_column}\")\n",
    "\n",
    "# Yield Curve\n",
    "yield_curve = calibrate_yield_curve_from_frame(calc_date, treasury_details, price_quote_column)\n",
    "# Yield Curve Details Dataframe\n",
    "yield_curve_details_df = get_yield_curve_details_df(yield_curve, curve_dates=None)\n",
    "display(yield_curve_details_df)"
   ]
  },
  {
   "cell_type": "code",
   "execution_count": 18,
   "id": "e5464cc7",
   "metadata": {},
   "outputs": [
    {
     "name": "stdout",
     "output_type": "stream",
     "text": [
      "Today's date: December 13th, 2024\n",
      "Price Used: askPrice\n"
     ]
    },
    {
     "data": {
      "text/html": [
       "<div>\n",
       "<style scoped>\n",
       "    .dataframe tbody tr th:only-of-type {\n",
       "        vertical-align: middle;\n",
       "    }\n",
       "\n",
       "    .dataframe tbody tr th {\n",
       "        vertical-align: top;\n",
       "    }\n",
       "\n",
       "    .dataframe thead th {\n",
       "        text-align: right;\n",
       "    }\n",
       "</style>\n",
       "<table border=\"1\" class=\"dataframe\">\n",
       "  <thead>\n",
       "    <tr style=\"text-align: right;\">\n",
       "      <th></th>\n",
       "      <th>Date</th>\n",
       "      <th>YearFrac</th>\n",
       "      <th>DiscountFactor</th>\n",
       "      <th>ZeroRate</th>\n",
       "    </tr>\n",
       "  </thead>\n",
       "  <tbody>\n",
       "    <tr>\n",
       "      <th>0</th>\n",
       "      <td>2024-12-13</td>\n",
       "      <td>0.000</td>\n",
       "      <td>1.000</td>\n",
       "      <td>4.124</td>\n",
       "    </tr>\n",
       "    <tr>\n",
       "      <th>1</th>\n",
       "      <td>2026-11-30</td>\n",
       "      <td>2.000</td>\n",
       "      <td>0.921</td>\n",
       "      <td>4.210</td>\n",
       "    </tr>\n",
       "    <tr>\n",
       "      <th>2</th>\n",
       "      <td>2027-12-15</td>\n",
       "      <td>3.000</td>\n",
       "      <td>0.882</td>\n",
       "      <td>4.278</td>\n",
       "    </tr>\n",
       "    <tr>\n",
       "      <th>3</th>\n",
       "      <td>2029-11-30</td>\n",
       "      <td>5.000</td>\n",
       "      <td>0.812</td>\n",
       "      <td>4.262</td>\n",
       "    </tr>\n",
       "    <tr>\n",
       "      <th>4</th>\n",
       "      <td>2031-11-30</td>\n",
       "      <td>7.000</td>\n",
       "      <td>0.742</td>\n",
       "      <td>4.356</td>\n",
       "    </tr>\n",
       "    <tr>\n",
       "      <th>5</th>\n",
       "      <td>2034-11-15</td>\n",
       "      <td>9.917</td>\n",
       "      <td>0.648</td>\n",
       "      <td>4.474</td>\n",
       "    </tr>\n",
       "    <tr>\n",
       "      <th>6</th>\n",
       "      <td>2044-11-15</td>\n",
       "      <td>19.917</td>\n",
       "      <td>0.390</td>\n",
       "      <td>4.837</td>\n",
       "    </tr>\n",
       "    <tr>\n",
       "      <th>7</th>\n",
       "      <td>2054-11-15</td>\n",
       "      <td>29.917</td>\n",
       "      <td>0.256</td>\n",
       "      <td>4.653</td>\n",
       "    </tr>\n",
       "  </tbody>\n",
       "</table>\n",
       "</div>"
      ],
      "text/plain": [
       "         Date  YearFrac  DiscountFactor  ZeroRate\n",
       "0  2024-12-13     0.000           1.000     4.124\n",
       "1  2026-11-30     2.000           0.921     4.210\n",
       "2  2027-12-15     3.000           0.882     4.278\n",
       "3  2029-11-30     5.000           0.812     4.262\n",
       "4  2031-11-30     7.000           0.742     4.356\n",
       "5  2034-11-15     9.917           0.648     4.474\n",
       "6  2044-11-15    19.917           0.390     4.837\n",
       "7  2054-11-15    29.917           0.256     4.653"
      ]
     },
     "metadata": {},
     "output_type": "display_data"
    }
   ],
   "source": [
    "# Using ask price\n",
    "\n",
    "calc_date = calc_date\n",
    "print(f\"Today's date: {calc_date}\")\n",
    "\n",
    "# Dataframe that must contain: maturity, start_date, coupon, days_settle, dcc, \n",
    "# Must also contain a column for price (can be determined later)\n",
    "treasury_details = df_otr_treasuries_all\n",
    "price_quote_column = 'askPrice'\n",
    "print(f\"Price Used: {price_quote_column}\")\n",
    "\n",
    "# Yield Curve\n",
    "yield_curve = calibrate_yield_curve_from_frame(calc_date, treasury_details, price_quote_column)\n",
    "# Yield Curve Details Dataframe\n",
    "yield_curve_details_df = get_yield_curve_details_df(yield_curve, curve_dates=None)\n",
    "display(yield_curve_details_df)"
   ]
  },
  {
   "cell_type": "code",
   "execution_count": 19,
   "id": "02b617d3",
   "metadata": {},
   "outputs": [
    {
     "name": "stdout",
     "output_type": "stream",
     "text": [
      "Today's date: December 13th, 2024\n",
      "Price Used: midPrice\n"
     ]
    },
    {
     "data": {
      "text/html": [
       "<div>\n",
       "<style scoped>\n",
       "    .dataframe tbody tr th:only-of-type {\n",
       "        vertical-align: middle;\n",
       "    }\n",
       "\n",
       "    .dataframe tbody tr th {\n",
       "        vertical-align: top;\n",
       "    }\n",
       "\n",
       "    .dataframe thead th {\n",
       "        text-align: right;\n",
       "    }\n",
       "</style>\n",
       "<table border=\"1\" class=\"dataframe\">\n",
       "  <thead>\n",
       "    <tr style=\"text-align: right;\">\n",
       "      <th></th>\n",
       "      <th>Date</th>\n",
       "      <th>YearFrac</th>\n",
       "      <th>DiscountFactor</th>\n",
       "      <th>ZeroRate</th>\n",
       "    </tr>\n",
       "  </thead>\n",
       "  <tbody>\n",
       "    <tr>\n",
       "      <th>0</th>\n",
       "      <td>2024-12-13</td>\n",
       "      <td>0.000</td>\n",
       "      <td>1.000</td>\n",
       "      <td>4.127</td>\n",
       "    </tr>\n",
       "    <tr>\n",
       "      <th>1</th>\n",
       "      <td>2026-11-30</td>\n",
       "      <td>2.000</td>\n",
       "      <td>0.921</td>\n",
       "      <td>4.212</td>\n",
       "    </tr>\n",
       "    <tr>\n",
       "      <th>2</th>\n",
       "      <td>2027-12-15</td>\n",
       "      <td>3.000</td>\n",
       "      <td>0.882</td>\n",
       "      <td>4.279</td>\n",
       "    </tr>\n",
       "    <tr>\n",
       "      <th>3</th>\n",
       "      <td>2029-11-30</td>\n",
       "      <td>5.000</td>\n",
       "      <td>0.812</td>\n",
       "      <td>4.263</td>\n",
       "    </tr>\n",
       "    <tr>\n",
       "      <th>4</th>\n",
       "      <td>2031-11-30</td>\n",
       "      <td>7.000</td>\n",
       "      <td>0.742</td>\n",
       "      <td>4.357</td>\n",
       "    </tr>\n",
       "    <tr>\n",
       "      <th>5</th>\n",
       "      <td>2034-11-15</td>\n",
       "      <td>9.917</td>\n",
       "      <td>0.648</td>\n",
       "      <td>4.475</td>\n",
       "    </tr>\n",
       "    <tr>\n",
       "      <th>6</th>\n",
       "      <td>2044-11-15</td>\n",
       "      <td>19.917</td>\n",
       "      <td>0.390</td>\n",
       "      <td>4.839</td>\n",
       "    </tr>\n",
       "    <tr>\n",
       "      <th>7</th>\n",
       "      <td>2054-11-15</td>\n",
       "      <td>29.917</td>\n",
       "      <td>0.256</td>\n",
       "      <td>4.654</td>\n",
       "    </tr>\n",
       "  </tbody>\n",
       "</table>\n",
       "</div>"
      ],
      "text/plain": [
       "         Date  YearFrac  DiscountFactor  ZeroRate\n",
       "0  2024-12-13     0.000           1.000     4.127\n",
       "1  2026-11-30     2.000           0.921     4.212\n",
       "2  2027-12-15     3.000           0.882     4.279\n",
       "3  2029-11-30     5.000           0.812     4.263\n",
       "4  2031-11-30     7.000           0.742     4.357\n",
       "5  2034-11-15     9.917           0.648     4.475\n",
       "6  2044-11-15    19.917           0.390     4.839\n",
       "7  2054-11-15    29.917           0.256     4.654"
      ]
     },
     "metadata": {},
     "output_type": "display_data"
    }
   ],
   "source": [
    "# Using mid price\n",
    "\n",
    "calc_date = calc_date\n",
    "print(f\"Today's date: {calc_date}\")\n",
    "\n",
    "# Dataframe that must contain: maturity, start_date, coupon, days_settle, dcc, \n",
    "# Must also contain a column for price (can be determined later)\n",
    "treasury_details = df_otr_treasuries_all\n",
    "price_quote_column = 'midPrice'\n",
    "print(f\"Price Used: {price_quote_column}\")\n",
    "\n",
    "# Yield Curve\n",
    "tsy_yield_curve_mid = calibrate_yield_curve_from_frame(calc_date, treasury_details, price_quote_column)\n",
    "\n",
    "# Yield Curve Details Dataframe\n",
    "yield_curve = tsy_yield_curve_mid\n",
    "tsy_yield_curve_mid_details = get_yield_curve_details_df(yield_curve, curve_dates=None)\n",
    "display(tsy_yield_curve_mid_details)"
   ]
  },
  {
   "attachments": {},
   "cell_type": "markdown",
   "id": "c012c6d0",
   "metadata": {},
   "source": [
    "## c. Plot the calibrated US Treasury yield (zero rate) curves\n",
    "\n",
    "Create a graph/scatter plot of the newly computed mid yields by maturity."
   ]
  },
  {
   "cell_type": "code",
   "execution_count": 20,
   "id": "3ab125ea",
   "metadata": {},
   "outputs": [
    {
     "data": {
      "image/png": "[encoded data removed]",
      "text/plain": [
       "<Figure size 1500x500 with 1 Axes>"
      ]
     },
     "metadata": {},
     "output_type": "display_data"
    }
   ],
   "source": [
    "# Input for Scatter Plot\n",
    "x_values = tsy_yield_curve_mid_details[['YearFrac']].values\n",
    "y_values = tsy_yield_curve_mid_details[['ZeroRate']].values\n",
    "\n",
    "plt.figure(figsize=(15, 5))\n",
    "plt.scatter(x_values, y_values, label='Treasury Yields')\n",
    "\n",
    "# Labels and title\n",
    "plt.xlabel(\"Time-to-Maturity (years)\")\n",
    "plt.ylabel(\"Yield (%)\")\n",
    "plt.title(\"Calibrated UST Yield (Zero Rate)\")\n",
    "plt.legend()\n",
    "plt.grid(True)"
   ]
  },
  {
   "attachments": {},
   "cell_type": "markdown",
   "id": "3928bcf3",
   "metadata": {},
   "source": [
    "## d. Plot calibrated discount factors\n",
    "\n",
    "Plot the discount factor curve up to the 30 years point, using a 6 months discretization grid."
   ]
  },
  {
   "cell_type": "code",
   "execution_count": 21,
   "id": "244e1822",
   "metadata": {},
   "outputs": [
    {
     "data": {
      "text/html": [
       "<div>\n",
       "<style scoped>\n",
       "    .dataframe tbody tr th:only-of-type {\n",
       "        vertical-align: middle;\n",
       "    }\n",
       "\n",
       "    .dataframe tbody tr th {\n",
       "        vertical-align: top;\n",
       "    }\n",
       "\n",
       "    .dataframe thead th {\n",
       "        text-align: right;\n",
       "    }\n",
       "</style>\n",
       "<table border=\"1\" class=\"dataframe\">\n",
       "  <thead>\n",
       "    <tr style=\"text-align: right;\">\n",
       "      <th></th>\n",
       "      <th>Date</th>\n",
       "      <th>YearFrac</th>\n",
       "      <th>DiscountFactor</th>\n",
       "      <th>ZeroRate</th>\n",
       "    </tr>\n",
       "  </thead>\n",
       "  <tbody>\n",
       "    <tr>\n",
       "      <th>0</th>\n",
       "      <td>2024-12-13</td>\n",
       "      <td>0.0</td>\n",
       "      <td>1.000</td>\n",
       "      <td>4.127</td>\n",
       "    </tr>\n",
       "    <tr>\n",
       "      <th>1</th>\n",
       "      <td>2025-06-13</td>\n",
       "      <td>0.5</td>\n",
       "      <td>0.980</td>\n",
       "      <td>4.132</td>\n",
       "    </tr>\n",
       "    <tr>\n",
       "      <th>2</th>\n",
       "      <td>2025-12-13</td>\n",
       "      <td>1.0</td>\n",
       "      <td>0.960</td>\n",
       "      <td>4.148</td>\n",
       "    </tr>\n",
       "    <tr>\n",
       "      <th>3</th>\n",
       "      <td>2026-06-13</td>\n",
       "      <td>1.5</td>\n",
       "      <td>0.940</td>\n",
       "      <td>4.175</td>\n",
       "    </tr>\n",
       "    <tr>\n",
       "      <th>4</th>\n",
       "      <td>2026-12-13</td>\n",
       "      <td>2.0</td>\n",
       "      <td>0.921</td>\n",
       "      <td>4.212</td>\n",
       "    </tr>\n",
       "    <tr>\n",
       "      <th>...</th>\n",
       "      <td>...</td>\n",
       "      <td>...</td>\n",
       "      <td>...</td>\n",
       "      <td>...</td>\n",
       "    </tr>\n",
       "    <tr>\n",
       "      <th>56</th>\n",
       "      <td>2052-12-13</td>\n",
       "      <td>28.0</td>\n",
       "      <td>0.276</td>\n",
       "      <td>4.699</td>\n",
       "    </tr>\n",
       "    <tr>\n",
       "      <th>57</th>\n",
       "      <td>2053-06-13</td>\n",
       "      <td>28.5</td>\n",
       "      <td>0.271</td>\n",
       "      <td>4.687</td>\n",
       "    </tr>\n",
       "    <tr>\n",
       "      <th>58</th>\n",
       "      <td>2053-12-13</td>\n",
       "      <td>29.0</td>\n",
       "      <td>0.266</td>\n",
       "      <td>4.675</td>\n",
       "    </tr>\n",
       "    <tr>\n",
       "      <th>59</th>\n",
       "      <td>2054-06-13</td>\n",
       "      <td>29.5</td>\n",
       "      <td>0.261</td>\n",
       "      <td>4.664</td>\n",
       "    </tr>\n",
       "    <tr>\n",
       "      <th>60</th>\n",
       "      <td>2054-12-13</td>\n",
       "      <td>30.0</td>\n",
       "      <td>0.256</td>\n",
       "      <td>4.653</td>\n",
       "    </tr>\n",
       "  </tbody>\n",
       "</table>\n",
       "<p>61 rows × 4 columns</p>\n",
       "</div>"
      ],
      "text/plain": [
       "          Date  YearFrac  DiscountFactor  ZeroRate\n",
       "0   2024-12-13       0.0           1.000     4.127\n",
       "1   2025-06-13       0.5           0.980     4.132\n",
       "2   2025-12-13       1.0           0.960     4.148\n",
       "3   2026-06-13       1.5           0.940     4.175\n",
       "4   2026-12-13       2.0           0.921     4.212\n",
       "..         ...       ...             ...       ...\n",
       "56  2052-12-13      28.0           0.276     4.699\n",
       "57  2053-06-13      28.5           0.271     4.687\n",
       "58  2053-12-13      29.0           0.266     4.675\n",
       "59  2054-06-13      29.5           0.261     4.664\n",
       "60  2054-12-13      30.0           0.256     4.653\n",
       "\n",
       "[61 rows x 4 columns]"
      ]
     },
     "metadata": {},
     "output_type": "display_data"
    }
   ],
   "source": [
    "# Grid Dates for 30 years (y) and the interval is 1 year apart\n",
    "grid_dates = [yield_curve.referenceDate() + ql.Period(y, ql.Years) for y in list(range(0, 31, 1))]\n",
    "\n",
    "# Grid Dates for 30 years (but in months --> m), and each interval is 6 months\n",
    "grid_dates = [yield_curve.referenceDate() + ql.Period(m, ql.Months) for m in range(0, 30 * 12 + 1, 6)]\n",
    "\n",
    "# Yield Curve Details Dataframe\n",
    "yield_curve = tsy_yield_curve_mid\n",
    "tsy_yield_curve_mid_details_extended = get_yield_curve_details_df(yield_curve, grid_dates)     \n",
    "display(tsy_yield_curve_mid_details_extended)"
   ]
  },
  {
   "cell_type": "code",
   "execution_count": 22,
   "id": "6463a763",
   "metadata": {},
   "outputs": [
    {
     "data": {
      "image/png": "[encoded data removed]",
      "text/plain": [
       "<Figure size 1500x500 with 1 Axes>"
      ]
     },
     "metadata": {},
     "output_type": "display_data"
    }
   ],
   "source": [
    "# Input for Scatter Plot\n",
    "x_values = tsy_yield_curve_mid_details_extended[['YearFrac']].values\n",
    "y_values = tsy_yield_curve_mid_details_extended[['DiscountFactor']].values\n",
    "\n",
    "plt.figure(figsize=(15, 5))\n",
    "plt.scatter(x_values, y_values, label='Discount Factor')\n",
    "\n",
    "# Labels and title\n",
    "plt.xlabel(\"Time-to-Maturity (years)\")\n",
    "plt.ylabel(\"Discount Factor\")\n",
    "plt.title(\"Calibrated Discount Factors\")\n",
    "plt.legend()\n",
    "plt.grid(True)"
   ]
  },
  {
   "attachments": {},
   "cell_type": "markdown",
   "id": "2faf5756",
   "metadata": {},
   "source": [
    "------------------------------------------------------------------------------------------\n",
    "# Problem 3: Pricing and risk metrics for US Treasury bonds"
   ]
  },
  {
   "attachments": {},
   "cell_type": "markdown",
   "id": "7abd24b6",
   "metadata": {},
   "source": [
    "## a. US Treasury pricing on the calibrated discount factor curve\n",
    "\n",
    "Follow Section 5. \"Bond Present Value Calculation (no credit risk)\" in the QuantLib Basic notebook to re-price the US on-the-run treasuries using the calibrated discount factor curve. \n",
    "\n",
    "You will need to switch the bond_engine to use the new on-the-run treasury yield curve:\n",
    "bond_engine = ql.DiscountingBondEngine(tsy_yield_curve_mid)\n",
    "\n",
    "Extend the dataframe with the following computed columns for clean mid prices:\n",
    "\n",
    "\n",
    "| calc_mid_price |\n",
    "|---------------|\n",
    "\n",
    "\n",
    "To validate the calibration, compare the calculated clean mid prices to the original market mid prices."
   ]
  },
  {
   "cell_type": "code",
   "execution_count": 23,
   "id": "b9302329",
   "metadata": {},
   "outputs": [],
   "source": [
    "# Yield Curve to use:\n",
    "yield_curve = tsy_yield_curve_mid\n",
    "\n",
    "# Price Engine from the Yield Curve\n",
    "\n",
    "# Add handle for yield curve\n",
    "yield_curve_handle = ql.YieldTermStructureHandle(yield_curve)\n",
    "# Create risk-free discounting engine\n",
    "bond_engine = ql.DiscountingBondEngine(yield_curve_handle)"
   ]
  },
  {
   "cell_type": "code",
   "execution_count": 24,
   "id": "4b69a305",
   "metadata": {},
   "outputs": [
    {
     "name": "stdout",
     "output_type": "stream",
     "text": [
      "<QuantLib.QuantLib.FixedRateBond; proxy of <Swig Object of type 'ext::shared_ptr< FixedRateBond > *' at 0x13e3d9600> >\n",
      "Bond Dirty Price (= adjusted NPV) =  107.8148\n",
      "Bond Clean Price =  106.0182\n"
     ]
    }
   ],
   "source": [
    "# Example for one Treasury (ignore this)\n",
    "\n",
    "# Row \n",
    "row_treasury = symbology[(symbology['security'] == 'T 5 3/8 02/15/31')].iloc[0]\n",
    "# Bond\n",
    "bond_treasury = create_bond_from_symbology(row_treasury)\n",
    "print(bond_treasury)\n",
    "\n",
    "# Appropriate Bond\n",
    "fixed_rate_bond = bond_treasury\n",
    "\n",
    "# fixed_rate_bond PV (price)\n",
    "fixed_rate_bond.setPricingEngine(bond_engine)\n",
    "print('Bond Dirty Price (= adjusted NPV) = ', round(fixed_rate_bond.dirtyPrice(), 4))\n",
    "print('Bond Clean Price = ', round(fixed_rate_bond.cleanPrice(), 4))"
   ]
  },
  {
   "cell_type": "code",
   "execution_count": 25,
   "id": "4843750d",
   "metadata": {},
   "outputs": [
    {
     "data": {
      "text/html": [
       "<div>\n",
       "<style scoped>\n",
       "    .dataframe tbody tr th:only-of-type {\n",
       "        vertical-align: middle;\n",
       "    }\n",
       "\n",
       "    .dataframe tbody tr th {\n",
       "        vertical-align: top;\n",
       "    }\n",
       "\n",
       "    .dataframe thead th {\n",
       "        text-align: right;\n",
       "    }\n",
       "</style>\n",
       "<table border=\"1\" class=\"dataframe\">\n",
       "  <thead>\n",
       "    <tr style=\"text-align: right;\">\n",
       "      <th></th>\n",
       "      <th>isin</th>\n",
       "      <th>calc_mid_price</th>\n",
       "    </tr>\n",
       "  </thead>\n",
       "  <tbody>\n",
       "    <tr>\n",
       "      <th>0</th>\n",
       "      <td>US91282CMB45</td>\n",
       "      <td>99.37890</td>\n",
       "    </tr>\n",
       "    <tr>\n",
       "      <th>1</th>\n",
       "      <td>US91282CLY56</td>\n",
       "      <td>100.00390</td>\n",
       "    </tr>\n",
       "    <tr>\n",
       "      <th>2</th>\n",
       "      <td>US91282CMA61</td>\n",
       "      <td>99.44140</td>\n",
       "    </tr>\n",
       "    <tr>\n",
       "      <th>3</th>\n",
       "      <td>US91282CLZ22</td>\n",
       "      <td>98.80470</td>\n",
       "    </tr>\n",
       "    <tr>\n",
       "      <th>4</th>\n",
       "      <td>US91282CLW90</td>\n",
       "      <td>98.82030</td>\n",
       "    </tr>\n",
       "    <tr>\n",
       "      <th>5</th>\n",
       "      <td>US912810UE63</td>\n",
       "      <td>98.34375</td>\n",
       "    </tr>\n",
       "    <tr>\n",
       "      <th>6</th>\n",
       "      <td>US912810UF39</td>\n",
       "      <td>99.26565</td>\n",
       "    </tr>\n",
       "  </tbody>\n",
       "</table>\n",
       "</div>"
      ],
      "text/plain": [
       "           isin  calc_mid_price\n",
       "0  US91282CMB45        99.37890\n",
       "1  US91282CLY56       100.00390\n",
       "2  US91282CMA61        99.44140\n",
       "3  US91282CLZ22        98.80470\n",
       "4  US91282CLW90        98.82030\n",
       "5  US912810UE63        98.34375\n",
       "6  US912810UF39        99.26565"
      ]
     },
     "metadata": {},
     "output_type": "display_data"
    }
   ],
   "source": [
    "# Yield curve to use\n",
    "yield_curve = tsy_yield_curve_mid\n",
    "# Add handle for yield curve\n",
    "yield_curve_handle = ql.YieldTermStructureHandle(yield_curve)\n",
    "# Create risk-free discounting engine\n",
    "bond_engine = ql.DiscountingBondEngine(yield_curve_handle)\n",
    "\n",
    "prices = []\n",
    "dt_to_iterate = df_otr_treasuries_all\n",
    "\n",
    "# Apply this to the dataframe of On-th-Run Treasuries\n",
    "for index, row in dt_to_iterate.iterrows():\n",
    "    # Bond\n",
    "    bond = create_bond_from_symbology(row)\n",
    "    bond.setPricingEngine(bond_engine)\n",
    "    \n",
    "    clean_price = bond.cleanPrice()\n",
    "    #dirty_price = bond.dirtyPrice()\n",
    "    \n",
    "    prices.append({\n",
    "        'isin': row['isin'],\n",
    "        'calc_mid_price': clean_price,\n",
    "        #'Dirty Price': dirty_price\n",
    "    })\n",
    "\n",
    "# MidPrice using Pricing Engine\n",
    "df_prices_treasuries_1 = pd.DataFrame(prices)\n",
    "display(df_prices_treasuries_1)"
   ]
  },
  {
   "cell_type": "code",
   "execution_count": 26,
   "id": "e57b4b5a",
   "metadata": {},
   "outputs": [
    {
     "data": {
      "text/html": [
       "<div>\n",
       "<style scoped>\n",
       "    .dataframe tbody tr th:only-of-type {\n",
       "        vertical-align: middle;\n",
       "    }\n",
       "\n",
       "    .dataframe tbody tr th {\n",
       "        vertical-align: top;\n",
       "    }\n",
       "\n",
       "    .dataframe thead th {\n",
       "        text-align: right;\n",
       "    }\n",
       "</style>\n",
       "<table border=\"1\" class=\"dataframe\">\n",
       "  <thead>\n",
       "    <tr style=\"text-align: right;\">\n",
       "      <th></th>\n",
       "      <th>isin</th>\n",
       "      <th>midPrice</th>\n",
       "      <th>calc_mid_price</th>\n",
       "      <th>Price_Diff</th>\n",
       "    </tr>\n",
       "  </thead>\n",
       "  <tbody>\n",
       "    <tr>\n",
       "      <th>0</th>\n",
       "      <td>US91282CMB45</td>\n",
       "      <td>99.37890</td>\n",
       "      <td>99.37890</td>\n",
       "      <td>9.379164e-13</td>\n",
       "    </tr>\n",
       "    <tr>\n",
       "      <th>1</th>\n",
       "      <td>US91282CLY56</td>\n",
       "      <td>100.00390</td>\n",
       "      <td>100.00390</td>\n",
       "      <td>2.515321e-12</td>\n",
       "    </tr>\n",
       "    <tr>\n",
       "      <th>2</th>\n",
       "      <td>US91282CMA61</td>\n",
       "      <td>99.44140</td>\n",
       "      <td>99.44140</td>\n",
       "      <td>2.555112e-11</td>\n",
       "    </tr>\n",
       "    <tr>\n",
       "      <th>3</th>\n",
       "      <td>US91282CLZ22</td>\n",
       "      <td>98.80470</td>\n",
       "      <td>98.80470</td>\n",
       "      <td>-1.305978e-11</td>\n",
       "    </tr>\n",
       "    <tr>\n",
       "      <th>4</th>\n",
       "      <td>US91282CLW90</td>\n",
       "      <td>98.82030</td>\n",
       "      <td>98.82030</td>\n",
       "      <td>1.236344e-12</td>\n",
       "    </tr>\n",
       "    <tr>\n",
       "      <th>5</th>\n",
       "      <td>US912810UE63</td>\n",
       "      <td>98.34375</td>\n",
       "      <td>98.34375</td>\n",
       "      <td>7.858603e-12</td>\n",
       "    </tr>\n",
       "    <tr>\n",
       "      <th>6</th>\n",
       "      <td>US912810UF39</td>\n",
       "      <td>99.26565</td>\n",
       "      <td>99.26565</td>\n",
       "      <td>-4.438050e-11</td>\n",
       "    </tr>\n",
       "  </tbody>\n",
       "</table>\n",
       "</div>"
      ],
      "text/plain": [
       "           isin   midPrice  calc_mid_price    Price_Diff\n",
       "0  US91282CMB45   99.37890        99.37890  9.379164e-13\n",
       "1  US91282CLY56  100.00390       100.00390  2.515321e-12\n",
       "2  US91282CMA61   99.44140        99.44140  2.555112e-11\n",
       "3  US91282CLZ22   98.80470        98.80470 -1.305978e-11\n",
       "4  US91282CLW90   98.82030        98.82030  1.236344e-12\n",
       "5  US912810UE63   98.34375        98.34375  7.858603e-12\n",
       "6  US912810UF39   99.26565        99.26565 -4.438050e-11"
      ]
     },
     "metadata": {},
     "output_type": "display_data"
    },
    {
     "name": "stdout",
     "output_type": "stream",
     "text": [
      "Mean Absolute Difference between the 2 Mid Price Columns: 0.0\n"
     ]
    }
   ],
   "source": [
    "# Merging the original dataframe with the new calculated mid price\n",
    "df_otr_treasuries_all_2 = pd.merge(df_otr_treasuries_all, df_prices_treasuries_1, on=['isin'], how='inner')\n",
    "\n",
    "# Difference = Calculated Clean Mid Price - Original Mid Price\n",
    "df_otr_treasuries_all_2['Price_Diff'] = df_otr_treasuries_all_2['calc_mid_price'] - df_otr_treasuries_all_2['midPrice']\n",
    "\n",
    "# Relevant columns\n",
    "df_otr_treasuries_filtered_2 = df_otr_treasuries_all_2[['isin', 'midPrice', 'calc_mid_price', 'Price_Diff']]\n",
    "display(df_otr_treasuries_filtered_2)\n",
    "\n",
    "# Mean Absolute Difference\n",
    "mae = df_otr_treasuries_all_2['Price_Diff'].abs().mean()\n",
    "mae = round(mae, 4)\n",
    "print(f\"Mean Absolute Difference between the 2 Mid Price Columns: {mae}\")"
   ]
  },
  {
   "cell_type": "markdown",
   "id": "1100ebbe",
   "metadata": {},
   "source": [
    "There is no significant difference between the calculated clean mid prices to the original market mid prices. Calibration is validated."
   ]
  },
  {
   "attachments": {},
   "cell_type": "markdown",
   "id": "de37fc66",
   "metadata": {},
   "source": [
    "## b. Compute analytical DV01, Duration and Convexity for US on-the-run treasuries (using flat yield)\n",
    "\n",
    "Compute analytical DV01, Duration and Convexity metrics, as described in Section 7. \"Analytics Duration, Convexity and Z-Spread (flat yield model)\" in the QuantLib Basic notebook.\n",
    "\n",
    "Remember that DV01 = Dirty_Price * Duration. \n",
    "\n",
    "Extend the dataframe with the following calculated risk metrics:\n",
    "\n",
    "\n",
    "| dv01 | duration | convexity |\n",
    "|-------|-------|-------------|\n"
   ]
  },
  {
   "cell_type": "code",
   "execution_count": 27,
   "id": "5e2b00f3",
   "metadata": {},
   "outputs": [
    {
     "data": {
      "text/html": [
       "<div>\n",
       "<style scoped>\n",
       "    .dataframe tbody tr th:only-of-type {\n",
       "        vertical-align: middle;\n",
       "    }\n",
       "\n",
       "    .dataframe tbody tr th {\n",
       "        vertical-align: top;\n",
       "    }\n",
       "\n",
       "    .dataframe thead th {\n",
       "        text-align: right;\n",
       "    }\n",
       "</style>\n",
       "<table border=\"1\" class=\"dataframe\">\n",
       "  <thead>\n",
       "    <tr style=\"text-align: right;\">\n",
       "      <th></th>\n",
       "      <th>isin</th>\n",
       "      <th>DV01</th>\n",
       "      <th>Duration</th>\n",
       "      <th>Convexity</th>\n",
       "    </tr>\n",
       "  </thead>\n",
       "  <tbody>\n",
       "    <tr>\n",
       "      <th>0</th>\n",
       "      <td>US91282CMB45</td>\n",
       "      <td>2.777402</td>\n",
       "      <td>2.794451</td>\n",
       "      <td>9.412534</td>\n",
       "    </tr>\n",
       "    <tr>\n",
       "      <th>1</th>\n",
       "      <td>US91282CLY56</td>\n",
       "      <td>1.858629</td>\n",
       "      <td>1.855091</td>\n",
       "      <td>4.415195</td>\n",
       "    </tr>\n",
       "    <tr>\n",
       "      <th>2</th>\n",
       "      <td>US91282CMA61</td>\n",
       "      <td>4.412674</td>\n",
       "      <td>4.429385</td>\n",
       "      <td>22.942927</td>\n",
       "    </tr>\n",
       "    <tr>\n",
       "      <th>3</th>\n",
       "      <td>US91282CLZ22</td>\n",
       "      <td>5.910952</td>\n",
       "      <td>5.971501</td>\n",
       "      <td>41.654301</td>\n",
       "    </tr>\n",
       "    <tr>\n",
       "      <th>4</th>\n",
       "      <td>US91282CLW90</td>\n",
       "      <td>7.910886</td>\n",
       "      <td>7.975950</td>\n",
       "      <td>75.888085</td>\n",
       "    </tr>\n",
       "    <tr>\n",
       "      <th>5</th>\n",
       "      <td>US912810UE63</td>\n",
       "      <td>15.966515</td>\n",
       "      <td>16.172044</td>\n",
       "      <td>377.793785</td>\n",
       "    </tr>\n",
       "    <tr>\n",
       "      <th>6</th>\n",
       "      <td>US912810UF39</td>\n",
       "      <td>12.799454</td>\n",
       "      <td>12.842899</td>\n",
       "      <td>218.617062</td>\n",
       "    </tr>\n",
       "  </tbody>\n",
       "</table>\n",
       "</div>"
      ],
      "text/plain": [
       "           isin       DV01   Duration   Convexity\n",
       "0  US91282CMB45   2.777402   2.794451    9.412534\n",
       "1  US91282CLY56   1.858629   1.855091    4.415195\n",
       "2  US91282CMA61   4.412674   4.429385   22.942927\n",
       "3  US91282CLZ22   5.910952   5.971501   41.654301\n",
       "4  US91282CLW90   7.910886   7.975950   75.888085\n",
       "5  US912810UE63  15.966515  16.172044  377.793785\n",
       "6  US912810UF39  12.799454  12.842899  218.617062"
      ]
     },
     "metadata": {},
     "output_type": "display_data"
    }
   ],
   "source": [
    "# Yield curve to use\n",
    "yield_curve = tsy_yield_curve_mid\n",
    "# Add handle for yield curve\n",
    "yield_curve_handle = ql.YieldTermStructureHandle(yield_curve)\n",
    "# Create risk-free discounting engine\n",
    "bond_engine = ql.DiscountingBondEngine(yield_curve_handle)\n",
    "\n",
    "prices = []\n",
    "dt_to_iterate = df_otr_treasuries_all\n",
    "\n",
    "# Apply this to the dataframe of On-th-Run Treasuries\n",
    "for index, row in dt_to_iterate.iterrows():\n",
    "    # Bond\n",
    "    bond = create_bond_from_symbology(row)\n",
    "    bond.setPricingEngine(bond_engine)\n",
    "    \n",
    "    clean_price = bond.cleanPrice()\n",
    "    dirty_price = bond.dirtyPrice()\n",
    "    \n",
    "    # For US Treasuries use ql.ActualActual(ql.ActualActual.ISMA)\n",
    "    # For US Corporate bonds use ql.Thirty360(ql.Thirty360.USA)\n",
    "    day_count = ql.ActualActual(ql.ActualActual.ISMA)\n",
    "\n",
    "    flat_bond_yield = row['midYield'] * 1e-2 # in pct\n",
    "    compounding = ql.Compounded\n",
    "    coupon_freq = ql.Semiannual\n",
    "\n",
    "    # Bond Yield Rate, use the flat bond yield\n",
    "    bond_yield_rate = ql.InterestRate(flat_bond_yield, day_count, compounding, coupon_freq)\n",
    "    \n",
    "    bond_duration = ql.BondFunctions.duration(bond, bond_yield_rate)\n",
    "    bond_convexity = ql.BondFunctions.convexity(bond, bond_yield_rate)\n",
    "    dv01 = dirty_price * bond_duration / 100\n",
    "    \n",
    "    prices.append({\n",
    "        'isin': row['isin'],\n",
    "        #'calc_mid_price': clean_price,\n",
    "        #'Dirty Price': dirty_price,\n",
    "        'DV01': dv01,\n",
    "        'Duration': bond_duration,\n",
    "        'Convexity': bond_convexity,\n",
    "    })\n",
    "\n",
    "# MidPrice using Pricing Engine\n",
    "df_prices_treasuries_2 = pd.DataFrame(prices)\n",
    "display(df_prices_treasuries_2)"
   ]
  },
  {
   "cell_type": "code",
   "execution_count": 28,
   "id": "89e7f047",
   "metadata": {},
   "outputs": [
    {
     "data": {
      "text/html": [
       "<div>\n",
       "<style scoped>\n",
       "    .dataframe tbody tr th:only-of-type {\n",
       "        vertical-align: middle;\n",
       "    }\n",
       "\n",
       "    .dataframe tbody tr th {\n",
       "        vertical-align: top;\n",
       "    }\n",
       "\n",
       "    .dataframe thead th {\n",
       "        text-align: right;\n",
       "    }\n",
       "</style>\n",
       "<table border=\"1\" class=\"dataframe\">\n",
       "  <thead>\n",
       "    <tr style=\"text-align: right;\">\n",
       "      <th></th>\n",
       "      <th>isin</th>\n",
       "      <th>midPrice</th>\n",
       "      <th>calc_mid_price</th>\n",
       "      <th>Price_Diff</th>\n",
       "      <th>DV01</th>\n",
       "      <th>Duration</th>\n",
       "      <th>Convexity</th>\n",
       "    </tr>\n",
       "  </thead>\n",
       "  <tbody>\n",
       "    <tr>\n",
       "      <th>0</th>\n",
       "      <td>US91282CMB45</td>\n",
       "      <td>99.37890</td>\n",
       "      <td>99.37890</td>\n",
       "      <td>9.379164e-13</td>\n",
       "      <td>2.777402</td>\n",
       "      <td>2.794451</td>\n",
       "      <td>9.412534</td>\n",
       "    </tr>\n",
       "    <tr>\n",
       "      <th>1</th>\n",
       "      <td>US91282CLY56</td>\n",
       "      <td>100.00390</td>\n",
       "      <td>100.00390</td>\n",
       "      <td>2.515321e-12</td>\n",
       "      <td>1.858629</td>\n",
       "      <td>1.855091</td>\n",
       "      <td>4.415195</td>\n",
       "    </tr>\n",
       "    <tr>\n",
       "      <th>2</th>\n",
       "      <td>US91282CMA61</td>\n",
       "      <td>99.44140</td>\n",
       "      <td>99.44140</td>\n",
       "      <td>2.555112e-11</td>\n",
       "      <td>4.412674</td>\n",
       "      <td>4.429385</td>\n",
       "      <td>22.942927</td>\n",
       "    </tr>\n",
       "    <tr>\n",
       "      <th>3</th>\n",
       "      <td>US91282CLZ22</td>\n",
       "      <td>98.80470</td>\n",
       "      <td>98.80470</td>\n",
       "      <td>-1.305978e-11</td>\n",
       "      <td>5.910952</td>\n",
       "      <td>5.971501</td>\n",
       "      <td>41.654301</td>\n",
       "    </tr>\n",
       "    <tr>\n",
       "      <th>4</th>\n",
       "      <td>US91282CLW90</td>\n",
       "      <td>98.82030</td>\n",
       "      <td>98.82030</td>\n",
       "      <td>1.236344e-12</td>\n",
       "      <td>7.910886</td>\n",
       "      <td>7.975950</td>\n",
       "      <td>75.888085</td>\n",
       "    </tr>\n",
       "    <tr>\n",
       "      <th>5</th>\n",
       "      <td>US912810UE63</td>\n",
       "      <td>98.34375</td>\n",
       "      <td>98.34375</td>\n",
       "      <td>7.858603e-12</td>\n",
       "      <td>15.966515</td>\n",
       "      <td>16.172044</td>\n",
       "      <td>377.793785</td>\n",
       "    </tr>\n",
       "    <tr>\n",
       "      <th>6</th>\n",
       "      <td>US912810UF39</td>\n",
       "      <td>99.26565</td>\n",
       "      <td>99.26565</td>\n",
       "      <td>-4.438050e-11</td>\n",
       "      <td>12.799454</td>\n",
       "      <td>12.842899</td>\n",
       "      <td>218.617062</td>\n",
       "    </tr>\n",
       "  </tbody>\n",
       "</table>\n",
       "</div>"
      ],
      "text/plain": [
       "           isin   midPrice  calc_mid_price    Price_Diff       DV01  \\\n",
       "0  US91282CMB45   99.37890        99.37890  9.379164e-13   2.777402   \n",
       "1  US91282CLY56  100.00390       100.00390  2.515321e-12   1.858629   \n",
       "2  US91282CMA61   99.44140        99.44140  2.555112e-11   4.412674   \n",
       "3  US91282CLZ22   98.80470        98.80470 -1.305978e-11   5.910952   \n",
       "4  US91282CLW90   98.82030        98.82030  1.236344e-12   7.910886   \n",
       "5  US912810UE63   98.34375        98.34375  7.858603e-12  15.966515   \n",
       "6  US912810UF39   99.26565        99.26565 -4.438050e-11  12.799454   \n",
       "\n",
       "    Duration   Convexity  \n",
       "0   2.794451    9.412534  \n",
       "1   1.855091    4.415195  \n",
       "2   4.429385   22.942927  \n",
       "3   5.971501   41.654301  \n",
       "4   7.975950   75.888085  \n",
       "5  16.172044  377.793785  \n",
       "6  12.842899  218.617062  "
      ]
     },
     "metadata": {},
     "output_type": "display_data"
    }
   ],
   "source": [
    "# Merging the original dataframe \n",
    "df_otr_treasuries_all_3 = pd.merge(df_otr_treasuries_all_2, df_prices_treasuries_2, on=['isin'], how='inner')\n",
    "\n",
    "# Relevant columns\n",
    "df_otr_treasuries_filtered_3 = df_otr_treasuries_all_3[['isin','midPrice', 'calc_mid_price', 'Price_Diff',\n",
    "                                                        'DV01', 'Duration', 'Convexity'\n",
    "                                                        ]]\n",
    "display(df_otr_treasuries_filtered_3)\n"
   ]
  },
  {
   "attachments": {},
   "cell_type": "markdown",
   "id": "74f1f3a3",
   "metadata": {},
   "source": [
    "## c. Compute scenario DV01, Duration and Convexity for US on-the-run treasuries (using calibrated yield curve)\n",
    "\n",
    "Compute the scenario DV01, Duration and Convexity metrics using +/-1bp interest rate shocks, as described in Section 6. \"Market Data Scenarios\" in the QuantLib Basic notebook.\n",
    "\n",
    "Remember that DV01 = Dirty_Price * Duration.\n",
    "\n",
    "Extend the dataframe with the following scenario sensitivities metrics:\n",
    "\n",
    "| scen_dv01 | scen_duration | scen_convexity |\n",
    "|-------|-------|-------------|\n",
    "\n"
   ]
  },
  {
   "cell_type": "code",
   "execution_count": 29,
   "id": "44d744ea",
   "metadata": {},
   "outputs": [
    {
     "data": {
      "text/html": [
       "<div>\n",
       "<style scoped>\n",
       "    .dataframe tbody tr th:only-of-type {\n",
       "        vertical-align: middle;\n",
       "    }\n",
       "\n",
       "    .dataframe tbody tr th {\n",
       "        vertical-align: top;\n",
       "    }\n",
       "\n",
       "    .dataframe thead th {\n",
       "        text-align: right;\n",
       "    }\n",
       "</style>\n",
       "<table border=\"1\" class=\"dataframe\">\n",
       "  <thead>\n",
       "    <tr style=\"text-align: right;\">\n",
       "      <th></th>\n",
       "      <th>isin</th>\n",
       "      <th>price_base</th>\n",
       "      <th>price_up_1bp</th>\n",
       "      <th>price_down_1bp</th>\n",
       "      <th>scen_dv01</th>\n",
       "      <th>scen_duration</th>\n",
       "      <th>scen_convexity</th>\n",
       "    </tr>\n",
       "  </thead>\n",
       "  <tbody>\n",
       "    <tr>\n",
       "      <th>0</th>\n",
       "      <td>US91282CMB45</td>\n",
       "      <td>99.37890</td>\n",
       "      <td>99.350600</td>\n",
       "      <td>99.407208</td>\n",
       "      <td>2.8308</td>\n",
       "      <td>2.8482</td>\n",
       "      <td>8.3556</td>\n",
       "    </tr>\n",
       "    <tr>\n",
       "      <th>1</th>\n",
       "      <td>US91282CLY56</td>\n",
       "      <td>100.00390</td>\n",
       "      <td>99.984563</td>\n",
       "      <td>100.023241</td>\n",
       "      <td>1.9341</td>\n",
       "      <td>1.9304</td>\n",
       "      <td>3.7942</td>\n",
       "    </tr>\n",
       "    <tr>\n",
       "      <th>2</th>\n",
       "      <td>US91282CMA61</td>\n",
       "      <td>99.44140</td>\n",
       "      <td>99.395989</td>\n",
       "      <td>99.486833</td>\n",
       "      <td>4.5433</td>\n",
       "      <td>4.5605</td>\n",
       "      <td>21.9925</td>\n",
       "    </tr>\n",
       "    <tr>\n",
       "      <th>3</th>\n",
       "      <td>US91282CLZ22</td>\n",
       "      <td>98.80470</td>\n",
       "      <td>98.743990</td>\n",
       "      <td>98.865451</td>\n",
       "      <td>6.0751</td>\n",
       "      <td>6.1373</td>\n",
       "      <td>40.8507</td>\n",
       "    </tr>\n",
       "    <tr>\n",
       "      <th>4</th>\n",
       "      <td>US91282CLW90</td>\n",
       "      <td>98.82030</td>\n",
       "      <td>98.739636</td>\n",
       "      <td>98.901038</td>\n",
       "      <td>8.0738</td>\n",
       "      <td>8.1402</td>\n",
       "      <td>74.9672</td>\n",
       "    </tr>\n",
       "    <tr>\n",
       "      <th>5</th>\n",
       "      <td>US912810UE63</td>\n",
       "      <td>98.34375</td>\n",
       "      <td>98.181525</td>\n",
       "      <td>98.506355</td>\n",
       "      <td>16.2605</td>\n",
       "      <td>16.4698</td>\n",
       "      <td>384.4929</td>\n",
       "    </tr>\n",
       "    <tr>\n",
       "      <th>6</th>\n",
       "      <td>US912810UF39</td>\n",
       "      <td>99.26565</td>\n",
       "      <td>99.135901</td>\n",
       "      <td>99.395618</td>\n",
       "      <td>12.9968</td>\n",
       "      <td>13.0409</td>\n",
       "      <td>219.4308</td>\n",
       "    </tr>\n",
       "  </tbody>\n",
       "</table>\n",
       "</div>"
      ],
      "text/plain": [
       "           isin  price_base  price_up_1bp  price_down_1bp  scen_dv01  \\\n",
       "0  US91282CMB45    99.37890     99.350600       99.407208     2.8308   \n",
       "1  US91282CLY56   100.00390     99.984563      100.023241     1.9341   \n",
       "2  US91282CMA61    99.44140     99.395989       99.486833     4.5433   \n",
       "3  US91282CLZ22    98.80470     98.743990       98.865451     6.0751   \n",
       "4  US91282CLW90    98.82030     98.739636       98.901038     8.0738   \n",
       "5  US912810UE63    98.34375     98.181525       98.506355    16.2605   \n",
       "6  US912810UF39    99.26565     99.135901       99.395618    12.9968   \n",
       "\n",
       "   scen_duration  scen_convexity  \n",
       "0         2.8482          8.3556  \n",
       "1         1.9304          3.7942  \n",
       "2         4.5605         21.9925  \n",
       "3         6.1373         40.8507  \n",
       "4         8.1402         74.9672  \n",
       "5        16.4698        384.4929  \n",
       "6        13.0409        219.4308  "
      ]
     },
     "metadata": {},
     "output_type": "display_data"
    }
   ],
   "source": [
    "# Yield curve to use\n",
    "yield_curve = tsy_yield_curve_mid\n",
    "# Add handle for yield curve\n",
    "yield_curve_handle = ql.YieldTermStructureHandle(yield_curve)\n",
    "# Create risk-free discounting engine\n",
    "bond_engine = ql.DiscountingBondEngine(yield_curve_handle)\n",
    "\n",
    "prices = []\n",
    "\n",
    "# Apply this to the dataframe of On-the-Run Treasuries\n",
    "for index, row in df_otr_treasuries_all.iterrows():\n",
    "    # Bond\n",
    "    bond = create_bond_from_symbology(row)\n",
    "    \n",
    "    # Start with base case: interest_rate_bump = 0\n",
    "    interest_rate_bump = ql.SimpleQuote(0.0)\n",
    "    yield_curve_bumped = ql.ZeroSpreadedTermStructure(yield_curve_handle, ql.QuoteHandle(interest_rate_bump))\n",
    "\n",
    "    # Create risk-free discounting engine for base + parallel shift scenarios\n",
    "    bond_engine_scen = ql.DiscountingBondEngine(ql.YieldTermStructureHandle(yield_curve_bumped))\n",
    "    bond.setPricingEngine(bond_engine_scen)\n",
    "        \n",
    "    price_base = bond.cleanPrice()\n",
    "    \n",
    "    # Bump interest rate by +1bps (parallel shift)\n",
    "    interest_rate_bump.setValue(0.0001)\n",
    "    price_up_1bp = bond.cleanPrice()\n",
    "\n",
    "    # Bump interest rate by -1bps (parallel shift)\n",
    "    interest_rate_bump.setValue(-0.0001)\n",
    "    price_down_1bp = bond.cleanPrice()\n",
    "    \n",
    "    # Reset interest rate bump\n",
    "    interest_rate_bump.setValue(0)\n",
    "\n",
    "    # Compute dirty price in base senario\n",
    "    dirty_price_base = bond.dirtyPrice()\n",
    "\n",
    "    # Compute scenario delta/gamma sensitivities\n",
    "    scen_dv01 = round((price_down_1bp - price_base) * 1e4 / 100, 4)\n",
    "    scen_duration = round(scen_dv01 / dirty_price_base * 100, 4)\n",
    "    gamma_1bp = (price_down_1bp - 2*price_base + price_up_1bp) * 1e8 / 100\n",
    "    scen_convexity = round(gamma_1bp / dirty_price_base * 100, 4)\n",
    "\n",
    "    prices.append({\n",
    "        'isin': row['isin'],\n",
    "        'price_base': price_base,\n",
    "        'price_up_1bp': price_up_1bp,\n",
    "        'price_down_1bp': price_down_1bp,\n",
    "        'scen_dv01': scen_dv01,\n",
    "        'scen_duration': scen_duration,\n",
    "        'scen_convexity': scen_convexity,\n",
    "    })\n",
    "\n",
    "# MidPrice using Pricing Engine\n",
    "df_prices_treasuries_3 = pd.DataFrame(prices)\n",
    "display(df_prices_treasuries_3)"
   ]
  },
  {
   "cell_type": "code",
   "execution_count": 30,
   "id": "595e590c",
   "metadata": {},
   "outputs": [
    {
     "data": {
      "text/html": [
       "<div>\n",
       "<style scoped>\n",
       "    .dataframe tbody tr th:only-of-type {\n",
       "        vertical-align: middle;\n",
       "    }\n",
       "\n",
       "    .dataframe tbody tr th {\n",
       "        vertical-align: top;\n",
       "    }\n",
       "\n",
       "    .dataframe thead th {\n",
       "        text-align: right;\n",
       "    }\n",
       "</style>\n",
       "<table border=\"1\" class=\"dataframe\">\n",
       "  <thead>\n",
       "    <tr style=\"text-align: right;\">\n",
       "      <th></th>\n",
       "      <th>isin</th>\n",
       "      <th>midPrice</th>\n",
       "      <th>calc_mid_price</th>\n",
       "      <th>Price_Diff</th>\n",
       "      <th>DV01</th>\n",
       "      <th>Duration</th>\n",
       "      <th>Convexity</th>\n",
       "      <th>scen_dv01</th>\n",
       "      <th>scen_duration</th>\n",
       "      <th>scen_convexity</th>\n",
       "    </tr>\n",
       "  </thead>\n",
       "  <tbody>\n",
       "    <tr>\n",
       "      <th>0</th>\n",
       "      <td>US91282CMB45</td>\n",
       "      <td>99.37890</td>\n",
       "      <td>99.37890</td>\n",
       "      <td>9.379164e-13</td>\n",
       "      <td>2.777402</td>\n",
       "      <td>2.794451</td>\n",
       "      <td>9.412534</td>\n",
       "      <td>2.8308</td>\n",
       "      <td>2.8482</td>\n",
       "      <td>8.3556</td>\n",
       "    </tr>\n",
       "    <tr>\n",
       "      <th>1</th>\n",
       "      <td>US91282CLY56</td>\n",
       "      <td>100.00390</td>\n",
       "      <td>100.00390</td>\n",
       "      <td>2.515321e-12</td>\n",
       "      <td>1.858629</td>\n",
       "      <td>1.855091</td>\n",
       "      <td>4.415195</td>\n",
       "      <td>1.9341</td>\n",
       "      <td>1.9304</td>\n",
       "      <td>3.7942</td>\n",
       "    </tr>\n",
       "    <tr>\n",
       "      <th>2</th>\n",
       "      <td>US91282CMA61</td>\n",
       "      <td>99.44140</td>\n",
       "      <td>99.44140</td>\n",
       "      <td>2.555112e-11</td>\n",
       "      <td>4.412674</td>\n",
       "      <td>4.429385</td>\n",
       "      <td>22.942927</td>\n",
       "      <td>4.5433</td>\n",
       "      <td>4.5605</td>\n",
       "      <td>21.9925</td>\n",
       "    </tr>\n",
       "    <tr>\n",
       "      <th>3</th>\n",
       "      <td>US91282CLZ22</td>\n",
       "      <td>98.80470</td>\n",
       "      <td>98.80470</td>\n",
       "      <td>-1.305978e-11</td>\n",
       "      <td>5.910952</td>\n",
       "      <td>5.971501</td>\n",
       "      <td>41.654301</td>\n",
       "      <td>6.0751</td>\n",
       "      <td>6.1373</td>\n",
       "      <td>40.8507</td>\n",
       "    </tr>\n",
       "    <tr>\n",
       "      <th>4</th>\n",
       "      <td>US91282CLW90</td>\n",
       "      <td>98.82030</td>\n",
       "      <td>98.82030</td>\n",
       "      <td>1.236344e-12</td>\n",
       "      <td>7.910886</td>\n",
       "      <td>7.975950</td>\n",
       "      <td>75.888085</td>\n",
       "      <td>8.0738</td>\n",
       "      <td>8.1402</td>\n",
       "      <td>74.9672</td>\n",
       "    </tr>\n",
       "    <tr>\n",
       "      <th>5</th>\n",
       "      <td>US912810UE63</td>\n",
       "      <td>98.34375</td>\n",
       "      <td>98.34375</td>\n",
       "      <td>7.858603e-12</td>\n",
       "      <td>15.966515</td>\n",
       "      <td>16.172044</td>\n",
       "      <td>377.793785</td>\n",
       "      <td>16.2605</td>\n",
       "      <td>16.4698</td>\n",
       "      <td>384.4929</td>\n",
       "    </tr>\n",
       "    <tr>\n",
       "      <th>6</th>\n",
       "      <td>US912810UF39</td>\n",
       "      <td>99.26565</td>\n",
       "      <td>99.26565</td>\n",
       "      <td>-4.438050e-11</td>\n",
       "      <td>12.799454</td>\n",
       "      <td>12.842899</td>\n",
       "      <td>218.617062</td>\n",
       "      <td>12.9968</td>\n",
       "      <td>13.0409</td>\n",
       "      <td>219.4308</td>\n",
       "    </tr>\n",
       "  </tbody>\n",
       "</table>\n",
       "</div>"
      ],
      "text/plain": [
       "           isin   midPrice  calc_mid_price    Price_Diff       DV01  \\\n",
       "0  US91282CMB45   99.37890        99.37890  9.379164e-13   2.777402   \n",
       "1  US91282CLY56  100.00390       100.00390  2.515321e-12   1.858629   \n",
       "2  US91282CMA61   99.44140        99.44140  2.555112e-11   4.412674   \n",
       "3  US91282CLZ22   98.80470        98.80470 -1.305978e-11   5.910952   \n",
       "4  US91282CLW90   98.82030        98.82030  1.236344e-12   7.910886   \n",
       "5  US912810UE63   98.34375        98.34375  7.858603e-12  15.966515   \n",
       "6  US912810UF39   99.26565        99.26565 -4.438050e-11  12.799454   \n",
       "\n",
       "    Duration   Convexity  scen_dv01  scen_duration  scen_convexity  \n",
       "0   2.794451    9.412534     2.8308         2.8482          8.3556  \n",
       "1   1.855091    4.415195     1.9341         1.9304          3.7942  \n",
       "2   4.429385   22.942927     4.5433         4.5605         21.9925  \n",
       "3   5.971501   41.654301     6.0751         6.1373         40.8507  \n",
       "4   7.975950   75.888085     8.0738         8.1402         74.9672  \n",
       "5  16.172044  377.793785    16.2605        16.4698        384.4929  \n",
       "6  12.842899  218.617062    12.9968        13.0409        219.4308  "
      ]
     },
     "metadata": {},
     "output_type": "display_data"
    }
   ],
   "source": [
    "# Merging the original dataframe \n",
    "df_otr_treasuries_all_4 = pd.merge(df_otr_treasuries_all_3, df_prices_treasuries_3, on=['isin'], how='inner')\n",
    "\n",
    "# Relevant columns\n",
    "df_otr_treasuries_filtered_4 = df_otr_treasuries_all_4[['isin', 'midPrice', 'calc_mid_price', 'Price_Diff',\n",
    "                                                        'DV01', 'Duration', 'Convexity', 'scen_dv01', 'scen_duration', 'scen_convexity'\n",
    "                                                        ]]\n",
    "display(df_otr_treasuries_filtered_4)"
   ]
  },
  {
   "attachments": {},
   "cell_type": "markdown",
   "id": "904f222d",
   "metadata": {},
   "source": [
    "------------------------------------------------------------------------------------------\n",
    "# Problem 4: Pricing and risk metrics for corporate bonds"
   ]
  },
  {
   "attachments": {},
   "cell_type": "markdown",
   "id": "2b9f864d",
   "metadata": {},
   "source": [
    "## a. Create the fixed-rate corporate bond objects\n",
    "\n",
    "Restrict the symbology dataframe to fixed rate corporate bonds only and create the corporate bond objects. \n",
    "\n",
    "Display the future cashflows for the `AAPL 2.2 09/11/29` bond."
   ]
  },
  {
   "cell_type": "code",
   "execution_count": 31,
   "id": "a0e4b990",
   "metadata": {},
   "outputs": [
    {
     "data": {
      "text/html": [
       "<div>\n",
       "<style scoped>\n",
       "    .dataframe tbody tr th:only-of-type {\n",
       "        vertical-align: middle;\n",
       "    }\n",
       "\n",
       "    .dataframe tbody tr th {\n",
       "        vertical-align: top;\n",
       "    }\n",
       "\n",
       "    .dataframe thead th {\n",
       "        text-align: right;\n",
       "    }\n",
       "</style>\n",
       "<table border=\"1\" class=\"dataframe\">\n",
       "  <thead>\n",
       "    <tr style=\"text-align: right;\">\n",
       "      <th></th>\n",
       "      <th>ticker</th>\n",
       "      <th>class</th>\n",
       "      <th>figi</th>\n",
       "      <th>isin</th>\n",
       "      <th>und_bench_isin</th>\n",
       "      <th>security</th>\n",
       "      <th>name</th>\n",
       "      <th>type</th>\n",
       "      <th>coupon</th>\n",
       "      <th>cpn_type</th>\n",
       "      <th>...</th>\n",
       "      <th>acc_first</th>\n",
       "      <th>maturity</th>\n",
       "      <th>mty_typ</th>\n",
       "      <th>rank</th>\n",
       "      <th>amt_out</th>\n",
       "      <th>country</th>\n",
       "      <th>currency</th>\n",
       "      <th>status</th>\n",
       "      <th>term</th>\n",
       "      <th>TTM</th>\n",
       "    </tr>\n",
       "  </thead>\n",
       "  <tbody>\n",
       "    <tr>\n",
       "      <th>0</th>\n",
       "      <td>AAPL</td>\n",
       "      <td>Corp</td>\n",
       "      <td>BBG004HST0K7</td>\n",
       "      <td>US037833AL42</td>\n",
       "      <td>US912810UF39</td>\n",
       "      <td>AAPL 3.85 05/04/43</td>\n",
       "      <td>APPLE INC</td>\n",
       "      <td>GLOBAL</td>\n",
       "      <td>3.85</td>\n",
       "      <td>FIXED</td>\n",
       "      <td>...</td>\n",
       "      <td>2013-05-03</td>\n",
       "      <td>2043-05-04</td>\n",
       "      <td>AT MATURITY</td>\n",
       "      <td>Sr Unsecured</td>\n",
       "      <td>3000.0</td>\n",
       "      <td>US</td>\n",
       "      <td>USD</td>\n",
       "      <td>ACTV</td>\n",
       "      <td>30.001369</td>\n",
       "      <td>18.387406</td>\n",
       "    </tr>\n",
       "    <tr>\n",
       "      <th>1</th>\n",
       "      <td>AAPL</td>\n",
       "      <td>Corp</td>\n",
       "      <td>BBG006F8VWJ7</td>\n",
       "      <td>US037833AT77</td>\n",
       "      <td>US912810UF39</td>\n",
       "      <td>AAPL 4.45 05/06/44</td>\n",
       "      <td>APPLE INC</td>\n",
       "      <td>GLOBAL</td>\n",
       "      <td>4.45</td>\n",
       "      <td>FIXED</td>\n",
       "      <td>...</td>\n",
       "      <td>2014-05-06</td>\n",
       "      <td>2044-05-06</td>\n",
       "      <td>AT MATURITY</td>\n",
       "      <td>Sr Unsecured</td>\n",
       "      <td>1000.0</td>\n",
       "      <td>US</td>\n",
       "      <td>USD</td>\n",
       "      <td>ACTV</td>\n",
       "      <td>30.001369</td>\n",
       "      <td>19.394935</td>\n",
       "    </tr>\n",
       "    <tr>\n",
       "      <th>2</th>\n",
       "      <td>AAPL</td>\n",
       "      <td>Corp</td>\n",
       "      <td>BBG0081TNL50</td>\n",
       "      <td>US037833BA77</td>\n",
       "      <td>US912810UF39</td>\n",
       "      <td>AAPL 3.45 02/09/45</td>\n",
       "      <td>APPLE INC</td>\n",
       "      <td>GLOBAL</td>\n",
       "      <td>3.45</td>\n",
       "      <td>FIXED</td>\n",
       "      <td>...</td>\n",
       "      <td>2015-02-09</td>\n",
       "      <td>2045-02-09</td>\n",
       "      <td>AT MATURITY</td>\n",
       "      <td>Sr Unsecured</td>\n",
       "      <td>2000.0</td>\n",
       "      <td>US</td>\n",
       "      <td>USD</td>\n",
       "      <td>ACTV</td>\n",
       "      <td>30.001369</td>\n",
       "      <td>20.158795</td>\n",
       "    </tr>\n",
       "  </tbody>\n",
       "</table>\n",
       "<p>3 rows × 25 columns</p>\n",
       "</div>"
      ],
      "text/plain": [
       "  ticker class          figi          isin und_bench_isin            security  \\\n",
       "0   AAPL  Corp  BBG004HST0K7  US037833AL42   US912810UF39  AAPL 3.85 05/04/43   \n",
       "1   AAPL  Corp  BBG006F8VWJ7  US037833AT77   US912810UF39  AAPL 4.45 05/06/44   \n",
       "2   AAPL  Corp  BBG0081TNL50  US037833BA77   US912810UF39  AAPL 3.45 02/09/45   \n",
       "\n",
       "        name    type  coupon cpn_type  ...  acc_first   maturity      mty_typ  \\\n",
       "0  APPLE INC  GLOBAL    3.85    FIXED  ... 2013-05-03 2043-05-04  AT MATURITY   \n",
       "1  APPLE INC  GLOBAL    4.45    FIXED  ... 2014-05-06 2044-05-06  AT MATURITY   \n",
       "2  APPLE INC  GLOBAL    3.45    FIXED  ... 2015-02-09 2045-02-09  AT MATURITY   \n",
       "\n",
       "           rank amt_out country currency status       term        TTM  \n",
       "0  Sr Unsecured  3000.0      US      USD   ACTV  30.001369  18.387406  \n",
       "1  Sr Unsecured  1000.0      US      USD   ACTV  30.001369  19.394935  \n",
       "2  Sr Unsecured  2000.0      US      USD   ACTV  30.001369  20.158795  \n",
       "\n",
       "[3 rows x 25 columns]"
      ]
     },
     "execution_count": 31,
     "metadata": {},
     "output_type": "execute_result"
    }
   ],
   "source": [
    "# Bond Symbology Dataframe = Containing both corporate and US Government Bonds\n",
    "filepath_rawdata = f'./data/bond_symbology.xlsx'\n",
    "bond_symbology = pd.read_excel(filepath_rawdata)\n",
    "days_in_year = 365.25\n",
    "date_today = pd.to_datetime('2024-12-13')\n",
    "bond_symbology['term'] = ((bond_symbology['maturity']) - bond_symbology['start_date']).dt.days /days_in_year\n",
    "bond_symbology['TTM'] = ((bond_symbology['maturity'] - date_today)).dt.days /days_in_year\n",
    "# If TTM is less than or equal to 0, then it's 0\n",
    "bond_symbology.loc[bond_symbology['TTM'] <= 0, 'TTM'] = 0\n",
    "\n",
    "# Symbology Corp = Corporate Bond Dataframe\n",
    "symbology_corp = bond_symbology[(bond_symbology['class'] == 'Corp') & \n",
    "                      (bond_symbology['cpn_type'] == 'FIXED')\n",
    "                      ]\n",
    "symbology_corp.head(3)"
   ]
  },
  {
   "cell_type": "code",
   "execution_count": 32,
   "id": "e382d52f",
   "metadata": {},
   "outputs": [
    {
     "data": {
      "text/html": [
       "<div>\n",
       "<style scoped>\n",
       "    .dataframe tbody tr th:only-of-type {\n",
       "        vertical-align: middle;\n",
       "    }\n",
       "\n",
       "    .dataframe tbody tr th {\n",
       "        vertical-align: top;\n",
       "    }\n",
       "\n",
       "    .dataframe thead th {\n",
       "        text-align: right;\n",
       "    }\n",
       "</style>\n",
       "<table border=\"1\" class=\"dataframe\">\n",
       "  <thead>\n",
       "    <tr style=\"text-align: right;\">\n",
       "      <th></th>\n",
       "      <th>ticker</th>\n",
       "      <th>class</th>\n",
       "      <th>figi</th>\n",
       "      <th>isin</th>\n",
       "      <th>und_bench_isin</th>\n",
       "      <th>security</th>\n",
       "      <th>name</th>\n",
       "      <th>type</th>\n",
       "      <th>coupon</th>\n",
       "      <th>cpn_type</th>\n",
       "      <th>...</th>\n",
       "      <th>start_date</th>\n",
       "      <th>cpn_first</th>\n",
       "      <th>acc_first</th>\n",
       "      <th>maturity</th>\n",
       "      <th>mty_typ</th>\n",
       "      <th>rank</th>\n",
       "      <th>amt_out</th>\n",
       "      <th>country</th>\n",
       "      <th>currency</th>\n",
       "      <th>status</th>\n",
       "    </tr>\n",
       "  </thead>\n",
       "  <tbody>\n",
       "    <tr>\n",
       "      <th>18</th>\n",
       "      <td>AAPL</td>\n",
       "      <td>Corp</td>\n",
       "      <td>BBG00Q5L6G53</td>\n",
       "      <td>US037833DP29</td>\n",
       "      <td>US91282CMA61</td>\n",
       "      <td>AAPL 2.2 09/11/29</td>\n",
       "      <td>APPLE INC</td>\n",
       "      <td>GLOBAL</td>\n",
       "      <td>2.2</td>\n",
       "      <td>FIXED</td>\n",
       "      <td>...</td>\n",
       "      <td>2019-09-11</td>\n",
       "      <td>2020-03-11</td>\n",
       "      <td>2019-09-11</td>\n",
       "      <td>2029-09-11</td>\n",
       "      <td>CALLABLE</td>\n",
       "      <td>Sr Unsecured</td>\n",
       "      <td>1750.0</td>\n",
       "      <td>US</td>\n",
       "      <td>USD</td>\n",
       "      <td>ACTV</td>\n",
       "    </tr>\n",
       "  </tbody>\n",
       "</table>\n",
       "<p>1 rows × 23 columns</p>\n",
       "</div>"
      ],
      "text/plain": [
       "   ticker class          figi          isin und_bench_isin           security  \\\n",
       "18   AAPL  Corp  BBG00Q5L6G53  US037833DP29   US91282CMA61  AAPL 2.2 09/11/29   \n",
       "\n",
       "         name    type  coupon cpn_type  ... start_date  cpn_first  acc_first  \\\n",
       "18  APPLE INC  GLOBAL     2.2    FIXED  ... 2019-09-11 2020-03-11 2019-09-11   \n",
       "\n",
       "     maturity   mty_typ          rank amt_out country currency  status  \n",
       "18 2029-09-11  CALLABLE  Sr Unsecured  1750.0      US      USD    ACTV  \n",
       "\n",
       "[1 rows x 23 columns]"
      ]
     },
     "execution_count": 32,
     "metadata": {},
     "output_type": "execute_result"
    }
   ],
   "source": [
    "# Row from Symbology Dataframe\n",
    "df_apple = symbology[(symbology['security'] == 'AAPL 2.2 09/11/29')]\n",
    "df_apple"
   ]
  },
  {
   "cell_type": "code",
   "execution_count": 33,
   "id": "92ea794e",
   "metadata": {},
   "outputs": [
    {
     "name": "stdout",
     "output_type": "stream",
     "text": [
      "Security: AAPL 2.2 09/11/29\n"
     ]
    },
    {
     "data": {
      "text/html": [
       "<div>\n",
       "<style scoped>\n",
       "    .dataframe tbody tr th:only-of-type {\n",
       "        vertical-align: middle;\n",
       "    }\n",
       "\n",
       "    .dataframe tbody tr th {\n",
       "        vertical-align: top;\n",
       "    }\n",
       "\n",
       "    .dataframe thead th {\n",
       "        text-align: right;\n",
       "    }\n",
       "</style>\n",
       "<table border=\"1\" class=\"dataframe\">\n",
       "  <thead>\n",
       "    <tr style=\"text-align: right;\">\n",
       "      <th></th>\n",
       "      <th>CashFlowDate</th>\n",
       "      <th>CashFlowAmount</th>\n",
       "      <th>CashFlowYearFraction</th>\n",
       "    </tr>\n",
       "  </thead>\n",
       "  <tbody>\n",
       "    <tr>\n",
       "      <th>0</th>\n",
       "      <td>March 11th, 2025</td>\n",
       "      <td>1.1</td>\n",
       "      <td>0.244444</td>\n",
       "    </tr>\n",
       "    <tr>\n",
       "      <th>1</th>\n",
       "      <td>September 11th, 2025</td>\n",
       "      <td>1.1</td>\n",
       "      <td>0.744444</td>\n",
       "    </tr>\n",
       "    <tr>\n",
       "      <th>2</th>\n",
       "      <td>March 11th, 2026</td>\n",
       "      <td>1.1</td>\n",
       "      <td>1.244444</td>\n",
       "    </tr>\n",
       "    <tr>\n",
       "      <th>3</th>\n",
       "      <td>September 11th, 2026</td>\n",
       "      <td>1.1</td>\n",
       "      <td>1.744444</td>\n",
       "    </tr>\n",
       "    <tr>\n",
       "      <th>4</th>\n",
       "      <td>March 11th, 2027</td>\n",
       "      <td>1.1</td>\n",
       "      <td>2.244444</td>\n",
       "    </tr>\n",
       "    <tr>\n",
       "      <th>5</th>\n",
       "      <td>September 11th, 2027</td>\n",
       "      <td>1.1</td>\n",
       "      <td>2.744444</td>\n",
       "    </tr>\n",
       "    <tr>\n",
       "      <th>6</th>\n",
       "      <td>March 11th, 2028</td>\n",
       "      <td>1.1</td>\n",
       "      <td>3.244444</td>\n",
       "    </tr>\n",
       "    <tr>\n",
       "      <th>7</th>\n",
       "      <td>September 11th, 2028</td>\n",
       "      <td>1.1</td>\n",
       "      <td>3.744444</td>\n",
       "    </tr>\n",
       "    <tr>\n",
       "      <th>8</th>\n",
       "      <td>March 11th, 2029</td>\n",
       "      <td>1.1</td>\n",
       "      <td>4.244444</td>\n",
       "    </tr>\n",
       "    <tr>\n",
       "      <th>9</th>\n",
       "      <td>September 11th, 2029</td>\n",
       "      <td>1.1</td>\n",
       "      <td>4.744444</td>\n",
       "    </tr>\n",
       "    <tr>\n",
       "      <th>10</th>\n",
       "      <td>September 11th, 2029</td>\n",
       "      <td>100.0</td>\n",
       "      <td>4.744444</td>\n",
       "    </tr>\n",
       "  </tbody>\n",
       "</table>\n",
       "</div>"
      ],
      "text/plain": [
       "            CashFlowDate  CashFlowAmount  CashFlowYearFraction\n",
       "0       March 11th, 2025             1.1              0.244444\n",
       "1   September 11th, 2025             1.1              0.744444\n",
       "2       March 11th, 2026             1.1              1.244444\n",
       "3   September 11th, 2026             1.1              1.744444\n",
       "4       March 11th, 2027             1.1              2.244444\n",
       "5   September 11th, 2027             1.1              2.744444\n",
       "6       March 11th, 2028             1.1              3.244444\n",
       "7   September 11th, 2028             1.1              3.744444\n",
       "8       March 11th, 2029             1.1              4.244444\n",
       "9   September 11th, 2029             1.1              4.744444\n",
       "10  September 11th, 2029           100.0              4.744444"
      ]
     },
     "metadata": {},
     "output_type": "display_data"
    }
   ],
   "source": [
    "# AAPL 2.2 09/11/29\n",
    "\n",
    "# Row from Symbology Dataframe\n",
    "row_apple = symbology[(symbology['security'] == 'AAPL 2.2 09/11/29')].iloc[0]\n",
    "\n",
    "# Bond\n",
    "bond_apple = create_bond_from_symbology(row_apple)\n",
    "# print(bond_apple)\n",
    "\n",
    "# Today's Date\n",
    "# print(f\"Today's date: {calc_date}\")\n",
    "\n",
    "# Security Name\n",
    "name_treasury = row_apple['security']\n",
    "print(f\"Security: {name_treasury}\")\n",
    "\n",
    "# Cash Flow\n",
    "df_cashflow_apple = get_bond_cashflows(bond_apple, calc_date)\n",
    "display(df_cashflow_apple)"
   ]
  },
  {
   "attachments": {},
   "cell_type": "markdown",
   "id": "7d6f3b19",
   "metadata": {},
   "source": [
    "## b. Compute analytical Yields and Z-Spreads\n",
    "\n",
    "Compute analytical Yields and Z-Spreads metrics, as described in Section 7. \"Analytical Duration, Convexity and Z-Spread (flat yield model)\" in the QuantLib Basic notebook.\n",
    "\n",
    "Extend the dataframe with the following calculated risk metrics:\n",
    "\n",
    "\n",
    "| calc_yield | calc_zspread |\n",
    "|-------|-------------|\n"
   ]
  },
  {
   "cell_type": "code",
   "execution_count": 34,
   "id": "f603a336",
   "metadata": {},
   "outputs": [
    {
     "data": {
      "text/html": [
       "<div>\n",
       "<style scoped>\n",
       "    .dataframe tbody tr th:only-of-type {\n",
       "        vertical-align: middle;\n",
       "    }\n",
       "\n",
       "    .dataframe tbody tr th {\n",
       "        vertical-align: top;\n",
       "    }\n",
       "\n",
       "    .dataframe thead th {\n",
       "        text-align: right;\n",
       "    }\n",
       "</style>\n",
       "<table border=\"1\" class=\"dataframe\">\n",
       "  <thead>\n",
       "    <tr style=\"text-align: right;\">\n",
       "      <th></th>\n",
       "      <th>date</th>\n",
       "      <th>class</th>\n",
       "      <th>ticker</th>\n",
       "      <th>isin</th>\n",
       "      <th>figi</th>\n",
       "      <th>bidPrice</th>\n",
       "      <th>askPrice</th>\n",
       "      <th>accrued</th>\n",
       "      <th>bidYield</th>\n",
       "      <th>askYield</th>\n",
       "      <th>...</th>\n",
       "      <th>acc_first</th>\n",
       "      <th>maturity</th>\n",
       "      <th>mty_typ</th>\n",
       "      <th>rank</th>\n",
       "      <th>amt_out</th>\n",
       "      <th>country</th>\n",
       "      <th>currency</th>\n",
       "      <th>status</th>\n",
       "      <th>term</th>\n",
       "      <th>TTM</th>\n",
       "    </tr>\n",
       "  </thead>\n",
       "  <tbody>\n",
       "    <tr>\n",
       "      <th>0</th>\n",
       "      <td>2024-12-13</td>\n",
       "      <td>Corp</td>\n",
       "      <td>AAPL</td>\n",
       "      <td>US037833BX70</td>\n",
       "      <td>BBG00C7QBG91</td>\n",
       "      <td>93.228</td>\n",
       "      <td>93.809</td>\n",
       "      <td>1.4595</td>\n",
       "      <td>5.180</td>\n",
       "      <td>5.132</td>\n",
       "      <td>...</td>\n",
       "      <td>2016-02-23</td>\n",
       "      <td>2046-02-23</td>\n",
       "      <td>CALLABLE</td>\n",
       "      <td>Sr Unsecured</td>\n",
       "      <td>4000.0</td>\n",
       "      <td>US</td>\n",
       "      <td>USD</td>\n",
       "      <td>ACTV</td>\n",
       "      <td>30.001369</td>\n",
       "      <td>21.196441</td>\n",
       "    </tr>\n",
       "    <tr>\n",
       "      <th>1</th>\n",
       "      <td>2024-12-13</td>\n",
       "      <td>Corp</td>\n",
       "      <td>AAPL</td>\n",
       "      <td>US037833EK23</td>\n",
       "      <td>BBG011ZS1X57</td>\n",
       "      <td>63.723</td>\n",
       "      <td>64.232</td>\n",
       "      <td>0.9835</td>\n",
       "      <td>5.242</td>\n",
       "      <td>5.194</td>\n",
       "      <td>...</td>\n",
       "      <td>2021-08-05</td>\n",
       "      <td>2051-08-05</td>\n",
       "      <td>CALLABLE</td>\n",
       "      <td>Sr Unsecured</td>\n",
       "      <td>1800.0</td>\n",
       "      <td>US</td>\n",
       "      <td>USD</td>\n",
       "      <td>ACTV</td>\n",
       "      <td>29.998631</td>\n",
       "      <td>26.642026</td>\n",
       "    </tr>\n",
       "    <tr>\n",
       "      <th>2</th>\n",
       "      <td>2024-12-13</td>\n",
       "      <td>Corp</td>\n",
       "      <td>AAPL</td>\n",
       "      <td>US037833DW79</td>\n",
       "      <td>BBG00TN2PN26</td>\n",
       "      <td>63.716</td>\n",
       "      <td>64.215</td>\n",
       "      <td>0.2585</td>\n",
       "      <td>5.253</td>\n",
       "      <td>5.205</td>\n",
       "      <td>...</td>\n",
       "      <td>2020-05-11</td>\n",
       "      <td>2050-05-11</td>\n",
       "      <td>CALLABLE</td>\n",
       "      <td>Sr Unsecured</td>\n",
       "      <td>2500.0</td>\n",
       "      <td>US</td>\n",
       "      <td>USD</td>\n",
       "      <td>ACTV</td>\n",
       "      <td>29.998631</td>\n",
       "      <td>25.407255</td>\n",
       "    </tr>\n",
       "    <tr>\n",
       "      <th>3</th>\n",
       "      <td>2024-12-13</td>\n",
       "      <td>Corp</td>\n",
       "      <td>AAPL</td>\n",
       "      <td>US037833EF38</td>\n",
       "      <td>BBG00Z3VQ626</td>\n",
       "      <td>63.262</td>\n",
       "      <td>63.766</td>\n",
       "      <td>0.9420</td>\n",
       "      <td>5.249</td>\n",
       "      <td>5.200</td>\n",
       "      <td>...</td>\n",
       "      <td>2021-02-08</td>\n",
       "      <td>2051-02-08</td>\n",
       "      <td>CALLABLE</td>\n",
       "      <td>Sr Unsecured</td>\n",
       "      <td>3000.0</td>\n",
       "      <td>US</td>\n",
       "      <td>USD</td>\n",
       "      <td>ACTV</td>\n",
       "      <td>29.998631</td>\n",
       "      <td>26.154689</td>\n",
       "    </tr>\n",
       "    <tr>\n",
       "      <th>4</th>\n",
       "      <td>2024-12-13</td>\n",
       "      <td>Corp</td>\n",
       "      <td>AAPL</td>\n",
       "      <td>US037833CD08</td>\n",
       "      <td>BBG00DHQX9M5</td>\n",
       "      <td>82.278</td>\n",
       "      <td>82.848</td>\n",
       "      <td>1.4120</td>\n",
       "      <td>5.227</td>\n",
       "      <td>5.177</td>\n",
       "      <td>...</td>\n",
       "      <td>2016-08-04</td>\n",
       "      <td>2046-08-04</td>\n",
       "      <td>CALLABLE</td>\n",
       "      <td>Sr Unsecured</td>\n",
       "      <td>2000.0</td>\n",
       "      <td>US</td>\n",
       "      <td>USD</td>\n",
       "      <td>ACTV</td>\n",
       "      <td>29.998631</td>\n",
       "      <td>21.639973</td>\n",
       "    </tr>\n",
       "  </tbody>\n",
       "</table>\n",
       "<p>5 rows × 33 columns</p>\n",
       "</div>"
      ],
      "text/plain": [
       "        date class ticker          isin          figi  bidPrice  askPrice  \\\n",
       "0 2024-12-13  Corp   AAPL  US037833BX70  BBG00C7QBG91    93.228    93.809   \n",
       "1 2024-12-13  Corp   AAPL  US037833EK23  BBG011ZS1X57    63.723    64.232   \n",
       "2 2024-12-13  Corp   AAPL  US037833DW79  BBG00TN2PN26    63.716    64.215   \n",
       "3 2024-12-13  Corp   AAPL  US037833EF38  BBG00Z3VQ626    63.262    63.766   \n",
       "4 2024-12-13  Corp   AAPL  US037833CD08  BBG00DHQX9M5    82.278    82.848   \n",
       "\n",
       "   accrued  bidYield  askYield  ...  acc_first   maturity   mty_typ  \\\n",
       "0   1.4595     5.180     5.132  ... 2016-02-23 2046-02-23  CALLABLE   \n",
       "1   0.9835     5.242     5.194  ... 2021-08-05 2051-08-05  CALLABLE   \n",
       "2   0.2585     5.253     5.205  ... 2020-05-11 2050-05-11  CALLABLE   \n",
       "3   0.9420     5.249     5.200  ... 2021-02-08 2051-02-08  CALLABLE   \n",
       "4   1.4120     5.227     5.177  ... 2016-08-04 2046-08-04  CALLABLE   \n",
       "\n",
       "           rank amt_out country  currency status       term        TTM  \n",
       "0  Sr Unsecured  4000.0      US       USD   ACTV  30.001369  21.196441  \n",
       "1  Sr Unsecured  1800.0      US       USD   ACTV  29.998631  26.642026  \n",
       "2  Sr Unsecured  2500.0      US       USD   ACTV  29.998631  25.407255  \n",
       "3  Sr Unsecured  3000.0      US       USD   ACTV  29.998631  26.154689  \n",
       "4  Sr Unsecured  2000.0      US       USD   ACTV  29.998631  21.639973  \n",
       "\n",
       "[5 rows x 33 columns]"
      ]
     },
     "execution_count": 34,
     "metadata": {},
     "output_type": "execute_result"
    }
   ],
   "source": [
    "# Corporate Symbology + Market\n",
    "df_merged_corp_symbo_market = pd.merge(data_market, symbology_corp, on=['isin', 'class', 'figi', 'ticker'], how='inner')\n",
    "df_merged_corp_symbo_market.head()"
   ]
  },
  {
   "cell_type": "code",
   "execution_count": null,
   "id": "b1345088",
   "metadata": {},
   "outputs": [
    {
     "data": {
      "text/html": [
       "<div>\n",
       "<style scoped>\n",
       "    .dataframe tbody tr th:only-of-type {\n",
       "        vertical-align: middle;\n",
       "    }\n",
       "\n",
       "    .dataframe tbody tr th {\n",
       "        vertical-align: top;\n",
       "    }\n",
       "\n",
       "    .dataframe thead th {\n",
       "        text-align: right;\n",
       "    }\n",
       "</style>\n",
       "<table border=\"1\" class=\"dataframe\">\n",
       "  <thead>\n",
       "    <tr style=\"text-align: right;\">\n",
       "      <th></th>\n",
       "      <th>security</th>\n",
       "      <th>Test Price</th>\n",
       "      <th>calc_yield</th>\n",
       "      <th>calc_zspread</th>\n",
       "    </tr>\n",
       "  </thead>\n",
       "  <tbody>\n",
       "    <tr>\n",
       "      <th>0</th>\n",
       "      <td>AAPL 4.65 02/23/46</td>\n",
       "      <td>93.5185</td>\n",
       "      <td>4.686357</td>\n",
       "      <td>0.004739</td>\n",
       "    </tr>\n",
       "    <tr>\n",
       "      <th>1</th>\n",
       "      <td>AAPL 2.7 08/05/51</td>\n",
       "      <td>63.9775</td>\n",
       "      <td>4.655834</td>\n",
       "      <td>0.005647</td>\n",
       "    </tr>\n",
       "    <tr>\n",
       "      <th>2</th>\n",
       "      <td>AAPL 2.65 05/11/50</td>\n",
       "      <td>63.9655</td>\n",
       "      <td>4.670079</td>\n",
       "      <td>0.005626</td>\n",
       "    </tr>\n",
       "    <tr>\n",
       "      <th>3</th>\n",
       "      <td>AAPL 2.65 02/08/51</td>\n",
       "      <td>63.5140</td>\n",
       "      <td>4.661359</td>\n",
       "      <td>0.005661</td>\n",
       "    </tr>\n",
       "    <tr>\n",
       "      <th>4</th>\n",
       "      <td>AAPL 3.85 08/04/46</td>\n",
       "      <td>82.5630</td>\n",
       "      <td>4.701713</td>\n",
       "      <td>0.005032</td>\n",
       "    </tr>\n",
       "    <tr>\n",
       "      <th>...</th>\n",
       "      <td>...</td>\n",
       "      <td>...</td>\n",
       "      <td>...</td>\n",
       "      <td>...</td>\n",
       "    </tr>\n",
       "    <tr>\n",
       "      <th>130</th>\n",
       "      <td>ORCL 3 1/4 11/15/27</td>\n",
       "      <td>96.2925</td>\n",
       "      <td>4.221096</td>\n",
       "      <td>0.004034</td>\n",
       "    </tr>\n",
       "    <tr>\n",
       "      <th>131</th>\n",
       "      <td>ORCL 3 1/4 05/15/30</td>\n",
       "      <td>92.2565</td>\n",
       "      <td>4.224536</td>\n",
       "      <td>0.006712</td>\n",
       "    </tr>\n",
       "    <tr>\n",
       "      <th>132</th>\n",
       "      <td>ORCL 2.95 04/01/30</td>\n",
       "      <td>91.0550</td>\n",
       "      <td>4.255609</td>\n",
       "      <td>0.006279</td>\n",
       "    </tr>\n",
       "    <tr>\n",
       "      <th>133</th>\n",
       "      <td>ORCL 1.65 03/25/26</td>\n",
       "      <td>96.2605</td>\n",
       "      <td>4.008515</td>\n",
       "      <td>0.007149</td>\n",
       "    </tr>\n",
       "    <tr>\n",
       "      <th>134</th>\n",
       "      <td>ORCL 2.65 07/15/26</td>\n",
       "      <td>97.0100</td>\n",
       "      <td>4.122614</td>\n",
       "      <td>0.005115</td>\n",
       "    </tr>\n",
       "  </tbody>\n",
       "</table>\n",
       "<p>135 rows × 4 columns</p>\n",
       "</div>"
      ],
      "text/plain": [
       "                security  Test Price  calc_yield  calc_zspread\n",
       "0     AAPL 4.65 02/23/46     93.5185    4.686357      0.004739\n",
       "1      AAPL 2.7 08/05/51     63.9775    4.655834      0.005647\n",
       "2     AAPL 2.65 05/11/50     63.9655    4.670079      0.005626\n",
       "3     AAPL 2.65 02/08/51     63.5140    4.661359      0.005661\n",
       "4     AAPL 3.85 08/04/46     82.5630    4.701713      0.005032\n",
       "..                   ...         ...         ...           ...\n",
       "130  ORCL 3 1/4 11/15/27     96.2925    4.221096      0.004034\n",
       "131  ORCL 3 1/4 05/15/30     92.2565    4.224536      0.006712\n",
       "132   ORCL 2.95 04/01/30     91.0550    4.255609      0.006279\n",
       "133   ORCL 1.65 03/25/26     96.2605    4.008515      0.007149\n",
       "134   ORCL 2.65 07/15/26     97.0100    4.122614      0.005115\n",
       "\n",
       "[135 rows x 4 columns]"
      ]
     },
     "metadata": {},
     "output_type": "display_data"
    }
   ],
   "source": [
    "# Yield Curve to use (be careful!)\n",
    "yield_curve = tsy_yield_curve_mid\n",
    "# Add handle for yield curve\n",
    "yield_curve_handle = ql.YieldTermStructureHandle(yield_curve)\n",
    "# Create a Discount Factor from the Yield Curve\n",
    "bond_engine = ql.DiscountingBondEngine(yield_curve_handle)\n",
    "\n",
    "# Set yield conventions\n",
    "compounding = ql.Compounded\n",
    "coupon_freq = ql.Semiannual\n",
    "day_count\n",
    "# Apply this to the corporate dataframe merged with market data\n",
    "prices = []\n",
    "\n",
    "# Apply to the appropriate dataframe\n",
    "for index, row in df_merged_corp_symbo_market.iterrows():\n",
    "    # Bond\n",
    "    bond = create_bond_from_symbology(row)\n",
    "    \n",
    "    # Apply the bond engine to the bond in question\n",
    "    bond.setPricingEngine(bond_engine)\n",
    "    bond_market_price = bond.cleanPrice() # Clean market price, implies zero Z-Spread!\n",
    "    \n",
    "    settle_date = bond.settlementDate(calc_date)\n",
    "    bond_yield = bond.bondYield(bond_market_price, bond.dayCounter(), compounding, coupon_freq, settle_date) * 100 # In percent\n",
    "\n",
    "    # Use the Mid Price\n",
    "    bond_test_price = row['midPrice'] # Test market price, implies Z-Spread > 0\n",
    "    \n",
    "    # Z-Spread using the Test Price\n",
    "    # Use the Treasury yield curve because the Z-spread is above the risk-free rate\n",
    "    zspread = ql.BondFunctions.zSpread(bond, bond_test_price, yield_curve, day_count, compounding, coupon_freq)\n",
    "\n",
    "    prices.append({\n",
    "        'security': row['security'],\n",
    "        'Test Price': bond_test_price,\n",
    "        'calc_yield': bond_yield,\n",
    "        'calc_zspread': zspread\n",
    "    })\n",
    "\n",
    "df_prices_corp_1 = pd.DataFrame(prices)\n",
    "display(df_prices_corp_1)\n"
   ]
  },
  {
   "cell_type": "code",
   "execution_count": 36,
   "id": "5f73b91b",
   "metadata": {},
   "outputs": [
    {
     "data": {
      "text/html": [
       "<div>\n",
       "<style scoped>\n",
       "    .dataframe tbody tr th:only-of-type {\n",
       "        vertical-align: middle;\n",
       "    }\n",
       "\n",
       "    .dataframe tbody tr th {\n",
       "        vertical-align: top;\n",
       "    }\n",
       "\n",
       "    .dataframe thead th {\n",
       "        text-align: right;\n",
       "    }\n",
       "</style>\n",
       "<table border=\"1\" class=\"dataframe\">\n",
       "  <thead>\n",
       "    <tr style=\"text-align: right;\">\n",
       "      <th></th>\n",
       "      <th>security</th>\n",
       "      <th>midPrice</th>\n",
       "      <th>Test Price</th>\n",
       "      <th>calc_yield</th>\n",
       "      <th>calc_zspread</th>\n",
       "    </tr>\n",
       "  </thead>\n",
       "  <tbody>\n",
       "    <tr>\n",
       "      <th>0</th>\n",
       "      <td>AAPL 4.65 02/23/46</td>\n",
       "      <td>93.5185</td>\n",
       "      <td>93.5185</td>\n",
       "      <td>4.686357</td>\n",
       "      <td>0.004739</td>\n",
       "    </tr>\n",
       "    <tr>\n",
       "      <th>1</th>\n",
       "      <td>AAPL 2.7 08/05/51</td>\n",
       "      <td>63.9775</td>\n",
       "      <td>63.9775</td>\n",
       "      <td>4.655834</td>\n",
       "      <td>0.005647</td>\n",
       "    </tr>\n",
       "    <tr>\n",
       "      <th>2</th>\n",
       "      <td>AAPL 2.65 05/11/50</td>\n",
       "      <td>63.9655</td>\n",
       "      <td>63.9655</td>\n",
       "      <td>4.670079</td>\n",
       "      <td>0.005626</td>\n",
       "    </tr>\n",
       "    <tr>\n",
       "      <th>3</th>\n",
       "      <td>AAPL 2.65 02/08/51</td>\n",
       "      <td>63.5140</td>\n",
       "      <td>63.5140</td>\n",
       "      <td>4.661359</td>\n",
       "      <td>0.005661</td>\n",
       "    </tr>\n",
       "    <tr>\n",
       "      <th>4</th>\n",
       "      <td>AAPL 3.85 08/04/46</td>\n",
       "      <td>82.5630</td>\n",
       "      <td>82.5630</td>\n",
       "      <td>4.701713</td>\n",
       "      <td>0.005032</td>\n",
       "    </tr>\n",
       "    <tr>\n",
       "      <th>...</th>\n",
       "      <td>...</td>\n",
       "      <td>...</td>\n",
       "      <td>...</td>\n",
       "      <td>...</td>\n",
       "      <td>...</td>\n",
       "    </tr>\n",
       "    <tr>\n",
       "      <th>130</th>\n",
       "      <td>ORCL 3 1/4 11/15/27</td>\n",
       "      <td>96.2925</td>\n",
       "      <td>96.2925</td>\n",
       "      <td>4.221096</td>\n",
       "      <td>0.004034</td>\n",
       "    </tr>\n",
       "    <tr>\n",
       "      <th>131</th>\n",
       "      <td>ORCL 3 1/4 05/15/30</td>\n",
       "      <td>92.2565</td>\n",
       "      <td>92.2565</td>\n",
       "      <td>4.224536</td>\n",
       "      <td>0.006712</td>\n",
       "    </tr>\n",
       "    <tr>\n",
       "      <th>132</th>\n",
       "      <td>ORCL 2.95 04/01/30</td>\n",
       "      <td>91.0550</td>\n",
       "      <td>91.0550</td>\n",
       "      <td>4.255609</td>\n",
       "      <td>0.006279</td>\n",
       "    </tr>\n",
       "    <tr>\n",
       "      <th>133</th>\n",
       "      <td>ORCL 1.65 03/25/26</td>\n",
       "      <td>96.2605</td>\n",
       "      <td>96.2605</td>\n",
       "      <td>4.008515</td>\n",
       "      <td>0.007149</td>\n",
       "    </tr>\n",
       "    <tr>\n",
       "      <th>134</th>\n",
       "      <td>ORCL 2.65 07/15/26</td>\n",
       "      <td>97.0100</td>\n",
       "      <td>97.0100</td>\n",
       "      <td>4.122614</td>\n",
       "      <td>0.005115</td>\n",
       "    </tr>\n",
       "  </tbody>\n",
       "</table>\n",
       "<p>135 rows × 5 columns</p>\n",
       "</div>"
      ],
      "text/plain": [
       "                security  midPrice  Test Price  calc_yield  calc_zspread\n",
       "0     AAPL 4.65 02/23/46   93.5185     93.5185    4.686357      0.004739\n",
       "1      AAPL 2.7 08/05/51   63.9775     63.9775    4.655834      0.005647\n",
       "2     AAPL 2.65 05/11/50   63.9655     63.9655    4.670079      0.005626\n",
       "3     AAPL 2.65 02/08/51   63.5140     63.5140    4.661359      0.005661\n",
       "4     AAPL 3.85 08/04/46   82.5630     82.5630    4.701713      0.005032\n",
       "..                   ...       ...         ...         ...           ...\n",
       "130  ORCL 3 1/4 11/15/27   96.2925     96.2925    4.221096      0.004034\n",
       "131  ORCL 3 1/4 05/15/30   92.2565     92.2565    4.224536      0.006712\n",
       "132   ORCL 2.95 04/01/30   91.0550     91.0550    4.255609      0.006279\n",
       "133   ORCL 1.65 03/25/26   96.2605     96.2605    4.008515      0.007149\n",
       "134   ORCL 2.65 07/15/26   97.0100     97.0100    4.122614      0.005115\n",
       "\n",
       "[135 rows x 5 columns]"
      ]
     },
     "metadata": {},
     "output_type": "display_data"
    }
   ],
   "source": [
    "# Merging the original dataframe \n",
    "df_merged_corp_symbo_market_2 = pd.merge(df_merged_corp_symbo_market, df_prices_corp_1, on=['security'], how='inner')\n",
    "\n",
    "# Relevant columns\n",
    "df_merged_corp_symbo_market_2_filtered = df_merged_corp_symbo_market_2[['security', 'midPrice', 'Test Price',\n",
    "                                                                        'calc_yield', 'calc_zspread']]\n",
    "display(df_merged_corp_symbo_market_2_filtered)"
   ]
  },
  {
   "cell_type": "markdown",
   "id": "3dc97c0f",
   "metadata": {},
   "source": [
    "## c. Validate Z-Spread computation for a few fixed rate corporate bonds\n",
    "\n",
    "For the following corporate bonds:\n",
    "\n",
    "* `IBM 1.95 05/15/30`\n",
    "* `ORCL 2 7/8 03/25/31`\n",
    "* `DIS 6.65 11/15/37`\n",
    "\n",
    "use function below to re-price them using the calibrated flat z-spread. Follow the example in Section 7. \"Analytical Duration, Convexity and Z-Spread (flat yield model)\".\n",
    "\n",
    "Validate/confirm that you match the original market prices, which were used as input to the z-Spread function.\n"
   ]
  },
  {
   "cell_type": "code",
   "execution_count": 37,
   "id": "05e3919f",
   "metadata": {},
   "outputs": [],
   "source": [
    "def calc_clean_price_with_zspread(fixed_rate_bond, yield_curve_handle, zspread):\n",
    "    zspread_quote = ql.SimpleQuote(zspread)\n",
    "    zspread_quote_handle = ql.QuoteHandle(zspread_quote)\n",
    "    yield_curve_bumped = ql.ZeroSpreadedTermStructure(yield_curve_handle, zspread_quote_handle, ql.Compounded, ql.Semiannual)\n",
    "    yield_curve_bumped_handle = ql.YieldTermStructureHandle(yield_curve_bumped)\n",
    "    \n",
    "    # Set Valuation engine\n",
    "    bond_engine = ql.DiscountingBondEngine(yield_curve_bumped_handle)\n",
    "    fixed_rate_bond.setPricingEngine(bond_engine)\n",
    "    bond_clean_price = fixed_rate_bond.cleanPrice()\n",
    "    return bond_clean_price\n"
   ]
  },
  {
   "cell_type": "code",
   "execution_count": 38,
   "id": "3bd52cc4",
   "metadata": {},
   "outputs": [
    {
     "data": {
      "text/html": [
       "<div>\n",
       "<style scoped>\n",
       "    .dataframe tbody tr th:only-of-type {\n",
       "        vertical-align: middle;\n",
       "    }\n",
       "\n",
       "    .dataframe tbody tr th {\n",
       "        vertical-align: top;\n",
       "    }\n",
       "\n",
       "    .dataframe thead th {\n",
       "        text-align: right;\n",
       "    }\n",
       "</style>\n",
       "<table border=\"1\" class=\"dataframe\">\n",
       "  <thead>\n",
       "    <tr style=\"text-align: right;\">\n",
       "      <th></th>\n",
       "      <th>date</th>\n",
       "      <th>class</th>\n",
       "      <th>ticker</th>\n",
       "      <th>isin</th>\n",
       "      <th>figi</th>\n",
       "      <th>bidPrice</th>\n",
       "      <th>askPrice</th>\n",
       "      <th>accrued</th>\n",
       "      <th>bidYield</th>\n",
       "      <th>askYield</th>\n",
       "      <th>...</th>\n",
       "      <th>acc_first</th>\n",
       "      <th>maturity</th>\n",
       "      <th>mty_typ</th>\n",
       "      <th>rank</th>\n",
       "      <th>amt_out</th>\n",
       "      <th>country</th>\n",
       "      <th>currency</th>\n",
       "      <th>status</th>\n",
       "      <th>term</th>\n",
       "      <th>TTM</th>\n",
       "    </tr>\n",
       "  </thead>\n",
       "  <tbody>\n",
       "    <tr>\n",
       "      <th>44</th>\n",
       "      <td>2024-12-13</td>\n",
       "      <td>Corp</td>\n",
       "      <td>DIS</td>\n",
       "      <td>US254687EH59</td>\n",
       "      <td>BBG00QNKSBB5</td>\n",
       "      <td>113.141</td>\n",
       "      <td>113.628</td>\n",
       "      <td>0.5735</td>\n",
       "      <td>5.236</td>\n",
       "      <td>5.188</td>\n",
       "      <td>...</td>\n",
       "      <td>2019-11-15</td>\n",
       "      <td>2037-11-15</td>\n",
       "      <td>AT MATURITY</td>\n",
       "      <td>Sr Unsecured</td>\n",
       "      <td>1223.938</td>\n",
       "      <td>US</td>\n",
       "      <td>USD</td>\n",
       "      <td>ACTV</td>\n",
       "      <td>17.982204</td>\n",
       "      <td>12.922656</td>\n",
       "    </tr>\n",
       "    <tr>\n",
       "      <th>83</th>\n",
       "      <td>2024-12-13</td>\n",
       "      <td>Corp</td>\n",
       "      <td>IBM</td>\n",
       "      <td>US459200KJ94</td>\n",
       "      <td>BBG00TL9X0X0</td>\n",
       "      <td>86.261</td>\n",
       "      <td>86.609</td>\n",
       "      <td>0.1680</td>\n",
       "      <td>4.867</td>\n",
       "      <td>4.787</td>\n",
       "      <td>...</td>\n",
       "      <td>2020-05-07</td>\n",
       "      <td>2030-05-15</td>\n",
       "      <td>CALLABLE</td>\n",
       "      <td>Sr Unsecured</td>\n",
       "      <td>1350.000</td>\n",
       "      <td>US</td>\n",
       "      <td>USD</td>\n",
       "      <td>ACTV</td>\n",
       "      <td>10.020534</td>\n",
       "      <td>5.418207</td>\n",
       "    </tr>\n",
       "    <tr>\n",
       "      <th>118</th>\n",
       "      <td>2024-12-13</td>\n",
       "      <td>Corp</td>\n",
       "      <td>ORCL</td>\n",
       "      <td>US68389XCE31</td>\n",
       "      <td>BBG00ZS0BP85</td>\n",
       "      <td>88.553</td>\n",
       "      <td>88.864</td>\n",
       "      <td>0.6475</td>\n",
       "      <td>5.024</td>\n",
       "      <td>4.961</td>\n",
       "      <td>...</td>\n",
       "      <td>2021-03-24</td>\n",
       "      <td>2031-03-25</td>\n",
       "      <td>CALLABLE</td>\n",
       "      <td>Sr Unsecured</td>\n",
       "      <td>3250.000</td>\n",
       "      <td>US</td>\n",
       "      <td>USD</td>\n",
       "      <td>ACTV</td>\n",
       "      <td>10.001369</td>\n",
       "      <td>6.277892</td>\n",
       "    </tr>\n",
       "  </tbody>\n",
       "</table>\n",
       "<p>3 rows × 33 columns</p>\n",
       "</div>"
      ],
      "text/plain": [
       "          date class ticker          isin          figi  bidPrice  askPrice  \\\n",
       "44  2024-12-13  Corp    DIS  US254687EH59  BBG00QNKSBB5   113.141   113.628   \n",
       "83  2024-12-13  Corp    IBM  US459200KJ94  BBG00TL9X0X0    86.261    86.609   \n",
       "118 2024-12-13  Corp   ORCL  US68389XCE31  BBG00ZS0BP85    88.553    88.864   \n",
       "\n",
       "     accrued  bidYield  askYield  ...  acc_first   maturity      mty_typ  \\\n",
       "44    0.5735     5.236     5.188  ... 2019-11-15 2037-11-15  AT MATURITY   \n",
       "83    0.1680     4.867     4.787  ... 2020-05-07 2030-05-15     CALLABLE   \n",
       "118   0.6475     5.024     4.961  ... 2021-03-24 2031-03-25     CALLABLE   \n",
       "\n",
       "             rank   amt_out country  currency status       term        TTM  \n",
       "44   Sr Unsecured  1223.938      US       USD   ACTV  17.982204  12.922656  \n",
       "83   Sr Unsecured  1350.000      US       USD   ACTV  10.020534   5.418207  \n",
       "118  Sr Unsecured  3250.000      US       USD   ACTV  10.001369   6.277892  \n",
       "\n",
       "[3 rows x 33 columns]"
      ]
     },
     "execution_count": 38,
     "metadata": {},
     "output_type": "execute_result"
    }
   ],
   "source": [
    "# Filter only for those bonds\n",
    "df_corp_bond_check = df_merged_corp_symbo_market[\n",
    "    df_merged_corp_symbo_market['security'].isin([\n",
    "        'IBM 1.95 05/15/30',\n",
    "        'ORCL 2 7/8 03/25/31',\n",
    "        'DIS 6.65 11/15/37'\n",
    "    ])\n",
    "]\n",
    "df_corp_bond_check"
   ]
  },
  {
   "cell_type": "code",
   "execution_count": 39,
   "id": "900a8119",
   "metadata": {},
   "outputs": [
    {
     "data": {
      "text/html": [
       "<div>\n",
       "<style scoped>\n",
       "    .dataframe tbody tr th:only-of-type {\n",
       "        vertical-align: middle;\n",
       "    }\n",
       "\n",
       "    .dataframe tbody tr th {\n",
       "        vertical-align: top;\n",
       "    }\n",
       "\n",
       "    .dataframe thead th {\n",
       "        text-align: right;\n",
       "    }\n",
       "</style>\n",
       "<table border=\"1\" class=\"dataframe\">\n",
       "  <thead>\n",
       "    <tr style=\"text-align: right;\">\n",
       "      <th></th>\n",
       "      <th>security</th>\n",
       "      <th>Test Price</th>\n",
       "      <th>calc_yield</th>\n",
       "      <th>calc_zspread</th>\n",
       "      <th>bond_zspread_price</th>\n",
       "      <th>bond_price_diff</th>\n",
       "    </tr>\n",
       "  </thead>\n",
       "  <tbody>\n",
       "    <tr>\n",
       "      <th>0</th>\n",
       "      <td>DIS 6.65 11/15/37</td>\n",
       "      <td>113.3845</td>\n",
       "      <td>4.501195</td>\n",
       "      <td>0.007140</td>\n",
       "      <td>113.3845</td>\n",
       "      <td>1.312273e-09</td>\n",
       "    </tr>\n",
       "    <tr>\n",
       "      <th>1</th>\n",
       "      <td>IBM 1.95 05/15/30</td>\n",
       "      <td>86.4350</td>\n",
       "      <td>4.225456</td>\n",
       "      <td>0.006020</td>\n",
       "      <td>86.4350</td>\n",
       "      <td>1.719513e-12</td>\n",
       "    </tr>\n",
       "    <tr>\n",
       "      <th>2</th>\n",
       "      <td>ORCL 2 7/8 03/25/31</td>\n",
       "      <td>88.7085</td>\n",
       "      <td>4.242237</td>\n",
       "      <td>0.007548</td>\n",
       "      <td>88.7085</td>\n",
       "      <td>-5.080381e-11</td>\n",
       "    </tr>\n",
       "  </tbody>\n",
       "</table>\n",
       "</div>"
      ],
      "text/plain": [
       "              security  Test Price  calc_yield  calc_zspread  \\\n",
       "0    DIS 6.65 11/15/37    113.3845    4.501195      0.007140   \n",
       "1    IBM 1.95 05/15/30     86.4350    4.225456      0.006020   \n",
       "2  ORCL 2 7/8 03/25/31     88.7085    4.242237      0.007548   \n",
       "\n",
       "   bond_zspread_price  bond_price_diff  \n",
       "0            113.3845     1.312273e-09  \n",
       "1             86.4350     1.719513e-12  \n",
       "2             88.7085    -5.080381e-11  "
      ]
     },
     "metadata": {},
     "output_type": "display_data"
    }
   ],
   "source": [
    "# Yield Curve to use (be careful!)\n",
    "yield_curve = tsy_yield_curve_mid\n",
    "# Add handle for yield curve\n",
    "yield_curve_handle = ql.YieldTermStructureHandle(yield_curve)\n",
    "# Create a Discount Factor from the Yield Curve\n",
    "bond_engine = ql.DiscountingBondEngine(yield_curve_handle)\n",
    "\n",
    "# Set yield conventions\n",
    "compounding = ql.Compounded\n",
    "coupon_freq = ql.Semiannual\n",
    "\n",
    "# Apply this to the corporate dataframe merged with market data\n",
    "prices = []\n",
    "\n",
    "# Go through the appropriate dataframe\n",
    "for index, row in df_corp_bond_check.iterrows():\n",
    "    # Bond\n",
    "    bond = create_bond_from_symbology(row)\n",
    "    \n",
    "    # Apply the bond engine to the bond in question\n",
    "    bond.setPricingEngine(bond_engine)\n",
    "    bond_market_price = bond.cleanPrice() # Clean market price, implies zero Z-Spread!\n",
    "    \n",
    "    settle_date = bond.settlementDate(calc_date)\n",
    "    bond_yield = bond.bondYield(bond_market_price, bond.dayCounter(), compounding, coupon_freq, settle_date) * 100 # In percent    \n",
    "    \n",
    "    # Use the Mid Price\n",
    "    bond_test_price = row['midPrice'] # Test market price, implies Z-Spread > 0\n",
    "    \n",
    "    # Z-Spread using the Test Price\n",
    "    # Use the Treasury yield curve because the Z-spread is above the risk-free rate\n",
    "    zspread = ql.BondFunctions.zSpread(bond, bond_test_price, yield_curve, day_count, compounding, coupon_freq)\n",
    "\n",
    "    # Bond Price with the Z-Spread\n",
    "    bond_zspread_price = calc_clean_price_with_zspread(bond, yield_curve_handle, zspread)\n",
    "    \n",
    "    # Difference between the Z-Spread Computed Price vs the Original\n",
    "    bond_price_diff = bond_zspread_price - bond_test_price\n",
    "    \n",
    "    prices.append({\n",
    "        'security': row['security'],\n",
    "        'Test Price': bond_test_price,\n",
    "        'calc_yield': bond_yield,\n",
    "        'calc_zspread': zspread,\n",
    "        'bond_zspread_price': bond_zspread_price,\n",
    "        'bond_price_diff': bond_price_diff,\n",
    "    })\n",
    "\n",
    "df_prices_corp_2 = pd.DataFrame(prices)\n",
    "display(df_prices_corp_2)"
   ]
  },
  {
   "cell_type": "code",
   "execution_count": 40,
   "id": "d61b38a1",
   "metadata": {},
   "outputs": [
    {
     "name": "stdout",
     "output_type": "stream",
     "text": [
      "Mean Absolute Difference between the Bond Prices: 0.0\n"
     ]
    }
   ],
   "source": [
    "# Mean Absolute Difference\n",
    "mae = df_prices_corp_2['bond_price_diff'].abs().mean()\n",
    "mae = round(mae, 4)\n",
    "print(f\"Mean Absolute Difference between the Bond Prices: {mae}\")"
   ]
  },
  {
   "cell_type": "markdown",
   "id": "9ab138ec",
   "metadata": {},
   "source": [
    "We have confirmed that the calculated z-spread computed prices match the original market prices, which were used as input to the z-Spread function."
   ]
  },
  {
   "attachments": {},
   "cell_type": "markdown",
   "id": "dbed4c00",
   "metadata": {},
   "source": [
    "## d. Compute Duration and Convexity for fixed rate corporate bonds (using flat yield)\n",
    "\n",
    "Compute analytical Duration and Convexity metrics, as described in Section 7. \"Analytical Duration, Convexity and Z-Spread (flat yield model)\" in the QuantLib Basic notebook.\n",
    "\n",
    "Extend the dataframe with the following calculated risk metrics:\n",
    "\n",
    "\n",
    "| calc_duration | calc_convexity |\n",
    "|-------|-------------|\n",
    "\n",
    "Display the head of the dataframe.\n",
    "\n",
    "Scatter plot duration and convexity by TTM for all AAPL (fixed-rate) bonds."
   ]
  },
  {
   "cell_type": "code",
   "execution_count": 41,
   "id": "dc8d81b0",
   "metadata": {},
   "outputs": [
    {
     "data": {
      "text/html": [
       "<div>\n",
       "<style scoped>\n",
       "    .dataframe tbody tr th:only-of-type {\n",
       "        vertical-align: middle;\n",
       "    }\n",
       "\n",
       "    .dataframe tbody tr th {\n",
       "        vertical-align: top;\n",
       "    }\n",
       "\n",
       "    .dataframe thead th {\n",
       "        text-align: right;\n",
       "    }\n",
       "</style>\n",
       "<table border=\"1\" class=\"dataframe\">\n",
       "  <thead>\n",
       "    <tr style=\"text-align: right;\">\n",
       "      <th></th>\n",
       "      <th>security</th>\n",
       "      <th>Test Price</th>\n",
       "      <th>calc_yield</th>\n",
       "      <th>calc_zspread</th>\n",
       "      <th>calc_duration</th>\n",
       "      <th>calc_convexity</th>\n",
       "    </tr>\n",
       "  </thead>\n",
       "  <tbody>\n",
       "    <tr>\n",
       "      <th>0</th>\n",
       "      <td>AAPL 4.65 02/23/46</td>\n",
       "      <td>93.5185</td>\n",
       "      <td>0.051560</td>\n",
       "      <td>0.004739</td>\n",
       "      <td>12.881701</td>\n",
       "      <td>228.068551</td>\n",
       "    </tr>\n",
       "    <tr>\n",
       "      <th>1</th>\n",
       "      <td>AAPL 2.7 08/05/51</td>\n",
       "      <td>63.9775</td>\n",
       "      <td>0.052180</td>\n",
       "      <td>0.005647</td>\n",
       "      <td>16.287829</td>\n",
       "      <td>365.156642</td>\n",
       "    </tr>\n",
       "    <tr>\n",
       "      <th>2</th>\n",
       "      <td>AAPL 2.65 05/11/50</td>\n",
       "      <td>63.9655</td>\n",
       "      <td>0.052290</td>\n",
       "      <td>0.005626</td>\n",
       "      <td>16.148258</td>\n",
       "      <td>349.637066</td>\n",
       "    </tr>\n",
       "    <tr>\n",
       "      <th>3</th>\n",
       "      <td>AAPL 2.65 02/08/51</td>\n",
       "      <td>63.5140</td>\n",
       "      <td>0.052245</td>\n",
       "      <td>0.005661</td>\n",
       "      <td>16.212270</td>\n",
       "      <td>358.987301</td>\n",
       "    </tr>\n",
       "    <tr>\n",
       "      <th>4</th>\n",
       "      <td>AAPL 3.85 08/04/46</td>\n",
       "      <td>82.5630</td>\n",
       "      <td>0.052020</td>\n",
       "      <td>0.005032</td>\n",
       "      <td>13.516503</td>\n",
       "      <td>248.114798</td>\n",
       "    </tr>\n",
       "  </tbody>\n",
       "</table>\n",
       "</div>"
      ],
      "text/plain": [
       "             security  Test Price  calc_yield  calc_zspread  calc_duration  \\\n",
       "0  AAPL 4.65 02/23/46     93.5185    0.051560      0.004739      12.881701   \n",
       "1   AAPL 2.7 08/05/51     63.9775    0.052180      0.005647      16.287829   \n",
       "2  AAPL 2.65 05/11/50     63.9655    0.052290      0.005626      16.148258   \n",
       "3  AAPL 2.65 02/08/51     63.5140    0.052245      0.005661      16.212270   \n",
       "4  AAPL 3.85 08/04/46     82.5630    0.052020      0.005032      13.516503   \n",
       "\n",
       "   calc_convexity  \n",
       "0      228.068551  \n",
       "1      365.156642  \n",
       "2      349.637066  \n",
       "3      358.987301  \n",
       "4      248.114798  "
      ]
     },
     "metadata": {},
     "output_type": "display_data"
    }
   ],
   "source": [
    "# Yield Curve to use (be careful!)\n",
    "yield_curve = tsy_yield_curve_mid\n",
    "# Add handle for yield curve\n",
    "yield_curve_handle = ql.YieldTermStructureHandle(yield_curve)\n",
    "# Create a Discount Factor from the Yield Curve\n",
    "bond_engine = ql.DiscountingBondEngine(yield_curve_handle)\n",
    "\n",
    "# Set yield conventions\n",
    "compounding = ql.Compounded\n",
    "coupon_freq = ql.Semiannual\n",
    "\n",
    "# Apply this to the corporate dataframe merged with market data\n",
    "prices = []\n",
    "\n",
    "# Apply to the appropriate dataframe\n",
    "for index, row in df_merged_corp_symbo_market.iterrows():\n",
    "    # Bond\n",
    "    bond = create_bond_from_symbology(row)\n",
    "    \n",
    "    # Apply the bond engine to the bond in question\n",
    "    bond.setPricingEngine(bond_engine)\n",
    "    bond_market_price = bond.cleanPrice() # Clean market price, implies zero Z-Spread!\n",
    "    \n",
    "    settle_date = bond.settlementDate(calc_date)\n",
    "    bond_yield = bond.bondYield(bond_market_price, bond.dayCounter(), compounding, coupon_freq, settle_date) * 100 # In percent\n",
    "\n",
    "    # Use the Mid Price\n",
    "    bond_test_price = row['midPrice'] # Test market price, implies Z-Spread > 0\n",
    "    \n",
    "    # Z-Spread using the Test Price\n",
    "    # Use the Treasury yield curve because the Z-spread is above the risk-free rate\n",
    "    bond_zspread_test_price = ql.BondFunctions.zSpread(bond, bond_test_price, yield_curve, day_count, compounding, coupon_freq)\n",
    "\n",
    "    # Bond Price with the Z-Spread\n",
    "    bond_zspread_price = calc_clean_price_with_zspread(bond, yield_curve_handle, bond_zspread_test_price)\n",
    "    \n",
    "    # Difference between the Z-Spread Computed Price vs the Original\n",
    "    bond_price_diff = bond_zspread_price - bond_test_price\n",
    "    \n",
    "    # Calc Duration and Convexity\n",
    "    bond_yield = row[\"midYield\"]*1e-2 # Use the Yields given instead\n",
    "    bond_yield_rate = ql.InterestRate(bond_yield, day_count, compounding, coupon_freq)\n",
    "    bond_duration = ql.BondFunctions.duration(bond, bond_yield_rate)\n",
    "    bond_convexity = ql.BondFunctions.convexity(bond, bond_yield_rate)\n",
    "    \n",
    "    prices.append({\n",
    "        'security': row['security'],\n",
    "        'Test Price': bond_test_price,\n",
    "        'calc_yield': bond_yield,\n",
    "        'calc_zspread': bond_zspread_test_price,\n",
    "        #'bond_zspread_price': bond_zspread_price,\n",
    "        #'bond_price_diff': bond_price_diff,\n",
    "        'calc_duration': bond_duration,\n",
    "        'calc_convexity': bond_convexity\n",
    "    })\n",
    "\n",
    "df_prices_corp_3 = pd.DataFrame(prices)\n",
    "display(df_prices_corp_3.head())"
   ]
  },
  {
   "cell_type": "code",
   "execution_count": 42,
   "id": "7260b072",
   "metadata": {},
   "outputs": [
    {
     "data": {
      "text/html": [
       "<div>\n",
       "<style scoped>\n",
       "    .dataframe tbody tr th:only-of-type {\n",
       "        vertical-align: middle;\n",
       "    }\n",
       "\n",
       "    .dataframe tbody tr th {\n",
       "        vertical-align: top;\n",
       "    }\n",
       "\n",
       "    .dataframe thead th {\n",
       "        text-align: right;\n",
       "    }\n",
       "</style>\n",
       "<table border=\"1\" class=\"dataframe\">\n",
       "  <thead>\n",
       "    <tr style=\"text-align: right;\">\n",
       "      <th></th>\n",
       "      <th>date</th>\n",
       "      <th>class</th>\n",
       "      <th>ticker</th>\n",
       "      <th>isin</th>\n",
       "      <th>figi</th>\n",
       "      <th>bidPrice</th>\n",
       "      <th>askPrice</th>\n",
       "      <th>accrued</th>\n",
       "      <th>bidYield</th>\n",
       "      <th>askYield</th>\n",
       "      <th>...</th>\n",
       "      <th>country</th>\n",
       "      <th>currency</th>\n",
       "      <th>status</th>\n",
       "      <th>term</th>\n",
       "      <th>TTM</th>\n",
       "      <th>Test Price</th>\n",
       "      <th>calc_yield</th>\n",
       "      <th>calc_zspread</th>\n",
       "      <th>calc_duration</th>\n",
       "      <th>calc_convexity</th>\n",
       "    </tr>\n",
       "  </thead>\n",
       "  <tbody>\n",
       "    <tr>\n",
       "      <th>0</th>\n",
       "      <td>2024-12-13</td>\n",
       "      <td>Corp</td>\n",
       "      <td>AAPL</td>\n",
       "      <td>US037833BX70</td>\n",
       "      <td>BBG00C7QBG91</td>\n",
       "      <td>93.228</td>\n",
       "      <td>93.809</td>\n",
       "      <td>1.4595</td>\n",
       "      <td>5.180</td>\n",
       "      <td>5.132</td>\n",
       "      <td>...</td>\n",
       "      <td>US</td>\n",
       "      <td>USD</td>\n",
       "      <td>ACTV</td>\n",
       "      <td>30.001369</td>\n",
       "      <td>21.196441</td>\n",
       "      <td>93.5185</td>\n",
       "      <td>0.051560</td>\n",
       "      <td>0.004739</td>\n",
       "      <td>12.881701</td>\n",
       "      <td>228.068551</td>\n",
       "    </tr>\n",
       "    <tr>\n",
       "      <th>1</th>\n",
       "      <td>2024-12-13</td>\n",
       "      <td>Corp</td>\n",
       "      <td>AAPL</td>\n",
       "      <td>US037833EK23</td>\n",
       "      <td>BBG011ZS1X57</td>\n",
       "      <td>63.723</td>\n",
       "      <td>64.232</td>\n",
       "      <td>0.9835</td>\n",
       "      <td>5.242</td>\n",
       "      <td>5.194</td>\n",
       "      <td>...</td>\n",
       "      <td>US</td>\n",
       "      <td>USD</td>\n",
       "      <td>ACTV</td>\n",
       "      <td>29.998631</td>\n",
       "      <td>26.642026</td>\n",
       "      <td>63.9775</td>\n",
       "      <td>0.052180</td>\n",
       "      <td>0.005647</td>\n",
       "      <td>16.287829</td>\n",
       "      <td>365.156642</td>\n",
       "    </tr>\n",
       "    <tr>\n",
       "      <th>2</th>\n",
       "      <td>2024-12-13</td>\n",
       "      <td>Corp</td>\n",
       "      <td>AAPL</td>\n",
       "      <td>US037833DW79</td>\n",
       "      <td>BBG00TN2PN26</td>\n",
       "      <td>63.716</td>\n",
       "      <td>64.215</td>\n",
       "      <td>0.2585</td>\n",
       "      <td>5.253</td>\n",
       "      <td>5.205</td>\n",
       "      <td>...</td>\n",
       "      <td>US</td>\n",
       "      <td>USD</td>\n",
       "      <td>ACTV</td>\n",
       "      <td>29.998631</td>\n",
       "      <td>25.407255</td>\n",
       "      <td>63.9655</td>\n",
       "      <td>0.052290</td>\n",
       "      <td>0.005626</td>\n",
       "      <td>16.148258</td>\n",
       "      <td>349.637066</td>\n",
       "    </tr>\n",
       "    <tr>\n",
       "      <th>3</th>\n",
       "      <td>2024-12-13</td>\n",
       "      <td>Corp</td>\n",
       "      <td>AAPL</td>\n",
       "      <td>US037833EF38</td>\n",
       "      <td>BBG00Z3VQ626</td>\n",
       "      <td>63.262</td>\n",
       "      <td>63.766</td>\n",
       "      <td>0.9420</td>\n",
       "      <td>5.249</td>\n",
       "      <td>5.200</td>\n",
       "      <td>...</td>\n",
       "      <td>US</td>\n",
       "      <td>USD</td>\n",
       "      <td>ACTV</td>\n",
       "      <td>29.998631</td>\n",
       "      <td>26.154689</td>\n",
       "      <td>63.5140</td>\n",
       "      <td>0.052245</td>\n",
       "      <td>0.005661</td>\n",
       "      <td>16.212270</td>\n",
       "      <td>358.987301</td>\n",
       "    </tr>\n",
       "    <tr>\n",
       "      <th>4</th>\n",
       "      <td>2024-12-13</td>\n",
       "      <td>Corp</td>\n",
       "      <td>AAPL</td>\n",
       "      <td>US037833CD08</td>\n",
       "      <td>BBG00DHQX9M5</td>\n",
       "      <td>82.278</td>\n",
       "      <td>82.848</td>\n",
       "      <td>1.4120</td>\n",
       "      <td>5.227</td>\n",
       "      <td>5.177</td>\n",
       "      <td>...</td>\n",
       "      <td>US</td>\n",
       "      <td>USD</td>\n",
       "      <td>ACTV</td>\n",
       "      <td>29.998631</td>\n",
       "      <td>21.639973</td>\n",
       "      <td>82.5630</td>\n",
       "      <td>0.052020</td>\n",
       "      <td>0.005032</td>\n",
       "      <td>13.516503</td>\n",
       "      <td>248.114798</td>\n",
       "    </tr>\n",
       "  </tbody>\n",
       "</table>\n",
       "<p>5 rows × 38 columns</p>\n",
       "</div>"
      ],
      "text/plain": [
       "        date class ticker          isin          figi  bidPrice  askPrice  \\\n",
       "0 2024-12-13  Corp   AAPL  US037833BX70  BBG00C7QBG91    93.228    93.809   \n",
       "1 2024-12-13  Corp   AAPL  US037833EK23  BBG011ZS1X57    63.723    64.232   \n",
       "2 2024-12-13  Corp   AAPL  US037833DW79  BBG00TN2PN26    63.716    64.215   \n",
       "3 2024-12-13  Corp   AAPL  US037833EF38  BBG00Z3VQ626    63.262    63.766   \n",
       "4 2024-12-13  Corp   AAPL  US037833CD08  BBG00DHQX9M5    82.278    82.848   \n",
       "\n",
       "   accrued  bidYield  askYield  ...  country  currency status       term  \\\n",
       "0   1.4595     5.180     5.132  ...       US       USD   ACTV  30.001369   \n",
       "1   0.9835     5.242     5.194  ...       US       USD   ACTV  29.998631   \n",
       "2   0.2585     5.253     5.205  ...       US       USD   ACTV  29.998631   \n",
       "3   0.9420     5.249     5.200  ...       US       USD   ACTV  29.998631   \n",
       "4   1.4120     5.227     5.177  ...       US       USD   ACTV  29.998631   \n",
       "\n",
       "         TTM Test Price  calc_yield calc_zspread calc_duration  calc_convexity  \n",
       "0  21.196441    93.5185    0.051560     0.004739     12.881701      228.068551  \n",
       "1  26.642026    63.9775    0.052180     0.005647     16.287829      365.156642  \n",
       "2  25.407255    63.9655    0.052290     0.005626     16.148258      349.637066  \n",
       "3  26.154689    63.5140    0.052245     0.005661     16.212270      358.987301  \n",
       "4  21.639973    82.5630    0.052020     0.005032     13.516503      248.114798  \n",
       "\n",
       "[5 rows x 38 columns]"
      ]
     },
     "metadata": {},
     "output_type": "display_data"
    }
   ],
   "source": [
    "# Merging the original dataframe \n",
    "df_merged_corp_symbo_market_3 = pd.merge(df_merged_corp_symbo_market, df_prices_corp_3, on=['security'], how='inner')\n",
    "\n",
    "# Relevant columns\n",
    "df_merged_corp_symbo_market_3_filtered = df_merged_corp_symbo_market_3[['security', 'midPrice', 'Test Price',\n",
    "                                                                        'calc_yield', 'calc_zspread',\n",
    "                                                                        'calc_duration', 'calc_convexity']]\n",
    "display(df_merged_corp_symbo_market_3.head())"
   ]
  },
  {
   "cell_type": "code",
   "execution_count": 43,
   "id": "2d87ab11",
   "metadata": {},
   "outputs": [
    {
     "data": {
      "text/html": [
       "<div>\n",
       "<style scoped>\n",
       "    .dataframe tbody tr th:only-of-type {\n",
       "        vertical-align: middle;\n",
       "    }\n",
       "\n",
       "    .dataframe tbody tr th {\n",
       "        vertical-align: top;\n",
       "    }\n",
       "\n",
       "    .dataframe thead th {\n",
       "        text-align: right;\n",
       "    }\n",
       "</style>\n",
       "<table border=\"1\" class=\"dataframe\">\n",
       "  <thead>\n",
       "    <tr style=\"text-align: right;\">\n",
       "      <th></th>\n",
       "      <th>security</th>\n",
       "      <th>calc_duration</th>\n",
       "      <th>calc_convexity</th>\n",
       "    </tr>\n",
       "    <tr>\n",
       "      <th>TTM</th>\n",
       "      <th></th>\n",
       "      <th></th>\n",
       "      <th></th>\n",
       "    </tr>\n",
       "  </thead>\n",
       "  <tbody>\n",
       "    <tr>\n",
       "      <th>1.155373</th>\n",
       "      <td>AAPL 0.7 02/08/26</td>\n",
       "      <td>1.116806</td>\n",
       "      <td>1.797930</td>\n",
       "    </tr>\n",
       "    <tr>\n",
       "      <th>1.196441</th>\n",
       "      <td>AAPL 3 1/4 02/23/26</td>\n",
       "      <td>1.138448</td>\n",
       "      <td>1.871777</td>\n",
       "    </tr>\n",
       "    <tr>\n",
       "      <th>1.399042</th>\n",
       "      <td>AAPL 4.421 05/08/26</td>\n",
       "      <td>1.332867</td>\n",
       "      <td>2.453098</td>\n",
       "    </tr>\n",
       "    <tr>\n",
       "      <th>1.639973</th>\n",
       "      <td>AAPL 2.45 08/04/26</td>\n",
       "      <td>1.564827</td>\n",
       "      <td>3.254366</td>\n",
       "    </tr>\n",
       "    <tr>\n",
       "      <th>1.744011</th>\n",
       "      <td>AAPL 2.05 09/11/26</td>\n",
       "      <td>1.667277</td>\n",
       "      <td>3.629520</td>\n",
       "    </tr>\n",
       "  </tbody>\n",
       "</table>\n",
       "</div>"
      ],
      "text/plain": [
       "                     security  calc_duration  calc_convexity\n",
       "TTM                                                         \n",
       "1.155373    AAPL 0.7 02/08/26       1.116806        1.797930\n",
       "1.196441  AAPL 3 1/4 02/23/26       1.138448        1.871777\n",
       "1.399042  AAPL 4.421 05/08/26       1.332867        2.453098\n",
       "1.639973   AAPL 2.45 08/04/26       1.564827        3.254366\n",
       "1.744011   AAPL 2.05 09/11/26       1.667277        3.629520"
      ]
     },
     "metadata": {},
     "output_type": "display_data"
    },
    {
     "data": {
      "text/html": [
       "<div>\n",
       "<style scoped>\n",
       "    .dataframe tbody tr th:only-of-type {\n",
       "        vertical-align: middle;\n",
       "    }\n",
       "\n",
       "    .dataframe tbody tr th {\n",
       "        vertical-align: top;\n",
       "    }\n",
       "\n",
       "    .dataframe thead th {\n",
       "        text-align: right;\n",
       "    }\n",
       "</style>\n",
       "<table border=\"1\" class=\"dataframe\">\n",
       "  <thead>\n",
       "    <tr style=\"text-align: right;\">\n",
       "      <th></th>\n",
       "      <th>security</th>\n",
       "      <th>calc_duration</th>\n",
       "      <th>calc_convexity</th>\n",
       "    </tr>\n",
       "    <tr>\n",
       "      <th>TTM</th>\n",
       "      <th></th>\n",
       "      <th></th>\n",
       "      <th></th>\n",
       "    </tr>\n",
       "  </thead>\n",
       "  <tbody>\n",
       "    <tr>\n",
       "      <th>28.405202</th>\n",
       "      <td>AAPL 4.85 05/10/53</td>\n",
       "      <td>15.047435</td>\n",
       "      <td>330.608826</td>\n",
       "    </tr>\n",
       "    <tr>\n",
       "      <th>35.685147</th>\n",
       "      <td>AAPL 2.55 08/20/60</td>\n",
       "      <td>18.955916</td>\n",
       "      <td>532.881248</td>\n",
       "    </tr>\n",
       "    <tr>\n",
       "      <th>36.156057</th>\n",
       "      <td>AAPL 2.8 02/08/61</td>\n",
       "      <td>18.224860</td>\n",
       "      <td>505.875249</td>\n",
       "    </tr>\n",
       "    <tr>\n",
       "      <th>36.643395</th>\n",
       "      <td>AAPL 2.85 08/05/61</td>\n",
       "      <td>18.199130</td>\n",
       "      <td>508.133689</td>\n",
       "    </tr>\n",
       "    <tr>\n",
       "      <th>37.650924</th>\n",
       "      <td>AAPL 4.1 08/08/62</td>\n",
       "      <td>16.865673</td>\n",
       "      <td>453.575528</td>\n",
       "    </tr>\n",
       "  </tbody>\n",
       "</table>\n",
       "</div>"
      ],
      "text/plain": [
       "                     security  calc_duration  calc_convexity\n",
       "TTM                                                         \n",
       "28.405202  AAPL 4.85 05/10/53      15.047435      330.608826\n",
       "35.685147  AAPL 2.55 08/20/60      18.955916      532.881248\n",
       "36.156057   AAPL 2.8 02/08/61      18.224860      505.875249\n",
       "36.643395  AAPL 2.85 08/05/61      18.199130      508.133689\n",
       "37.650924   AAPL 4.1 08/08/62      16.865673      453.575528"
      ]
     },
     "metadata": {},
     "output_type": "display_data"
    }
   ],
   "source": [
    "# Dataframe for only Fixed-Rate Apple Bonds\n",
    "df_apple_2 = df_merged_corp_symbo_market_3[(df_merged_corp_symbo_market_3['ticker'] == 'AAPL') &\n",
    "                                           (df_merged_corp_symbo_market_3['cpn_type'] == 'FIXED')\n",
    "                                           ]\n",
    "\n",
    "# Filter only Relevant Columns\n",
    "df_apple_2_filtered = df_apple_2[['security', 'TTM', 'calc_duration', 'calc_convexity']]\n",
    "\n",
    "# Sort by index\n",
    "df_apple_2_filtered_sorted = df_apple_2_filtered.set_index('TTM').sort_index()\n",
    "display(df_apple_2_filtered_sorted.head())\n",
    "display(df_apple_2_filtered_sorted.tail())"
   ]
  },
  {
   "cell_type": "code",
   "execution_count": 44,
   "id": "4e226275",
   "metadata": {},
   "outputs": [
    {
     "data": {
      "application/vnd.plotly.v1+json": {
       "config": {
        "plotlyServerURL": "https://plot.ly"
       },
       "data": [
        {
         "hovertemplate": "security=AAPL 0.7 02/08/26<br>Time to Maturity (Years)=%{x}<br>Duration (Years)=%{y}<extra></extra>",
         "legendgroup": "AAPL 0.7 02/08/26",
         "marker": {
          "color": "#636efa",
          "symbol": "circle"
         },
         "mode": "markers",
         "name": "AAPL 0.7 02/08/26",
         "orientation": "v",
         "showlegend": true,
         "type": "scatter",
         "x": {
          "bdata": "OJe9bmh88j8=",
          "dtype": "f8"
         },
         "xaxis": "x",
         "y": {
          "bdata": "zBNge2/e8T8=",
          "dtype": "f8"
         },
         "yaxis": "y"
        },
        {
         "hovertemplate": "security=AAPL 3 1/4 02/23/26<br>Time to Maturity (Years)=%{x}<br>Duration (Years)=%{y}<extra></extra>",
         "legendgroup": "AAPL 3 1/4 02/23/26",
         "marker": {
          "color": "#EF553B",
          "symbol": "circle"
         },
         "mode": "markers",
         "name": "AAPL 3 1/4 02/23/26",
         "orientation": "v",
         "showlegend": true,
         "type": "scatter",
         "x": {
          "bdata": "Zq8bGp8k8z8=",
          "dtype": "f8"
         },
         "xaxis": "x",
         "y": {
          "bdata": "V57ZIhU38j8=",
          "dtype": "f8"
         },
         "yaxis": "y"
        },
        {
         "hovertemplate": "security=AAPL 4.421 05/08/26<br>Time to Maturity (Years)=%{x}<br>Duration (Years)=%{y}<extra></extra>",
         "legendgroup": "AAPL 4.421 05/08/26",
         "marker": {
          "color": "#00cc96",
          "symbol": "circle"
         },
         "mode": "markers",
         "name": "AAPL 4.421 05/08/26",
         "orientation": "v",
         "showlegend": true,
         "type": "scatter",
         "x": {
          "bdata": "Oa+4mnli9j8=",
          "dtype": "f8"
         },
         "xaxis": "x",
         "y": {
          "bdata": "Ug03QWxT9T8=",
          "dtype": "f8"
         },
         "yaxis": "y"
        },
        {
         "hovertemplate": "security=AAPL 2.45 08/04/26<br>Time to Maturity (Years)=%{x}<br>Duration (Years)=%{y}<extra></extra>",
         "legendgroup": "AAPL 2.45 08/04/26",
         "marker": {
          "color": "#ab63fa",
          "symbol": "circle"
         },
         "mode": "markers",
         "name": "AAPL 2.45 08/04/26",
         "orientation": "v",
         "showlegend": true,
         "type": "scatter",
         "x": {
          "bdata": "Jk567lM9+j8=",
          "dtype": "f8"
         },
         "xaxis": "x",
         "y": {
          "bdata": "o67qVIgJ+T8=",
          "dtype": "f8"
         },
         "yaxis": "y"
        },
        {
         "hovertemplate": "security=AAPL 2.05 09/11/26<br>Time to Maturity (Years)=%{x}<br>Duration (Years)=%{y}<extra></extra>",
         "legendgroup": "AAPL 2.05 09/11/26",
         "marker": {
          "color": "#FFA15A",
          "symbol": "circle"
         },
         "mode": "markers",
         "name": "AAPL 2.05 09/11/26",
         "orientation": "v",
         "showlegend": true,
         "type": "scatter",
         "x": {
          "bdata": "JEcCB3jn+z8=",
          "dtype": "f8"
         },
         "xaxis": "x",
         "y": {
          "bdata": "3fVeiyqt+j8=",
          "dtype": "f8"
         },
         "yaxis": "y"
        },
        {
         "hovertemplate": "security=AAPL 3.35 02/09/27<br>Time to Maturity (Years)=%{x}<br>Duration (Years)=%{y}<extra></extra>",
         "legendgroup": "AAPL 3.35 02/09/27",
         "marker": {
          "color": "#19d3f3",
          "symbol": "circle"
         },
         "mode": "markers",
         "name": "AAPL 3.35 02/09/27",
         "orientation": "v",
         "showlegend": true,
         "type": "scatter",
         "x": {
          "bdata": "A1l0yGhCAUA=",
          "dtype": "f8"
         },
         "xaxis": "x",
         "y": {
          "bdata": "WxCVYwEvAEA=",
          "dtype": "f8"
         },
         "yaxis": "y"
        },
        {
         "hovertemplate": "security=AAPL 3.2 05/11/27<br>Time to Maturity (Years)=%{x}<br>Duration (Years)=%{y}<extra></extra>",
         "legendgroup": "AAPL 3.2 05/11/27",
         "marker": {
          "color": "#FF6692",
          "symbol": "circle"
         },
         "mode": "markers",
         "name": "AAPL 3.2 05/11/27",
         "orientation": "v",
         "showlegend": true,
         "type": "scatter",
         "x": {
          "bdata": "GF6rNqhAA0A=",
          "dtype": "f8"
         },
         "xaxis": "x",
         "y": {
          "bdata": "DTfqHJkyAkA=",
          "dtype": "f8"
         },
         "yaxis": "y"
        },
        {
         "hovertemplate": "security=AAPL 3 06/20/27<br>Time to Maturity (Years)=%{x}<br>Duration (Years)=%{y}<extra></extra>",
         "legendgroup": "AAPL 3 06/20/27",
         "marker": {
          "color": "#B6E880",
          "symbol": "circle"
         },
         "mode": "markers",
         "name": "AAPL 3 06/20/27",
         "orientation": "v",
         "showlegend": true,
         "type": "scatter",
         "x": {
          "bdata": "q9MoG/EgBEA=",
          "dtype": "f8"
         },
         "xaxis": "x",
         "y": {
          "bdata": "5MCwz57LAkA=",
          "dtype": "f8"
         },
         "yaxis": "y"
        },
        {
         "hovertemplate": "security=AAPL 2.9 09/12/27<br>Time to Maturity (Years)=%{x}<br>Duration (Years)=%{y}<extra></extra>",
         "legendgroup": "AAPL 2.9 09/12/27",
         "marker": {
          "color": "#FF97FF",
          "symbol": "circle"
         },
         "mode": "markers",
         "name": "AAPL 2.9 09/12/27",
         "orientation": "v",
         "showlegend": true,
         "type": "scatter",
         "x": {
          "bdata": "+rCWlPD3BUA=",
          "dtype": "f8"
         },
         "xaxis": "x",
         "y": {
          "bdata": "yX7O/umWBEA=",
          "dtype": "f8"
         },
         "yaxis": "y"
        },
        {
         "hovertemplate": "security=AAPL 3 11/13/27<br>Time to Maturity (Years)=%{x}<br>Duration (Years)=%{y}<extra></extra>",
         "legendgroup": "AAPL 3 11/13/27",
         "marker": {
          "color": "#FECB52",
          "symbol": "circle"
         },
         "mode": "markers",
         "name": "AAPL 3 11/13/27",
         "orientation": "v",
         "showlegend": true,
         "type": "scatter",
         "x": {
          "bdata": "alqMw5RTB0A=",
          "dtype": "f8"
         },
         "xaxis": "x",
         "y": {
          "bdata": "KgLEwvzpBUA=",
          "dtype": "f8"
         },
         "yaxis": "y"
        },
        {
         "hovertemplate": "security=AAPL 1.2 02/08/28<br>Time to Maturity (Years)=%{x}<br>Duration (Years)=%{y}<extra></extra>",
         "legendgroup": "AAPL 1.2 02/08/28",
         "marker": {
          "color": "#636efa",
          "symbol": "circle"
         },
         "mode": "markers",
         "name": "AAPL 1.2 02/08/28",
         "orientation": "v",
         "showlegend": true,
         "type": "scatter",
         "x": {
          "bdata": "V21QgWY7CUA=",
          "dtype": "f8"
         },
         "xaxis": "x",
         "y": {
          "bdata": "aN0fzqccCEA=",
          "dtype": "f8"
         },
         "yaxis": "y"
        },
        {
         "hovertemplate": "security=AAPL 4 05/10/28<br>Time to Maturity (Years)=%{x}<br>Duration (Years)=%{y}<extra></extra>",
         "legendgroup": "AAPL 4 05/10/28",
         "marker": {
          "color": "#EF553B",
          "symbol": "circle"
         },
         "mode": "markers",
         "name": "AAPL 4 05/10/28",
         "orientation": "v",
         "showlegend": true,
         "type": "scatter",
         "x": {
          "bdata": "9i6kW0E/C0A=",
          "dtype": "f8"
         },
         "xaxis": "x",
         "y": {
          "bdata": "zg53ns0OCUA=",
          "dtype": "f8"
         },
         "yaxis": "y"
        },
        {
         "hovertemplate": "security=AAPL 1.4 08/05/28<br>Time to Maturity (Years)=%{x}<br>Duration (Years)=%{y}<extra></extra>",
         "legendgroup": "AAPL 1.4 08/05/28",
         "marker": {
          "color": "#00cc96",
          "symbol": "circle"
         },
         "mode": "markers",
         "name": "AAPL 1.4 08/05/28",
         "orientation": "v",
         "showlegend": true,
         "type": "scatter",
         "x": {
          "bdata": "4kFoGRMnDUA=",
          "dtype": "f8"
         },
         "xaxis": "x",
         "y": {
          "bdata": "Nku2U0+sC0A=",
          "dtype": "f8"
         },
         "yaxis": "y"
        },
        {
         "hovertemplate": "security=AAPL 3 1/4 08/08/29<br>Time to Maturity (Years)=%{x}<br>Duration (Years)=%{y}<extra></extra>",
         "legendgroup": "AAPL 3 1/4 08/08/29",
         "marker": {
          "color": "#ab63fa",
          "symbol": "circle"
         },
         "mode": "markers",
         "name": "AAPL 3 1/4 08/08/29",
         "orientation": "v",
         "showlegend": true,
         "type": "scatter",
         "x": {
          "bdata": "L6RbQT+bEkA=",
          "dtype": "f8"
         },
         "xaxis": "x",
         "y": {
          "bdata": "wnqSEIbKEEA=",
          "dtype": "f8"
         },
         "yaxis": "y"
        },
        {
         "hovertemplate": "security=AAPL 2.2 09/11/29<br>Time to Maturity (Years)=%{x}<br>Duration (Years)=%{y}<extra></extra>",
         "legendgroup": "AAPL 2.2 09/11/29",
         "marker": {
          "color": "#FFA15A",
          "symbol": "circle"
         },
         "mode": "markers",
         "name": "AAPL 2.2 09/11/29",
         "orientation": "v",
         "showlegend": true,
         "type": "scatter",
         "x": {
          "bdata": "WilEb5H6EkA=",
          "dtype": "f8"
         },
         "xaxis": "x",
         "y": {
          "bdata": "WfiUGPmIEUA=",
          "dtype": "f8"
         },
         "yaxis": "y"
        },
        {
         "hovertemplate": "security=AAPL 1.65 05/11/30<br>Time to Maturity (Years)=%{x}<br>Duration (Years)=%{y}<extra></extra>",
         "legendgroup": "AAPL 1.65 05/11/30",
         "marker": {
          "color": "#19d3f3",
          "symbol": "circle"
         },
         "mode": "markers",
         "name": "AAPL 1.65 05/11/30",
         "orientation": "v",
         "showlegend": true,
         "type": "scatter",
         "x": {
          "bdata": "nUbZiAehFUA=",
          "dtype": "f8"
         },
         "xaxis": "x",
         "y": {
          "bdata": "zpljmo0yFEA=",
          "dtype": "f8"
         },
         "yaxis": "y"
        },
        {
         "hovertemplate": "security=AAPL 1 1/4 08/20/30<br>Time to Maturity (Years)=%{x}<br>Duration (Years)=%{y}<extra></extra>",
         "legendgroup": "AAPL 1 1/4 08/20/30",
         "marker": {
          "color": "#FF6692",
          "symbol": "circle"
         },
         "mode": "markers",
         "name": "AAPL 1 1/4 08/20/30",
         "orientation": "v",
         "showlegend": true,
         "type": "scatter",
         "x": {
          "bdata": "2neEXDC8FkA=",
          "dtype": "f8"
         },
         "xaxis": "x",
         "y": {
          "bdata": "I4VkvntYFUA=",
          "dtype": "f8"
         },
         "yaxis": "y"
        },
        {
         "hovertemplate": "security=AAPL 1.65 02/08/31<br>Time to Maturity (Years)=%{x}<br>Duration (Years)=%{y}<extra></extra>",
         "legendgroup": "AAPL 1.65 02/08/31",
         "marker": {
          "color": "#B6E880",
          "symbol": "circle"
         },
         "mode": "markers",
         "name": "AAPL 1.65 02/08/31",
         "orientation": "v",
         "showlegend": true,
         "type": "scatter",
         "x": {
          "bdata": "Pc4rrmaeGEA=",
          "dtype": "f8"
         },
         "xaxis": "x",
         "y": {
          "bdata": "AfsvgdWxFkA=",
          "dtype": "f8"
         },
         "yaxis": "y"
        },
        {
         "hovertemplate": "security=AAPL 1.7 08/05/31<br>Time to Maturity (Years)=%{x}<br>Duration (Years)=%{y}<extra></extra>",
         "legendgroup": "AAPL 1.7 08/05/31",
         "marker": {
          "color": "#FF97FF",
          "symbol": "circle"
         },
         "mode": "markers",
         "name": "AAPL 1.7 08/05/31",
         "orientation": "v",
         "showlegend": true,
         "type": "scatter",
         "x": {
          "bdata": "PVopRG+RGkA=",
          "dtype": "f8"
         },
         "xaxis": "x",
         "y": {
          "bdata": "MGA/I5lWGEA=",
          "dtype": "f8"
         },
         "yaxis": "y"
        },
        {
         "hovertemplate": "security=AAPL 3.35 08/08/32<br>Time to Maturity (Years)=%{x}<br>Duration (Years)=%{y}<extra></extra>",
         "legendgroup": "AAPL 3.35 08/08/32",
         "marker": {
          "color": "#FECB52",
          "symbol": "circle"
         },
         "mode": "markers",
         "name": "AAPL 3.35 08/08/32",
         "orientation": "v",
         "showlegend": true,
         "type": "scatter",
         "x": {
          "bdata": "wDvfrvKbHkA=",
          "dtype": "f8"
         },
         "xaxis": "x",
         "y": {
          "bdata": "kuk6dekmGkA=",
          "dtype": "f8"
         },
         "yaxis": "y"
        },
        {
         "hovertemplate": "security=AAPL 4.3 05/10/33<br>Time to Maturity (Years)=%{x}<br>Duration (Years)=%{y}<extra></extra>",
         "legendgroup": "AAPL 4.3 05/10/33",
         "marker": {
          "color": "#636efa",
          "symbol": "circle"
         },
         "mode": "markers",
         "name": "AAPL 4.3 05/10/33",
         "orientation": "v",
         "showlegend": true,
         "type": "scatter",
         "x": {
          "bdata": "9T8noHbPIEA=",
          "dtype": "f8"
         },
         "xaxis": "x",
         "y": {
          "bdata": "iZ5L3XvHG0A=",
          "dtype": "f8"
         },
         "yaxis": "y"
        },
        {
         "hovertemplate": "security=AAPL 4 1/2 02/23/36<br>Time to Maturity (Years)=%{x}<br>Duration (Years)=%{y}<extra></extra>",
         "legendgroup": "AAPL 4 1/2 02/23/36",
         "marker": {
          "color": "#EF553B",
          "symbol": "circle"
         },
         "mode": "markers",
         "name": "AAPL 4 1/2 02/23/36",
         "orientation": "v",
         "showlegend": true,
         "type": "scatter",
         "x": {
          "bdata": "W96/deBjJkA=",
          "dtype": "f8"
         },
         "xaxis": "x",
         "y": {
          "bdata": "YthHWekkIUA=",
          "dtype": "f8"
         },
         "yaxis": "y"
        },
        {
         "hovertemplate": "security=AAPL 2 3/8 02/08/41<br>Time to Maturity (Years)=%{x}<br>Duration (Years)=%{y}<extra></extra>",
         "legendgroup": "AAPL 2 3/8 02/08/41",
         "marker": {
          "color": "#00cc96",
          "symbol": "circle"
         },
         "mode": "markers",
         "name": "AAPL 2 3/8 02/08/41",
         "orientation": "v",
         "showlegend": true,
         "type": "scatter",
         "x": {
          "bdata": "WL9MYvMnMEA=",
          "dtype": "f8"
         },
         "xaxis": "x",
         "y": {
          "bdata": "LbUdglfOKEA=",
          "dtype": "f8"
         },
         "yaxis": "y"
        },
        {
         "hovertemplate": "security=AAPL 3.85 05/04/43<br>Time to Maturity (Years)=%{x}<br>Duration (Years)=%{y}<extra></extra>",
         "legendgroup": "AAPL 3.85 05/04/43",
         "marker": {
          "color": "#ab63fa",
          "symbol": "circle"
         },
         "mode": "markers",
         "name": "AAPL 3.85 05/04/43",
         "orientation": "v",
         "showlegend": true,
         "type": "scatter",
         "x": {
          "bdata": "ykY8CC1jMkA=",
          "dtype": "f8"
         },
         "xaxis": "x",
         "y": {
          "bdata": "x8/okv/oKEA=",
          "dtype": "f8"
         },
         "yaxis": "y"
        },
        {
         "hovertemplate": "security=AAPL 4.45 05/06/44<br>Time to Maturity (Years)=%{x}<br>Duration (Years)=%{y}<extra></extra>",
         "legendgroup": "AAPL 4.45 05/06/44",
         "marker": {
          "color": "#FFA15A",
          "symbol": "circle"
         },
         "mode": "markers",
         "name": "AAPL 4.45 05/06/44",
         "orientation": "v",
         "showlegend": true,
         "type": "scatter",
         "x": {
          "bdata": "midmdRplM0A=",
          "dtype": "f8"
         },
         "xaxis": "x",
         "y": {
          "bdata": "wG5ReOodKUA=",
          "dtype": "f8"
         },
         "yaxis": "y"
        },
        {
         "hovertemplate": "security=AAPL 3.45 02/09/45<br>Time to Maturity (Years)=%{x}<br>Duration (Years)=%{y}<extra></extra>",
         "legendgroup": "AAPL 3.45 02/09/45",
         "marker": {
          "color": "#19d3f3",
          "symbol": "circle"
         },
         "mode": "markers",
         "name": "AAPL 3.45 02/09/45",
         "orientation": "v",
         "showlegend": true,
         "type": "scatter",
         "x": {
          "bdata": "6VbQz6YoNEA=",
          "dtype": "f8"
         },
         "xaxis": "x",
         "y": {
          "bdata": "DTBuHPegKkA=",
          "dtype": "f8"
         },
         "yaxis": "y"
        },
        {
         "hovertemplate": "security=AAPL 4 3/8 05/13/45<br>Time to Maturity (Years)=%{x}<br>Duration (Years)=%{y}<extra></extra>",
         "legendgroup": "AAPL 4 3/8 05/13/45",
         "marker": {
          "color": "#FF6692",
          "symbol": "circle"
         },
         "mode": "markers",
         "name": "AAPL 4 3/8 05/13/45",
         "orientation": "v",
         "showlegend": true,
         "type": "scatter",
         "x": {
          "bdata": "rmaemNVpNEA=",
          "dtype": "f8"
         },
         "xaxis": "x",
         "y": {
          "bdata": "OU+Oj9HTKUA=",
          "dtype": "f8"
         },
         "yaxis": "y"
        },
        {
         "hovertemplate": "security=AAPL 4.65 02/23/46<br>Time to Maturity (Years)=%{x}<br>Duration (Years)=%{y}<extra></extra>",
         "legendgroup": "AAPL 4.65 02/23/46",
         "marker": {
          "color": "#B6E880",
          "symbol": "circle"
         },
         "mode": "markers",
         "name": "AAPL 4.65 02/23/46",
         "orientation": "v",
         "showlegend": true,
         "type": "scatter",
         "x": {
          "bdata": "9rqh8UkyNUA=",
          "dtype": "f8"
         },
         "xaxis": "x",
         "y": {
          "bdata": "MzDcUm7DKUA=",
          "dtype": "f8"
         },
         "yaxis": "y"
        },
        {
         "hovertemplate": "security=AAPL 3.85 08/04/46<br>Time to Maturity (Years)=%{x}<br>Duration (Years)=%{y}<extra></extra>",
         "legendgroup": "AAPL 3.85 08/04/46",
         "marker": {
          "color": "#FF97FF",
          "symbol": "circle"
         },
         "mode": "markers",
         "name": "AAPL 3.85 08/04/46",
         "orientation": "v",
         "showlegend": true,
         "type": "scatter",
         "x": {
          "bdata": "4qTnPtWjNUA=",
          "dtype": "f8"
         },
         "xaxis": "x",
         "y": {
          "bdata": "SZALG3MIK0A=",
          "dtype": "f8"
         },
         "yaxis": "y"
        },
        {
         "hovertemplate": "security=AAPL 4 1/4 02/09/47<br>Time to Maturity (Years)=%{x}<br>Duration (Years)=%{y}<extra></extra>",
         "legendgroup": "AAPL 4 1/4 02/09/47",
         "marker": {
          "color": "#FECB52",
          "symbol": "circle"
         },
         "mode": "markers",
         "name": "AAPL 4 1/4 02/09/47",
         "orientation": "v",
         "showlegend": true,
         "type": "scatter",
         "x": {
          "bdata": "IIsOGU0oNkA=",
          "dtype": "f8"
         },
         "xaxis": "x",
         "y": {
          "bdata": "cD8jPvDXKkA=",
          "dtype": "f8"
         },
         "yaxis": "y"
        },
        {
         "hovertemplate": "security=AAPL 3 3/4 09/12/47<br>Time to Maturity (Years)=%{x}<br>Duration (Years)=%{y}<extra></extra>",
         "legendgroup": "AAPL 3 3/4 09/12/47",
         "marker": {
          "color": "#636efa",
          "symbol": "circle"
         },
         "mode": "markers",
         "name": "AAPL 3 3/4 09/12/47",
         "orientation": "v",
         "showlegend": true,
         "type": "scatter",
         "x": {
          "bdata": "H9aSEv6+NkA=",
          "dtype": "f8"
         },
         "xaxis": "x",
         "y": {
          "bdata": "4ZyIINkGLEA=",
          "dtype": "f8"
         },
         "yaxis": "y"
        },
        {
         "hovertemplate": "security=AAPL 3 3/4 11/13/47<br>Time to Maturity (Years)=%{x}<br>Duration (Years)=%{y}<extra></extra>",
         "legendgroup": "AAPL 3 3/4 11/13/47",
         "marker": {
          "color": "#EF553B",
          "symbol": "circle"
         },
         "mode": "markers",
         "name": "AAPL 3 3/4 11/13/47",
         "orientation": "v",
         "showlegend": true,
         "type": "scatter",
         "x": {
          "bdata": "TYtxmHLqNkA=",
          "dtype": "f8"
         },
         "xaxis": "x",
         "y": {
          "bdata": "kfSuMNplLEA=",
          "dtype": "f8"
         },
         "yaxis": "y"
        },
        {
         "hovertemplate": "security=AAPL 2.95 09/11/49<br>Time to Maturity (Years)=%{x}<br>Duration (Years)=%{y}<extra></extra>",
         "legendgroup": "AAPL 2.95 09/11/49",
         "marker": {
          "color": "#00cc96",
          "symbol": "circle"
         },
         "mode": "markers",
         "name": "AAPL 2.95 09/11/49",
         "orientation": "v",
         "showlegend": true,
         "type": "scatter",
         "x": {
          "bdata": "VwrRW6S+OEA=",
          "dtype": "f8"
         },
         "xaxis": "x",
         "y": {
          "bdata": "M5WgtgvkLkA=",
          "dtype": "f8"
         },
         "yaxis": "y"
        },
        {
         "hovertemplate": "security=AAPL 2.65 05/11/50<br>Time to Maturity (Years)=%{x}<br>Duration (Years)=%{y}<extra></extra>",
         "legendgroup": "AAPL 2.65 05/11/50",
         "marker": {
          "color": "#ab63fa",
          "symbol": "circle"
         },
         "mode": "markers",
         "name": "AAPL 2.65 05/11/50",
         "orientation": "v",
         "showlegend": true,
         "type": "scatter",
         "x": {
          "bdata": "p1E24kFoOUA=",
          "dtype": "f8"
         },
         "xaxis": "x",
         "y": {
          "bdata": "+eFcQvQlMEA=",
          "dtype": "f8"
         },
         "yaxis": "y"
        },
        {
         "hovertemplate": "security=AAPL 2.4 08/20/50<br>Time to Maturity (Years)=%{x}<br>Duration (Years)=%{y}<extra></extra>",
         "legendgroup": "AAPL 2.4 08/20/50",
         "marker": {
          "color": "#FFA15A",
          "symbol": "circle"
         },
         "mode": "markers",
         "name": "AAPL 2.4 08/20/50",
         "orientation": "v",
         "showlegend": true,
         "type": "scatter",
         "x": {
          "bdata": "9x0hFwyvOUA=",
          "dtype": "f8"
         },
         "xaxis": "x",
         "y": {
          "bdata": "YCcKJ+18MEA=",
          "dtype": "f8"
         },
         "yaxis": "y"
        },
        {
         "hovertemplate": "security=AAPL 2.65 02/08/51<br>Time to Maturity (Years)=%{x}<br>Duration (Years)=%{y}<extra></extra>",
         "legendgroup": "AAPL 2.65 02/08/51",
         "marker": {
          "color": "#19d3f3",
          "symbol": "circle"
         },
         "mode": "markers",
         "name": "AAPL 2.65 02/08/51",
         "orientation": "v",
         "showlegend": true,
         "type": "scatter",
         "x": {
          "bdata": "j/OKq5knOkA=",
          "dtype": "f8"
         },
         "xaxis": "x",
         "y": {
          "bdata": "uZ+6VVc2MEA=",
          "dtype": "f8"
         },
         "yaxis": "y"
        },
        {
         "hovertemplate": "security=AAPL 2.7 08/05/51<br>Time to Maturity (Years)=%{x}<br>Duration (Years)=%{y}<extra></extra>",
         "legendgroup": "AAPL 2.7 08/05/51",
         "marker": {
          "color": "#FF6692",
          "symbol": "circle"
         },
         "mode": "markers",
         "name": "AAPL 2.7 08/05/51",
         "orientation": "v",
         "showlegend": true,
         "type": "scatter",
         "x": {
          "bdata": "j1YK0VukOkA=",
          "dtype": "f8"
         },
         "xaxis": "x",
         "y": {
          "bdata": "IfsVIa9JMEA=",
          "dtype": "f8"
         },
         "yaxis": "y"
        },
        {
         "hovertemplate": "security=AAPL 3.95 08/08/52<br>Time to Maturity (Years)=%{x}<br>Duration (Years)=%{y}<extra></extra>",
         "legendgroup": "AAPL 3.95 08/08/52",
         "marker": {
          "color": "#B6E880",
          "symbol": "circle"
         },
         "mode": "markers",
         "name": "AAPL 3.95 08/08/52",
         "orientation": "v",
         "showlegend": true,
         "type": "scatter",
         "x": {
          "bdata": "8M63q/ymO0A=",
          "dtype": "f8"
         },
         "xaxis": "x",
         "y": {
          "bdata": "NOh/aJ9gLkA=",
          "dtype": "f8"
         },
         "yaxis": "y"
        },
        {
         "hovertemplate": "security=AAPL 4.85 05/10/53<br>Time to Maturity (Years)=%{x}<br>Duration (Years)=%{y}<extra></extra>",
         "legendgroup": "AAPL 4.85 05/10/53",
         "marker": {
          "color": "#FF97FF",
          "symbol": "circle"
         },
         "mode": "markers",
         "name": "AAPL 4.85 05/10/53",
         "orientation": "v",
         "showlegend": true,
         "type": "scatter",
         "x": {
          "bdata": "+p8TULtnPEA=",
          "dtype": "f8"
         },
         "xaxis": "x",
         "y": {
          "bdata": "TKxfWEkYLkA=",
          "dtype": "f8"
         },
         "yaxis": "y"
        },
        {
         "hovertemplate": "security=AAPL 2.55 08/20/60<br>Time to Maturity (Years)=%{x}<br>Duration (Years)=%{y}<extra></extra>",
         "legendgroup": "AAPL 2.55 08/20/60",
         "marker": {
          "color": "#FECB52",
          "symbol": "circle"
         },
         "mode": "markers",
         "name": "AAPL 2.55 08/20/60",
         "orientation": "v",
         "showlegend": true,
         "type": "scatter",
         "x": {
          "bdata": "4HTx5rLXQUA=",
          "dtype": "f8"
         },
         "xaxis": "x",
         "y": {
          "bdata": "e+Ep6Lb0MkA=",
          "dtype": "f8"
         },
         "yaxis": "y"
        },
        {
         "hovertemplate": "security=AAPL 2.8 02/08/61<br>Time to Maturity (Years)=%{x}<br>Duration (Years)=%{y}<extra></extra>",
         "legendgroup": "AAPL 2.8 02/08/61",
         "marker": {
          "color": "#636efa",
          "symbol": "circle"
         },
         "mode": "markers",
         "name": "AAPL 2.8 02/08/61",
         "orientation": "v",
         "showlegend": true,
         "type": "scatter",
         "x": {
          "bdata": "rF8msfkTQkA=",
          "dtype": "f8"
         },
         "xaxis": "x",
         "y": {
          "bdata": "mY+4bJA5MkA=",
          "dtype": "f8"
         },
         "yaxis": "y"
        },
        {
         "hovertemplate": "security=AAPL 2.85 08/05/61<br>Time to Maturity (Years)=%{x}<br>Duration (Years)=%{y}<extra></extra>",
         "legendgroup": "AAPL 2.85 08/05/61",
         "marker": {
          "color": "#EF553B",
          "symbol": "circle"
         },
         "mode": "markers",
         "name": "AAPL 2.85 08/05/61",
         "orientation": "v",
         "showlegend": true,
         "type": "scatter",
         "x": {
          "bdata": "LBHmw1pSQkA=",
          "dtype": "f8"
         },
         "xaxis": "x",
         "y": {
          "bdata": "XAUSJ/oyMkA=",
          "dtype": "f8"
         },
         "yaxis": "y"
        },
        {
         "hovertemplate": "security=AAPL 4.1 08/08/62<br>Time to Maturity (Years)=%{x}<br>Duration (Years)=%{y}<extra></extra>",
         "legendgroup": "AAPL 4.1 08/08/62",
         "marker": {
          "color": "#00cc96",
          "symbol": "circle"
         },
         "mode": "markers",
         "name": "AAPL 4.1 08/08/62",
         "orientation": "v",
         "showlegend": true,
         "type": "scatter",
         "x": {
          "bdata": "lAF7elHTQkA=",
          "dtype": "f8"
         },
         "xaxis": "x",
         "y": {
          "bdata": "HtqPwpzdMEA=",
          "dtype": "f8"
         },
         "yaxis": "y"
        }
       ],
       "layout": {
        "legend": {
         "bgcolor": "rgba(255,255,255,0)",
         "bordercolor": "black",
         "borderwidth": 1,
         "title": {
          "text": "Security"
         },
         "tracegroupgap": 0,
         "x": 1.05,
         "xanchor": "left",
         "y": 0.99,
         "yanchor": "top"
        },
        "template": {
         "data": {
          "bar": [
           {
            "error_x": {
             "color": "#2a3f5f"
            },
            "error_y": {
             "color": "#2a3f5f"
            },
            "marker": {
             "line": {
              "color": "#E5ECF6",
              "width": 0.5
             },
             "pattern": {
              "fillmode": "overlay",
              "size": 10,
              "solidity": 0.2
             }
            },
            "type": "bar"
           }
          ],
          "barpolar": [
           {
            "marker": {
             "line": {
              "color": "#E5ECF6",
              "width": 0.5
             },
             "pattern": {
              "fillmode": "overlay",
              "size": 10,
              "solidity": 0.2
             }
            },
            "type": "barpolar"
           }
          ],
          "carpet": [
           {
            "aaxis": {
             "endlinecolor": "#2a3f5f",
             "gridcolor": "white",
             "linecolor": "white",
             "minorgridcolor": "white",
             "startlinecolor": "#2a3f5f"
            },
            "baxis": {
             "endlinecolor": "#2a3f5f",
             "gridcolor": "white",
             "linecolor": "white",
             "minorgridcolor": "white",
             "startlinecolor": "#2a3f5f"
            },
            "type": "carpet"
           }
          ],
          "choropleth": [
           {
            "colorbar": {
             "outlinewidth": 0,
             "ticks": ""
            },
            "type": "choropleth"
           }
          ],
          "contour": [
           {
            "colorbar": {
             "outlinewidth": 0,
             "ticks": ""
            },
            "colorscale": [
             [
              0,
              "#0d0887"
             ],
             [
              0.1111111111111111,
              "#46039f"
             ],
             [
              0.2222222222222222,
              "#7201a8"
             ],
             [
              0.3333333333333333,
              "#9c179e"
             ],
             [
              0.4444444444444444,
              "#bd3786"
             ],
             [
              0.5555555555555556,
              "#d8576b"
             ],
             [
              0.6666666666666666,
              "#ed7953"
             ],
             [
              0.7777777777777778,
              "#fb9f3a"
             ],
             [
              0.8888888888888888,
              "#fdca26"
             ],
             [
              1,
              "#f0f921"
             ]
            ],
            "type": "contour"
           }
          ],
          "contourcarpet": [
           {
            "colorbar": {
             "outlinewidth": 0,
             "ticks": ""
            },
            "type": "contourcarpet"
           }
          ],
          "heatmap": [
           {
            "colorbar": {
             "outlinewidth": 0,
             "ticks": ""
            },
            "colorscale": [
             [
              0,
              "#0d0887"
             ],
             [
              0.1111111111111111,
              "#46039f"
             ],
             [
              0.2222222222222222,
              "#7201a8"
             ],
             [
              0.3333333333333333,
              "#9c179e"
             ],
             [
              0.4444444444444444,
              "#bd3786"
             ],
             [
              0.5555555555555556,
              "#d8576b"
             ],
             [
              0.6666666666666666,
              "#ed7953"
             ],
             [
              0.7777777777777778,
              "#fb9f3a"
             ],
             [
              0.8888888888888888,
              "#fdca26"
             ],
             [
              1,
              "#f0f921"
             ]
            ],
            "type": "heatmap"
           }
          ],
          "histogram": [
           {
            "marker": {
             "pattern": {
              "fillmode": "overlay",
              "size": 10,
              "solidity": 0.2
             }
            },
            "type": "histogram"
           }
          ],
          "histogram2d": [
           {
            "colorbar": {
             "outlinewidth": 0,
             "ticks": ""
            },
            "colorscale": [
             [
              0,
              "#0d0887"
             ],
             [
              0.1111111111111111,
              "#46039f"
             ],
             [
              0.2222222222222222,
              "#7201a8"
             ],
             [
              0.3333333333333333,
              "#9c179e"
             ],
             [
              0.4444444444444444,
              "#bd3786"
             ],
             [
              0.5555555555555556,
              "#d8576b"
             ],
             [
              0.6666666666666666,
              "#ed7953"
             ],
             [
              0.7777777777777778,
              "#fb9f3a"
             ],
             [
              0.8888888888888888,
              "#fdca26"
             ],
             [
              1,
              "#f0f921"
             ]
            ],
            "type": "histogram2d"
           }
          ],
          "histogram2dcontour": [
           {
            "colorbar": {
             "outlinewidth": 0,
             "ticks": ""
            },
            "colorscale": [
             [
              0,
              "#0d0887"
             ],
             [
              0.1111111111111111,
              "#46039f"
             ],
             [
              0.2222222222222222,
              "#7201a8"
             ],
             [
              0.3333333333333333,
              "#9c179e"
             ],
             [
              0.4444444444444444,
              "#bd3786"
             ],
             [
              0.5555555555555556,
              "#d8576b"
             ],
             [
              0.6666666666666666,
              "#ed7953"
             ],
             [
              0.7777777777777778,
              "#fb9f3a"
             ],
             [
              0.8888888888888888,
              "#fdca26"
             ],
             [
              1,
              "#f0f921"
             ]
            ],
            "type": "histogram2dcontour"
           }
          ],
          "mesh3d": [
           {
            "colorbar": {
             "outlinewidth": 0,
             "ticks": ""
            },
            "type": "mesh3d"
           }
          ],
          "parcoords": [
           {
            "line": {
             "colorbar": {
              "outlinewidth": 0,
              "ticks": ""
             }
            },
            "type": "parcoords"
           }
          ],
          "pie": [
           {
            "automargin": true,
            "type": "pie"
           }
          ],
          "scatter": [
           {
            "fillpattern": {
             "fillmode": "overlay",
             "size": 10,
             "solidity": 0.2
            },
            "type": "scatter"
           }
          ],
          "scatter3d": [
           {
            "line": {
             "colorbar": {
              "outlinewidth": 0,
              "ticks": ""
             }
            },
            "marker": {
             "colorbar": {
              "outlinewidth": 0,
              "ticks": ""
             }
            },
            "type": "scatter3d"
           }
          ],
          "scattercarpet": [
           {
            "marker": {
             "colorbar": {
              "outlinewidth": 0,
              "ticks": ""
             }
            },
            "type": "scattercarpet"
           }
          ],
          "scattergeo": [
           {
            "marker": {
             "colorbar": {
              "outlinewidth": 0,
              "ticks": ""
             }
            },
            "type": "scattergeo"
           }
          ],
          "scattergl": [
           {
            "marker": {
             "colorbar": {
              "outlinewidth": 0,
              "ticks": ""
             }
            },
            "type": "scattergl"
           }
          ],
          "scattermap": [
           {
            "marker": {
             "colorbar": {
              "outlinewidth": 0,
              "ticks": ""
             }
            },
            "type": "scattermap"
           }
          ],
          "scattermapbox": [
           {
            "marker": {
             "colorbar": {
              "outlinewidth": 0,
              "ticks": ""
             }
            },
            "type": "scattermapbox"
           }
          ],
          "scatterpolar": [
           {
            "marker": {
             "colorbar": {
              "outlinewidth": 0,
              "ticks": ""
             }
            },
            "type": "scatterpolar"
           }
          ],
          "scatterpolargl": [
           {
            "marker": {
             "colorbar": {
              "outlinewidth": 0,
              "ticks": ""
             }
            },
            "type": "scatterpolargl"
           }
          ],
          "scatterternary": [
           {
            "marker": {
             "colorbar": {
              "outlinewidth": 0,
              "ticks": ""
             }
            },
            "type": "scatterternary"
           }
          ],
          "surface": [
           {
            "colorbar": {
             "outlinewidth": 0,
             "ticks": ""
            },
            "colorscale": [
             [
              0,
              "#0d0887"
             ],
             [
              0.1111111111111111,
              "#46039f"
             ],
             [
              0.2222222222222222,
              "#7201a8"
             ],
             [
              0.3333333333333333,
              "#9c179e"
             ],
             [
              0.4444444444444444,
              "#bd3786"
             ],
             [
              0.5555555555555556,
              "#d8576b"
             ],
             [
              0.6666666666666666,
              "#ed7953"
             ],
             [
              0.7777777777777778,
              "#fb9f3a"
             ],
             [
              0.8888888888888888,
              "#fdca26"
             ],
             [
              1,
              "#f0f921"
             ]
            ],
            "type": "surface"
           }
          ],
          "table": [
           {
            "cells": {
             "fill": {
              "color": "#EBF0F8"
             },
             "line": {
              "color": "white"
             }
            },
            "header": {
             "fill": {
              "color": "#C8D4E3"
             },
             "line": {
              "color": "white"
             }
            },
            "type": "table"
           }
          ]
         },
         "layout": {
          "annotationdefaults": {
           "arrowcolor": "#2a3f5f",
           "arrowhead": 0,
           "arrowwidth": 1
          },
          "autotypenumbers": "strict",
          "coloraxis": {
           "colorbar": {
            "outlinewidth": 0,
            "ticks": ""
           }
          },
          "colorscale": {
           "diverging": [
            [
             0,
             "#8e0152"
            ],
            [
             0.1,
             "#c51b7d"
            ],
            [
             0.2,
             "#de77ae"
            ],
            [
             0.3,
             "#f1b6da"
            ],
            [
             0.4,
             "#fde0ef"
            ],
            [
             0.5,
             "#f7f7f7"
            ],
            [
             0.6,
             "#e6f5d0"
            ],
            [
             0.7,
             "#b8e186"
            ],
            [
             0.8,
             "#7fbc41"
            ],
            [
             0.9,
             "#4d9221"
            ],
            [
             1,
             "#276419"
            ]
           ],
           "sequential": [
            [
             0,
             "#0d0887"
            ],
            [
             0.1111111111111111,
             "#46039f"
            ],
            [
             0.2222222222222222,
             "#7201a8"
            ],
            [
             0.3333333333333333,
             "#9c179e"
            ],
            [
             0.4444444444444444,
             "#bd3786"
            ],
            [
             0.5555555555555556,
             "#d8576b"
            ],
            [
             0.6666666666666666,
             "#ed7953"
            ],
            [
             0.7777777777777778,
             "#fb9f3a"
            ],
            [
             0.8888888888888888,
             "#fdca26"
            ],
            [
             1,
             "#f0f921"
            ]
           ],
           "sequentialminus": [
            [
             0,
             "#0d0887"
            ],
            [
             0.1111111111111111,
             "#46039f"
            ],
            [
             0.2222222222222222,
             "#7201a8"
            ],
            [
             0.3333333333333333,
             "#9c179e"
            ],
            [
             0.4444444444444444,
             "#bd3786"
            ],
            [
             0.5555555555555556,
             "#d8576b"
            ],
            [
             0.6666666666666666,
             "#ed7953"
            ],
            [
             0.7777777777777778,
             "#fb9f3a"
            ],
            [
             0.8888888888888888,
             "#fdca26"
            ],
            [
             1,
             "#f0f921"
            ]
           ]
          },
          "colorway": [
           "#636efa",
           "#EF553B",
           "#00cc96",
           "#ab63fa",
           "#FFA15A",
           "#19d3f3",
           "#FF6692",
           "#B6E880",
           "#FF97FF",
           "#FECB52"
          ],
          "font": {
           "color": "#2a3f5f"
          },
          "geo": {
           "bgcolor": "white",
           "lakecolor": "white",
           "landcolor": "#E5ECF6",
           "showlakes": true,
           "showland": true,
           "subunitcolor": "white"
          },
          "hoverlabel": {
           "align": "left"
          },
          "hovermode": "closest",
          "mapbox": {
           "style": "light"
          },
          "paper_bgcolor": "white",
          "plot_bgcolor": "#E5ECF6",
          "polar": {
           "angularaxis": {
            "gridcolor": "white",
            "linecolor": "white",
            "ticks": ""
           },
           "bgcolor": "#E5ECF6",
           "radialaxis": {
            "gridcolor": "white",
            "linecolor": "white",
            "ticks": ""
           }
          },
          "scene": {
           "xaxis": {
            "backgroundcolor": "#E5ECF6",
            "gridcolor": "white",
            "gridwidth": 2,
            "linecolor": "white",
            "showbackground": true,
            "ticks": "",
            "zerolinecolor": "white"
           },
           "yaxis": {
            "backgroundcolor": "#E5ECF6",
            "gridcolor": "white",
            "gridwidth": 2,
            "linecolor": "white",
            "showbackground": true,
            "ticks": "",
            "zerolinecolor": "white"
           },
           "zaxis": {
            "backgroundcolor": "#E5ECF6",
            "gridcolor": "white",
            "gridwidth": 2,
            "linecolor": "white",
            "showbackground": true,
            "ticks": "",
            "zerolinecolor": "white"
           }
          },
          "shapedefaults": {
           "line": {
            "color": "#2a3f5f"
           }
          },
          "ternary": {
           "aaxis": {
            "gridcolor": "white",
            "linecolor": "white",
            "ticks": ""
           },
           "baxis": {
            "gridcolor": "white",
            "linecolor": "white",
            "ticks": ""
           },
           "bgcolor": "#E5ECF6",
           "caxis": {
            "gridcolor": "white",
            "linecolor": "white",
            "ticks": ""
           }
          },
          "title": {
           "x": 0.05
          },
          "xaxis": {
           "automargin": true,
           "gridcolor": "white",
           "linecolor": "white",
           "ticks": "",
           "title": {
            "standoff": 15
           },
           "zerolinecolor": "white",
           "zerolinewidth": 2
          },
          "yaxis": {
           "automargin": true,
           "gridcolor": "white",
           "linecolor": "white",
           "ticks": "",
           "title": {
            "standoff": 15
           },
           "zerolinecolor": "white",
           "zerolinewidth": 2
          }
         }
        },
        "title": {
         "text": "Duration for AAPL (fixed-rate) Bonds"
        },
        "xaxis": {
         "anchor": "y",
         "domain": [
          0,
          1
         ],
         "title": {
          "text": "Time to Maturity (Years)"
         }
        },
        "yaxis": {
         "anchor": "x",
         "domain": [
          0,
          1
         ],
         "title": {
          "text": "Duration (Years)"
         }
        }
       }
      }
     },
     "metadata": {},
     "output_type": "display_data"
    }
   ],
   "source": [
    "# Reset index to ensure 'TTM' is a column, not index\n",
    "df_plot = df_apple_2_filtered_sorted.reset_index()\n",
    "\n",
    "fig = px.scatter(df_plot,\n",
    "                 x='TTM',\n",
    "                 y='calc_duration',\n",
    "                 color='security',\n",
    "                 title='Duration for AAPL (fixed-rate) Bonds',\n",
    "                 labels={'TTM': 'Time to Maturity (Years)', 'calc_duration': 'Duration (Years)'}\n",
    "                )\n",
    "\n",
    "fig.update_layout(\n",
    "    legend_title_text='Security',\n",
    "    legend=dict(\n",
    "        yanchor=\"top\",\n",
    "        y=0.99,\n",
    "        xanchor=\"left\",\n",
    "        x=1.05,\n",
    "        bgcolor='rgba(255,255,255,0)',\n",
    "        bordercolor='black',\n",
    "        borderwidth=1\n",
    "    )\n",
    ")\n",
    "fig.show()"
   ]
  },
  {
   "cell_type": "code",
   "execution_count": 45,
   "id": "01baa518",
   "metadata": {},
   "outputs": [
    {
     "data": {
      "application/vnd.plotly.v1+json": {
       "config": {
        "plotlyServerURL": "https://plot.ly"
       },
       "data": [
        {
         "hovertemplate": "security=AAPL 0.7 02/08/26<br>Time to Maturity (Years)=%{x}<br>Convexity=%{y}<extra></extra>",
         "legendgroup": "AAPL 0.7 02/08/26",
         "marker": {
          "color": "#636efa",
          "symbol": "circle"
         },
         "mode": "markers",
         "name": "AAPL 0.7 02/08/26",
         "orientation": "v",
         "showlegend": true,
         "type": "scatter",
         "x": {
          "bdata": "OJe9bmh88j8=",
          "dtype": "f8"
         },
         "xaxis": "x",
         "y": {
          "bdata": "17F3ClLE/D8=",
          "dtype": "f8"
         },
         "yaxis": "y"
        },
        {
         "hovertemplate": "security=AAPL 3 1/4 02/23/26<br>Time to Maturity (Years)=%{x}<br>Convexity=%{y}<extra></extra>",
         "legendgroup": "AAPL 3 1/4 02/23/26",
         "marker": {
          "color": "#EF553B",
          "symbol": "circle"
         },
         "mode": "markers",
         "name": "AAPL 3 1/4 02/23/26",
         "orientation": "v",
         "showlegend": true,
         "type": "scatter",
         "x": {
          "bdata": "Zq8bGp8k8z8=",
          "dtype": "f8"
         },
         "xaxis": "x",
         "y": {
          "bdata": "JOXyuMzy/T8=",
          "dtype": "f8"
         },
         "yaxis": "y"
        },
        {
         "hovertemplate": "security=AAPL 4.421 05/08/26<br>Time to Maturity (Years)=%{x}<br>Convexity=%{y}<extra></extra>",
         "legendgroup": "AAPL 4.421 05/08/26",
         "marker": {
          "color": "#00cc96",
          "symbol": "circle"
         },
         "mode": "markers",
         "name": "AAPL 4.421 05/08/26",
         "orientation": "v",
         "showlegend": true,
         "type": "scatter",
         "x": {
          "bdata": "Oa+4mnli9j8=",
          "dtype": "f8"
         },
         "xaxis": "x",
         "y": {
          "bdata": "vcjxvfGfA0A=",
          "dtype": "f8"
         },
         "yaxis": "y"
        },
        {
         "hovertemplate": "security=AAPL 2.45 08/04/26<br>Time to Maturity (Years)=%{x}<br>Convexity=%{y}<extra></extra>",
         "legendgroup": "AAPL 2.45 08/04/26",
         "marker": {
          "color": "#ab63fa",
          "symbol": "circle"
         },
         "mode": "markers",
         "name": "AAPL 2.45 08/04/26",
         "orientation": "v",
         "showlegend": true,
         "type": "scatter",
         "x": {
          "bdata": "Jk567lM9+j8=",
          "dtype": "f8"
         },
         "xaxis": "x",
         "y": {
          "bdata": "5UdbzvAICkA=",
          "dtype": "f8"
         },
         "yaxis": "y"
        },
        {
         "hovertemplate": "security=AAPL 2.05 09/11/26<br>Time to Maturity (Years)=%{x}<br>Convexity=%{y}<extra></extra>",
         "legendgroup": "AAPL 2.05 09/11/26",
         "marker": {
          "color": "#FFA15A",
          "symbol": "circle"
         },
         "mode": "markers",
         "name": "AAPL 2.05 09/11/26",
         "orientation": "v",
         "showlegend": true,
         "type": "scatter",
         "x": {
          "bdata": "JEcCB3jn+z8=",
          "dtype": "f8"
         },
         "xaxis": "x",
         "y": {
          "bdata": "9NBskUEJDUA=",
          "dtype": "f8"
         },
         "yaxis": "y"
        },
        {
         "hovertemplate": "security=AAPL 3.35 02/09/27<br>Time to Maturity (Years)=%{x}<br>Convexity=%{y}<extra></extra>",
         "legendgroup": "AAPL 3.35 02/09/27",
         "marker": {
          "color": "#19d3f3",
          "symbol": "circle"
         },
         "mode": "markers",
         "name": "AAPL 3.35 02/09/27",
         "orientation": "v",
         "showlegend": true,
         "type": "scatter",
         "x": {
          "bdata": "A1l0yGhCAUA=",
          "dtype": "f8"
         },
         "xaxis": "x",
         "y": {
          "bdata": "TU7fNUHHFEA=",
          "dtype": "f8"
         },
         "yaxis": "y"
        },
        {
         "hovertemplate": "security=AAPL 3.2 05/11/27<br>Time to Maturity (Years)=%{x}<br>Convexity=%{y}<extra></extra>",
         "legendgroup": "AAPL 3.2 05/11/27",
         "marker": {
          "color": "#FF6692",
          "symbol": "circle"
         },
         "mode": "markers",
         "name": "AAPL 3.2 05/11/27",
         "orientation": "v",
         "showlegend": true,
         "type": "scatter",
         "x": {
          "bdata": "GF6rNqhAA0A=",
          "dtype": "f8"
         },
         "xaxis": "x",
         "y": {
          "bdata": "rsCE+tGUGUA=",
          "dtype": "f8"
         },
         "yaxis": "y"
        },
        {
         "hovertemplate": "security=AAPL 3 06/20/27<br>Time to Maturity (Years)=%{x}<br>Convexity=%{y}<extra></extra>",
         "legendgroup": "AAPL 3 06/20/27",
         "marker": {
          "color": "#B6E880",
          "symbol": "circle"
         },
         "mode": "markers",
         "name": "AAPL 3 06/20/27",
         "orientation": "v",
         "showlegend": true,
         "type": "scatter",
         "x": {
          "bdata": "q9MoG/EgBEA=",
          "dtype": "f8"
         },
         "xaxis": "x",
         "y": {
          "bdata": "4rasWXprG0A=",
          "dtype": "f8"
         },
         "yaxis": "y"
        },
        {
         "hovertemplate": "security=AAPL 2.9 09/12/27<br>Time to Maturity (Years)=%{x}<br>Convexity=%{y}<extra></extra>",
         "legendgroup": "AAPL 2.9 09/12/27",
         "marker": {
          "color": "#FF97FF",
          "symbol": "circle"
         },
         "mode": "markers",
         "name": "AAPL 2.9 09/12/27",
         "orientation": "v",
         "showlegend": true,
         "type": "scatter",
         "x": {
          "bdata": "+rCWlPD3BUA=",
          "dtype": "f8"
         },
         "xaxis": "x",
         "y": {
          "bdata": "fABXG10gIEA=",
          "dtype": "f8"
         },
         "yaxis": "y"
        },
        {
         "hovertemplate": "security=AAPL 3 11/13/27<br>Time to Maturity (Years)=%{x}<br>Convexity=%{y}<extra></extra>",
         "legendgroup": "AAPL 3 11/13/27",
         "marker": {
          "color": "#FECB52",
          "symbol": "circle"
         },
         "mode": "markers",
         "name": "AAPL 3 11/13/27",
         "orientation": "v",
         "showlegend": true,
         "type": "scatter",
         "x": {
          "bdata": "alqMw5RTB0A=",
          "dtype": "f8"
         },
         "xaxis": "x",
         "y": {
          "bdata": "pr5hhyQPIkA=",
          "dtype": "f8"
         },
         "yaxis": "y"
        },
        {
         "hovertemplate": "security=AAPL 1.2 02/08/28<br>Time to Maturity (Years)=%{x}<br>Convexity=%{y}<extra></extra>",
         "legendgroup": "AAPL 1.2 02/08/28",
         "marker": {
          "color": "#636efa",
          "symbol": "circle"
         },
         "mode": "markers",
         "name": "AAPL 1.2 02/08/28",
         "orientation": "v",
         "showlegend": true,
         "type": "scatter",
         "x": {
          "bdata": "V21QgWY7CUA=",
          "dtype": "f8"
         },
         "xaxis": "x",
         "y": {
          "bdata": "dBV03w9jJUA=",
          "dtype": "f8"
         },
         "yaxis": "y"
        },
        {
         "hovertemplate": "security=AAPL 4 05/10/28<br>Time to Maturity (Years)=%{x}<br>Convexity=%{y}<extra></extra>",
         "legendgroup": "AAPL 4 05/10/28",
         "marker": {
          "color": "#EF553B",
          "symbol": "circle"
         },
         "mode": "markers",
         "name": "AAPL 4 05/10/28",
         "orientation": "v",
         "showlegend": true,
         "type": "scatter",
         "x": {
          "bdata": "9i6kW0E/C0A=",
          "dtype": "f8"
         },
         "xaxis": "x",
         "y": {
          "bdata": "GNDZmcZzJ0A=",
          "dtype": "f8"
         },
         "yaxis": "y"
        },
        {
         "hovertemplate": "security=AAPL 1.4 08/05/28<br>Time to Maturity (Years)=%{x}<br>Convexity=%{y}<extra></extra>",
         "legendgroup": "AAPL 1.4 08/05/28",
         "marker": {
          "color": "#00cc96",
          "symbol": "circle"
         },
         "mode": "markers",
         "name": "AAPL 1.4 08/05/28",
         "orientation": "v",
         "showlegend": true,
         "type": "scatter",
         "x": {
          "bdata": "4kFoGRMnDUA=",
          "dtype": "f8"
         },
         "xaxis": "x",
         "y": {
          "bdata": "vb2SDp7LK0A=",
          "dtype": "f8"
         },
         "yaxis": "y"
        },
        {
         "hovertemplate": "security=AAPL 3 1/4 08/08/29<br>Time to Maturity (Years)=%{x}<br>Convexity=%{y}<extra></extra>",
         "legendgroup": "AAPL 3 1/4 08/08/29",
         "marker": {
          "color": "#ab63fa",
          "symbol": "circle"
         },
         "mode": "markers",
         "name": "AAPL 3 1/4 08/08/29",
         "orientation": "v",
         "showlegend": true,
         "type": "scatter",
         "x": {
          "bdata": "L6RbQT+bEkA=",
          "dtype": "f8"
         },
         "xaxis": "x",
         "y": {
          "bdata": "F0QHzMSmNEA=",
          "dtype": "f8"
         },
         "yaxis": "y"
        },
        {
         "hovertemplate": "security=AAPL 2.2 09/11/29<br>Time to Maturity (Years)=%{x}<br>Convexity=%{y}<extra></extra>",
         "legendgroup": "AAPL 2.2 09/11/29",
         "marker": {
          "color": "#FFA15A",
          "symbol": "circle"
         },
         "mode": "markers",
         "name": "AAPL 2.2 09/11/29",
         "orientation": "v",
         "showlegend": true,
         "type": "scatter",
         "x": {
          "bdata": "WilEb5H6EkA=",
          "dtype": "f8"
         },
         "xaxis": "x",
         "y": {
          "bdata": "tMyKegoVNkA=",
          "dtype": "f8"
         },
         "yaxis": "y"
        },
        {
         "hovertemplate": "security=AAPL 1.65 05/11/30<br>Time to Maturity (Years)=%{x}<br>Convexity=%{y}<extra></extra>",
         "legendgroup": "AAPL 1.65 05/11/30",
         "marker": {
          "color": "#19d3f3",
          "symbol": "circle"
         },
         "mode": "markers",
         "name": "AAPL 1.65 05/11/30",
         "orientation": "v",
         "showlegend": true,
         "type": "scatter",
         "x": {
          "bdata": "nUbZiAehFUA=",
          "dtype": "f8"
         },
         "xaxis": "x",
         "y": {
          "bdata": "xswTWUK7PEA=",
          "dtype": "f8"
         },
         "yaxis": "y"
        },
        {
         "hovertemplate": "security=AAPL 1 1/4 08/20/30<br>Time to Maturity (Years)=%{x}<br>Convexity=%{y}<extra></extra>",
         "legendgroup": "AAPL 1 1/4 08/20/30",
         "marker": {
          "color": "#FF6692",
          "symbol": "circle"
         },
         "mode": "markers",
         "name": "AAPL 1 1/4 08/20/30",
         "orientation": "v",
         "showlegend": true,
         "type": "scatter",
         "x": {
          "bdata": "2neEXDC8FkA=",
          "dtype": "f8"
         },
         "xaxis": "x",
         "y": {
          "bdata": "Qm+TkdnhP0A=",
          "dtype": "f8"
         },
         "yaxis": "y"
        },
        {
         "hovertemplate": "security=AAPL 1.65 02/08/31<br>Time to Maturity (Years)=%{x}<br>Convexity=%{y}<extra></extra>",
         "legendgroup": "AAPL 1.65 02/08/31",
         "marker": {
          "color": "#B6E880",
          "symbol": "circle"
         },
         "mode": "markers",
         "name": "AAPL 1.65 02/08/31",
         "orientation": "v",
         "showlegend": true,
         "type": "scatter",
         "x": {
          "bdata": "Pc4rrmaeGEA=",
          "dtype": "f8"
         },
         "xaxis": "x",
         "y": {
          "bdata": "HSwyXB4hQkA=",
          "dtype": "f8"
         },
         "yaxis": "y"
        },
        {
         "hovertemplate": "security=AAPL 1.7 08/05/31<br>Time to Maturity (Years)=%{x}<br>Convexity=%{y}<extra></extra>",
         "legendgroup": "AAPL 1.7 08/05/31",
         "marker": {
          "color": "#FF97FF",
          "symbol": "circle"
         },
         "mode": "markers",
         "name": "AAPL 1.7 08/05/31",
         "orientation": "v",
         "showlegend": true,
         "type": "scatter",
         "x": {
          "bdata": "PVopRG+RGkA=",
          "dtype": "f8"
         },
         "xaxis": "x",
         "y": {
          "bdata": "0pwHt2TVREA=",
          "dtype": "f8"
         },
         "yaxis": "y"
        },
        {
         "hovertemplate": "security=AAPL 3.35 08/08/32<br>Time to Maturity (Years)=%{x}<br>Convexity=%{y}<extra></extra>",
         "legendgroup": "AAPL 3.35 08/08/32",
         "marker": {
          "color": "#FECB52",
          "symbol": "circle"
         },
         "mode": "markers",
         "name": "AAPL 3.35 08/08/32",
         "orientation": "v",
         "showlegend": true,
         "type": "scatter",
         "x": {
          "bdata": "wDvfrvKbHkA=",
          "dtype": "f8"
         },
         "xaxis": "x",
         "y": {
          "bdata": "zbilnM/4SEA=",
          "dtype": "f8"
         },
         "yaxis": "y"
        },
        {
         "hovertemplate": "security=AAPL 4.3 05/10/33<br>Time to Maturity (Years)=%{x}<br>Convexity=%{y}<extra></extra>",
         "legendgroup": "AAPL 4.3 05/10/33",
         "marker": {
          "color": "#636efa",
          "symbol": "circle"
         },
         "mode": "markers",
         "name": "AAPL 4.3 05/10/33",
         "orientation": "v",
         "showlegend": true,
         "type": "scatter",
         "x": {
          "bdata": "9T8noHbPIEA=",
          "dtype": "f8"
         },
         "xaxis": "x",
         "y": {
          "bdata": "CN4CTtOGTEA=",
          "dtype": "f8"
         },
         "yaxis": "y"
        },
        {
         "hovertemplate": "security=AAPL 4 1/2 02/23/36<br>Time to Maturity (Years)=%{x}<br>Convexity=%{y}<extra></extra>",
         "legendgroup": "AAPL 4 1/2 02/23/36",
         "marker": {
          "color": "#EF553B",
          "symbol": "circle"
         },
         "mode": "markers",
         "name": "AAPL 4 1/2 02/23/36",
         "orientation": "v",
         "showlegend": true,
         "type": "scatter",
         "x": {
          "bdata": "W96/deBjJkA=",
          "dtype": "f8"
         },
         "xaxis": "x",
         "y": {
          "bdata": "cXlqP4eHVkA=",
          "dtype": "f8"
         },
         "yaxis": "y"
        },
        {
         "hovertemplate": "security=AAPL 2 3/8 02/08/41<br>Time to Maturity (Years)=%{x}<br>Convexity=%{y}<extra></extra>",
         "legendgroup": "AAPL 2 3/8 02/08/41",
         "marker": {
          "color": "#00cc96",
          "symbol": "circle"
         },
         "mode": "markers",
         "name": "AAPL 2 3/8 02/08/41",
         "orientation": "v",
         "showlegend": true,
         "type": "scatter",
         "x": {
          "bdata": "WL9MYvMnMEA=",
          "dtype": "f8"
         },
         "xaxis": "x",
         "y": {
          "bdata": "bXrWIipJZ0A=",
          "dtype": "f8"
         },
         "yaxis": "y"
        },
        {
         "hovertemplate": "security=AAPL 3.85 05/04/43<br>Time to Maturity (Years)=%{x}<br>Convexity=%{y}<extra></extra>",
         "legendgroup": "AAPL 3.85 05/04/43",
         "marker": {
          "color": "#ab63fa",
          "symbol": "circle"
         },
         "mode": "markers",
         "name": "AAPL 3.85 05/04/43",
         "orientation": "v",
         "showlegend": true,
         "type": "scatter",
         "x": {
          "bdata": "ykY8CC1jMkA=",
          "dtype": "f8"
         },
         "xaxis": "x",
         "y": {
          "bdata": "epZGRI4aaUA=",
          "dtype": "f8"
         },
         "yaxis": "y"
        },
        {
         "hovertemplate": "security=AAPL 4.45 05/06/44<br>Time to Maturity (Years)=%{x}<br>Convexity=%{y}<extra></extra>",
         "legendgroup": "AAPL 4.45 05/06/44",
         "marker": {
          "color": "#FFA15A",
          "symbol": "circle"
         },
         "mode": "markers",
         "name": "AAPL 4.45 05/06/44",
         "orientation": "v",
         "showlegend": true,
         "type": "scatter",
         "x": {
          "bdata": "midmdRplM0A=",
          "dtype": "f8"
         },
         "xaxis": "x",
         "y": {
          "bdata": "v8qaRI4cakA=",
          "dtype": "f8"
         },
         "yaxis": "y"
        },
        {
         "hovertemplate": "security=AAPL 3.45 02/09/45<br>Time to Maturity (Years)=%{x}<br>Convexity=%{y}<extra></extra>",
         "legendgroup": "AAPL 3.45 02/09/45",
         "marker": {
          "color": "#19d3f3",
          "symbol": "circle"
         },
         "mode": "markers",
         "name": "AAPL 3.45 02/09/45",
         "orientation": "v",
         "showlegend": true,
         "type": "scatter",
         "x": {
          "bdata": "6VbQz6YoNEA=",
          "dtype": "f8"
         },
         "xaxis": "x",
         "y": {
          "bdata": "d4lpwjA0bUA=",
          "dtype": "f8"
         },
         "yaxis": "y"
        },
        {
         "hovertemplate": "security=AAPL 4 3/8 05/13/45<br>Time to Maturity (Years)=%{x}<br>Convexity=%{y}<extra></extra>",
         "legendgroup": "AAPL 4 3/8 05/13/45",
         "marker": {
          "color": "#FF6692",
          "symbol": "circle"
         },
         "mode": "markers",
         "name": "AAPL 4 3/8 05/13/45",
         "orientation": "v",
         "showlegend": true,
         "type": "scatter",
         "x": {
          "bdata": "rmaemNVpNEA=",
          "dtype": "f8"
         },
         "xaxis": "x",
         "y": {
          "bdata": "imsoDSbwa0A=",
          "dtype": "f8"
         },
         "yaxis": "y"
        },
        {
         "hovertemplate": "security=AAPL 4.65 02/23/46<br>Time to Maturity (Years)=%{x}<br>Convexity=%{y}<extra></extra>",
         "legendgroup": "AAPL 4.65 02/23/46",
         "marker": {
          "color": "#B6E880",
          "symbol": "circle"
         },
         "mode": "markers",
         "name": "AAPL 4.65 02/23/46",
         "orientation": "v",
         "showlegend": true,
         "type": "scatter",
         "x": {
          "bdata": "9rqh8UkyNUA=",
          "dtype": "f8"
         },
         "xaxis": "x",
         "y": {
          "bdata": "b33NkjGCbEA=",
          "dtype": "f8"
         },
         "yaxis": "y"
        },
        {
         "hovertemplate": "security=AAPL 3.85 08/04/46<br>Time to Maturity (Years)=%{x}<br>Convexity=%{y}<extra></extra>",
         "legendgroup": "AAPL 3.85 08/04/46",
         "marker": {
          "color": "#FF97FF",
          "symbol": "circle"
         },
         "mode": "markers",
         "name": "AAPL 3.85 08/04/46",
         "orientation": "v",
         "showlegend": true,
         "type": "scatter",
         "x": {
          "bdata": "4qTnPtWjNUA=",
          "dtype": "f8"
         },
         "xaxis": "x",
         "y": {
          "bdata": "IdtUbKwDb0A=",
          "dtype": "f8"
         },
         "yaxis": "y"
        },
        {
         "hovertemplate": "security=AAPL 4 1/4 02/09/47<br>Time to Maturity (Years)=%{x}<br>Convexity=%{y}<extra></extra>",
         "legendgroup": "AAPL 4 1/4 02/09/47",
         "marker": {
          "color": "#FECB52",
          "symbol": "circle"
         },
         "mode": "markers",
         "name": "AAPL 4 1/4 02/09/47",
         "orientation": "v",
         "showlegend": true,
         "type": "scatter",
         "x": {
          "bdata": "IIsOGU0oNkA=",
          "dtype": "f8"
         },
         "xaxis": "x",
         "y": {
          "bdata": "/glQGwELb0A=",
          "dtype": "f8"
         },
         "yaxis": "y"
        },
        {
         "hovertemplate": "security=AAPL 3 3/4 09/12/47<br>Time to Maturity (Years)=%{x}<br>Convexity=%{y}<extra></extra>",
         "legendgroup": "AAPL 3 3/4 09/12/47",
         "marker": {
          "color": "#636efa",
          "symbol": "circle"
         },
         "mode": "markers",
         "name": "AAPL 3 3/4 09/12/47",
         "orientation": "v",
         "showlegend": true,
         "type": "scatter",
         "x": {
          "bdata": "H9aSEv6+NkA=",
          "dtype": "f8"
         },
         "xaxis": "x",
         "y": {
          "bdata": "Y6E0zHbAcEA=",
          "dtype": "f8"
         },
         "yaxis": "y"
        },
        {
         "hovertemplate": "security=AAPL 3 3/4 11/13/47<br>Time to Maturity (Years)=%{x}<br>Convexity=%{y}<extra></extra>",
         "legendgroup": "AAPL 3 3/4 11/13/47",
         "marker": {
          "color": "#EF553B",
          "symbol": "circle"
         },
         "mode": "markers",
         "name": "AAPL 3 3/4 11/13/47",
         "orientation": "v",
         "showlegend": true,
         "type": "scatter",
         "x": {
          "bdata": "TYtxmHLqNkA=",
          "dtype": "f8"
         },
         "xaxis": "x",
         "y": {
          "bdata": "iPhAIzoVcUA=",
          "dtype": "f8"
         },
         "yaxis": "y"
        },
        {
         "hovertemplate": "security=AAPL 2.95 09/11/49<br>Time to Maturity (Years)=%{x}<br>Convexity=%{y}<extra></extra>",
         "legendgroup": "AAPL 2.95 09/11/49",
         "marker": {
          "color": "#00cc96",
          "symbol": "circle"
         },
         "mode": "markers",
         "name": "AAPL 2.95 09/11/49",
         "orientation": "v",
         "showlegend": true,
         "type": "scatter",
         "x": {
          "bdata": "VwrRW6S+OEA=",
          "dtype": "f8"
         },
         "xaxis": "x",
         "y": {
          "bdata": "jLgZBrE8dEA=",
          "dtype": "f8"
         },
         "yaxis": "y"
        },
        {
         "hovertemplate": "security=AAPL 2.65 05/11/50<br>Time to Maturity (Years)=%{x}<br>Convexity=%{y}<extra></extra>",
         "legendgroup": "AAPL 2.65 05/11/50",
         "marker": {
          "color": "#ab63fa",
          "symbol": "circle"
         },
         "mode": "markers",
         "name": "AAPL 2.65 05/11/50",
         "orientation": "v",
         "showlegend": true,
         "type": "scatter",
         "x": {
          "bdata": "p1E24kFoOUA=",
          "dtype": "f8"
         },
         "xaxis": "x",
         "y": {
          "bdata": "x4O2azHadUA=",
          "dtype": "f8"
         },
         "yaxis": "y"
        },
        {
         "hovertemplate": "security=AAPL 2.4 08/20/50<br>Time to Maturity (Years)=%{x}<br>Convexity=%{y}<extra></extra>",
         "legendgroup": "AAPL 2.4 08/20/50",
         "marker": {
          "color": "#FFA15A",
          "symbol": "circle"
         },
         "mode": "markers",
         "name": "AAPL 2.4 08/20/50",
         "orientation": "v",
         "showlegend": true,
         "type": "scatter",
         "x": {
          "bdata": "9x0hFwyvOUA=",
          "dtype": "f8"
         },
         "xaxis": "x",
         "y": {
          "bdata": "p97yVR/BdkA=",
          "dtype": "f8"
         },
         "yaxis": "y"
        },
        {
         "hovertemplate": "security=AAPL 2.65 02/08/51<br>Time to Maturity (Years)=%{x}<br>Convexity=%{y}<extra></extra>",
         "legendgroup": "AAPL 2.65 02/08/51",
         "marker": {
          "color": "#19d3f3",
          "symbol": "circle"
         },
         "mode": "markers",
         "name": "AAPL 2.65 02/08/51",
         "orientation": "v",
         "showlegend": true,
         "type": "scatter",
         "x": {
          "bdata": "j/OKq5knOkA=",
          "dtype": "f8"
         },
         "xaxis": "x",
         "y": {
          "bdata": "mgXO+8tvdkA=",
          "dtype": "f8"
         },
         "yaxis": "y"
        },
        {
         "hovertemplate": "security=AAPL 2.7 08/05/51<br>Time to Maturity (Years)=%{x}<br>Convexity=%{y}<extra></extra>",
         "legendgroup": "AAPL 2.7 08/05/51",
         "marker": {
          "color": "#FF6692",
          "symbol": "circle"
         },
         "mode": "markers",
         "name": "AAPL 2.7 08/05/51",
         "orientation": "v",
         "showlegend": true,
         "type": "scatter",
         "x": {
          "bdata": "j1YK0VukOkA=",
          "dtype": "f8"
         },
         "xaxis": "x",
         "y": {
          "bdata": "XCuMmoHSdkA=",
          "dtype": "f8"
         },
         "yaxis": "y"
        },
        {
         "hovertemplate": "security=AAPL 3.95 08/08/52<br>Time to Maturity (Years)=%{x}<br>Convexity=%{y}<extra></extra>",
         "legendgroup": "AAPL 3.95 08/08/52",
         "marker": {
          "color": "#B6E880",
          "symbol": "circle"
         },
         "mode": "markers",
         "name": "AAPL 3.95 08/08/52",
         "orientation": "v",
         "showlegend": true,
         "type": "scatter",
         "x": {
          "bdata": "8M63q/ymO0A=",
          "dtype": "f8"
         },
         "xaxis": "x",
         "y": {
          "bdata": "9xGNLn7ndEA=",
          "dtype": "f8"
         },
         "yaxis": "y"
        },
        {
         "hovertemplate": "security=AAPL 4.85 05/10/53<br>Time to Maturity (Years)=%{x}<br>Convexity=%{y}<extra></extra>",
         "legendgroup": "AAPL 4.85 05/10/53",
         "marker": {
          "color": "#FF97FF",
          "symbol": "circle"
         },
         "mode": "markers",
         "name": "AAPL 4.85 05/10/53",
         "orientation": "v",
         "showlegend": true,
         "type": "scatter",
         "x": {
          "bdata": "+p8TULtnPEA=",
          "dtype": "f8"
         },
         "xaxis": "x",
         "y": {
          "bdata": "avOKwL2pdEA=",
          "dtype": "f8"
         },
         "yaxis": "y"
        },
        {
         "hovertemplate": "security=AAPL 2.55 08/20/60<br>Time to Maturity (Years)=%{x}<br>Convexity=%{y}<extra></extra>",
         "legendgroup": "AAPL 2.55 08/20/60",
         "marker": {
          "color": "#FECB52",
          "symbol": "circle"
         },
         "mode": "markers",
         "name": "AAPL 2.55 08/20/60",
         "orientation": "v",
         "showlegend": true,
         "type": "scatter",
         "x": {
          "bdata": "4HTx5rLXQUA=",
          "dtype": "f8"
         },
         "xaxis": "x",
         "y": {
          "bdata": "Og69ywyngEA=",
          "dtype": "f8"
         },
         "yaxis": "y"
        },
        {
         "hovertemplate": "security=AAPL 2.8 02/08/61<br>Time to Maturity (Years)=%{x}<br>Convexity=%{y}<extra></extra>",
         "legendgroup": "AAPL 2.8 02/08/61",
         "marker": {
          "color": "#636efa",
          "symbol": "circle"
         },
         "mode": "markers",
         "name": "AAPL 2.8 02/08/61",
         "orientation": "v",
         "showlegend": true,
         "type": "scatter",
         "x": {
          "bdata": "rF8msfkTQkA=",
          "dtype": "f8"
         },
         "xaxis": "x",
         "y": {
          "bdata": "EgHEBAGef0A=",
          "dtype": "f8"
         },
         "yaxis": "y"
        },
        {
         "hovertemplate": "security=AAPL 2.85 08/05/61<br>Time to Maturity (Years)=%{x}<br>Convexity=%{y}<extra></extra>",
         "legendgroup": "AAPL 2.85 08/05/61",
         "marker": {
          "color": "#EF553B",
          "symbol": "circle"
         },
         "mode": "markers",
         "name": "AAPL 2.85 08/05/61",
         "orientation": "v",
         "showlegend": true,
         "type": "scatter",
         "x": {
          "bdata": "LBHmw1pSQkA=",
          "dtype": "f8"
         },
         "xaxis": "x",
         "y": {
          "bdata": "+dOsliPCf0A=",
          "dtype": "f8"
         },
         "yaxis": "y"
        },
        {
         "hovertemplate": "security=AAPL 4.1 08/08/62<br>Time to Maturity (Years)=%{x}<br>Convexity=%{y}<extra></extra>",
         "legendgroup": "AAPL 4.1 08/08/62",
         "marker": {
          "color": "#00cc96",
          "symbol": "circle"
         },
         "mode": "markers",
         "name": "AAPL 4.1 08/08/62",
         "orientation": "v",
         "showlegend": true,
         "type": "scatter",
         "x": {
          "bdata": "lAF7elHTQkA=",
          "dtype": "f8"
         },
         "xaxis": "x",
         "y": {
          "bdata": "AD7MXDVZfEA=",
          "dtype": "f8"
         },
         "yaxis": "y"
        }
       ],
       "layout": {
        "legend": {
         "bgcolor": "rgba(255,255,255,0)",
         "bordercolor": "black",
         "borderwidth": 1,
         "title": {
          "text": "Security"
         },
         "tracegroupgap": 0,
         "x": 1.05,
         "xanchor": "left",
         "y": 0.99,
         "yanchor": "top"
        },
        "template": {
         "data": {
          "bar": [
           {
            "error_x": {
             "color": "#2a3f5f"
            },
            "error_y": {
             "color": "#2a3f5f"
            },
            "marker": {
             "line": {
              "color": "#E5ECF6",
              "width": 0.5
             },
             "pattern": {
              "fillmode": "overlay",
              "size": 10,
              "solidity": 0.2
             }
            },
            "type": "bar"
           }
          ],
          "barpolar": [
           {
            "marker": {
             "line": {
              "color": "#E5ECF6",
              "width": 0.5
             },
             "pattern": {
              "fillmode": "overlay",
              "size": 10,
              "solidity": 0.2
             }
            },
            "type": "barpolar"
           }
          ],
          "carpet": [
           {
            "aaxis": {
             "endlinecolor": "#2a3f5f",
             "gridcolor": "white",
             "linecolor": "white",
             "minorgridcolor": "white",
             "startlinecolor": "#2a3f5f"
            },
            "baxis": {
             "endlinecolor": "#2a3f5f",
             "gridcolor": "white",
             "linecolor": "white",
             "minorgridcolor": "white",
             "startlinecolor": "#2a3f5f"
            },
            "type": "carpet"
           }
          ],
          "choropleth": [
           {
            "colorbar": {
             "outlinewidth": 0,
             "ticks": ""
            },
            "type": "choropleth"
           }
          ],
          "contour": [
           {
            "colorbar": {
             "outlinewidth": 0,
             "ticks": ""
            },
            "colorscale": [
             [
              0,
              "#0d0887"
             ],
             [
              0.1111111111111111,
              "#46039f"
             ],
             [
              0.2222222222222222,
              "#7201a8"
             ],
             [
              0.3333333333333333,
              "#9c179e"
             ],
             [
              0.4444444444444444,
              "#bd3786"
             ],
             [
              0.5555555555555556,
              "#d8576b"
             ],
             [
              0.6666666666666666,
              "#ed7953"
             ],
             [
              0.7777777777777778,
              "#fb9f3a"
             ],
             [
              0.8888888888888888,
              "#fdca26"
             ],
             [
              1,
              "#f0f921"
             ]
            ],
            "type": "contour"
           }
          ],
          "contourcarpet": [
           {
            "colorbar": {
             "outlinewidth": 0,
             "ticks": ""
            },
            "type": "contourcarpet"
           }
          ],
          "heatmap": [
           {
            "colorbar": {
             "outlinewidth": 0,
             "ticks": ""
            },
            "colorscale": [
             [
              0,
              "#0d0887"
             ],
             [
              0.1111111111111111,
              "#46039f"
             ],
             [
              0.2222222222222222,
              "#7201a8"
             ],
             [
              0.3333333333333333,
              "#9c179e"
             ],
             [
              0.4444444444444444,
              "#bd3786"
             ],
             [
              0.5555555555555556,
              "#d8576b"
             ],
             [
              0.6666666666666666,
              "#ed7953"
             ],
             [
              0.7777777777777778,
              "#fb9f3a"
             ],
             [
              0.8888888888888888,
              "#fdca26"
             ],
             [
              1,
              "#f0f921"
             ]
            ],
            "type": "heatmap"
           }
          ],
          "histogram": [
           {
            "marker": {
             "pattern": {
              "fillmode": "overlay",
              "size": 10,
              "solidity": 0.2
             }
            },
            "type": "histogram"
           }
          ],
          "histogram2d": [
           {
            "colorbar": {
             "outlinewidth": 0,
             "ticks": ""
            },
            "colorscale": [
             [
              0,
              "#0d0887"
             ],
             [
              0.1111111111111111,
              "#46039f"
             ],
             [
              0.2222222222222222,
              "#7201a8"
             ],
             [
              0.3333333333333333,
              "#9c179e"
             ],
             [
              0.4444444444444444,
              "#bd3786"
             ],
             [
              0.5555555555555556,
              "#d8576b"
             ],
             [
              0.6666666666666666,
              "#ed7953"
             ],
             [
              0.7777777777777778,
              "#fb9f3a"
             ],
             [
              0.8888888888888888,
              "#fdca26"
             ],
             [
              1,
              "#f0f921"
             ]
            ],
            "type": "histogram2d"
           }
          ],
          "histogram2dcontour": [
           {
            "colorbar": {
             "outlinewidth": 0,
             "ticks": ""
            },
            "colorscale": [
             [
              0,
              "#0d0887"
             ],
             [
              0.1111111111111111,
              "#46039f"
             ],
             [
              0.2222222222222222,
              "#7201a8"
             ],
             [
              0.3333333333333333,
              "#9c179e"
             ],
             [
              0.4444444444444444,
              "#bd3786"
             ],
             [
              0.5555555555555556,
              "#d8576b"
             ],
             [
              0.6666666666666666,
              "#ed7953"
             ],
             [
              0.7777777777777778,
              "#fb9f3a"
             ],
             [
              0.8888888888888888,
              "#fdca26"
             ],
             [
              1,
              "#f0f921"
             ]
            ],
            "type": "histogram2dcontour"
           }
          ],
          "mesh3d": [
           {
            "colorbar": {
             "outlinewidth": 0,
             "ticks": ""
            },
            "type": "mesh3d"
           }
          ],
          "parcoords": [
           {
            "line": {
             "colorbar": {
              "outlinewidth": 0,
              "ticks": ""
             }
            },
            "type": "parcoords"
           }
          ],
          "pie": [
           {
            "automargin": true,
            "type": "pie"
           }
          ],
          "scatter": [
           {
            "fillpattern": {
             "fillmode": "overlay",
             "size": 10,
             "solidity": 0.2
            },
            "type": "scatter"
           }
          ],
          "scatter3d": [
           {
            "line": {
             "colorbar": {
              "outlinewidth": 0,
              "ticks": ""
             }
            },
            "marker": {
             "colorbar": {
              "outlinewidth": 0,
              "ticks": ""
             }
            },
            "type": "scatter3d"
           }
          ],
          "scattercarpet": [
           {
            "marker": {
             "colorbar": {
              "outlinewidth": 0,
              "ticks": ""
             }
            },
            "type": "scattercarpet"
           }
          ],
          "scattergeo": [
           {
            "marker": {
             "colorbar": {
              "outlinewidth": 0,
              "ticks": ""
             }
            },
            "type": "scattergeo"
           }
          ],
          "scattergl": [
           {
            "marker": {
             "colorbar": {
              "outlinewidth": 0,
              "ticks": ""
             }
            },
            "type": "scattergl"
           }
          ],
          "scattermap": [
           {
            "marker": {
             "colorbar": {
              "outlinewidth": 0,
              "ticks": ""
             }
            },
            "type": "scattermap"
           }
          ],
          "scattermapbox": [
           {
            "marker": {
             "colorbar": {
              "outlinewidth": 0,
              "ticks": ""
             }
            },
            "type": "scattermapbox"
           }
          ],
          "scatterpolar": [
           {
            "marker": {
             "colorbar": {
              "outlinewidth": 0,
              "ticks": ""
             }
            },
            "type": "scatterpolar"
           }
          ],
          "scatterpolargl": [
           {
            "marker": {
             "colorbar": {
              "outlinewidth": 0,
              "ticks": ""
             }
            },
            "type": "scatterpolargl"
           }
          ],
          "scatterternary": [
           {
            "marker": {
             "colorbar": {
              "outlinewidth": 0,
              "ticks": ""
             }
            },
            "type": "scatterternary"
           }
          ],
          "surface": [
           {
            "colorbar": {
             "outlinewidth": 0,
             "ticks": ""
            },
            "colorscale": [
             [
              0,
              "#0d0887"
             ],
             [
              0.1111111111111111,
              "#46039f"
             ],
             [
              0.2222222222222222,
              "#7201a8"
             ],
             [
              0.3333333333333333,
              "#9c179e"
             ],
             [
              0.4444444444444444,
              "#bd3786"
             ],
             [
              0.5555555555555556,
              "#d8576b"
             ],
             [
              0.6666666666666666,
              "#ed7953"
             ],
             [
              0.7777777777777778,
              "#fb9f3a"
             ],
             [
              0.8888888888888888,
              "#fdca26"
             ],
             [
              1,
              "#f0f921"
             ]
            ],
            "type": "surface"
           }
          ],
          "table": [
           {
            "cells": {
             "fill": {
              "color": "#EBF0F8"
             },
             "line": {
              "color": "white"
             }
            },
            "header": {
             "fill": {
              "color": "#C8D4E3"
             },
             "line": {
              "color": "white"
             }
            },
            "type": "table"
           }
          ]
         },
         "layout": {
          "annotationdefaults": {
           "arrowcolor": "#2a3f5f",
           "arrowhead": 0,
           "arrowwidth": 1
          },
          "autotypenumbers": "strict",
          "coloraxis": {
           "colorbar": {
            "outlinewidth": 0,
            "ticks": ""
           }
          },
          "colorscale": {
           "diverging": [
            [
             0,
             "#8e0152"
            ],
            [
             0.1,
             "#c51b7d"
            ],
            [
             0.2,
             "#de77ae"
            ],
            [
             0.3,
             "#f1b6da"
            ],
            [
             0.4,
             "#fde0ef"
            ],
            [
             0.5,
             "#f7f7f7"
            ],
            [
             0.6,
             "#e6f5d0"
            ],
            [
             0.7,
             "#b8e186"
            ],
            [
             0.8,
             "#7fbc41"
            ],
            [
             0.9,
             "#4d9221"
            ],
            [
             1,
             "#276419"
            ]
           ],
           "sequential": [
            [
             0,
             "#0d0887"
            ],
            [
             0.1111111111111111,
             "#46039f"
            ],
            [
             0.2222222222222222,
             "#7201a8"
            ],
            [
             0.3333333333333333,
             "#9c179e"
            ],
            [
             0.4444444444444444,
             "#bd3786"
            ],
            [
             0.5555555555555556,
             "#d8576b"
            ],
            [
             0.6666666666666666,
             "#ed7953"
            ],
            [
             0.7777777777777778,
             "#fb9f3a"
            ],
            [
             0.8888888888888888,
             "#fdca26"
            ],
            [
             1,
             "#f0f921"
            ]
           ],
           "sequentialminus": [
            [
             0,
             "#0d0887"
            ],
            [
             0.1111111111111111,
             "#46039f"
            ],
            [
             0.2222222222222222,
             "#7201a8"
            ],
            [
             0.3333333333333333,
             "#9c179e"
            ],
            [
             0.4444444444444444,
             "#bd3786"
            ],
            [
             0.5555555555555556,
             "#d8576b"
            ],
            [
             0.6666666666666666,
             "#ed7953"
            ],
            [
             0.7777777777777778,
             "#fb9f3a"
            ],
            [
             0.8888888888888888,
             "#fdca26"
            ],
            [
             1,
             "#f0f921"
            ]
           ]
          },
          "colorway": [
           "#636efa",
           "#EF553B",
           "#00cc96",
           "#ab63fa",
           "#FFA15A",
           "#19d3f3",
           "#FF6692",
           "#B6E880",
           "#FF97FF",
           "#FECB52"
          ],
          "font": {
           "color": "#2a3f5f"
          },
          "geo": {
           "bgcolor": "white",
           "lakecolor": "white",
           "landcolor": "#E5ECF6",
           "showlakes": true,
           "showland": true,
           "subunitcolor": "white"
          },
          "hoverlabel": {
           "align": "left"
          },
          "hovermode": "closest",
          "mapbox": {
           "style": "light"
          },
          "paper_bgcolor": "white",
          "plot_bgcolor": "#E5ECF6",
          "polar": {
           "angularaxis": {
            "gridcolor": "white",
            "linecolor": "white",
            "ticks": ""
           },
           "bgcolor": "#E5ECF6",
           "radialaxis": {
            "gridcolor": "white",
            "linecolor": "white",
            "ticks": ""
           }
          },
          "scene": {
           "xaxis": {
            "backgroundcolor": "#E5ECF6",
            "gridcolor": "white",
            "gridwidth": 2,
            "linecolor": "white",
            "showbackground": true,
            "ticks": "",
            "zerolinecolor": "white"
           },
           "yaxis": {
            "backgroundcolor": "#E5ECF6",
            "gridcolor": "white",
            "gridwidth": 2,
            "linecolor": "white",
            "showbackground": true,
            "ticks": "",
            "zerolinecolor": "white"
           },
           "zaxis": {
            "backgroundcolor": "#E5ECF6",
            "gridcolor": "white",
            "gridwidth": 2,
            "linecolor": "white",
            "showbackground": true,
            "ticks": "",
            "zerolinecolor": "white"
           }
          },
          "shapedefaults": {
           "line": {
            "color": "#2a3f5f"
           }
          },
          "ternary": {
           "aaxis": {
            "gridcolor": "white",
            "linecolor": "white",
            "ticks": ""
           },
           "baxis": {
            "gridcolor": "white",
            "linecolor": "white",
            "ticks": ""
           },
           "bgcolor": "#E5ECF6",
           "caxis": {
            "gridcolor": "white",
            "linecolor": "white",
            "ticks": ""
           }
          },
          "title": {
           "x": 0.05
          },
          "xaxis": {
           "automargin": true,
           "gridcolor": "white",
           "linecolor": "white",
           "ticks": "",
           "title": {
            "standoff": 15
           },
           "zerolinecolor": "white",
           "zerolinewidth": 2
          },
          "yaxis": {
           "automargin": true,
           "gridcolor": "white",
           "linecolor": "white",
           "ticks": "",
           "title": {
            "standoff": 15
           },
           "zerolinecolor": "white",
           "zerolinewidth": 2
          }
         }
        },
        "title": {
         "text": "Convexity for AAPL (fixed-rate) Bonds"
        },
        "xaxis": {
         "anchor": "y",
         "domain": [
          0,
          1
         ],
         "title": {
          "text": "Time to Maturity (Years)"
         }
        },
        "yaxis": {
         "anchor": "x",
         "domain": [
          0,
          1
         ],
         "title": {
          "text": "Convexity"
         }
        }
       }
      }
     },
     "metadata": {},
     "output_type": "display_data"
    }
   ],
   "source": [
    "# Reset index to ensure 'TTM' is a column, not index\n",
    "df_plot = df_apple_2_filtered_sorted.reset_index()\n",
    "\n",
    "fig = px.scatter(df_plot,\n",
    "                 x='TTM',\n",
    "                 y='calc_convexity',\n",
    "                 color='security',\n",
    "                 title='Convexity for AAPL (fixed-rate) Bonds',\n",
    "                 labels={'TTM': 'Time to Maturity (Years)', 'calc_convexity': 'Convexity'}\n",
    "                )\n",
    "\n",
    "fig.update_layout(\n",
    "    legend_title_text='Security',\n",
    "    legend=dict(\n",
    "        yanchor=\"top\",\n",
    "        y=0.99,\n",
    "        xanchor=\"left\",\n",
    "        x=1.05,\n",
    "        bgcolor='rgba(255,255,255,0)',\n",
    "        bordercolor='black',\n",
    "        borderwidth=1\n",
    "    )\n",
    ")\n",
    "fig.show()"
   ]
  }
 ],
 "metadata": {
  "hide_input": false,
  "kernelspec": {
   "display_name": "Python 3",
   "language": "python",
   "name": "python3"
  },
  "language_info": {
   "codemirror_mode": {
    "name": "ipython",
    "version": 3
   },
   "file_extension": ".py",
   "mimetype": "text/x-python",
   "name": "python",
   "nbconvert_exporter": "python",
   "pygments_lexer": "ipython3",
   "version": "3.9.6"
  }
 },
 "nbformat": 4,
 "nbformat_minor": 5
}
