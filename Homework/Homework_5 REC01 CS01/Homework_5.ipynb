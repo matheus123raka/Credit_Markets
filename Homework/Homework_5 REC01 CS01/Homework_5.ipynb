{
 "cells": [
  {
   "cell_type": "markdown",
   "id": "8893ea98",
   "metadata": {},
   "source": [
    "# Homework 5\n",
    "\n",
    "## FINM 35700 - Spring 2025\n",
    "\n",
    "### UChicago Financial Mathematics\n",
    "\n",
    "### Due Date: 2025-04-29\n",
    "\n",
    "* Alex Popovici\n",
    "* alex.popovici@uchicago.edu"
   ]
  },
  {
   "cell_type": "markdown",
   "id": "f21f0cf1",
   "metadata": {},
   "source": [
    "This homework relies on following data files:\n",
    "\n",
    "Government and corporate bonds\n",
    "- the bond symbology file `bond_symbology`, \n",
    "- the \"on-the-run\" treasuries data file `govt_on_the_run`,\n",
    "- the bond market data file `bond_market_prices_eod`,\n",
    "\n",
    "Interest Rate & Credit Default Swaps\n",
    "- the SOFR OIS symbology file `sofr_swap_symbology`,\n",
    "- the SOFR swaps market data file `sofr_swaps_market_data_eod`,\n",
    "- the CDS spreads market data file `cds_market_data_eod`."
   ]
  },
  {
   "cell_type": "code",
   "execution_count": null,
   "id": "fcc00507",
   "metadata": {},
   "outputs": [],
   "source": [
    "# import tools from previous homeworks\n",
    "from credit_market_tools import *\n",
    "\n",
    "# Use static calculation/valuation date of 2024-12-13, matching data available in the market prices EOD file\n",
    "calc_date = ql.Date(13, 12, 2024)\n",
    "ql.Settings.instance().evaluationDate = calc_date\n",
    "\n",
    "# Calculation/valuation date as pd datetime\n",
    "as_of_date = pd.to_datetime('2024-12-13')"
   ]
  },
  {
   "attachments": {},
   "cell_type": "markdown",
   "id": "f293d23e",
   "metadata": {},
   "source": [
    "-----------------------------------------------------------\n",
    "# Problem 1: Credit Default Swaps (hazard rate model)\n",
    "\n",
    "## When computing sensitivities, assume \"everything else being equal\" (ceteris paribus).\n",
    "\n",
    "For a better understanding of dependencies, you can use the CDS valuation formulas in the simple hazard rate model (formulas[45] and [46] in Lecture 4).\n",
    "\n",
    "\\begin{align}\n",
    "PV_{CDS\\_PL}\\left(c,r,h,R,T\\right) = \\frac{c}{4 \\cdot \\left(e^{\\left(r+h\\right)/4}-1 \\right)} \\cdot\\left[1-e^{-T\\cdot\\left(r+h\\right)}\\right] \\simeq \\frac{c}{r+h} \\cdot\\left[1-e^{-T\\cdot\\left(r+h\\right)}\\right]\n",
    "\\end{align}\n",
    "\n",
    "\\begin{align}\n",
    "PV_{CDS\\_DL}\\left(c,r,h,R,T\\right) = \\frac{\\left(1-R\\right)\\cdot h}{r+h} \\cdot\\left[1-e^{-T\\cdot\\left(r+h\\right)}\\right]\n",
    "\\end{align}\n",
    "\n",
    "\\begin{align}\n",
    "PV_{CDS} = PV_{CDS\\_PL} - PV_{CDS\\_DL} \\simeq \\frac{c - \\left(1-R\\right)\\cdot h}{r+h} \\cdot\\left[1-e^{-T\\cdot\\left(r+h\\right)}\\right]\n",
    "\\end{align}\n",
    "\n",
    "\\begin{align}\n",
    "CDS\\_ParSpread = c \\cdot \\frac{PV_{CDS\\_DL}}{PV_{CDS\\_PL}} \\simeq \\left(1-R\\right)\\cdot h\n",
    "\\end{align}\n"
   ]
  },
  {
   "cell_type": "markdown",
   "id": "11f0435a",
   "metadata": {},
   "source": [
    "## a. True or False (CDS Premium Leg PV)\n",
    "\n",
    "1. CDS premium leg PV is increasing in CDS Par Spread\n",
    "2. CDS premium leg PV is increasing in interest rate\n",
    "2. CDS premium leg PV is increasing in hazard rate\n",
    "3. CDS premium leg PV is increasing in recovery rate\n",
    "4. CDS premium leg PV is increasing in coupon\n",
    "5. CDS premium leg PV is increasing in CDS maturity\n"
   ]
  },
  {
   "attachments": {},
   "cell_type": "markdown",
   "id": "d921375c",
   "metadata": {},
   "source": [
    "## b. True or False (CDS Default Leg PV)\n",
    "\n",
    "1. CDS default leg PV is increasing in CDS Par Spread\n",
    "2. CDS default leg PV is increasing in interest rate\n",
    "3. CDS default leg PV is increasing in hazard rate\n",
    "4. CDS default leg PV is increasing in recovery rate\n",
    "5. CDS default leg PV is increasing in coupon\n",
    "6. CDS default leg PV is increasing in CDS maturity"
   ]
  },
  {
   "attachments": {},
   "cell_type": "markdown",
   "id": "77064349",
   "metadata": {},
   "source": [
    "## c. True or False (CDS PV)\n",
    "\n",
    "\n",
    "1. CDS PV is increasing in CDS Par Spread\n",
    "2. CDS PV is increasing in interest rate\n",
    "3. CDS PV is increasing in hazard rate\n",
    "4. CDS PV is increasing in recovery rate\n",
    "5. CDS PV is increasing in coupon\n",
    "6. CDS PV is increasing in CDS maturity"
   ]
  },
  {
   "attachments": {},
   "cell_type": "markdown",
   "id": "58ac74be",
   "metadata": {},
   "source": [
    "## d. True or False (CDS Par Spread)\n",
    "\n",
    "\n",
    "1. CDS Par Spread is increasing in interest rates\n",
    "2. CDS Par Spread is increasing in hazard rate\n",
    "3. CDS Par Spread is increasing in recovery rate\n",
    "4. CDS Par Spread is increasing in coupon\n",
    "5. CDS Par Spread is increasing in CDS maturity"
   ]
  },
  {
   "cell_type": "markdown",
   "id": "afc78231",
   "metadata": {},
   "source": [
    "-----------------------------------------------------------\n",
    "# Problem 2: Perpetual CDS\n",
    "We are interested in a perpetual CDS contract (infinite maturity) on a face notional of $100, flat interest rate of 4% and coupon of 1% (quarterly payments).\n",
    "\n",
    "For simplicity, we assuming a flat hazard rate of 2% per annum, a recovery rate of 40%, T+0 settlement and zero accrued.\n",
    "\n",
    "Use the simple CDS valuation formulas derived in Session 4 as a template."
   ]
  },
  {
   "cell_type": "markdown",
   "id": "d08f900f",
   "metadata": {},
   "source": [
    "## a. Compute the fair value of the CDS premium and default legs.\n"
   ]
  },
  {
   "cell_type": "markdown",
   "id": "a0fdac49",
   "metadata": {},
   "source": [
    "## b. Compute the CDS PV, the CDS Upfront and the CDS Par Spread."
   ]
  },
  {
   "cell_type": "markdown",
   "id": "7be76ab8",
   "metadata": {},
   "source": [
    "## c. Compute the following CDS risk sensitivities:\n",
    "- IR01 (PV sensitivity to Interest Rate change of '-1bp')\n",
    "- HR01 (PV sensitivity to Hazard Rate change of '-1bp')\n",
    "- REC01 (PV sensitivity to Recovery Rate change of '+1%')\n",
    "\n",
    "using the scenario method.\n"
   ]
  },
  {
   "cell_type": "markdown",
   "id": "de30d13a",
   "metadata": {},
   "source": [
    "## d. At what time T does the (implied) default probability over next 10 years (from $[T, T+10]$) drop to 10%?\n",
    "\n",
    "\\begin{align}\n",
    "\\mathbb{P} \\left(\\tau \\in [T, T+10] \\right) = 10/100\n",
    "\\end{align}\n"
   ]
  },
  {
   "cell_type": "markdown",
   "id": "0979ce07",
   "metadata": {},
   "source": [
    "-----------------------------------------------------------\n",
    "# Problem 3: Pricing risky bonds in the hazard rate model\n",
    "## This is building upon\n",
    "- Homework 2 \"Problem 2: US Treasury yield curve calibration (On-The-Runs)\",\n",
    "- Homework 4 \"Problem 2: US SOFR swap curve calibration\" and\n",
    "- Homework 4 \"Problem 3: CDS Hazard Rate calibration\"."
   ]
  },
  {
   "cell_type": "markdown",
   "id": "311a955a",
   "metadata": {},
   "source": [
    "## a. Prepare the market data\n",
    "### Load the symbology + market data dataframes. Calibrate the following curves as of 2024-12-13:\n",
    "- the \"on-the-run\" US Treasury curve,\n",
    "- the US SOFR curve and \n",
    "- the IBM CDS hazard rate curve (on the top of SOFR discount curve).\n"
   ]
  },
  {
   "cell_type": "code",
   "execution_count": null,
   "id": "aa7148bc",
   "metadata": {},
   "outputs": [],
   "source": [
    "# tsy_yield_curve calibration\n",
    "govt_combined_otr = []    # TODO: Follow Homework 2 Problem 2 and populate the US Treasury On-The-Run symbology + market data frame !!!\n",
    "tsy_yield_curve = calibrate_yield_curve_from_frame(calc_date, govt_combined_otr, 'midPrice')\n",
    "tsy_yield_curve_handle = ql.YieldTermStructureHandle(tsy_yield_curve)\n",
    "\n",
    "\n",
    "# sofr_yield_curve calibration\n",
    "sofr_combined = []    # TODO: Follow Homework 3 Problem 3 and populate the SOFR symbology + market data frame !!!\n",
    "sofr_yield_curve = calibrate_sofr_curve_from_frame(calc_date, sofr_combined, 'midRate')\n",
    "sofr_yield_curve_handle = ql.YieldTermStructureHandle(sofr_yield_curve)\n",
    "\n",
    "\n",
    "# hazard_rate_curve calibrated to IBM CDS par spreads\n",
    "hazard_rate_curve = []    # TODO: Follow Homework 3 Problem 4 and create the IBM hazard rate curve !!!\n",
    "default_prob_curve_handle = ql.DefaultProbabilityTermStructureHandle(hazard_rate_curve)"
   ]
  },
  {
   "cell_type": "markdown",
   "id": "d13b84a9",
   "metadata": {},
   "source": [
    "## b. Create the IBM risky bond objects\n",
    "### Identify the following 3 IBM fixed rate bonds in the symbology table and create the corresponding fixed rate bonds (3 bond objects).\n",
    "\n",
    "- security = 'IBM 3.3 01/27/27' / figi = 'BBG00FVNGFP3'\n",
    "- security = 'IBM 6 1/2 01/15/28' / figi = 'BBG000058NM4'\n",
    "- security = 'IBM 3 1/2 05/15/29' / figi = 'BBG00P3BLH14'\n",
    "\n",
    "\n",
    "Use the create_bond_from_symbology() function (discussed in from Homework 2) to create the bonds objects.\n",
    "\n",
    "Display the bond cashflows using the get_bond_cashflows() function."
   ]
  },
  {
   "cell_type": "markdown",
   "id": "c8f30943",
   "metadata": {},
   "source": [
    "## c. Compute CDS-implied (intrinsic) prices for the IBM fixd rate bonds\n",
    "\n",
    "Price the 3 IBM bonds using the CDS-calibrated hazard rate curve for IBM (via RiskyBondEngine, discussed in the QuantLib Advanced examples notebook).\n",
    "\n",
    "Display the clean prices and yields for the 3 test bonds.\n",
    "\n",
    "You can use the example code below.\n"
   ]
  },
  {
   "cell_type": "code",
   "execution_count": null,
   "id": "f44d6bbf",
   "metadata": {},
   "outputs": [],
   "source": [
    "# flat_recovery_rate: use market convention of 40% for \"Senior Unsecured\" Debt\n",
    "flat_recovery_rate = 0.40\n",
    "\n",
    "fixed_rate_bond = ql.FixedRateBond()    # TODO: Pick one of the 3 IBM test bonds !!!\n",
    "\n",
    "# Risky bond engine uses the calibrated CDS hazard rate curve for pricing credit default risk \n",
    "risky_bond_engine = ql.RiskyBondEngine(default_prob_curve_handle, flat_recovery_rate, tsy_yield_curve_handle)\n",
    "\n",
    "fixed_rate_bond.setPricingEngine(risky_bond_engine)\n",
    "\n",
    "corpBondModelPrice = fixed_rate_bond.cleanPrice()\n",
    "\n",
    "corpBondModelYield = fixed_rate_bond.bondYield(corpBondModelPrice, ql.Thirty360(ql.Thirty360.USA), ql.Compounded, ql.Semiannual) * 100\n",
    "\n",
    "print('corpBondCleanPrice', corpBondModelPrice)\n",
    "print('corpBondYield', corpBondModelYield)\n"
   ]
  },
  {
   "cell_type": "markdown",
   "id": "5506c95e",
   "metadata": {},
   "source": [
    "## d. Compute the \"intrinsic\" vs market price basis for the IBM bonds\n",
    "\n",
    "Load the market mid prices and yields from the bond market data dataframe as of 2024-12-13. \n",
    "\n",
    "Compute and display the basis between the \"CDS-implied intrinsic\" vs market prices and yields:\n",
    "\n",
    "- basisPrice = modelPrice - midPrice\n",
    "- basisYield = modelYield - midYield\n",
    "\n",
    "\n",
    "Are the CDS intrinsic prices lower or higher than the bond prices observed on the market? What factors could explain the basis?"
   ]
  },
  {
   "cell_type": "markdown",
   "id": "c3d0fbc1",
   "metadata": {},
   "source": [
    "-----------------------------------------------------------\n",
    "# Problem 4: Compute scenario sensitivities for risky bonds\n",
    "## a. Compute scenario IR01s and Durations for the 3 IBM bonds\n",
    "Use the 3 IBM test bonds defined in Problem 1. \n",
    "\n",
    "Compute the scenario IR01 and Durations using a '-1bp' interest rate shock, as described in Section 6. \"Market Data Scenarios\" in the QuantLib Basics notebook.\n",
    "\n",
    "Display the computed scenario IR01 and Durations.\n",
    "\n",
    "Remember that IR01 = Dirty_Price * Duration.\n"
   ]
  },
  {
   "cell_type": "markdown",
   "id": "56aefa32",
   "metadata": {},
   "source": [
    "## b. Compute analytical IR01s and Durations for the 3 IBM bonds\n",
    "Use the 3 IBM test bonds defined in Problem 1. \n",
    "\n",
    "Compute and display the analytical IR01 and Durations \n",
    "\n",
    "Compare the analytic IR01s vs. the scenario IR01s. Are they expected to be similar?"
   ]
  },
  {
   "cell_type": "markdown",
   "id": "790434a4",
   "metadata": {},
   "source": [
    "## c. Compute scenario CS01s (credit spread sensitivities) for the 3 IBM bonds\n",
    "Use the 3 IBM test bonds defined in Problem 3. \n",
    "\n",
    "Apply a '-1bp' (parallel shift) scenario to the IBM CDS Par Spread quotes and re-calibrate the scenario hazard rate curve. \n",
    "\n",
    "Create a new scenario RiskyBondEngine, using the scenario hazard rate curve.\n",
    "\n",
    "Reprice the risky bonds on the scenario RiskyBondEngine (using the bumped hazard rate curve) to obtain the '-1bp' scenario CS01 (credit spread sensitivities).\n",
    "\n",
    "Compare the scenario CS01s vs analytic IR01s. Are they expected to be similar?"
   ]
  },
  {
   "cell_type": "markdown",
   "id": "0d873316",
   "metadata": {},
   "source": [
    "## d. Compute scenario REC01 (recovery rate sensitivity) for the 3 IBM bonds\n",
    "Use the 3 IBM test bonds defined in Problem 1. \n",
    "\n",
    "Apply a +1% scenario bump to the IBM recovery rate (bump the flat_recovery_rate parameter by 1%, from 40% to 41%).\n",
    "\n",
    "Create a new scenario RiskyBondEngine, using the scenario new recovery rate.\n",
    "\n",
    "Reprice the risky bonds on the scenario RiskyBondEngine (using the bumped recovery rate) to obtain the +1% scenario REC01 (recovery rate sensitivity).\n"
   ]
  }
 ],
 "metadata": {
  "hide_input": false,
  "kernelspec": {
   "display_name": "Python 3 (ipykernel)",
   "language": "python",
   "name": "python3"
  },
  "language_info": {
   "codemirror_mode": {
    "name": "ipython",
    "version": 3
   },
   "file_extension": ".py",
   "mimetype": "text/x-python",
   "name": "python",
   "nbconvert_exporter": "python",
   "pygments_lexer": "ipython3",
   "version": "3.8.2"
  }
 },
 "nbformat": 4,
 "nbformat_minor": 5
}
