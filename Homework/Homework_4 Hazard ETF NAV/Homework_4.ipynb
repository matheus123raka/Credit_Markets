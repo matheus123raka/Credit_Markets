{
 "cells": [
  {
   "attachments": {},
   "cell_type": "markdown",
   "id": "3e013a68",
   "metadata": {},
   "source": [
    "# Homework 4\n",
    "\n",
    "## FINM 35700 - Spring 2024\n",
    "\n",
    "### UChicago Financial Mathematics\n",
    "\n",
    "### Due Date: 2025-04-22\n",
    "\n",
    "* Alex Popovici\n",
    "* alex.popovici@uchicago.edu"
   ]
  },
  {
   "attachments": {},
   "cell_type": "markdown",
   "id": "97d4c3b4",
   "metadata": {},
   "source": [
    "This homework relies on:\n",
    "\n",
    "Interest Rate & Credit Default Swaps\n",
    "- the SOFR OIS symbology file `sofr_swap_symbology`,\n",
    "- the SOFR swaps market data file `sofr_swaps_market_data_eod`,\n",
    "- the CDS spreads market data file `cds_market_data_eod`.\n",
    "\n",
    "HYG ETF corporate bonds:\n",
    "- the HYG bond symbology file `hyg_bond_symbology` and\n",
    "- the HYG basket composition file (containing bond weights and yields) `hyg_basket_composition`."
   ]
  },
  {
   "cell_type": "code",
   "execution_count": 2,
   "id": "11e4f262",
   "metadata": {},
   "outputs": [],
   "source": [
    "# import tools from previous homeworks\n",
    "from credit_market_tools import *\n",
    "\n",
    "# Use static calculation/valuation date of 2024-12-13, matching data available in the market prices EOD file\n",
    "calc_date = ql.Date(13, 12, 2024)\n",
    "ql.Settings.instance().evaluationDate = calc_date\n",
    "\n",
    "# Calculation/valuation date as pd datetime\n",
    "as_of_date = pd.to_datetime('2024-12-13')"
   ]
  },
  {
   "cell_type": "markdown",
   "id": "162c0056",
   "metadata": {},
   "source": [
    "-----------------------------------------------------------\n",
    "# Problem 1: Fixed rate bond prices and sensitivities (bond yield model)\n",
    "\n",
    "## When computing sensitivities, assume \"everything else being equal\" (ceteris paribus).\n",
    "\n",
    "For a better understanding of dependencies, you can use the simple fixed rate bond valuation formula in the flat yield model (formula [6] in Lecture 1).\n",
    "\n",
    "\\begin{align}\n",
    "PV_{Bond}\\left(c,T,y_{sa} \\right)=1+\\frac{c-y_{sa}}{y_{sa}}\\cdot\\left[1-\\left(1+\\frac{y_{sa}}{2}\\right)^{-2T}\\right]\n",
    "\\end{align}\n"
   ]
  },
  {
   "cell_type": "markdown",
   "id": "6425cd65",
   "metadata": {},
   "source": [
    "## a. True or False (fixed rate bond prices)\n",
    "\n",
    "1. Fixed rate bond price is increasing in yield.\n",
    "2. Fixed rate bond price is increasing in coupon\n",
    "3. Fixed rate bond price is increasing in bond maturity\n",
    "4. Fixed rate callable bond prices are higher or equal to their \"bullet\" (non-callable) version.\n"
   ]
  },
  {
   "cell_type": "markdown",
   "id": "3cf9d215",
   "metadata": {},
   "source": [
    "## b. True or False (fixed rate bond yields)\n",
    "\n",
    "1. Fixed rate bond yield is increasing in interest rate (assuming credit spread unchanged)    \n",
    "2. Fixed rate bond yield is increasing in credit spread (assuming interest rate unchanged)    \n",
    "3. Fixed rate bond yield is increasing in coupon\n",
    "4. Fixed rate bond yield is increasing in bond maturity (assume term structure of yield curve is known)\n"
   ]
  },
  {
   "cell_type": "markdown",
   "id": "58d3150e",
   "metadata": {},
   "source": [
    "## c. True or False (fixed rate bond durations)\n",
    "\n",
    "1. Fixed rate bond duration is increasing with yield\n",
    "2. Fixed rate bond duration is increasing in coupon\n",
    "3. Fixed rate bond duration is increasing with bond maturity\n",
    "4. Fixed rate callable bond durations are higher or equal to their \"bullet\" (non-callable) version.\n"
   ]
  },
  {
   "cell_type": "markdown",
   "id": "29f73483",
   "metadata": {},
   "source": [
    "## d. True or False (fixed rate bond convexities)\n",
    "\n",
    "1. Fixed rate bond convexity is increasing with yield\n",
    "2. Fixed rate bond convexity is increasing in coupon\n",
    "3. Fixed rate bond convexity is increasing with bond maturity\n",
    "4. Fixed rate callable bond convexities are higher or equal to their \"bullet\" (non-callable) version.\n"
   ]
  },
  {
   "attachments": {},
   "cell_type": "markdown",
   "id": "2dac64a2",
   "metadata": {},
   "source": [
    "-----------------------------------------------------------\n",
    "# Problem 2: US SOFR swap curve calibration as of 2024-12-13\n",
    "### Follow Section \"1. SOFR OIS swap rates and SOFR discount curve calibration + validation\" in the QuantLib Advanced notebook !"
   ]
  },
  {
   "attachments": {},
   "cell_type": "markdown",
   "id": "b74a4cd1",
   "metadata": {},
   "source": [
    "## a. Load and explore US SOFR swaps symbology and market data\n",
    "\n",
    "Load the `sofr_swap_symbology` Excel file into a dataframe. Print all swap tenors available.\n",
    "\n",
    "Load the `sofr_swaps_market_data_eod` Excel file into a dataframe. Print all dates available.\n",
    "\n",
    "Plot the historial time series of SOFR rates for the available [1Y, 2Y, 3Y, 5Y, 7Y, 10Y, 20Y, 30Y] tenors."
   ]
  },
  {
   "attachments": {},
   "cell_type": "markdown",
   "id": "30fcd104",
   "metadata": {},
   "source": [
    "## b. Calibrate the US SOFR yield curve (via bootstrapping)\n",
    "The function below shows how to calibrate a smooth yield/discount factor curve from SOFR swaps. \n",
    "\n",
    "Prepare a joint symbology & market dataframe quotes as of 2024-12-13. \n",
    "\n",
    "Calibrate the SOFR discount factor curve as of 2024-12-13.\n",
    "\n",
    "Follow section 1b in the QuantLib Advanced notebook."
   ]
  },
  {
   "cell_type": "code",
   "execution_count": 4,
   "id": "2a60e874",
   "metadata": {},
   "outputs": [],
   "source": [
    "def calibrate_sofr_curve_from_frame(\n",
    "        calc_date: ql.Date,\n",
    "        sofr_details: pd.DataFrame,\n",
    "        rate_quote_column: str):\n",
    "    '''Create a calibrated yield curve from a SOFR details dataframe which includes rate quotes.\n",
    "    '''\n",
    "    ql.Settings.instance().evaluationDate = calc_date\n",
    "\n",
    "    # Sort dataframe by maturity\n",
    "    sorted_details_frame = sofr_details.sort_values(by='tenor')    \n",
    "    \n",
    "    # settle_days\n",
    "    settle_days = 1\n",
    "    \n",
    "    # For US SOFR OIS Swaps \n",
    "    day_count = ql.Actual360()\n",
    "\n",
    "    # For US SOFR Swaps     \n",
    "    calendar = ql.UnitedStates(ql.UnitedStates.GovernmentBond)\n",
    "    \n",
    "    sofr_helpers = []\n",
    "    \n",
    "    for index, row in sorted_details_frame.iterrows():\n",
    "        sofr_quote = row[rate_quote_column]\n",
    "        tenor_in_years = row['tenor']\n",
    "        sofr_tenor = ql.Period(tenor_in_years, ql.Years)\n",
    "        \n",
    "        # create sofr_rate_helper\n",
    "        sofr_helper = ql.OISRateHelper(settle_days, sofr_tenor, ql.QuoteHandle(ql.SimpleQuote(sofr_quote/100)), ql.Sofr())\n",
    "                        \n",
    "        sofr_helpers.append(sofr_helper)\n",
    "        \n",
    "    sofr_yield_curve = ql.PiecewiseLinearZero(settle_days, calendar, sofr_helpers, day_count)\n",
    "    sofr_yield_curve.enableExtrapolation()\n",
    "    \n",
    "    return sofr_yield_curve"
   ]
  },
  {
   "attachments": {},
   "cell_type": "markdown",
   "id": "1eb13b3a",
   "metadata": {},
   "source": [
    "## c. Display the calibrated SOFR discount curve dataframe\n",
    "\n",
    "Follow section 1d (in the QuantLib Advanced notebook) to display the calibration details dataframe."
   ]
  },
  {
   "attachments": {},
   "cell_type": "markdown",
   "id": "d9706e38",
   "metadata": {},
   "source": [
    "## d. Plot the calibrated US SOFR Zero Interest Rates and Discount Factor curves\n",
    "\n",
    "Plot the SOFR zero rates and discount factor curves by maturity. Follow section 1c in the QuantLib Advanced notebook."
   ]
  },
  {
   "attachments": {},
   "cell_type": "markdown",
   "id": "b7c42c12",
   "metadata": {},
   "source": [
    "-----------------------------------------------------------\n",
    "# Problem 3: CDS Hazard Rate calibration and valuation\n",
    "## Follow Section \"2. CDS Hazard Rate calibration + Pricing\" in the QuantLib Advanced notebook !!!"
   ]
  },
  {
   "attachments": {},
   "cell_type": "markdown",
   "id": "1e9ddc55",
   "metadata": {},
   "source": [
    "## a. Load and explore the CDS market data (IBM credit issuer)\n",
    "\n",
    "Load the `cds_market_data_eod` Excel file into a dataframe. \n",
    "\n",
    "Plot the historical time series of CDS Par Spreads for the available tenors.\n"
   ]
  },
  {
   "attachments": {},
   "cell_type": "markdown",
   "id": "8810db16",
   "metadata": {},
   "source": [
    "## b. Calibrate the IBM hazard rate curve as of 2024-12-13\n",
    "\n",
    "Follow section 2a in the QuantLib Advanced notebook. Use the calibrated SOFR discount curve from Problem 2b."
   ]
  },
  {
   "attachments": {},
   "cell_type": "markdown",
   "id": "386cad9b",
   "metadata": {},
   "source": [
    "## c. Plot the calibrated Hazard Rates and Survival Probability curves\n",
    "Follow section 2b in the QuantLib Advanced notebook. Use the calibrated SOFR discount curve from Problem 2b."
   ]
  },
  {
   "attachments": {},
   "cell_type": "markdown",
   "id": "d68db97e",
   "metadata": {},
   "source": [
    "## d. Compute the fair/par spread and PV of a 5 year CDS contract\n",
    "\n",
    "Follow section 2c in the QuantLib Advanced notebook. Construct a CDS object with 100 bps coupon and 2029-06-20 maturity. Compute the fair/par spread and PV.\n"
   ]
  },
  {
   "cell_type": "markdown",
   "id": "7c15e041",
   "metadata": {},
   "source": [
    "-----------------------------------------------------------\n",
    "# Problem 4: Credit ETF analysis on HYG (iShares High Yield Corporate Bond ETF)"
   ]
  },
  {
   "cell_type": "markdown",
   "id": "a47bc0e8",
   "metadata": {},
   "source": [
    "## a. Load and explore the HYG basket composition and market data\n",
    "\n",
    "Load the `hyg_basket_composition` Excel file into a dataframe. It contains the HYG basket constituent face notionals, weights and yields-to-maturities as of 2024-12-13.\n",
    "\n",
    "Load the `hyg_corp_symbology` Excel file into a dataframe. It contains the corporate bond details for HYG constituents.\n",
    "\n",
    "How many corporate bonds are in the HYG basket?  What are the average and median face notionals for a bond?\n",
    "\n",
    "How many unique tickers are in the HYG basket? What are the average and median face notionals for a ticker?\n",
    "\n",
    "Compute mean, median and standard deviation of yields-to-maturity of bonds in the basket."
   ]
  },
  {
   "cell_type": "markdown",
   "id": "c993111f",
   "metadata": {},
   "source": [
    "## b. Compute the NAV of the HYG basket and the intrinsic price of one ETF share.\n",
    "\n",
    "Create the bond objects for all constituents of HYG. Compute the dirty price for each bond (from yield-to-maturity).\n",
    "\n",
    "Aggregate the ETF NAV value (intrisic value of bond basket) as the weighted sum of dirty prices times basket weights. Keep in mind that the resulting ETF NAV will be on a face of $100, since the basket face notional weights add up to 100 percent.\n",
    "\n",
    "Compute the intrinisc market capitalization of the HYG ETF by scaling the ETF NAV price to the ETF total face notional. \n",
    "\n",
    "Divide by 195,600,000 (the number of ETF shared outstanding as of 2024-12-13) to obtain the intrinsic USD price of one HYG ETF share.\n",
    "\n",
    "As a reference, the market price of each HYG share on 2024-12-13 was $79.41, and the NAV was $79.45."
   ]
  },
  {
   "cell_type": "markdown",
   "id": "1f5fcffc",
   "metadata": {},
   "source": [
    "## c. Compute the ETF yield using the ACF (Aggregated Cash-Flows) method\n",
    "\n",
    "Create the bond objects for all constituents of HYG. \n",
    "\n",
    "Write a function that computes the ETF NAV for a given flat yield y.\n",
    "\n",
    "Use a numerical root finder (e.g. root_scalar from scipy.optimize) to solve for \n",
    "\n",
    "- ETF_NAV(yield) = ETF_NAV_Price \n",
    "\n",
    "and obtain the ETF yield.\n",
    "\n",
    "As a reference, the HYG market yield as of 2024-12-13 was around 7%."
   ]
  },
  {
   "cell_type": "markdown",
   "id": "00a850ec",
   "metadata": {},
   "source": [
    "Add a root finder wrapper function (e.g. root_scalar in scipy.optimize ) and solve for the ETF yield."
   ]
  },
  {
   "cell_type": "markdown",
   "id": "83922b6d",
   "metadata": {},
   "source": [
    "## d. Compute the ETF DV01 and Duration\n",
    "\n",
    "Treat the ETF basket as a synthetic bond.\n",
    "\n",
    "Use - 1 bp scenarios in ETF yield space to compute the ETF DV01 and Duration.\n",
    "\n",
    "As a reference, the HYG risk metrics as of 2024-12-13 are: DV01 of 3.82, Duration of 3.82."
   ]
  }
 ],
 "metadata": {
  "hide_input": false,
  "kernelspec": {
   "display_name": "Python 3",
   "language": "python",
   "name": "python3"
  },
  "language_info": {
   "codemirror_mode": {
    "name": "ipython",
    "version": 3
   },
   "file_extension": ".py",
   "mimetype": "text/x-python",
   "name": "python",
   "nbconvert_exporter": "python",
   "pygments_lexer": "ipython3",
   "version": "3.13.3"
  }
 },
 "nbformat": 4,
 "nbformat_minor": 5
}
