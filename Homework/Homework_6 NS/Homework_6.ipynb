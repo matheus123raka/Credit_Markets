{
 "cells": [
  {
   "attachments": {},
   "cell_type": "markdown",
   "id": "3e013a68",
   "metadata": {},
   "source": [
    "# Homework 6\n",
    "\n",
    "## FINM 35700 - Spring 2025\n",
    "\n",
    "### UChicago Financial Mathematics\n",
    "\n",
    "### Due Date: 2025-05-06\n",
    "\n",
    "* Alex Popovici\n",
    "* alex.popovici@uchicago.edu"
   ]
  },
  {
   "attachments": {},
   "cell_type": "markdown",
   "id": "97d4c3b4",
   "metadata": {},
   "source": [
    "This homework relies on multiple files (from previous weeks):\n",
    "\n",
    "- the bond symbology file `bond_symbology`, \n",
    "- the \"on-the-run\" treasuries data file `govt_on_the_run`,\n",
    "- the bond market data file `bond_market_prices_eod`,\n",
    "- the SOFR OIS Swap symbology file `sofr_swap_symbology`,\n",
    "- the SOFR OIS Swap market data file `sofr_swaps_market_data_eod`."
   ]
  },
  {
   "cell_type": "markdown",
   "id": "8c61f43e",
   "metadata": {},
   "source": [
    "-----------------------------------------------------------\n",
    "# Parametric Credit Models: \n",
    "# Nelson-Siegel credit model for smooth hazard rate curves\n",
    "\n",
    "### This homework  implements some of the concepts introduced in Lecture 6, \"Parametric Hazard Rate Models\"\n",
    "\n",
    "### Follow the \"Smooth parametric yield and hazard rate curves: the Nelson-Siegel model\" in the \"Smooth Credit Models\" notebook\n",
    "### You can also take a look at Dr. Mark Hendricks Fixed Income notebooks describing the Nelson-Siegel model calibration on US Treasuries.\n",
    "-----------------------------------------------------------"
   ]
  },
  {
   "cell_type": "code",
   "execution_count": null,
   "id": "5079f70e",
   "metadata": {},
   "outputs": [
    {
     "data": {
      "text/plain": [
       "datetime.date(2024, 4, 19)"
      ]
     },
     "execution_count": 3,
     "metadata": {},
     "output_type": "execute_result"
    }
   ],
   "source": [
    "# import tools from previous homeworks\n",
    "from credit_market_tools import *\n",
    "\n",
    "# Use static calculation/valuation date of 2024-12-13, matching data available in the market prices EOD file\n",
    "calc_date = ql.Date(13, 12, 2024)\n",
    "ql.Settings.instance().evaluationDate = calc_date\n",
    "\n",
    "# Calculation/valuation date as pd datetime\n",
    "as_of_date = pd.to_datetime('2024-12-13')"
   ]
  },
  {
   "attachments": {},
   "cell_type": "markdown",
   "id": "b74a4cd1",
   "metadata": {},
   "source": [
    "-----------------------------------------------------------\n",
    "# Problem 1: Market Data preparation\n",
    "\n",
    "## a. Prepare the VZ bond market data as of 2024-12-13\n",
    "Load the symbology + market data dataframes and create a combined dataframe for all Verizon (ticker = 'VZ') fixed rate (cpn_type == 'FIXED') bonds with an outstanding amount greater than $100 MM (amt_out > 100).\n",
    "\n",
    "Sort the dataframe by bond maturity and display the head of the dataframe.\n",
    "\n",
    "Plot the VZ yields (Y-axis) by TTM (X-axis)."
   ]
  },
  {
   "cell_type": "markdown",
   "id": "f08f60c0",
   "metadata": {},
   "source": [
    "## b. Compute bond yields and risk metrics\n",
    "For each bond, use the bond market mid-price as an input to compute the:\n",
    "\n",
    "1. bond yields,\n",
    "2. bond DV01s and\n",
    "3. bond durations.\n",
    "\n",
    "You can use section \"9. Analytical Duration\" in the QuantLib Basics notebook as a template.\n"
   ]
  },
  {
   "cell_type": "markdown",
   "id": "a9a403ec",
   "metadata": {},
   "source": [
    "## c. Calibrate the US Treasury curve\n",
    "### Calibrate the \"on-the-run\" US Treasury curveas of 2024-12-13:\n",
    "\n",
    "... to be used in the hazard rate model calibration."
   ]
  },
  {
   "attachments": {},
   "cell_type": "markdown",
   "id": "30fcd104",
   "metadata": {},
   "source": [
    "-----------------------------------------------------------\n",
    "# Problem 2: Add functions needed to calibrate the Nelson-Siegel (4 parameters) credit model\n",
    "\n",
    "## a. For a given set of Nelson-Siegel curve shape parameters, write a function to create the corresponding parametric credit curve.\n",
    "The result should be a DefaultProbabilityTermStructureHandle object, to be used downstream for pricing."
   ]
  },
  {
   "cell_type": "code",
   "execution_count": null,
   "id": "61adf438",
   "metadata": {},
   "outputs": [],
   "source": [
    "def create_nelson_siegel_curve(calc_date, nelson_siegel_params):\n",
    "    ''' nelson_siegel_params = (theta1, theta2, theta3, lambda)'''\n",
    "    \n",
    "    nelson_siegel_credit_curve_handle = 0\n",
    "\n",
    "    # To do: compute nelson_siegel_credit_curve_handle\n",
    "    # nelson_siegel_credit_curve_handle = ql.DefaultProbabilityTermStructureHandle(...)\n",
    "\n",
    "    return(nelson_siegel_credit_curve_handle)"
   ]
  },
  {
   "cell_type": "markdown",
   "id": "ca2682de",
   "metadata": {},
   "source": [
    "## b. Write a function to price all bonds in the Nelson-Siegel credit model\n",
    "\n",
    "Use 40% recovery rate.\n",
    "\n",
    "Using DefaultProbabilityTermStructureHandle as an input to compute all model prices and yields."
   ]
  },
  {
   "cell_type": "code",
   "execution_count": null,
   "id": "2df4ab8a",
   "metadata": {},
   "outputs": [],
   "source": [
    "def calculate_nelson_siegel_model_prices_and_yields(nelson_siegel_params, \n",
    "                      calc_date, \n",
    "                      fixed_rate_bond_objects, \n",
    "                      tsy_yield_curve_handle, \n",
    "                      bond_recovery_rate = 0.4):\n",
    "    \n",
    "    bond_model_prices = 0\n",
    "    bond_model_yields = 0\n",
    "\n",
    "    # To do: compute bond_model_prices and bond_model_yields\n",
    "\n",
    "    return(bond_model_prices, bond_model_yields)\n"
   ]
  },
  {
   "cell_type": "markdown",
   "id": "584cc432",
   "metadata": {},
   "source": [
    "## c. Write a function to computes the weighted SSE / \"Sum of Squared Errors\" metric\n",
    "Write a function to compute the weighted SSE / \"Sum of Squared Errors\" in price space, defined as sum of squared differences between model and market prices for all Verizon fixed-rate bonds.\n",
    "\n",
    "Use 1/DV01 as SSE weights, as discussed in Lecture 6. You can ignore the liquidity adjuster for the purpose of this exercise."
   ]
  },
  {
   "cell_type": "code",
   "execution_count": null,
   "id": "1985f4f1",
   "metadata": {},
   "outputs": [],
   "source": [
    "def nelson_siegel_sse(nelson_siegel_params, \n",
    "                      calc_date, \n",
    "                      fixed_rate_bond_objects, \n",
    "                      market_prices, \n",
    "                      calib_weights,\n",
    "                      tsy_yield_curve_handle, \n",
    "                      bond_recovery_rate = 0.4):\n",
    "    \n",
    "    sse = 0\n",
    "\n",
    "    # To do: compute sse in price space\n",
    "    \n",
    "    return(sse)"
   ]
  },
  {
   "cell_type": "markdown",
   "id": "078dbfdf",
   "metadata": {},
   "source": [
    "## d. Test the functionalty on the initial set of model parameters: \n",
    "## initial_nelson_siegel_params = [0.03, -0.01, 0.02, 5.0]\n",
    "\n",
    "Compute the corresponding initial model prices and yields, as well as initial SSE.\n",
    "\n",
    "Add following columns to the VZ dataframe and display the head of the results:\n",
    "\n",
    "| duration | calib_weight | initModelPrice | initModelYield |\n",
    "|----------|----------|----------|----------|\n"
   ]
  },
  {
   "attachments": {},
   "cell_type": "markdown",
   "id": "1eb13b3a",
   "metadata": {},
   "source": [
    "-----------------------------------------------------------\n",
    "# Problem 3: Calibrate the Nelson-Siegel model\n",
    "## a. Find the Nelson-Siegel model parameters providing the smooth credit curve which best fits the market.\n",
    "\n",
    "Use the US \"on-the-run\" Treasury yield curve for risk-free discounting.\n",
    "\n",
    "Minimize the SSE (model vs market pricing error) function to obtain the optimal/calibrated Nelson-Siegel parameter vector. \n",
    "\n",
    "Create the calibrated/smooth credit curve corresponding to the optimal model parameters."
   ]
  },
  {
   "cell_type": "code",
   "execution_count": null,
   "id": "c2f84598",
   "metadata": {},
   "outputs": [],
   "source": [
    "def calibrate_nelson_siegel_model(initial_nelson_siegel_params,\n",
    "                                  calc_date, \n",
    "                                  bond_details, \n",
    "                                  tsy_yield_curve_handle, \n",
    "                                  bond_recovery_rate = 0.4):\n",
    "    \n",
    "    calib_results = (0, 0, 0, 0)\n",
    "    \n",
    "    # To do: compute calib_results\n",
    "    # calib_results = (theta1, theta2, theta3, lambda)\n",
    "    \n",
    "    return(calib_results)\n"
   ]
  },
  {
   "attachments": {},
   "cell_type": "markdown",
   "id": "d9706e38",
   "metadata": {},
   "source": [
    "## b. Compute smooth model prices, yields and \"edges\"\n",
    "\n",
    "Price all Verizon bonds on the calibrated credit curve and compute the corresponding model yields and edges.\n",
    "\n",
    "Add following columns to the dataframe and display the head of the results:\n",
    "\n",
    "| modelPrice | modelYield | edgePrice | edgeYield |\n",
    "|----------|----------|----------|----------|\n"
   ]
  },
  {
   "cell_type": "markdown",
   "id": "cb6da749",
   "metadata": {},
   "source": [
    "-----------------------------------------------------------\n",
    "# Problem 4: Visualize the results of the credit model calibration\n",
    "\n",
    "## a. Plot the model vs market prices (Y-axis) by maturity (X-axis).\n",
    "\n",
    "## b. Plot the model vs market yields (Y-axis) by maturity (X-axis).\n",
    "\n",
    "## c. Plot the edges in yield space (Y-axis) by maturity (X-axis).\n",
    "\n",
    "## d. What do you think about the quality of the model fit?\n",
    "\n"
   ]
  }
 ],
 "metadata": {
  "hide_input": false,
  "kernelspec": {
   "display_name": "Python 3 (ipykernel)",
   "language": "python",
   "name": "python3"
  },
  "language_info": {
   "codemirror_mode": {
    "name": "ipython",
    "version": 3
   },
   "file_extension": ".py",
   "mimetype": "text/x-python",
   "name": "python",
   "nbconvert_exporter": "python",
   "pygments_lexer": "ipython3",
   "version": "3.8.2"
  }
 },
 "nbformat": 4,
 "nbformat_minor": 5
}
