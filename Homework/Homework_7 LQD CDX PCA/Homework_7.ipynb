{
 "cells": [
  {
   "attachments": {},
   "cell_type": "markdown",
   "id": "3e013a68",
   "metadata": {},
   "source": [
    "# Homework 7\n",
    "\n",
    "## FINM 35700 - Spring 2025\n",
    "\n",
    "### UChicago Financial Mathematics\n",
    "\n",
    "### Due Date: 2025-05-13\n",
    "\n",
    "* Alex Popovici\n",
    "* alex.popovici@uchicago.edu"
   ]
  },
  {
   "attachments": {},
   "cell_type": "markdown",
   "id": "97d4c3b4",
   "metadata": {},
   "source": [
    "This homework relies on following symbology & data files, as of 2024-12-13.\n",
    "\n",
    "USD cash bonds:\n",
    "- the bond symbology file `bond_symbology`, \n",
    "- the \"on-the-run\" treasuries data file `govt_on_the_run`,\n",
    "- the bond market data file `bond_market_prices_eod`,\n",
    "\n",
    "SOFR OIS swaps:\n",
    "- the SOFR OIS Swap symbology file `sofr_swap_symbology`,\n",
    "- the SOFR OIS Swap market data file `sofr_swaps_market_data_eod`.\n",
    "\n",
    "CDX Index:\n",
    "- the CDX Index symbology file (for hyg basket) `cdx_symbology`,\n",
    "- the CDX Index basket composition file `cdx_basket_composition`,\n"
   ]
  },
  {
   "cell_type": "code",
   "execution_count": 1,
   "id": "5597b41b",
   "metadata": {},
   "outputs": [],
   "source": [
    "# import tools from previous homeworks\n",
    "from credit_market_tools import *\n",
    "\n",
    "# Use static calculation/valuation date of 2024-12-13, matching data available in the market prices EOD file\n",
    "calc_date = ql.Date(13, 12, 2024)\n",
    "ql.Settings.instance().evaluationDate = calc_date\n",
    "\n",
    "# Calculation/valuation date as pd datetime\n",
    "as_of_date = pd.to_datetime('2024-12-13')"
   ]
  },
  {
   "cell_type": "markdown",
   "id": "57903eb4",
   "metadata": {},
   "source": [
    "-----------------------------------------------------------\n",
    "# Problem 1: Pricing bonds in the Merton Structural Credit Model\n",
    "## Follow Lecture 7, \"Structural Credit Default Models\""
   ]
  },
  {
   "cell_type": "markdown",
   "id": "50e65640",
   "metadata": {},
   "source": [
    "## a. Company balance sheet metrics & fair value of equity\n",
    "- Assets of $125 MM\n",
    "- Liabilities of $100 MM face value, consisting of one zero coupon bond.\n",
    "- Bond maturity is at T = 5 years\n",
    "- Asset volatility at 20% (log-normal annualized vol)\n",
    "- Flat risk-free interest rates of 4%\n",
    "\n",
    "Compute the company Leverage, \"Book Value of Equity\" and fair value of equity metrics.\n"
   ]
  },
  {
   "cell_type": "markdown",
   "id": "e34fe448",
   "metadata": {},
   "source": [
    "## b. Risky Bond Valuation (Fair Value of Liabilities)\n",
    "\n",
    "Compute the fair value of the risky bond."
   ]
  },
  {
   "cell_type": "markdown",
   "id": "5cab05ad",
   "metadata": {},
   "source": [
    "## c. Flat yield, spread and hazard rate\n",
    "\n",
    "Compute the following credit risk metrics:\n",
    "- Distance to Default\n",
    "- Default Probability\n",
    "- Bond Yield\n",
    "- Bond Credit Spread\n",
    "- Flat Hazard Rate\n",
    "- Expected Recovery on Default\n",
    "\n",
    "Plot separate charts for \n",
    "- Bond Credit Spreads and \n",
    "- Expected Recovery on Defaults\n",
    "\n",
    "as a function of initial Asset values, on a grid from $50 MM to $200 MM in steps of $5 MM."
   ]
  },
  {
   "cell_type": "markdown",
   "id": "45e693b7",
   "metadata": {},
   "source": [
    "## d. Equity volatility\n",
    "\n",
    "Compute the Equity Volatility.\n",
    "\n",
    "What happens to the equity volatility if initial Assets value goes up/down (as of time 0)?\n",
    "\n",
    "Plot Equity Volatilities of initial Asset values, on a grid from $50 MM to $200 MM in steps of $5 MM.\n",
    "\n",
    " "
   ]
  },
  {
   "cell_type": "markdown",
   "id": "25d74820",
   "metadata": {},
   "source": [
    "-----------------------------------------------------------\n",
    "# Problem 2: LQD ETF basket analysis - bucketed interest rate hedging"
   ]
  },
  {
   "cell_type": "markdown",
   "id": "dd8d547f",
   "metadata": {},
   "source": [
    "## a. Load and explore the LQD basket composition and market data\n",
    "\n",
    "Load the `lqd_basket_composition` Excel file into a dataframe. It contains the LQD basket constituent face notionals, weights and yields-to-maturities as of 2024-12-13.\n",
    "\n",
    "Load the `lqd_corp_symbology` Excel file into a dataframe. It contains the corporate bond details for LQD constituents.\n",
    "\n",
    "How many corporate bonds are in the LQD basket?  What are the average and median face notionals for a bond?\n",
    "\n",
    "How many unique tickers are in the LQD basket? What are the average and median face notionals for a ticker?\n",
    "\n",
    "Compute mean, median and standard deviation of yields-to-maturity of bonds in the basket."
   ]
  },
  {
   "cell_type": "markdown",
   "id": "dc942d3f",
   "metadata": {},
   "source": [
    "## b. For each bond in the LQD basket, compute the bond DV01 and it's basket DV01 contribution\n",
    "\n",
    "For each bond\n",
    "* create the bond object,\n",
    "* compute the analytic bond DV01 (from yield-to-maturity in the `lqd_basket_composition` dataframe),\n",
    "* compute the DV01 on basket level (in $USD): basket_DV01 = bond_DV01 * face_notional / 10000\n",
    "\n",
    "Add following columns to the LQD daframe and display the dataframe head:\n",
    "\n",
    "| bond_DV01 | basket_DV01 | \n",
    "|----------|----------|\n",
    "\n"
   ]
  },
  {
   "cell_type": "markdown",
   "id": "bfa8dd10",
   "metadata": {},
   "source": [
    "## c. Compute the analytical DV01s of the Benchmark US Treasuries\n",
    "\n",
    "Use the `und_bench_tsy_isin` column in the bond symbology dataframe to find the Benchmark US Treasuries used for bucketed hedging in the LQD portfolio (there should be 7 of them).\n",
    "\n",
    "Compute the analytic DV01 for each Benchmark US Treasury.\n"
   ]
  },
  {
   "cell_type": "markdown",
   "id": "1e67d464",
   "metadata": {},
   "source": [
    "## d. Compute the bucketed interest rate DV01s and hedging notionals in terms of Benchmark US Treasuries.\n",
    "\n",
    "For each bond:\n",
    "1. Identify the Benchmark US Treasury (via the `security` column) which will be used to hedge the interest rate exposure of the corporate bond.\n",
    "2. Compute the IR hedge notional in the Benchmark US Treasury, using the ratio of corporate bond DV01 over Benchmark Treasury DV01.\n",
    "3. Compute the IR hedge notional on basket level (in $USD)\n",
    "\n",
    "Extend the LQD combined dataframe with the following columns:\n",
    "\n",
    "\n",
    "| und_bench_tsy_security | und_bench_tsy_DV01 | und_bench_tsy_hedge_ratio | basket_hedge_notional |\n",
    "|----------|-------------|-------|-------------|\n",
    "\n",
    "where\n",
    "\n",
    "- und_bench_tsy_security = Underlying Benchmark US Treasury `security` name\n",
    "- und_bench_tsy_DV01 = Underlying Benchmark US Treasury DV01\n",
    "- und_bench_tsy_hedge_ratio = bond_DV01 / und_bench_tsy_DV01\n",
    "- basket_hedge_notional = face_notional * und_bench_tsy_hedge_ratio\n"
   ]
  },
  {
   "cell_type": "markdown",
   "id": "a271f758",
   "metadata": {},
   "source": [
    "## e. Aggregate the LQD basket metrics by underlying benchmark US Treasury buckets\n",
    "\n",
    "Aggregate the following LQD basket metrics by underlying Benchmark US Treasury (7 buckets):\n",
    "\n",
    "* bond counts,\n",
    "* face notional,\n",
    "* basket DV01 risk \n",
    "* basket hedge notional\n",
    " \n",
    "\n",
    "by the 7 Benchmark US Treasury buckets (use groupby `und_bench_tsy_isin`).\n",
    "\n",
    "Display the aggregated LQD basket dataframe.\n"
   ]
  },
  {
   "cell_type": "markdown",
   "id": "d49ee272",
   "metadata": {},
   "source": [
    "## f. Display and plot the aggregated LQD basket dataframe\n",
    "\n",
    "Merge the underlying benchmark treasury symbology and sort by benchmark treasury TTM to obtain the combined dataframe below:\n",
    "\n",
    "| isin | security | TTM | basket_count | face_notional | basket_DV01 | basket_hedge_notional |\n",
    "|----------|----------|----------|----------|----------|----------|----------|\n",
    "\n",
    "\n",
    "Display the combined dataframe. Which US Treasury bucket contains the highest DV01 risk?\n",
    "\n",
    "Create bar plots (using 'security' as x-axis) for following metrics:\n",
    "* basket_count,\n",
    "* basket_DV01 and\n",
    "* face_notional + basket_hedge_notional."
   ]
  },
  {
   "cell_type": "markdown",
   "id": "1f4d03b0",
   "metadata": {},
   "source": [
    "-----------------------------------------------------------\n",
    "# Problem 3: CDS Intrinisc Index analysis on CDX IG 5Y\n"
   ]
  },
  {
   "cell_type": "markdown",
   "id": "1a5ffc27",
   "metadata": {},
   "source": [
    "## a. Load and explore the CDX IG 5Y symbology, basket composition and market data\n",
    "\n",
    "Load the `cdx_symbology` Excel file into a dataframe. Identify the CDX IG 5Y Series 43 index.\n",
    "\n",
    "Load the `cdx_basket_composition` Excel file into a dataframe. It contains the CDX IG 5Y Series 43 basket composition and CDS Par Spread quotes as of 2024-12-13.\n",
    "\n",
    "How many CDS contracts are in the CDX index basket? What are the contractual specs and weights of each CDS? Remember that each CDS is identical to the CDX index and the basket has uniform weights.\n",
    "\n",
    "Compute mean, median and standard deviation of CDS Par Spreads in the basket.\n",
    "\n",
    "Sort the basket dataframe by CDS Par Spreads and plot the chart of CDS Par Spreads."
   ]
  },
  {
   "cell_type": "markdown",
   "id": "154f8b0b",
   "metadata": {},
   "source": [
    "## b. Calibrate the US SOFR yield curve (via bootstrapping)\n",
    "Load the `sofr_swap_symbology` Excel file into a dataframe.\n",
    "\n",
    "Load the `sofr_swaps_market_data_eod` Excel file into a dataframe.\n",
    "\n",
    "Follow Homework 4, Problem 2 and calibrate the SOFR discount curve as of 2024-12-13."
   ]
  },
  {
   "cell_type": "markdown",
   "id": "f200c52d",
   "metadata": {},
   "source": [
    "## c. Compute the intrinsic Premium Leg PV of the CDX index basket\n",
    "\n",
    "Follow Homework 4, Problem 3. \n",
    "\n",
    "For each instrument in the basket, create the CDS object. \n",
    "\n",
    "Use the calibrated SOFR discount curve and the CDS Par Spreads to calibrate the individual hazard rate / survival probability curves.\n",
    "\n",
    "Compute the Premium Leg PV for each CDS and aggregate the intrinsic Premium Leg PV of the basket (using basket weights).\n",
    "\n",
    "Plot the Premium Leg PVs for individual CDS constituents."
   ]
  },
  {
   "cell_type": "markdown",
   "id": "9e3eb4f3",
   "metadata": {},
   "source": [
    "## d. Compute the intrinsic Default Leg PV of the CDX index basket\n",
    "\n",
    "Compute the Default Leg PV for each CDS and determine the intrinsic Default Leg PV of the basket (using basket weights).\n",
    "\n",
    "Plot the Default Leg PVs for individual CDS constituents."
   ]
  },
  {
   "cell_type": "markdown",
   "id": "2ba4260f",
   "metadata": {},
   "source": [
    "## e. Compute the intrinsic PV and Par Spread of the CDX index basket\n",
    "\n",
    "Compute the intrinsic index PV. \n",
    "\n",
    "Compute the CDX instrinsic index Par Spread (using ratio of CDX default vs premium legs).\n",
    "\n",
    "For comparison, plot the CDS PVs for individual CDS constituents."
   ]
  },
  {
   "cell_type": "markdown",
   "id": "e238fde2",
   "metadata": {},
   "source": [
    "-----------------------------------------------------------\n",
    "# Problem 4: PCA curve shape analysis of historical US SOFR OIS rates\n"
   ]
  },
  {
   "cell_type": "markdown",
   "id": "6f202354",
   "metadata": {},
   "source": [
    "## a. Load and explore US SOFR swaps extended symbology and market data\n",
    "\n",
    "Load the `sofr_swap_symbology_ext` Excel file into a dataframe. List all available swap tenors.\n",
    "\n",
    "Load the `sofr_swaps_market_data_eod_ext` Excel file into a dataframe. \n",
    "\n",
    "Plot the historial time series of SOFR rates for the available swap tenors."
   ]
  },
  {
   "cell_type": "markdown",
   "id": "ffcd0df4",
   "metadata": {},
   "source": [
    "## b. Run PCA analysis of SOFR OIS rate curves in level space\n",
    "\n",
    "Run PCA analysis of SOFR OIS rates.\n",
    "\n",
    "Display and plot the (factor loadings of the) first 3 principal components.\n",
    "\n",
    "Extract the explained variance ratios for the first 5 principal components and add the cumulative explained variance ratio. Plot the results using a bar plot.\n",
    "\n",
    "How much explanatory power is captured in the first 3 principal components?\n",
    "\n",
    "Plot historical PCA scores (factor levels) forresponding to the first 3 principal components.\n",
    "\n",
    "You can use PCA from sklearn.decomposition, or any other equivalent package."
   ]
  },
  {
   "cell_type": "markdown",
   "id": "9481c89f",
   "metadata": {},
   "source": [
    "## c. Run PCA analysis of SOFR OIS rate curves in (daily) differences space\n",
    "\n",
    "Repeat the PCA analysis from b. in daily difference space.\n"
   ]
  },
  {
   "cell_type": "markdown",
   "id": "cf6b589b",
   "metadata": {},
   "source": [
    "## d. Intuitive interpretation of PC1, PC2 and PC3 and connection to the Nelson-Siegel model\n",
    "\n",
    "Identify and interpret the curve shapes of the top 3 first principal components. \n",
    "\n",
    "Do you see any connection to the Nelson-Siegel model curve shapes?"
   ]
  }
 ],
 "metadata": {
  "hide_input": false,
  "kernelspec": {
   "display_name": "Python 3",
   "language": "python",
   "name": "python3"
  },
  "language_info": {
   "codemirror_mode": {
    "name": "ipython",
    "version": 3
   },
   "file_extension": ".py",
   "mimetype": "text/x-python",
   "name": "python",
   "nbconvert_exporter": "python",
   "pygments_lexer": "ipython3",
   "version": "3.13.3"
  }
 },
 "nbformat": 4,
 "nbformat_minor": 5
}
